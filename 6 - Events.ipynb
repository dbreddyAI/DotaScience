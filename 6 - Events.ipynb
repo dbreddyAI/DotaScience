{
 "cells": [
  {
   "cell_type": "code",
   "execution_count": 2,
   "metadata": {
    "collapsed": false
   },
   "outputs": [
    {
     "name": "stdout",
     "output_type": "stream",
     "text": [
      "Populating the interactive namespace from numpy and matplotlib\n"
     ]
    }
   ],
   "source": [
    "import pandas as pd\n",
    "import numpy as np\n",
    "\n",
    "from sklearn.preprocessing import StandardScaler\n",
    "from sklearn.grid_search import GridSearchCV\n",
    "from sklearn.cross_validation import KFold\n",
    "from sklearn.linear_model import LogisticRegression\n",
    "from sklearn.cross_validation import cross_val_score\n",
    "from sklearn.ensemble import RandomForestClassifier\n",
    "from sklearn.linear_model import Lasso, Ridge\n",
    "\n",
    "%pylab inline"
   ]
  },
  {
   "cell_type": "code",
   "execution_count": 2,
   "metadata": {
    "collapsed": true
   },
   "outputs": [],
   "source": [
    "def normalize_data(X):\n",
    "    return pd.DataFrame(\n",
    "        StandardScaler().fit_transform(X),\n",
    "        index = X.index, \n",
    "        columns=X.columns\n",
    "    )\n",
    "\n",
    "def logEstimation(X, y):\n",
    "#     grid = {'C': np.power(10.0, np.arange(-5, 1))}\n",
    "    grid = {'C': [0.05, 0.01, 0.05, 0.1, 0.5, 0.75, 1]}\n",
    "    kf=KFold(y.size, n_folds=5, shuffle=True, random_state=241)\n",
    "    clf=LogisticRegression(random_state=241)\n",
    "    gs = GridSearchCV(clf, grid, scoring='roc_auc', cv=kf)\n",
    "    gs.fit(X, y)\n",
    "    return gs"
   ]
  },
  {
   "cell_type": "code",
   "execution_count": 3,
   "metadata": {
    "collapsed": false
   },
   "outputs": [
    {
     "data": {
      "text/html": [
       "<div>\n",
       "<table border=\"1\" class=\"dataframe\">\n",
       "  <thead>\n",
       "    <tr style=\"text-align: right;\">\n",
       "      <th></th>\n",
       "      <th>mid</th>\n",
       "      <th>event_type</th>\n",
       "      <th>from_team</th>\n",
       "      <th>time</th>\n",
       "    </tr>\n",
       "  </thead>\n",
       "  <tbody>\n",
       "    <tr>\n",
       "      <th>0</th>\n",
       "      <td>0</td>\n",
       "      <td>3</td>\n",
       "      <td>radiant</td>\n",
       "      <td>1</td>\n",
       "    </tr>\n",
       "    <tr>\n",
       "      <th>1</th>\n",
       "      <td>1</td>\n",
       "      <td>3</td>\n",
       "      <td>radiant</td>\n",
       "      <td>222</td>\n",
       "    </tr>\n",
       "    <tr>\n",
       "      <th>2</th>\n",
       "      <td>2</td>\n",
       "      <td>3</td>\n",
       "      <td>dire</td>\n",
       "      <td>143</td>\n",
       "    </tr>\n",
       "    <tr>\n",
       "      <th>3</th>\n",
       "      <td>3</td>\n",
       "      <td>3</td>\n",
       "      <td>radiant</td>\n",
       "      <td>143</td>\n",
       "    </tr>\n",
       "    <tr>\n",
       "      <th>4</th>\n",
       "      <td>4</td>\n",
       "      <td>3</td>\n",
       "      <td>dire</td>\n",
       "      <td>53</td>\n",
       "    </tr>\n",
       "  </tbody>\n",
       "</table>\n",
       "</div>"
      ],
      "text/plain": [
       "   mid  event_type from_team  time\n",
       "0    0           3   radiant     1\n",
       "1    1           3   radiant   222\n",
       "2    2           3      dire   143\n",
       "3    3           3   radiant   143\n",
       "4    4           3      dire    53"
      ]
     },
     "execution_count": 3,
     "metadata": {},
     "output_type": "execute_result"
    }
   ],
   "source": [
    "events = pd.read_csv('data/events.csv')\n",
    "events.head()"
   ]
  },
  {
   "cell_type": "code",
   "execution_count": 4,
   "metadata": {
    "collapsed": true
   },
   "outputs": [],
   "source": [
    "train_matches = pd.read_csv('data/train.csv')\n",
    "test_matches = pd.read_csv('data/test.csv')"
   ]
  },
  {
   "cell_type": "code",
   "execution_count": 6,
   "metadata": {
    "collapsed": false
   },
   "outputs": [
    {
     "name": "stdout",
     "output_type": "stream",
     "text": [
      "49948\n"
     ]
    }
   ],
   "source": [
    "print l"
   ]
  },
  {
   "cell_type": "code",
   "execution_count": 10,
   "metadata": {
    "collapsed": false
   },
   "outputs": [
    {
     "data": {
      "text/plain": [
       "(49057L,)"
      ]
     },
     "execution_count": 10,
     "metadata": {},
     "output_type": "execute_result"
    }
   ],
   "source": [
    "events.mid.unique().shape"
   ]
  },
  {
   "cell_type": "markdown",
   "metadata": {},
   "source": [
    "event_type — тип события\n",
    "\n",
    "0 — Командой был забран Aegis\n",
    "\n",
    "1 — Командой был украден Aegis\n",
    "\n",
    "2 — Командой были разрушены бараки соперника\n",
    "\n",
    "3 — Командой был сделано первое убийство героя соперника\n",
    "\n",
    "4 — Командой был убит Roshan.\n",
    "\n",
    "5 — Командой была разрушена своя башня\n",
    "\n",
    "6 — Командой была разрушена башня соперника"
   ]
  },
  {
   "cell_type": "code",
   "execution_count": 5,
   "metadata": {
    "collapsed": false
   },
   "outputs": [
    {
     "data": {
      "text/html": [
       "<div>\n",
       "<table border=\"1\" class=\"dataframe\">\n",
       "  <thead>\n",
       "    <tr style=\"text-align: right;\">\n",
       "      <th></th>\n",
       "      <th>mid</th>\n",
       "      <th>radiant_take_aegis</th>\n",
       "      <th>dire_take_aegis</th>\n",
       "      <th>radiant_steal_aegis</th>\n",
       "      <th>dire_steal_aegis</th>\n",
       "      <th>radiant_destroy_barracks</th>\n",
       "      <th>dire_destroy_barracks</th>\n",
       "      <th>radiant_make_fb</th>\n",
       "      <th>dire_make_fb</th>\n",
       "      <th>radiant_kill_roshan</th>\n",
       "      <th>dire_kill_roshan</th>\n",
       "      <th>radiant_denay_tower</th>\n",
       "      <th>dire_denay_tower</th>\n",
       "      <th>radiant_destroy_tower</th>\n",
       "      <th>dire_destroy_tower</th>\n",
       "    </tr>\n",
       "  </thead>\n",
       "  <tbody>\n",
       "    <tr>\n",
       "      <th>0</th>\n",
       "      <td>0</td>\n",
       "      <td>0</td>\n",
       "      <td>0</td>\n",
       "      <td>0</td>\n",
       "      <td>0</td>\n",
       "      <td>0</td>\n",
       "      <td>0</td>\n",
       "      <td>1</td>\n",
       "      <td>0</td>\n",
       "      <td>0</td>\n",
       "      <td>0</td>\n",
       "      <td>0</td>\n",
       "      <td>0</td>\n",
       "      <td>0</td>\n",
       "      <td>0</td>\n",
       "    </tr>\n",
       "    <tr>\n",
       "      <th>1</th>\n",
       "      <td>1</td>\n",
       "      <td>0</td>\n",
       "      <td>0</td>\n",
       "      <td>0</td>\n",
       "      <td>0</td>\n",
       "      <td>0</td>\n",
       "      <td>0</td>\n",
       "      <td>1</td>\n",
       "      <td>0</td>\n",
       "      <td>0</td>\n",
       "      <td>0</td>\n",
       "      <td>0</td>\n",
       "      <td>0</td>\n",
       "      <td>0</td>\n",
       "      <td>0</td>\n",
       "    </tr>\n",
       "    <tr>\n",
       "      <th>2</th>\n",
       "      <td>2</td>\n",
       "      <td>0</td>\n",
       "      <td>0</td>\n",
       "      <td>0</td>\n",
       "      <td>0</td>\n",
       "      <td>0</td>\n",
       "      <td>0</td>\n",
       "      <td>0</td>\n",
       "      <td>1</td>\n",
       "      <td>0</td>\n",
       "      <td>0</td>\n",
       "      <td>0</td>\n",
       "      <td>0</td>\n",
       "      <td>0</td>\n",
       "      <td>0</td>\n",
       "    </tr>\n",
       "    <tr>\n",
       "      <th>3</th>\n",
       "      <td>3</td>\n",
       "      <td>0</td>\n",
       "      <td>0</td>\n",
       "      <td>0</td>\n",
       "      <td>0</td>\n",
       "      <td>0</td>\n",
       "      <td>0</td>\n",
       "      <td>1</td>\n",
       "      <td>0</td>\n",
       "      <td>0</td>\n",
       "      <td>0</td>\n",
       "      <td>0</td>\n",
       "      <td>0</td>\n",
       "      <td>0</td>\n",
       "      <td>0</td>\n",
       "    </tr>\n",
       "    <tr>\n",
       "      <th>4</th>\n",
       "      <td>4</td>\n",
       "      <td>0</td>\n",
       "      <td>0</td>\n",
       "      <td>0</td>\n",
       "      <td>0</td>\n",
       "      <td>0</td>\n",
       "      <td>0</td>\n",
       "      <td>0</td>\n",
       "      <td>1</td>\n",
       "      <td>0</td>\n",
       "      <td>0</td>\n",
       "      <td>0</td>\n",
       "      <td>0</td>\n",
       "      <td>0</td>\n",
       "      <td>0</td>\n",
       "    </tr>\n",
       "  </tbody>\n",
       "</table>\n",
       "</div>"
      ],
      "text/plain": [
       "   mid  radiant_take_aegis  dire_take_aegis  radiant_steal_aegis  \\\n",
       "0    0                   0                0                    0   \n",
       "1    1                   0                0                    0   \n",
       "2    2                   0                0                    0   \n",
       "3    3                   0                0                    0   \n",
       "4    4                   0                0                    0   \n",
       "\n",
       "   dire_steal_aegis  radiant_destroy_barracks  dire_destroy_barracks  \\\n",
       "0                 0                         0                      0   \n",
       "1                 0                         0                      0   \n",
       "2                 0                         0                      0   \n",
       "3                 0                         0                      0   \n",
       "4                 0                         0                      0   \n",
       "\n",
       "   radiant_make_fb  dire_make_fb  radiant_kill_roshan  dire_kill_roshan  \\\n",
       "0                1             0                    0                 0   \n",
       "1                1             0                    0                 0   \n",
       "2                0             1                    0                 0   \n",
       "3                1             0                    0                 0   \n",
       "4                0             1                    0                 0   \n",
       "\n",
       "   radiant_denay_tower  dire_denay_tower  radiant_destroy_tower  \\\n",
       "0                    0                 0                      0   \n",
       "1                    0                 0                      0   \n",
       "2                    0                 0                      0   \n",
       "3                    0                 0                      0   \n",
       "4                    0                 0                      0   \n",
       "\n",
       "   dire_destroy_tower  \n",
       "0                   0  \n",
       "1                   0  \n",
       "2                   0  \n",
       "3                   0  \n",
       "4                   0  "
      ]
     },
     "execution_count": 5,
     "metadata": {},
     "output_type": "execute_result"
    }
   ],
   "source": [
    "l = train_matches.shape[0] + test_matches.shape[0]\n",
    "\n",
    "eventname = ['take_aegis', 'steal_aegis', 'destroy_barracks', 'make_fb', 'kill_roshan', 'denay_tower', 'destroy_tower']\n",
    "\n",
    "dummy_events = pd.DataFrame(data = np.arange(l), columns=['mid'])\n",
    "dummy_events.head()\n",
    "\n",
    "for event_index in range(7):\n",
    "    current_event = events.loc[(events.event_type == event_index)][['mid', 'from_team']]\n",
    "    current_event['radiant_' + eventname[event_index]] = (current_event.from_team == 'radiant').astype(int)\n",
    "    current_event['dire_' +  eventname[event_index]] = (current_event.from_team == 'dire').astype(int)\n",
    "    current_event.drop('from_team', 1, inplace=True)\n",
    "    current_event = current_event.groupby('mid').sum()\n",
    "    current_event.reset_index(inplace=True)\n",
    "    dummy_events = pd.merge(dummy_events, current_event, on='mid', how='left')\n",
    "\n",
    "dummy_events.fillna(0, inplace=True)\n",
    "for col in dummy_events.columns:\n",
    "    dummy_events[col] = dummy_events[col].astype(int)\n",
    "dummy_events.head()"
   ]
  },
  {
   "cell_type": "code",
   "execution_count": 11,
   "metadata": {
    "collapsed": false
   },
   "outputs": [
    {
     "data": {
      "text/html": [
       "<div>\n",
       "<table border=\"1\" class=\"dataframe\">\n",
       "  <thead>\n",
       "    <tr style=\"text-align: right;\">\n",
       "      <th></th>\n",
       "      <th>mid</th>\n",
       "      <th>barracks_dif</th>\n",
       "      <th>make_fb</th>\n",
       "      <th>kill_roshan</th>\n",
       "      <th>destroy_tower</th>\n",
       "      <th>denay_tower</th>\n",
       "    </tr>\n",
       "  </thead>\n",
       "  <tbody>\n",
       "    <tr>\n",
       "      <th>0</th>\n",
       "      <td>0</td>\n",
       "      <td>0</td>\n",
       "      <td>1</td>\n",
       "      <td>0</td>\n",
       "      <td>0.0</td>\n",
       "      <td>0.0</td>\n",
       "    </tr>\n",
       "    <tr>\n",
       "      <th>1</th>\n",
       "      <td>1</td>\n",
       "      <td>0</td>\n",
       "      <td>1</td>\n",
       "      <td>0</td>\n",
       "      <td>0.0</td>\n",
       "      <td>0.0</td>\n",
       "    </tr>\n",
       "    <tr>\n",
       "      <th>2</th>\n",
       "      <td>2</td>\n",
       "      <td>0</td>\n",
       "      <td>-1</td>\n",
       "      <td>0</td>\n",
       "      <td>0.0</td>\n",
       "      <td>0.0</td>\n",
       "    </tr>\n",
       "    <tr>\n",
       "      <th>3</th>\n",
       "      <td>3</td>\n",
       "      <td>0</td>\n",
       "      <td>1</td>\n",
       "      <td>0</td>\n",
       "      <td>0.0</td>\n",
       "      <td>0.0</td>\n",
       "    </tr>\n",
       "    <tr>\n",
       "      <th>4</th>\n",
       "      <td>4</td>\n",
       "      <td>0</td>\n",
       "      <td>-1</td>\n",
       "      <td>0</td>\n",
       "      <td>0.0</td>\n",
       "      <td>0.0</td>\n",
       "    </tr>\n",
       "  </tbody>\n",
       "</table>\n",
       "</div>"
      ],
      "text/plain": [
       "   mid  barracks_dif  make_fb  kill_roshan  destroy_tower  denay_tower\n",
       "0    0             0        1            0            0.0          0.0\n",
       "1    1             0        1            0            0.0          0.0\n",
       "2    2             0       -1            0            0.0          0.0\n",
       "3    3             0        1            0            0.0          0.0\n",
       "4    4             0       -1            0            0.0          0.0"
      ]
     },
     "execution_count": 11,
     "metadata": {},
     "output_type": "execute_result"
    }
   ],
   "source": [
    "dummy_events_cropped = pd.DataFrame(index=dummy_events.mid)\n",
    "dummy_events_cropped['barracks_dif'] = dummy_events.radiant_destroy_barracks - dummy_events.dire_destroy_barracks\n",
    "dummy_events_cropped['make_fb'] = dummy_events.radiant_make_fb - dummy_events.dire_make_fb\n",
    "dummy_events_cropped['kill_roshan'] = dummy_events.radiant_kill_roshan - dummy_events.dire_kill_roshan\n",
    "dummy_events_cropped['destroy_tower'] = (dummy_events.radiant_destroy_tower - dummy_events.dire_destroy_tower) * 0.2\n",
    "dummy_events_cropped['denay_tower'] = (dummy_events.radiant_denay_tower - dummy_events.dire_denay_tower) * 0.5\n",
    "dummy_events_cropped.reset_index(inplace=True)\n",
    "dummy_events_cropped.to_csv('processing_tables/dummy_events_cropped.csv', index=None)\n",
    "dummy_events_cropped.head()"
   ]
  },
  {
   "cell_type": "code",
   "execution_count": 15,
   "metadata": {
    "collapsed": false
   },
   "outputs": [
    {
     "data": {
      "text/plain": [
       "mid             49947\n",
       "barracks_dif        3\n",
       "make_fb             1\n",
       "kill_roshan         1\n",
       "pushing             5\n",
       "dtype: int64"
      ]
     },
     "execution_count": 15,
     "metadata": {},
     "output_type": "execute_result"
    }
   ],
   "source": [
    "dummy_events_cropped.max()"
   ]
  },
  {
   "cell_type": "code",
   "execution_count": 24,
   "metadata": {
    "collapsed": false
   },
   "outputs": [
    {
     "data": {
      "text/html": [
       "<div>\n",
       "<table border=\"1\" class=\"dataframe\">\n",
       "  <thead>\n",
       "    <tr style=\"text-align: right;\">\n",
       "      <th></th>\n",
       "      <th>mid</th>\n",
       "      <th>radiant_take_aegis</th>\n",
       "      <th>dire_take_aegis</th>\n",
       "      <th>radiant_steal_aegis</th>\n",
       "      <th>dire_steal_aegis</th>\n",
       "      <th>radiant_destroy_barracks</th>\n",
       "      <th>dire_destroy_barracks</th>\n",
       "      <th>radiant_make_fb</th>\n",
       "      <th>dire_make_fb</th>\n",
       "      <th>radiant_kill_roshan</th>\n",
       "      <th>dire_kill_roshan</th>\n",
       "      <th>radiant_denay_tower</th>\n",
       "      <th>dire_denay_tower</th>\n",
       "      <th>radiant_destroy_tower</th>\n",
       "      <th>dire_destroy_tower</th>\n",
       "    </tr>\n",
       "  </thead>\n",
       "  <tbody>\n",
       "    <tr>\n",
       "      <th>14337</th>\n",
       "      <td>14337</td>\n",
       "      <td>0</td>\n",
       "      <td>0</td>\n",
       "      <td>0</td>\n",
       "      <td>0</td>\n",
       "      <td>3</td>\n",
       "      <td>0</td>\n",
       "      <td>1</td>\n",
       "      <td>0</td>\n",
       "      <td>0</td>\n",
       "      <td>0</td>\n",
       "      <td>0</td>\n",
       "      <td>0</td>\n",
       "      <td>6</td>\n",
       "      <td>1</td>\n",
       "    </tr>\n",
       "    <tr>\n",
       "      <th>34802</th>\n",
       "      <td>34802</td>\n",
       "      <td>0</td>\n",
       "      <td>0</td>\n",
       "      <td>0</td>\n",
       "      <td>0</td>\n",
       "      <td>1</td>\n",
       "      <td>0</td>\n",
       "      <td>1</td>\n",
       "      <td>0</td>\n",
       "      <td>0</td>\n",
       "      <td>0</td>\n",
       "      <td>0</td>\n",
       "      <td>0</td>\n",
       "      <td>4</td>\n",
       "      <td>1</td>\n",
       "    </tr>\n",
       "    <tr>\n",
       "      <th>40699</th>\n",
       "      <td>40699</td>\n",
       "      <td>0</td>\n",
       "      <td>0</td>\n",
       "      <td>0</td>\n",
       "      <td>0</td>\n",
       "      <td>2</td>\n",
       "      <td>0</td>\n",
       "      <td>1</td>\n",
       "      <td>0</td>\n",
       "      <td>0</td>\n",
       "      <td>0</td>\n",
       "      <td>0</td>\n",
       "      <td>0</td>\n",
       "      <td>4</td>\n",
       "      <td>1</td>\n",
       "    </tr>\n",
       "  </tbody>\n",
       "</table>\n",
       "</div>"
      ],
      "text/plain": [
       "         mid  radiant_take_aegis  dire_take_aegis  radiant_steal_aegis  \\\n",
       "14337  14337                   0                0                    0   \n",
       "34802  34802                   0                0                    0   \n",
       "40699  40699                   0                0                    0   \n",
       "\n",
       "       dire_steal_aegis  radiant_destroy_barracks  dire_destroy_barracks  \\\n",
       "14337                 0                         3                      0   \n",
       "34802                 0                         1                      0   \n",
       "40699                 0                         2                      0   \n",
       "\n",
       "       radiant_make_fb  dire_make_fb  radiant_kill_roshan  dire_kill_roshan  \\\n",
       "14337                1             0                    0                 0   \n",
       "34802                1             0                    0                 0   \n",
       "40699                1             0                    0                 0   \n",
       "\n",
       "       radiant_denay_tower  dire_denay_tower  radiant_destroy_tower  \\\n",
       "14337                    0                 0                      6   \n",
       "34802                    0                 0                      4   \n",
       "40699                    0                 0                      4   \n",
       "\n",
       "       dire_destroy_tower  \n",
       "14337                   1  \n",
       "34802                   1  \n",
       "40699                   1  "
      ]
     },
     "execution_count": 24,
     "metadata": {},
     "output_type": "execute_result"
    }
   ],
   "source": [
    "dummy_events[dummy_events.radiant_destroy_barracks != 0]"
   ]
  },
  {
   "cell_type": "code",
   "execution_count": 25,
   "metadata": {
    "collapsed": false
   },
   "outputs": [
    {
     "data": {
      "text/html": [
       "<div>\n",
       "<table border=\"1\" class=\"dataframe\">\n",
       "  <thead>\n",
       "    <tr style=\"text-align: right;\">\n",
       "      <th></th>\n",
       "      <th>mid</th>\n",
       "      <th>radiant_won</th>\n",
       "    </tr>\n",
       "  </thead>\n",
       "  <tbody>\n",
       "    <tr>\n",
       "      <th>7116</th>\n",
       "      <td>14337</td>\n",
       "      <td>1</td>\n",
       "    </tr>\n",
       "  </tbody>\n",
       "</table>\n",
       "</div>"
      ],
      "text/plain": [
       "        mid  radiant_won\n",
       "7116  14337            1"
      ]
     },
     "execution_count": 25,
     "metadata": {},
     "output_type": "execute_result"
    }
   ],
   "source": [
    "train_matches.loc[train_matches.mid == 14337]"
   ]
  },
  {
   "cell_type": "code",
   "execution_count": 17,
   "metadata": {
    "collapsed": false
   },
   "outputs": [],
   "source": [
    "dummy_events.head()\n",
    "dummy_events.to_csv('processing_tables/dummy_events.csv', index=None)"
   ]
  }
 ],
 "metadata": {
  "anaconda-cloud": {},
  "kernelspec": {
   "display_name": "Python 2.7",
   "language": "python",
   "name": "python2.7"
  },
  "language_info": {
   "codemirror_mode": {
    "name": "ipython",
    "version": 2
   },
   "file_extension": ".py",
   "mimetype": "text/x-python",
   "name": "python",
   "nbconvert_exporter": "python",
   "pygments_lexer": "ipython2",
   "version": "2.7.12"
  }
 },
 "nbformat": 4,
 "nbformat_minor": 1
}
