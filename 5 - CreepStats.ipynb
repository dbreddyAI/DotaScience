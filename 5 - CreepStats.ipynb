{
 "cells": [
  {
   "cell_type": "code",
   "execution_count": 1,
   "metadata": {
    "collapsed": false
   },
   "outputs": [
    {
     "name": "stdout",
     "output_type": "stream",
     "text": [
      "Populating the interactive namespace from numpy and matplotlib\n"
     ]
    }
   ],
   "source": [
    "import pandas as pd\n",
    "import numpy as np\n",
    "\n",
    "from sklearn.preprocessing import StandardScaler\n",
    "from sklearn.grid_search import GridSearchCV\n",
    "from sklearn.cross_validation import KFold\n",
    "from sklearn.linear_model import LogisticRegression\n",
    "from sklearn.cross_validation import cross_val_score\n",
    "from sklearn.ensemble import RandomForestClassifier\n",
    "from sklearn.linear_model import Lasso, Ridge\n",
    "\n",
    "%pylab inline"
   ]
  },
  {
   "cell_type": "code",
   "execution_count": 2,
   "metadata": {
    "collapsed": true
   },
   "outputs": [],
   "source": [
    "def normalize_data(X):\n",
    "    return pd.DataFrame(\n",
    "        StandardScaler().fit_transform(X),\n",
    "        index = X.index, \n",
    "        columns=X.columns\n",
    "    )\n",
    "\n",
    "def logEstimation(X, y):\n",
    "#     grid = {'C': np.power(10.0, np.arange(-5, 1))}\n",
    "    grid = {'C': [0.05, 0.01, 0.05, 0.1, 0.5, 0.75, 1]}\n",
    "    kf=KFold(y.size, n_folds=5, shuffle=True, random_state=241)\n",
    "    clf=LogisticRegression(random_state=241)\n",
    "    gs = GridSearchCV(clf, grid, scoring='roc_auc', cv=kf)\n",
    "    gs.fit(X, y)\n",
    "    return gs"
   ]
  },
  {
   "cell_type": "code",
   "execution_count": 3,
   "metadata": {
    "collapsed": false
   },
   "outputs": [
    {
     "data": {
      "text/html": [
       "<div>\n",
       "<table border=\"1\" class=\"dataframe\">\n",
       "  <thead>\n",
       "    <tr style=\"text-align: right;\">\n",
       "      <th></th>\n",
       "      <th>player_0</th>\n",
       "      <th>player_1</th>\n",
       "      <th>player_2</th>\n",
       "      <th>player_3</th>\n",
       "      <th>player_4</th>\n",
       "      <th>player_5</th>\n",
       "      <th>player_6</th>\n",
       "      <th>player_7</th>\n",
       "      <th>player_8</th>\n",
       "      <th>player_9</th>\n",
       "    </tr>\n",
       "    <tr>\n",
       "      <th>mid</th>\n",
       "      <th></th>\n",
       "      <th></th>\n",
       "      <th></th>\n",
       "      <th></th>\n",
       "      <th></th>\n",
       "      <th></th>\n",
       "      <th></th>\n",
       "      <th></th>\n",
       "      <th></th>\n",
       "      <th></th>\n",
       "    </tr>\n",
       "  </thead>\n",
       "  <tbody>\n",
       "    <tr>\n",
       "      <th>0</th>\n",
       "      <td>4</td>\n",
       "      <td>43</td>\n",
       "      <td>3</td>\n",
       "      <td>57</td>\n",
       "      <td>41</td>\n",
       "      <td>34</td>\n",
       "      <td>35</td>\n",
       "      <td>75</td>\n",
       "      <td>2</td>\n",
       "      <td>46</td>\n",
       "    </tr>\n",
       "    <tr>\n",
       "      <th>1</th>\n",
       "      <td>5</td>\n",
       "      <td>63</td>\n",
       "      <td>14</td>\n",
       "      <td>28</td>\n",
       "      <td>47</td>\n",
       "      <td>49</td>\n",
       "      <td>23</td>\n",
       "      <td>3</td>\n",
       "      <td>30</td>\n",
       "      <td>39</td>\n",
       "    </tr>\n",
       "    <tr>\n",
       "      <th>2</th>\n",
       "      <td>34</td>\n",
       "      <td>6</td>\n",
       "      <td>69</td>\n",
       "      <td>42</td>\n",
       "      <td>23</td>\n",
       "      <td>6</td>\n",
       "      <td>12</td>\n",
       "      <td>56</td>\n",
       "      <td>13</td>\n",
       "      <td>12</td>\n",
       "    </tr>\n",
       "    <tr>\n",
       "      <th>3</th>\n",
       "      <td>1</td>\n",
       "      <td>49</td>\n",
       "      <td>48</td>\n",
       "      <td>3</td>\n",
       "      <td>31</td>\n",
       "      <td>28</td>\n",
       "      <td>51</td>\n",
       "      <td>6</td>\n",
       "      <td>50</td>\n",
       "      <td>8</td>\n",
       "    </tr>\n",
       "    <tr>\n",
       "      <th>4</th>\n",
       "      <td>30</td>\n",
       "      <td>41</td>\n",
       "      <td>45</td>\n",
       "      <td>23</td>\n",
       "      <td>4</td>\n",
       "      <td>26</td>\n",
       "      <td>9</td>\n",
       "      <td>23</td>\n",
       "      <td>37</td>\n",
       "      <td>6</td>\n",
       "    </tr>\n",
       "  </tbody>\n",
       "</table>\n",
       "</div>"
      ],
      "text/plain": [
       "     player_0  player_1  player_2  player_3  player_4  player_5  player_6  \\\n",
       "mid                                                                         \n",
       "0           4        43         3        57        41        34        35   \n",
       "1           5        63        14        28        47        49        23   \n",
       "2          34         6        69        42        23         6        12   \n",
       "3           1        49        48         3        31        28        51   \n",
       "4          30        41        45        23         4        26         9   \n",
       "\n",
       "     player_7  player_8  player_9  \n",
       "mid                                \n",
       "0          75         2        46  \n",
       "1           3        30        39  \n",
       "2          56        13        12  \n",
       "3           6        50         8  \n",
       "4          23        37         6  "
      ]
     },
     "execution_count": 3,
     "metadata": {},
     "output_type": "execute_result"
    }
   ],
   "source": [
    "lh = pd.read_csv('data\\lh.csv', index_col='mid')\n",
    "lh = lh.loc[lh.times == 600].drop('times', 1)\n",
    "lh.head()"
   ]
  },
  {
   "cell_type": "code",
   "execution_count": 4,
   "metadata": {
    "collapsed": false
   },
   "outputs": [
    {
     "data": {
      "text/html": [
       "<div>\n",
       "<table border=\"1\" class=\"dataframe\">\n",
       "  <thead>\n",
       "    <tr style=\"text-align: right;\">\n",
       "      <th></th>\n",
       "      <th>creeps_player_0</th>\n",
       "      <th>creeps_player_1</th>\n",
       "      <th>creeps_player_2</th>\n",
       "      <th>creeps_player_3</th>\n",
       "      <th>creeps_player_4</th>\n",
       "      <th>creeps_player_5</th>\n",
       "      <th>creeps_player_6</th>\n",
       "      <th>creeps_player_7</th>\n",
       "      <th>creeps_player_8</th>\n",
       "      <th>creeps_player_9</th>\n",
       "      <th>radiant_creeps</th>\n",
       "      <th>dire_creeps</th>\n",
       "      <th>radiant_carry_creeps</th>\n",
       "      <th>dire_carry_creeps</th>\n",
       "      <th>creeps_diff</th>\n",
       "    </tr>\n",
       "    <tr>\n",
       "      <th>mid</th>\n",
       "      <th></th>\n",
       "      <th></th>\n",
       "      <th></th>\n",
       "      <th></th>\n",
       "      <th></th>\n",
       "      <th></th>\n",
       "      <th></th>\n",
       "      <th></th>\n",
       "      <th></th>\n",
       "      <th></th>\n",
       "      <th></th>\n",
       "      <th></th>\n",
       "      <th></th>\n",
       "      <th></th>\n",
       "      <th></th>\n",
       "    </tr>\n",
       "  </thead>\n",
       "  <tbody>\n",
       "    <tr>\n",
       "      <th>0</th>\n",
       "      <td>4</td>\n",
       "      <td>43</td>\n",
       "      <td>3</td>\n",
       "      <td>57</td>\n",
       "      <td>41</td>\n",
       "      <td>34</td>\n",
       "      <td>35</td>\n",
       "      <td>75</td>\n",
       "      <td>2</td>\n",
       "      <td>46</td>\n",
       "      <td>148</td>\n",
       "      <td>192</td>\n",
       "      <td>57</td>\n",
       "      <td>75</td>\n",
       "      <td>-44</td>\n",
       "    </tr>\n",
       "    <tr>\n",
       "      <th>1</th>\n",
       "      <td>5</td>\n",
       "      <td>63</td>\n",
       "      <td>14</td>\n",
       "      <td>28</td>\n",
       "      <td>47</td>\n",
       "      <td>49</td>\n",
       "      <td>23</td>\n",
       "      <td>3</td>\n",
       "      <td>30</td>\n",
       "      <td>39</td>\n",
       "      <td>157</td>\n",
       "      <td>144</td>\n",
       "      <td>63</td>\n",
       "      <td>49</td>\n",
       "      <td>13</td>\n",
       "    </tr>\n",
       "    <tr>\n",
       "      <th>2</th>\n",
       "      <td>34</td>\n",
       "      <td>6</td>\n",
       "      <td>69</td>\n",
       "      <td>42</td>\n",
       "      <td>23</td>\n",
       "      <td>6</td>\n",
       "      <td>12</td>\n",
       "      <td>56</td>\n",
       "      <td>13</td>\n",
       "      <td>12</td>\n",
       "      <td>174</td>\n",
       "      <td>99</td>\n",
       "      <td>69</td>\n",
       "      <td>56</td>\n",
       "      <td>75</td>\n",
       "    </tr>\n",
       "    <tr>\n",
       "      <th>3</th>\n",
       "      <td>1</td>\n",
       "      <td>49</td>\n",
       "      <td>48</td>\n",
       "      <td>3</td>\n",
       "      <td>31</td>\n",
       "      <td>28</td>\n",
       "      <td>51</td>\n",
       "      <td>6</td>\n",
       "      <td>50</td>\n",
       "      <td>8</td>\n",
       "      <td>132</td>\n",
       "      <td>143</td>\n",
       "      <td>49</td>\n",
       "      <td>51</td>\n",
       "      <td>-11</td>\n",
       "    </tr>\n",
       "    <tr>\n",
       "      <th>4</th>\n",
       "      <td>30</td>\n",
       "      <td>41</td>\n",
       "      <td>45</td>\n",
       "      <td>23</td>\n",
       "      <td>4</td>\n",
       "      <td>26</td>\n",
       "      <td>9</td>\n",
       "      <td>23</td>\n",
       "      <td>37</td>\n",
       "      <td>6</td>\n",
       "      <td>143</td>\n",
       "      <td>101</td>\n",
       "      <td>45</td>\n",
       "      <td>37</td>\n",
       "      <td>42</td>\n",
       "    </tr>\n",
       "  </tbody>\n",
       "</table>\n",
       "</div>"
      ],
      "text/plain": [
       "     creeps_player_0  creeps_player_1  creeps_player_2  creeps_player_3  \\\n",
       "mid                                                                       \n",
       "0                  4               43                3               57   \n",
       "1                  5               63               14               28   \n",
       "2                 34                6               69               42   \n",
       "3                  1               49               48                3   \n",
       "4                 30               41               45               23   \n",
       "\n",
       "     creeps_player_4  creeps_player_5  creeps_player_6  creeps_player_7  \\\n",
       "mid                                                                       \n",
       "0                 41               34               35               75   \n",
       "1                 47               49               23                3   \n",
       "2                 23                6               12               56   \n",
       "3                 31               28               51                6   \n",
       "4                  4               26                9               23   \n",
       "\n",
       "     creeps_player_8  creeps_player_9  radiant_creeps  dire_creeps  \\\n",
       "mid                                                                  \n",
       "0                  2               46             148          192   \n",
       "1                 30               39             157          144   \n",
       "2                 13               12             174           99   \n",
       "3                 50                8             132          143   \n",
       "4                 37                6             143          101   \n",
       "\n",
       "     radiant_carry_creeps  dire_carry_creeps  creeps_diff  \n",
       "mid                                                        \n",
       "0                      57                 75          -44  \n",
       "1                      63                 49           13  \n",
       "2                      69                 56           75  \n",
       "3                      49                 51          -11  \n",
       "4                      45                 37           42  "
      ]
     },
     "execution_count": 4,
     "metadata": {},
     "output_type": "execute_result"
    }
   ],
   "source": [
    "radiant_lh = lh.player_0 + lh.player_1 + lh.player_2 + lh.player_3 + lh.player_4\n",
    "dire_lh = lh.player_5 + lh.player_6 + lh.player_7 + lh.player_8 + lh.player_9\n",
    "radiant_carry_cs = lh[['player_0', 'player_1', 'player_2', 'player_3', 'player_4']].max(1)\n",
    "dire_carry_cs = lh[['player_5', 'player_6', 'player_7', 'player_8', 'player_9']].max(1)\n",
    "creeps = pd.DataFrame(index=lh.index)\n",
    "for col in lh.columns:\n",
    "    creeps['creeps_' + col] = lh[col]\n",
    "creeps['radiant_creeps'] = radiant_lh\n",
    "creeps['dire_creeps'] = dire_lh\n",
    "creeps['radiant_carry_creeps'] = radiant_carry_cs\n",
    "creeps['dire_carry_creeps'] = dire_carry_cs\n",
    "creeps['creeps_diff'] = radiant_lh - dire_lh\n",
    "creeps.head()"
   ]
  },
  {
   "cell_type": "code",
   "execution_count": 5,
   "metadata": {
    "collapsed": false
   },
   "outputs": [
    {
     "data": {
      "text/html": [
       "<div>\n",
       "<table border=\"1\" class=\"dataframe\">\n",
       "  <thead>\n",
       "    <tr style=\"text-align: right;\">\n",
       "      <th></th>\n",
       "      <th>mid</th>\n",
       "      <th>creeps_player_0</th>\n",
       "      <th>creeps_player_1</th>\n",
       "      <th>creeps_player_2</th>\n",
       "      <th>creeps_player_3</th>\n",
       "      <th>creeps_player_4</th>\n",
       "      <th>creeps_player_5</th>\n",
       "      <th>creeps_player_6</th>\n",
       "      <th>creeps_player_7</th>\n",
       "      <th>creeps_player_8</th>\n",
       "      <th>creeps_player_9</th>\n",
       "      <th>radiant_creeps</th>\n",
       "      <th>dire_creeps</th>\n",
       "      <th>radiant_carry_creeps</th>\n",
       "      <th>dire_carry_creeps</th>\n",
       "      <th>creeps_diff</th>\n",
       "      <th>creeps_rel</th>\n",
       "    </tr>\n",
       "  </thead>\n",
       "  <tbody>\n",
       "    <tr>\n",
       "      <th>0</th>\n",
       "      <td>0</td>\n",
       "      <td>-1.243959</td>\n",
       "      <td>0.839247</td>\n",
       "      <td>-1.237188</td>\n",
       "      <td>1.563027</td>\n",
       "      <td>0.759367</td>\n",
       "      <td>0.323709</td>\n",
       "      <td>0.435091</td>\n",
       "      <td>2.505723</td>\n",
       "      <td>-1.301075</td>\n",
       "      <td>1.028664</td>\n",
       "      <td>0.451955</td>\n",
       "      <td>1.926818</td>\n",
       "      <td>0.400137</td>\n",
       "      <td>1.788257</td>\n",
       "      <td>-1.183000</td>\n",
       "      <td>0.770833</td>\n",
       "    </tr>\n",
       "    <tr>\n",
       "      <th>1</th>\n",
       "      <td>1</td>\n",
       "      <td>-1.191912</td>\n",
       "      <td>1.878427</td>\n",
       "      <td>-0.668118</td>\n",
       "      <td>0.060755</td>\n",
       "      <td>1.072314</td>\n",
       "      <td>1.106572</td>\n",
       "      <td>-0.191645</td>\n",
       "      <td>-1.244911</td>\n",
       "      <td>0.167004</td>\n",
       "      <td>0.660455</td>\n",
       "      <td>0.763204</td>\n",
       "      <td>0.314862</td>\n",
       "      <td>0.860007</td>\n",
       "      <td>-0.189175</td>\n",
       "      <td>0.338896</td>\n",
       "      <td>1.090278</td>\n",
       "    </tr>\n",
       "    <tr>\n",
       "      <th>2</th>\n",
       "      <td>2</td>\n",
       "      <td>0.317441</td>\n",
       "      <td>-1.083236</td>\n",
       "      <td>2.177236</td>\n",
       "      <td>0.785990</td>\n",
       "      <td>-0.179471</td>\n",
       "      <td>-1.137635</td>\n",
       "      <td>-0.766154</td>\n",
       "      <td>1.515972</td>\n",
       "      <td>-0.724330</td>\n",
       "      <td>-0.759781</td>\n",
       "      <td>1.351120</td>\n",
       "      <td>-1.196346</td>\n",
       "      <td>1.319876</td>\n",
       "      <td>0.343210</td>\n",
       "      <td>1.994292</td>\n",
       "      <td>1.757576</td>\n",
       "    </tr>\n",
       "    <tr>\n",
       "      <th>3</th>\n",
       "      <td>3</td>\n",
       "      <td>-1.400099</td>\n",
       "      <td>1.151001</td>\n",
       "      <td>1.090828</td>\n",
       "      <td>-1.234307</td>\n",
       "      <td>0.237790</td>\n",
       "      <td>0.010564</td>\n",
       "      <td>1.270740</td>\n",
       "      <td>-1.088635</td>\n",
       "      <td>1.215632</td>\n",
       "      <td>-0.970186</td>\n",
       "      <td>-0.101378</td>\n",
       "      <td>0.281280</td>\n",
       "      <td>-0.213023</td>\n",
       "      <td>-0.037065</td>\n",
       "      <td>-0.301902</td>\n",
       "      <td>0.923077</td>\n",
       "    </tr>\n",
       "    <tr>\n",
       "      <th>4</th>\n",
       "      <td>4</td>\n",
       "      <td>0.109254</td>\n",
       "      <td>0.735329</td>\n",
       "      <td>0.935627</td>\n",
       "      <td>-0.198257</td>\n",
       "      <td>-1.170468</td>\n",
       "      <td>-0.093818</td>\n",
       "      <td>-0.922838</td>\n",
       "      <td>-0.203068</td>\n",
       "      <td>0.534024</td>\n",
       "      <td>-1.075389</td>\n",
       "      <td>0.279038</td>\n",
       "      <td>-1.129181</td>\n",
       "      <td>-0.519603</td>\n",
       "      <td>-1.101837</td>\n",
       "      <td>1.113194</td>\n",
       "      <td>1.415842</td>\n",
       "    </tr>\n",
       "  </tbody>\n",
       "</table>\n",
       "</div>"
      ],
      "text/plain": [
       "   mid  creeps_player_0  creeps_player_1  creeps_player_2  creeps_player_3  \\\n",
       "0    0        -1.243959         0.839247        -1.237188         1.563027   \n",
       "1    1        -1.191912         1.878427        -0.668118         0.060755   \n",
       "2    2         0.317441        -1.083236         2.177236         0.785990   \n",
       "3    3        -1.400099         1.151001         1.090828        -1.234307   \n",
       "4    4         0.109254         0.735329         0.935627        -0.198257   \n",
       "\n",
       "   creeps_player_4  creeps_player_5  creeps_player_6  creeps_player_7  \\\n",
       "0         0.759367         0.323709         0.435091         2.505723   \n",
       "1         1.072314         1.106572        -0.191645        -1.244911   \n",
       "2        -0.179471        -1.137635        -0.766154         1.515972   \n",
       "3         0.237790         0.010564         1.270740        -1.088635   \n",
       "4        -1.170468        -0.093818        -0.922838        -0.203068   \n",
       "\n",
       "   creeps_player_8  creeps_player_9  radiant_creeps  dire_creeps  \\\n",
       "0        -1.301075         1.028664        0.451955     1.926818   \n",
       "1         0.167004         0.660455        0.763204     0.314862   \n",
       "2        -0.724330        -0.759781        1.351120    -1.196346   \n",
       "3         1.215632        -0.970186       -0.101378     0.281280   \n",
       "4         0.534024        -1.075389        0.279038    -1.129181   \n",
       "\n",
       "   radiant_carry_creeps  dire_carry_creeps  creeps_diff  creeps_rel  \n",
       "0              0.400137           1.788257    -1.183000    0.770833  \n",
       "1              0.860007          -0.189175     0.338896    1.090278  \n",
       "2              1.319876           0.343210     1.994292    1.757576  \n",
       "3             -0.213023          -0.037065    -0.301902    0.923077  \n",
       "4             -0.519603          -1.101837     1.113194    1.415842  "
      ]
     },
     "execution_count": 5,
     "metadata": {},
     "output_type": "execute_result"
    }
   ],
   "source": [
    "creeps = normalize_data(creeps)\n",
    "creeps['creeps_rel'] = radiant_lh / dire_lh\n",
    "creeps.reset_index(level=0, inplace=True)\n",
    "\n",
    "creeps.head()"
   ]
  },
  {
   "cell_type": "code",
   "execution_count": null,
   "metadata": {
    "collapsed": true
   },
   "outputs": [],
   "source": [
    "creeps.to_csv('processing_tables/creeps.csv', index=None)"
   ]
  },
  {
   "cell_type": "code",
   "execution_count": null,
   "metadata": {
    "collapsed": true
   },
   "outputs": [],
   "source": []
  },
  {
   "cell_type": "code",
   "execution_count": null,
   "metadata": {
    "collapsed": true
   },
   "outputs": [],
   "source": []
  },
  {
   "cell_type": "code",
   "execution_count": 15,
   "metadata": {
    "collapsed": false
   },
   "outputs": [
    {
     "data": {
      "text/html": [
       "<div>\n",
       "<table border=\"1\" class=\"dataframe\">\n",
       "  <thead>\n",
       "    <tr style=\"text-align: right;\">\n",
       "      <th></th>\n",
       "      <th>mid</th>\n",
       "      <th>rad_best_creeps</th>\n",
       "      <th>rad_second_creeps</th>\n",
       "      <th>dire_best_creeps</th>\n",
       "      <th>dire_second_creeps</th>\n",
       "      <th>rad_creeps_sum</th>\n",
       "      <th>dire_creeps_sum</th>\n",
       "    </tr>\n",
       "  </thead>\n",
       "  <tbody>\n",
       "    <tr>\n",
       "      <th>0</th>\n",
       "      <td>0</td>\n",
       "      <td>0.400137</td>\n",
       "      <td>0.413201</td>\n",
       "      <td>1.788257</td>\n",
       "      <td>0.714331</td>\n",
       "      <td>0.451955</td>\n",
       "      <td>1.926818</td>\n",
       "    </tr>\n",
       "    <tr>\n",
       "      <th>1</th>\n",
       "      <td>1</td>\n",
       "      <td>0.860007</td>\n",
       "      <td>0.782767</td>\n",
       "      <td>-0.189175</td>\n",
       "      <td>0.067585</td>\n",
       "      <td>0.763204</td>\n",
       "      <td>0.314862</td>\n",
       "    </tr>\n",
       "    <tr>\n",
       "      <th>2</th>\n",
       "      <td>2</td>\n",
       "      <td>1.319876</td>\n",
       "      <td>0.320809</td>\n",
       "      <td>0.343210</td>\n",
       "      <td>-2.334614</td>\n",
       "      <td>1.351120</td>\n",
       "      <td>-1.196346</td>\n",
       "    </tr>\n",
       "    <tr>\n",
       "      <th>3</th>\n",
       "      <td>3</td>\n",
       "      <td>-0.213023</td>\n",
       "      <td>0.875159</td>\n",
       "      <td>-0.037065</td>\n",
       "      <td>1.083900</td>\n",
       "      <td>-0.101378</td>\n",
       "      <td>0.281280</td>\n",
       "    </tr>\n",
       "    <tr>\n",
       "      <th>4</th>\n",
       "      <td>4</td>\n",
       "      <td>-0.519603</td>\n",
       "      <td>0.228417</td>\n",
       "      <td>-1.101837</td>\n",
       "      <td>-1.133515</td>\n",
       "      <td>0.279038</td>\n",
       "      <td>-1.129181</td>\n",
       "    </tr>\n",
       "  </tbody>\n",
       "</table>\n",
       "</div>"
      ],
      "text/plain": [
       "   mid  rad_best_creeps  rad_second_creeps  dire_best_creeps  \\\n",
       "0    0         0.400137           0.413201          1.788257   \n",
       "1    1         0.860007           0.782767         -0.189175   \n",
       "2    2         1.319876           0.320809          0.343210   \n",
       "3    3        -0.213023           0.875159         -0.037065   \n",
       "4    4        -0.519603           0.228417         -1.101837   \n",
       "\n",
       "   dire_second_creeps  rad_creeps_sum  dire_creeps_sum  \n",
       "0            0.714331        0.451955         1.926818  \n",
       "1            0.067585        0.763204         0.314862  \n",
       "2           -2.334614        1.351120        -1.196346  \n",
       "3            1.083900       -0.101378         0.281280  \n",
       "4           -1.133515        0.279038        -1.129181  "
      ]
     },
     "execution_count": 15,
     "metadata": {},
     "output_type": "execute_result"
    }
   ],
   "source": [
    "creeps = pd.read_csv('data\\lh.csv', index_col='mid')\n",
    "creeps = creeps.loc[creeps.times == 600].drop('times', 1)\n",
    "creeps.reset_index(inplace=True)\n",
    "radiant_rank_creep = pd.DataFrame(data = np.sort(creeps.values[:,1:6]),\n",
    "                                       index=creeps.mid,\n",
    "                                       columns = ['radiant_creep_rank_{0}'.format(i) for i in range(5)]) \n",
    "radiant_rank_creep = normalize_data(radiant_rank_creep)\n",
    "dire_rank_creep = pd.DataFrame(data = np.sort(creeps.values[:,6:11]),\n",
    "                                       index=creeps.mid,\n",
    "                                       columns = ['dire_creep_rank_{0}'.format(i) for i in range(5)]) \n",
    "dire_rank_creep = normalize_data(dire_rank_creep)\n",
    "\n",
    "cropped_creeps = pd.DataFrame(index = creeps.mid)\n",
    "cropped_creeps['rad_best_creeps'] = radiant_rank_creep.radiant_creep_rank_4\n",
    "cropped_creeps['rad_second_creeps'] = radiant_rank_creep.radiant_creep_rank_3\n",
    "cropped_creeps['dire_best_creeps'] = dire_rank_creep.dire_creep_rank_4\n",
    "cropped_creeps['dire_second_creeps'] = dire_rank_creep.dire_creep_rank_3\n",
    "cropped_creeps['rad_creeps_sum'] = radiant_lh\n",
    "cropped_creeps['dire_creeps_sum'] = dire_lh\n",
    "cropped_creeps = normalize_data(cropped_creeps)\n",
    "cropped_creeps.reset_index(inplace=True)\n",
    "\n",
    "cropped_creeps.head()"
   ]
  },
  {
   "cell_type": "code",
   "execution_count": 16,
   "metadata": {
    "collapsed": true
   },
   "outputs": [],
   "source": [
    "cropped_creeps.to_csv('processing_tables/cropped_creeps2.csv', index=None)"
   ]
  },
  {
   "cell_type": "code",
   "execution_count": 8,
   "metadata": {
    "collapsed": false
   },
   "outputs": [
    {
     "data": {
      "text/html": [
       "<div>\n",
       "<table border=\"1\" class=\"dataframe\">\n",
       "  <thead>\n",
       "    <tr style=\"text-align: right;\">\n",
       "      <th></th>\n",
       "      <th>mid</th>\n",
       "      <th>best_creeps_dif</th>\n",
       "      <th>second_creeps_dif</th>\n",
       "      <th>sum_creeps_dif</th>\n",
       "    </tr>\n",
       "  </thead>\n",
       "  <tbody>\n",
       "    <tr>\n",
       "      <th>0</th>\n",
       "      <td>0</td>\n",
       "      <td>-18</td>\n",
       "      <td>-3</td>\n",
       "      <td>-80</td>\n",
       "    </tr>\n",
       "    <tr>\n",
       "      <th>1</th>\n",
       "      <td>1</td>\n",
       "      <td>14</td>\n",
       "      <td>8</td>\n",
       "      <td>-41</td>\n",
       "    </tr>\n",
       "    <tr>\n",
       "      <th>2</th>\n",
       "      <td>2</td>\n",
       "      <td>13</td>\n",
       "      <td>29</td>\n",
       "      <td>43</td>\n",
       "    </tr>\n",
       "    <tr>\n",
       "      <th>3</th>\n",
       "      <td>3</td>\n",
       "      <td>-2</td>\n",
       "      <td>-2</td>\n",
       "      <td>-62</td>\n",
       "    </tr>\n",
       "    <tr>\n",
       "      <th>4</th>\n",
       "      <td>4</td>\n",
       "      <td>8</td>\n",
       "      <td>15</td>\n",
       "      <td>44</td>\n",
       "    </tr>\n",
       "  </tbody>\n",
       "</table>\n",
       "</div>"
      ],
      "text/plain": [
       "   mid  best_creeps_dif  second_creeps_dif  sum_creeps_dif\n",
       "0    0              -18                 -3             -80\n",
       "1    1               14                  8             -41\n",
       "2    2               13                 29              43\n",
       "3    3               -2                 -2             -62\n",
       "4    4                8                 15              44"
      ]
     },
     "execution_count": 8,
     "metadata": {},
     "output_type": "execute_result"
    }
   ],
   "source": [
    "creeps = pd.read_csv('data\\lh.csv', index_col='mid')\n",
    "creeps = creeps.loc[creeps.times == 600].drop('times', 1)\n",
    "creeps.reset_index(inplace=True)\n",
    "radiant_rank_creep = pd.DataFrame(data = np.sort(creeps.values[:,1:6]),\n",
    "                                       index=creeps.mid,\n",
    "                                       columns = ['radiant_creep_rank_{0}'.format(i) for i in range(5)]) \n",
    "# radiant_rank_creep = normalize_data(radiant_rank_creep)\n",
    "dire_rank_creep = pd.DataFrame(data = np.sort(creeps.values[:,6:11]),\n",
    "                                       index=creeps.mid,\n",
    "                                       columns = ['dire_creep_rank_{0}'.format(i) for i in range(5)]) \n",
    "# dire_rank_creep = normalize_data(dire_rank_creep)\n",
    "\n",
    "cropped_creeps = pd.DataFrame(index = creeps.mid)\n",
    "cropped_creeps['rad_best_creeps'] = radiant_rank_creep.radiant_creep_rank_4\n",
    "cropped_creeps['rad_second_creeps'] = radiant_rank_creep.radiant_creep_rank_3\n",
    "cropped_creeps['dire_best_creeps'] = dire_rank_creep.dire_creep_rank_4\n",
    "cropped_creeps['dire_second_creeps'] = dire_rank_creep.dire_creep_rank_3\n",
    "cropped_creeps['rad_creeps_sum'] = creeps.ix[:, 0:5].sum(1)\n",
    "cropped_creeps['dire_creeps_sum'] = creeps.ix[:, 5:10].sum(1)\n",
    "# cropped_creeps = normalize_data(cropped_creeps)\n",
    "cropped_creeps.reset_index(inplace=True)\n",
    "\n",
    "creeps_dif = pd.DataFrame(index = creeps.mid)\n",
    "creeps_dif['best_creeps_dif'] = cropped_creeps.rad_best_creeps - cropped_creeps.dire_best_creeps\n",
    "creeps_dif['second_creeps_dif'] = cropped_creeps.rad_second_creeps - cropped_creeps.dire_second_creeps\n",
    "creeps_dif['sum_creeps_dif'] = cropped_creeps.rad_creeps_sum - cropped_creeps.dire_creeps_sum\n",
    "# creeps_dif = normalize_data(creeps_dif)\n",
    "creeps_dif.reset_index(inplace=True)\n",
    "creeps_dif.head()"
   ]
  },
  {
   "cell_type": "code",
   "execution_count": 20,
   "metadata": {
    "collapsed": true
   },
   "outputs": [],
   "source": [
    "creeps_dif.to_csv('processing_tables/cropped_creeps_dif.csv', index=None)"
   ]
  },
  {
   "cell_type": "code",
   "execution_count": null,
   "metadata": {
    "collapsed": true
   },
   "outputs": [],
   "source": []
  },
  {
   "cell_type": "markdown",
   "metadata": {},
   "source": [
    "# Merge & Save"
   ]
  },
  {
   "cell_type": "code",
   "execution_count": 55,
   "metadata": {
    "collapsed": true
   },
   "outputs": [],
   "source": [
    "train = pd.read_csv('processing_tables/train_gold_heroes_items_exp.csv')\n",
    "test = pd.read_csv('processing_tables/test_gold_heroes_items_exp.csv')"
   ]
  },
  {
   "cell_type": "code",
   "execution_count": 56,
   "metadata": {
    "collapsed": false
   },
   "outputs": [],
   "source": [
    "train = pd.merge(train, creeps, on='mid', how='left')\n",
    "test = pd.merge(test, creeps, on='mid', how='left')"
   ]
  },
  {
   "cell_type": "code",
   "execution_count": 57,
   "metadata": {
    "collapsed": true
   },
   "outputs": [],
   "source": [
    "creeps.to_csv('processing_tables/processed_creeps.csv', index=None)\n",
    "train.to_csv('processing_tables/train_gold_heroes_items_exp_creeps.csv', index=None)\n",
    "test.to_csv('processing_tables/test_gold_heroes_items_exp_creeps.csv', index=None)"
   ]
  },
  {
   "cell_type": "markdown",
   "metadata": {},
   "source": [
    "# Modeling"
   ]
  },
  {
   "cell_type": "code",
   "execution_count": 58,
   "metadata": {
    "collapsed": true
   },
   "outputs": [],
   "source": [
    "X_train = train.drop('radiant_won', 1)\n",
    "y_train = train.radiant_won"
   ]
  },
  {
   "cell_type": "code",
   "execution_count": 61,
   "metadata": {
    "collapsed": false
   },
   "outputs": [
    {
     "name": "stdout",
     "output_type": "stream",
     "text": [
      "[mean: 0.76416, std: 0.01157, params: {'C': 0.05}, mean: 0.76272, std: 0.01137, params: {'C': 0.01}, mean: 0.76416, std: 0.01157, params: {'C': 0.05}, mean: 0.76394, std: 0.01148, params: {'C': 0.1}, mean: 0.76455, std: 0.01234, params: {'C': 0.5}, mean: 0.76380, std: 0.01222, params: {'C': 0.75}, mean: 0.76395, std: 0.01240, params: {'C': 1}]\n",
      "{'C': 0.5}\n",
      "best score: 0.764554949915\n"
     ]
    }
   ],
   "source": [
    "gs = logEstimation(X_train, y_train)\n",
    "print gs.grid_scores_\n",
    "print gs.best_params_\n",
    "print('best score: {}'.format(gs.best_score_))"
   ]
  },
  {
   "cell_type": "code",
   "execution_count": 62,
   "metadata": {
    "collapsed": false
   },
   "outputs": [
    {
     "data": {
      "text/plain": [
       "0.76368533535964866"
      ]
     },
     "execution_count": 62,
     "metadata": {},
     "output_type": "execute_result"
    }
   ],
   "source": [
    "clf = LogisticRegression(C=0.5)\n",
    "np.mean(cross_val_score(clf, X_train, y_train, cv=5, scoring='roc_auc'))"
   ]
  },
  {
   "cell_type": "code",
   "execution_count": 64,
   "metadata": {
    "collapsed": false
   },
   "outputs": [
    {
     "data": {
      "text/plain": [
       "0.76421604771695362"
      ]
     },
     "execution_count": 64,
     "metadata": {},
     "output_type": "execute_result"
    }
   ],
   "source": [
    "clf = LogisticRegression(C=0.1)\n",
    "np.mean(cross_val_score(clf, X_train, y_train, cv=5, scoring='roc_auc'))"
   ]
  },
  {
   "cell_type": "code",
   "execution_count": 65,
   "metadata": {
    "collapsed": false
   },
   "outputs": [
    {
     "data": {
      "text/plain": [
       "0.7626876696064695"
      ]
     },
     "execution_count": 65,
     "metadata": {},
     "output_type": "execute_result"
    }
   ],
   "source": [
    "clf = Ridge(alpha=0.0001)\n",
    "np.mean(cross_val_score(clf, X_train, y_train, cv=5, scoring='roc_auc'))"
   ]
  },
  {
   "cell_type": "code",
   "execution_count": 67,
   "metadata": {
    "collapsed": false
   },
   "outputs": [
    {
     "data": {
      "text/plain": [
       "0.76457487009072733"
      ]
     },
     "execution_count": 67,
     "metadata": {},
     "output_type": "execute_result"
    }
   ],
   "source": [
    "X_train = train.drop(['radiant_won', 'radiant_xp', 'dire_xp'], 1)\n",
    "clf = Lasso(alpha=0.0001)\n",
    "clf.fit(X_train, y_train)\n",
    "np.mean(cross_val_score(clf, X_train, y_train, cv=5, scoring='roc_auc'))"
   ]
  },
  {
   "cell_type": "code",
   "execution_count": 43,
   "metadata": {
    "collapsed": false
   },
   "outputs": [
    {
     "data": {
      "text/plain": [
       "Lasso(alpha=0.0001, copy_X=True, fit_intercept=True, max_iter=1000,\n",
       "   normalize=False, positive=False, precompute=False, random_state=None,\n",
       "   selection='cyclic', tol=0.0001, warm_start=False)"
      ]
     },
     "execution_count": 43,
     "metadata": {},
     "output_type": "execute_result"
    }
   ],
   "source": [
    "X_train = train.drop(['radiant_won', 'radiant_xp', 'dire_xp'], 1)\n",
    "clf = Lasso(alpha=0.0001)\n",
    "clf.fit(X_train, y_train)"
   ]
  },
  {
   "cell_type": "code",
   "execution_count": 48,
   "metadata": {
    "collapsed": false
   },
   "outputs": [],
   "source": [
    "X_test = test.drop(['radiant_xp', 'dire_xp'], 1)\n",
    "test_matches = pd.read_csv('data/test.csv')\n",
    "test_matches['radiant_won'] = clf.predict(X_test)"
   ]
  },
  {
   "cell_type": "code",
   "execution_count": 49,
   "metadata": {
    "collapsed": false
   },
   "outputs": [
    {
     "data": {
      "text/html": [
       "<div>\n",
       "<table border=\"1\" class=\"dataframe\">\n",
       "  <thead>\n",
       "    <tr style=\"text-align: right;\">\n",
       "      <th></th>\n",
       "      <th>mid</th>\n",
       "      <th>radiant_won</th>\n",
       "    </tr>\n",
       "  </thead>\n",
       "  <tbody>\n",
       "    <tr>\n",
       "      <th>0</th>\n",
       "      <td>3</td>\n",
       "      <td>0.723102</td>\n",
       "    </tr>\n",
       "    <tr>\n",
       "      <th>1</th>\n",
       "      <td>7</td>\n",
       "      <td>0.654376</td>\n",
       "    </tr>\n",
       "    <tr>\n",
       "      <th>2</th>\n",
       "      <td>9</td>\n",
       "      <td>0.218321</td>\n",
       "    </tr>\n",
       "    <tr>\n",
       "      <th>3</th>\n",
       "      <td>10</td>\n",
       "      <td>0.443448</td>\n",
       "    </tr>\n",
       "    <tr>\n",
       "      <th>4</th>\n",
       "      <td>12</td>\n",
       "      <td>0.419936</td>\n",
       "    </tr>\n",
       "  </tbody>\n",
       "</table>\n",
       "</div>"
      ],
      "text/plain": [
       "   mid  radiant_won\n",
       "0    3     0.723102\n",
       "1    7     0.654376\n",
       "2    9     0.218321\n",
       "3   10     0.443448\n",
       "4   12     0.419936"
      ]
     },
     "execution_count": 49,
     "metadata": {},
     "output_type": "execute_result"
    }
   ],
   "source": [
    "test_matches.head()"
   ]
  },
  {
   "cell_type": "code",
   "execution_count": 50,
   "metadata": {
    "collapsed": true
   },
   "outputs": [],
   "source": [
    "test_matches.to_csv('submissions/with_creeps.csv', index=None)"
   ]
  },
  {
   "cell_type": "code",
   "execution_count": null,
   "metadata": {
    "collapsed": true
   },
   "outputs": [],
   "source": []
  },
  {
   "cell_type": "markdown",
   "metadata": {},
   "source": [
    "# With gold score"
   ]
  },
  {
   "cell_type": "code",
   "execution_count": 68,
   "metadata": {
    "collapsed": true
   },
   "outputs": [],
   "source": [
    "train = pd.read_csv('processing_tables/train_goldScore_heroes_items_exp.csv')\n",
    "test = pd.read_csv('processing_tables/test_goldScore_heroes_items_exp.csv')\n",
    "\n",
    "train = pd.merge(train, creeps, on='mid', how='left')\n",
    "test = pd.merge(test, creeps, on='mid', how='left')\n",
    "\n",
    "X_train = train.drop('radiant_won', 1)\n",
    "y_train = train.radiant_won"
   ]
  },
  {
   "cell_type": "code",
   "execution_count": 69,
   "metadata": {
    "collapsed": false
   },
   "outputs": [
    {
     "name": "stdout",
     "output_type": "stream",
     "text": [
      "[mean: 0.76355, std: 0.01032, params: {'C': 0.05}, mean: 0.76317, std: 0.01104, params: {'C': 0.01}, mean: 0.76355, std: 0.01032, params: {'C': 0.05}, mean: 0.76357, std: 0.01055, params: {'C': 0.1}, mean: 0.76383, std: 0.01219, params: {'C': 0.5}, mean: 0.76388, std: 0.01217, params: {'C': 0.75}, mean: 0.76351, std: 0.01189, params: {'C': 1}]\n",
      "{'C': 0.75}\n",
      "best score: 0.763883589923\n"
     ]
    }
   ],
   "source": [
    "gs = logEstimation(X_train, y_train)\n",
    "print gs.grid_scores_\n",
    "print gs.best_params_\n",
    "print('best score: {}'.format(gs.best_score_))"
   ]
  },
  {
   "cell_type": "code",
   "execution_count": 70,
   "metadata": {
    "collapsed": false
   },
   "outputs": [
    {
     "data": {
      "text/plain": [
       "0.7629120502255835"
      ]
     },
     "execution_count": 70,
     "metadata": {},
     "output_type": "execute_result"
    }
   ],
   "source": [
    "clf = LogisticRegression(C=0.75)\n",
    "np.mean(cross_val_score(clf, X_train, y_train, cv=5, scoring='roc_auc'))"
   ]
  },
  {
   "cell_type": "code",
   "execution_count": 71,
   "metadata": {
    "collapsed": false
   },
   "outputs": [
    {
     "data": {
      "text/plain": [
       "0.76424141684420055"
      ]
     },
     "execution_count": 71,
     "metadata": {},
     "output_type": "execute_result"
    }
   ],
   "source": [
    "clf = Ridge(alpha=0.0001)\n",
    "np.mean(cross_val_score(clf, X_train, y_train, cv=5, scoring='roc_auc'))"
   ]
  },
  {
   "cell_type": "code",
   "execution_count": 73,
   "metadata": {
    "collapsed": false
   },
   "outputs": [
    {
     "data": {
      "text/plain": [
       "0.765595130335467"
      ]
     },
     "execution_count": 73,
     "metadata": {},
     "output_type": "execute_result"
    }
   ],
   "source": [
    "clf = Lasso(alpha=0.0001, max_iter=6000)\n",
    "np.mean(cross_val_score(clf, X_train, y_train, cv=5, scoring='roc_auc'))"
   ]
  },
  {
   "cell_type": "code",
   "execution_count": 74,
   "metadata": {
    "collapsed": true
   },
   "outputs": [],
   "source": [
    "creeps.to_csv('processing_tables/processed_creeps.csv', index=None)\n",
    "train.to_csv('processing_tables/train_goldScore_heroes_items_exp_creeps.csv', index=None)\n",
    "test.to_csv('processing_tables/test_goldScore_heroes_items_exp_creeps.csv', index=None)"
   ]
  },
  {
   "cell_type": "code",
   "execution_count": null,
   "metadata": {
    "collapsed": true
   },
   "outputs": [],
   "source": []
  },
  {
   "cell_type": "markdown",
   "metadata": {},
   "source": [
    "# Creep_score"
   ]
  },
  {
   "cell_type": "code",
   "execution_count": 75,
   "metadata": {
    "collapsed": false
   },
   "outputs": [
    {
     "data": {
      "text/html": [
       "<div>\n",
       "<table border=\"1\" class=\"dataframe\">\n",
       "  <thead>\n",
       "    <tr style=\"text-align: right;\">\n",
       "      <th></th>\n",
       "      <th>player_0</th>\n",
       "      <th>player_1</th>\n",
       "      <th>player_2</th>\n",
       "      <th>player_3</th>\n",
       "      <th>player_4</th>\n",
       "      <th>player_5</th>\n",
       "      <th>player_6</th>\n",
       "      <th>player_7</th>\n",
       "      <th>player_8</th>\n",
       "      <th>player_9</th>\n",
       "    </tr>\n",
       "    <tr>\n",
       "      <th>mid</th>\n",
       "      <th></th>\n",
       "      <th></th>\n",
       "      <th></th>\n",
       "      <th></th>\n",
       "      <th></th>\n",
       "      <th></th>\n",
       "      <th></th>\n",
       "      <th></th>\n",
       "      <th></th>\n",
       "      <th></th>\n",
       "    </tr>\n",
       "  </thead>\n",
       "  <tbody>\n",
       "    <tr>\n",
       "      <th>0</th>\n",
       "      <td>4</td>\n",
       "      <td>43</td>\n",
       "      <td>3</td>\n",
       "      <td>57</td>\n",
       "      <td>41</td>\n",
       "      <td>34</td>\n",
       "      <td>35</td>\n",
       "      <td>75</td>\n",
       "      <td>2</td>\n",
       "      <td>46</td>\n",
       "    </tr>\n",
       "    <tr>\n",
       "      <th>1</th>\n",
       "      <td>5</td>\n",
       "      <td>63</td>\n",
       "      <td>14</td>\n",
       "      <td>28</td>\n",
       "      <td>47</td>\n",
       "      <td>49</td>\n",
       "      <td>23</td>\n",
       "      <td>3</td>\n",
       "      <td>30</td>\n",
       "      <td>39</td>\n",
       "    </tr>\n",
       "    <tr>\n",
       "      <th>2</th>\n",
       "      <td>34</td>\n",
       "      <td>6</td>\n",
       "      <td>69</td>\n",
       "      <td>42</td>\n",
       "      <td>23</td>\n",
       "      <td>6</td>\n",
       "      <td>12</td>\n",
       "      <td>56</td>\n",
       "      <td>13</td>\n",
       "      <td>12</td>\n",
       "    </tr>\n",
       "    <tr>\n",
       "      <th>3</th>\n",
       "      <td>1</td>\n",
       "      <td>49</td>\n",
       "      <td>48</td>\n",
       "      <td>3</td>\n",
       "      <td>31</td>\n",
       "      <td>28</td>\n",
       "      <td>51</td>\n",
       "      <td>6</td>\n",
       "      <td>50</td>\n",
       "      <td>8</td>\n",
       "    </tr>\n",
       "    <tr>\n",
       "      <th>4</th>\n",
       "      <td>30</td>\n",
       "      <td>41</td>\n",
       "      <td>45</td>\n",
       "      <td>23</td>\n",
       "      <td>4</td>\n",
       "      <td>26</td>\n",
       "      <td>9</td>\n",
       "      <td>23</td>\n",
       "      <td>37</td>\n",
       "      <td>6</td>\n",
       "    </tr>\n",
       "  </tbody>\n",
       "</table>\n",
       "</div>"
      ],
      "text/plain": [
       "     player_0  player_1  player_2  player_3  player_4  player_5  player_6  \\\n",
       "mid                                                                         \n",
       "0           4        43         3        57        41        34        35   \n",
       "1           5        63        14        28        47        49        23   \n",
       "2          34         6        69        42        23         6        12   \n",
       "3           1        49        48         3        31        28        51   \n",
       "4          30        41        45        23         4        26         9   \n",
       "\n",
       "     player_7  player_8  player_9  \n",
       "mid                                \n",
       "0          75         2        46  \n",
       "1           3        30        39  \n",
       "2          56        13        12  \n",
       "3           6        50         8  \n",
       "4          23        37         6  "
      ]
     },
     "execution_count": 75,
     "metadata": {},
     "output_type": "execute_result"
    }
   ],
   "source": [
    "new_lh = pd.read_csv('data\\lh.csv', index_col='mid')\n",
    "new_lh = new_lh.loc[new_lh.times == 600].drop('times', 1)\n",
    "new_lh.head()"
   ]
  },
  {
   "cell_type": "code",
   "execution_count": 76,
   "metadata": {
    "collapsed": false
   },
   "outputs": [
    {
     "name": "stdout",
     "output_type": "stream",
     "text": [
      "111\n"
     ]
    }
   ],
   "source": [
    "heroes = pd.read_csv('data/heroes.csv', index_col='mid')\n",
    "heroes_num = heroes.max()[0] + 1\n",
    "print heroes_num"
   ]
  },
  {
   "cell_type": "code",
   "execution_count": 81,
   "metadata": {
    "collapsed": false
   },
   "outputs": [
    {
     "name": "stdout",
     "output_type": "stream",
     "text": [
      "[100000     46     31     14      8     22     16     15     43     56\n",
      "      8     37     12     35     38     54     16     32      8      6\n",
      "     23     12     40     25     34     38     15     40     28     40\n",
      "     32     37     13     15     43     35     35     38     34      8\n",
      "      8     22     21     21     38     35     45     36     34     38\n",
      "      9     34     33     33     20     31     39      7     30     40\n",
      "      8      8     24     35     35     37      7     34     26     10\n",
      "     37     11     42     28     45     35     14     35     46     29\n",
      "      9     25     45     42     31     43      6      9      7     18\n",
      "      8      8      6     16     25     29     13     12      6     20\n",
      "      9     36     39      7      7     37     22     29     25      7\n",
      "     28]\n"
     ]
    }
   ],
   "source": [
    "mean_creep_stat = np.zeros(111)\n",
    "for hero_num in range(111):\n",
    "    hero_values = []\n",
    "    for player_num in range(10):\n",
    "        colname = 'player_{}'.format(player_num)\n",
    "        hero_index = heroes.loc[heroes[colname] == hero_num].index\n",
    "        hero_values.extend(new_lh.loc[hero_index][colname].values)\n",
    "    mean_creep_stat[hero_num] = int(np.mean(hero_values))\n",
    "mean_creep_stat[0] = 100000\n",
    "mean_creep_stat = np.array(map(int, mean_creep_stat))\n",
    "print mean_creep_stat"
   ]
  },
  {
   "cell_type": "code",
   "execution_count": null,
   "metadata": {
    "collapsed": true
   },
   "outputs": [],
   "source": []
  }
 ],
 "metadata": {
  "anaconda-cloud": {},
  "kernelspec": {
   "display_name": "Python 2.7",
   "language": "python",
   "name": "python2.7"
  },
  "language_info": {
   "codemirror_mode": {
    "name": "ipython",
    "version": 2
   },
   "file_extension": ".py",
   "mimetype": "text/x-python",
   "name": "python",
   "nbconvert_exporter": "python",
   "pygments_lexer": "ipython2",
   "version": "2.7.12"
  }
 },
 "nbformat": 4,
 "nbformat_minor": 1
}
