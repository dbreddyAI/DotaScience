{
 "cells": [
  {
   "cell_type": "code",
   "execution_count": 1,
   "metadata": {
    "collapsed": false
   },
   "outputs": [
    {
     "name": "stdout",
     "output_type": "stream",
     "text": [
      "Populating the interactive namespace from numpy and matplotlib\n"
     ]
    }
   ],
   "source": [
    "import pandas as pd\n",
    "import numpy as np\n",
    "\n",
    "from sklearn.preprocessing import StandardScaler\n",
    "from sklearn.grid_search import GridSearchCV\n",
    "from sklearn.cross_validation import KFold\n",
    "\n",
    "from sklearn.cross_validation import cross_val_score\n",
    "\n",
    "from sklearn.linear_model import LogisticRegression\n",
    "from sklearn.ensemble import RandomForestClassifier\n",
    "from sklearn.linear_model import Lasso, Ridge\n",
    "\n",
    "%pylab inline"
   ]
  },
  {
   "cell_type": "code",
   "execution_count": 2,
   "metadata": {
    "collapsed": true
   },
   "outputs": [],
   "source": [
    "def normalize_data(X):\n",
    "    return pd.DataFrame(\n",
    "        StandardScaler().fit_transform(X),\n",
    "        index = X.index, \n",
    "        columns=X.columns\n",
    "    )\n",
    "\n",
    "def logEstimation(X, y):\n",
    "    grid = {'C': np.power(10.0, np.arange(-5, 1))}\n",
    "    kf=KFold(y.size, n_folds=5, shuffle=True, random_state=241)\n",
    "    clf=LogisticRegression(random_state=241)\n",
    "    gs = GridSearchCV(clf, grid, scoring='roc_auc', cv=kf)\n",
    "    gs.fit(X, y)\n",
    "    return gs"
   ]
  },
  {
   "cell_type": "code",
   "execution_count": 3,
   "metadata": {
    "collapsed": false
   },
   "outputs": [],
   "source": [
    "train_matches = pd.read_csv('data/train.csv')\n",
    "test_matches = pd.read_csv('data/test.csv')"
   ]
  },
  {
   "cell_type": "code",
   "execution_count": 4,
   "metadata": {
    "collapsed": false
   },
   "outputs": [
    {
     "data": {
      "text/html": [
       "<div>\n",
       "<table border=\"1\" class=\"dataframe\">\n",
       "  <thead>\n",
       "    <tr style=\"text-align: right;\">\n",
       "      <th></th>\n",
       "      <th>player_0</th>\n",
       "      <th>player_1</th>\n",
       "      <th>player_2</th>\n",
       "      <th>player_3</th>\n",
       "      <th>player_4</th>\n",
       "      <th>player_5</th>\n",
       "      <th>player_6</th>\n",
       "      <th>player_7</th>\n",
       "      <th>player_8</th>\n",
       "      <th>player_9</th>\n",
       "    </tr>\n",
       "    <tr>\n",
       "      <th>mid</th>\n",
       "      <th></th>\n",
       "      <th></th>\n",
       "      <th></th>\n",
       "      <th></th>\n",
       "      <th></th>\n",
       "      <th></th>\n",
       "      <th></th>\n",
       "      <th></th>\n",
       "      <th></th>\n",
       "      <th></th>\n",
       "    </tr>\n",
       "  </thead>\n",
       "  <tbody>\n",
       "    <tr>\n",
       "      <th>0</th>\n",
       "      <td>3454</td>\n",
       "      <td>5206</td>\n",
       "      <td>2613</td>\n",
       "      <td>4426</td>\n",
       "      <td>5755</td>\n",
       "      <td>4072</td>\n",
       "      <td>3997</td>\n",
       "      <td>5917</td>\n",
       "      <td>1725</td>\n",
       "      <td>6384</td>\n",
       "    </tr>\n",
       "    <tr>\n",
       "      <th>1</th>\n",
       "      <td>2477</td>\n",
       "      <td>5760</td>\n",
       "      <td>3816</td>\n",
       "      <td>4353</td>\n",
       "      <td>5759</td>\n",
       "      <td>7659</td>\n",
       "      <td>5066</td>\n",
       "      <td>2748</td>\n",
       "      <td>4440</td>\n",
       "      <td>4623</td>\n",
       "    </tr>\n",
       "    <tr>\n",
       "      <th>2</th>\n",
       "      <td>3604</td>\n",
       "      <td>1948</td>\n",
       "      <td>8581</td>\n",
       "      <td>4390</td>\n",
       "      <td>2869</td>\n",
       "      <td>3096</td>\n",
       "      <td>2301</td>\n",
       "      <td>5130</td>\n",
       "      <td>2530</td>\n",
       "      <td>2491</td>\n",
       "    </tr>\n",
       "    <tr>\n",
       "      <th>3</th>\n",
       "      <td>3457</td>\n",
       "      <td>5464</td>\n",
       "      <td>4432</td>\n",
       "      <td>2961</td>\n",
       "      <td>4314</td>\n",
       "      <td>3345</td>\n",
       "      <td>4791</td>\n",
       "      <td>1906</td>\n",
       "      <td>5328</td>\n",
       "      <td>2247</td>\n",
       "    </tr>\n",
       "    <tr>\n",
       "      <th>4</th>\n",
       "      <td>3675</td>\n",
       "      <td>4103</td>\n",
       "      <td>5154</td>\n",
       "      <td>3030</td>\n",
       "      <td>2076</td>\n",
       "      <td>3920</td>\n",
       "      <td>3494</td>\n",
       "      <td>3392</td>\n",
       "      <td>4458</td>\n",
       "      <td>2220</td>\n",
       "    </tr>\n",
       "  </tbody>\n",
       "</table>\n",
       "</div>"
      ],
      "text/plain": [
       "     player_0  player_1  player_2  player_3  player_4  player_5  player_6  \\\n",
       "mid                                                                         \n",
       "0        3454      5206      2613      4426      5755      4072      3997   \n",
       "1        2477      5760      3816      4353      5759      7659      5066   \n",
       "2        3604      1948      8581      4390      2869      3096      2301   \n",
       "3        3457      5464      4432      2961      4314      3345      4791   \n",
       "4        3675      4103      5154      3030      2076      3920      3494   \n",
       "\n",
       "     player_7  player_8  player_9  \n",
       "mid                                \n",
       "0        5917      1725      6384  \n",
       "1        2748      4440      4623  \n",
       "2        5130      2530      2491  \n",
       "3        1906      5328      2247  \n",
       "4        3392      4458      2220  "
      ]
     },
     "execution_count": 4,
     "metadata": {},
     "output_type": "execute_result"
    }
   ],
   "source": [
    "gold = pd.read_csv('data/gold.csv', index_col='mid')\n",
    "gold = gold[gold.times == 600]\n",
    "gold.drop('times', 1, inplace=True)\n",
    "\n",
    "gold.head()"
   ]
  },
  {
   "cell_type": "markdown",
   "metadata": {},
   "source": [
    "# Preprocessing"
   ]
  },
  {
   "cell_type": "code",
   "execution_count": 5,
   "metadata": {
    "collapsed": false
   },
   "outputs": [
    {
     "data": {
      "text/html": [
       "<div>\n",
       "<table border=\"1\" class=\"dataframe\">\n",
       "  <thead>\n",
       "    <tr style=\"text-align: right;\">\n",
       "      <th></th>\n",
       "      <th>gold_player_0</th>\n",
       "      <th>gold_player_1</th>\n",
       "      <th>gold_player_2</th>\n",
       "      <th>gold_player_3</th>\n",
       "      <th>gold_player_4</th>\n",
       "      <th>gold_player_5</th>\n",
       "      <th>gold_player_6</th>\n",
       "      <th>gold_player_7</th>\n",
       "      <th>gold_player_8</th>\n",
       "      <th>gold_player_9</th>\n",
       "    </tr>\n",
       "    <tr>\n",
       "      <th>mid</th>\n",
       "      <th></th>\n",
       "      <th></th>\n",
       "      <th></th>\n",
       "      <th></th>\n",
       "      <th></th>\n",
       "      <th></th>\n",
       "      <th></th>\n",
       "      <th></th>\n",
       "      <th></th>\n",
       "      <th></th>\n",
       "    </tr>\n",
       "  </thead>\n",
       "  <tbody>\n",
       "    <tr>\n",
       "      <th>0</th>\n",
       "      <td>3454</td>\n",
       "      <td>5206</td>\n",
       "      <td>2613</td>\n",
       "      <td>4426</td>\n",
       "      <td>5755</td>\n",
       "      <td>4072</td>\n",
       "      <td>3997</td>\n",
       "      <td>5917</td>\n",
       "      <td>1725</td>\n",
       "      <td>6384</td>\n",
       "    </tr>\n",
       "    <tr>\n",
       "      <th>1</th>\n",
       "      <td>2477</td>\n",
       "      <td>5760</td>\n",
       "      <td>3816</td>\n",
       "      <td>4353</td>\n",
       "      <td>5759</td>\n",
       "      <td>7659</td>\n",
       "      <td>5066</td>\n",
       "      <td>2748</td>\n",
       "      <td>4440</td>\n",
       "      <td>4623</td>\n",
       "    </tr>\n",
       "    <tr>\n",
       "      <th>2</th>\n",
       "      <td>3604</td>\n",
       "      <td>1948</td>\n",
       "      <td>8581</td>\n",
       "      <td>4390</td>\n",
       "      <td>2869</td>\n",
       "      <td>3096</td>\n",
       "      <td>2301</td>\n",
       "      <td>5130</td>\n",
       "      <td>2530</td>\n",
       "      <td>2491</td>\n",
       "    </tr>\n",
       "    <tr>\n",
       "      <th>3</th>\n",
       "      <td>3457</td>\n",
       "      <td>5464</td>\n",
       "      <td>4432</td>\n",
       "      <td>2961</td>\n",
       "      <td>4314</td>\n",
       "      <td>3345</td>\n",
       "      <td>4791</td>\n",
       "      <td>1906</td>\n",
       "      <td>5328</td>\n",
       "      <td>2247</td>\n",
       "    </tr>\n",
       "    <tr>\n",
       "      <th>4</th>\n",
       "      <td>3675</td>\n",
       "      <td>4103</td>\n",
       "      <td>5154</td>\n",
       "      <td>3030</td>\n",
       "      <td>2076</td>\n",
       "      <td>3920</td>\n",
       "      <td>3494</td>\n",
       "      <td>3392</td>\n",
       "      <td>4458</td>\n",
       "      <td>2220</td>\n",
       "    </tr>\n",
       "  </tbody>\n",
       "</table>\n",
       "</div>"
      ],
      "text/plain": [
       "     gold_player_0  gold_player_1  gold_player_2  gold_player_3  \\\n",
       "mid                                                               \n",
       "0             3454           5206           2613           4426   \n",
       "1             2477           5760           3816           4353   \n",
       "2             3604           1948           8581           4390   \n",
       "3             3457           5464           4432           2961   \n",
       "4             3675           4103           5154           3030   \n",
       "\n",
       "     gold_player_4  gold_player_5  gold_player_6  gold_player_7  \\\n",
       "mid                                                               \n",
       "0             5755           4072           3997           5917   \n",
       "1             5759           7659           5066           2748   \n",
       "2             2869           3096           2301           5130   \n",
       "3             4314           3345           4791           1906   \n",
       "4             2076           3920           3494           3392   \n",
       "\n",
       "     gold_player_8  gold_player_9  \n",
       "mid                                \n",
       "0             1725           6384  \n",
       "1             4440           4623  \n",
       "2             2530           2491  \n",
       "3             5328           2247  \n",
       "4             4458           2220  "
      ]
     },
     "execution_count": 5,
     "metadata": {},
     "output_type": "execute_result"
    }
   ],
   "source": [
    "norm_gold = pd.DataFrame(index=gold.index)\n",
    "for col in gold.columns:\n",
    "    norm_gold['gold_' + col] = gold[col]\n",
    "norm_gold.head()"
   ]
  },
  {
   "cell_type": "code",
   "execution_count": 6,
   "metadata": {
    "collapsed": false
   },
   "outputs": [],
   "source": [
    "radiant_gold = gold[['player_0', 'player_1', 'player_2', 'player_3', 'player_4']].sum(axis=1)\n",
    "dire_gold = gold[['player_5', 'player_6', 'player_7', 'player_8', 'player_9']].sum(axis=1)\n",
    "radiant_carry_gold = gold[['player_0', 'player_1', 'player_2', 'player_3', 'player_4']].max(axis=1)\n",
    "dire_carry_gold = gold[['player_5', 'player_6', 'player_7', 'player_8', 'player_9']].max(axis=1)"
   ]
  },
  {
   "cell_type": "code",
   "execution_count": 7,
   "metadata": {
    "collapsed": false
   },
   "outputs": [
    {
     "data": {
      "text/html": [
       "<div>\n",
       "<table border=\"1\" class=\"dataframe\">\n",
       "  <thead>\n",
       "    <tr style=\"text-align: right;\">\n",
       "      <th></th>\n",
       "      <th>gold_player_0</th>\n",
       "      <th>gold_player_1</th>\n",
       "      <th>gold_player_2</th>\n",
       "      <th>gold_player_3</th>\n",
       "      <th>gold_player_4</th>\n",
       "      <th>gold_player_5</th>\n",
       "      <th>gold_player_6</th>\n",
       "      <th>gold_player_7</th>\n",
       "      <th>gold_player_8</th>\n",
       "      <th>gold_player_9</th>\n",
       "      <th>radiant_gold</th>\n",
       "      <th>dire_gold</th>\n",
       "      <th>radiant_carry_gold</th>\n",
       "      <th>dire_carry_gold</th>\n",
       "    </tr>\n",
       "    <tr>\n",
       "      <th>mid</th>\n",
       "      <th></th>\n",
       "      <th></th>\n",
       "      <th></th>\n",
       "      <th></th>\n",
       "      <th></th>\n",
       "      <th></th>\n",
       "      <th></th>\n",
       "      <th></th>\n",
       "      <th></th>\n",
       "      <th></th>\n",
       "      <th></th>\n",
       "      <th></th>\n",
       "      <th></th>\n",
       "      <th></th>\n",
       "    </tr>\n",
       "  </thead>\n",
       "  <tbody>\n",
       "    <tr>\n",
       "      <th>0</th>\n",
       "      <td>3454</td>\n",
       "      <td>5206</td>\n",
       "      <td>2613</td>\n",
       "      <td>4426</td>\n",
       "      <td>5755</td>\n",
       "      <td>4072</td>\n",
       "      <td>3997</td>\n",
       "      <td>5917</td>\n",
       "      <td>1725</td>\n",
       "      <td>6384</td>\n",
       "      <td>21454</td>\n",
       "      <td>22095</td>\n",
       "      <td>5755</td>\n",
       "      <td>6384</td>\n",
       "    </tr>\n",
       "    <tr>\n",
       "      <th>1</th>\n",
       "      <td>2477</td>\n",
       "      <td>5760</td>\n",
       "      <td>3816</td>\n",
       "      <td>4353</td>\n",
       "      <td>5759</td>\n",
       "      <td>7659</td>\n",
       "      <td>5066</td>\n",
       "      <td>2748</td>\n",
       "      <td>4440</td>\n",
       "      <td>4623</td>\n",
       "      <td>22165</td>\n",
       "      <td>24536</td>\n",
       "      <td>5760</td>\n",
       "      <td>7659</td>\n",
       "    </tr>\n",
       "    <tr>\n",
       "      <th>2</th>\n",
       "      <td>3604</td>\n",
       "      <td>1948</td>\n",
       "      <td>8581</td>\n",
       "      <td>4390</td>\n",
       "      <td>2869</td>\n",
       "      <td>3096</td>\n",
       "      <td>2301</td>\n",
       "      <td>5130</td>\n",
       "      <td>2530</td>\n",
       "      <td>2491</td>\n",
       "      <td>21392</td>\n",
       "      <td>15548</td>\n",
       "      <td>8581</td>\n",
       "      <td>5130</td>\n",
       "    </tr>\n",
       "    <tr>\n",
       "      <th>3</th>\n",
       "      <td>3457</td>\n",
       "      <td>5464</td>\n",
       "      <td>4432</td>\n",
       "      <td>2961</td>\n",
       "      <td>4314</td>\n",
       "      <td>3345</td>\n",
       "      <td>4791</td>\n",
       "      <td>1906</td>\n",
       "      <td>5328</td>\n",
       "      <td>2247</td>\n",
       "      <td>20628</td>\n",
       "      <td>17617</td>\n",
       "      <td>5464</td>\n",
       "      <td>5328</td>\n",
       "    </tr>\n",
       "    <tr>\n",
       "      <th>4</th>\n",
       "      <td>3675</td>\n",
       "      <td>4103</td>\n",
       "      <td>5154</td>\n",
       "      <td>3030</td>\n",
       "      <td>2076</td>\n",
       "      <td>3920</td>\n",
       "      <td>3494</td>\n",
       "      <td>3392</td>\n",
       "      <td>4458</td>\n",
       "      <td>2220</td>\n",
       "      <td>18038</td>\n",
       "      <td>17484</td>\n",
       "      <td>5154</td>\n",
       "      <td>4458</td>\n",
       "    </tr>\n",
       "  </tbody>\n",
       "</table>\n",
       "</div>"
      ],
      "text/plain": [
       "     gold_player_0  gold_player_1  gold_player_2  gold_player_3  \\\n",
       "mid                                                               \n",
       "0             3454           5206           2613           4426   \n",
       "1             2477           5760           3816           4353   \n",
       "2             3604           1948           8581           4390   \n",
       "3             3457           5464           4432           2961   \n",
       "4             3675           4103           5154           3030   \n",
       "\n",
       "     gold_player_4  gold_player_5  gold_player_6  gold_player_7  \\\n",
       "mid                                                               \n",
       "0             5755           4072           3997           5917   \n",
       "1             5759           7659           5066           2748   \n",
       "2             2869           3096           2301           5130   \n",
       "3             4314           3345           4791           1906   \n",
       "4             2076           3920           3494           3392   \n",
       "\n",
       "     gold_player_8  gold_player_9  radiant_gold  dire_gold  \\\n",
       "mid                                                          \n",
       "0             1725           6384         21454      22095   \n",
       "1             4440           4623         22165      24536   \n",
       "2             2530           2491         21392      15548   \n",
       "3             5328           2247         20628      17617   \n",
       "4             4458           2220         18038      17484   \n",
       "\n",
       "     radiant_carry_gold  dire_carry_gold  \n",
       "mid                                       \n",
       "0                  5755             6384  \n",
       "1                  5760             7659  \n",
       "2                  8581             5130  \n",
       "3                  5464             5328  \n",
       "4                  5154             4458  "
      ]
     },
     "execution_count": 7,
     "metadata": {},
     "output_type": "execute_result"
    }
   ],
   "source": [
    "norm_gold['radiant_gold'] = radiant_gold\n",
    "norm_gold['dire_gold'] = dire_gold\n",
    "norm_gold['radiant_carry_gold'] = radiant_carry_gold\n",
    "norm_gold['dire_carry_gold'] = dire_carry_gold\n",
    "# norm_gold['diff_gold'] = radiant_gold - dire_gold\n",
    "norm_gold.head()"
   ]
  },
  {
   "cell_type": "code",
   "execution_count": 8,
   "metadata": {
    "collapsed": false
   },
   "outputs": [
    {
     "data": {
      "text/html": [
       "<div>\n",
       "<table border=\"1\" class=\"dataframe\">\n",
       "  <thead>\n",
       "    <tr style=\"text-align: right;\">\n",
       "      <th></th>\n",
       "      <th>gold_player_0</th>\n",
       "      <th>gold_player_1</th>\n",
       "      <th>gold_player_2</th>\n",
       "      <th>gold_player_3</th>\n",
       "      <th>gold_player_4</th>\n",
       "      <th>gold_player_5</th>\n",
       "      <th>gold_player_6</th>\n",
       "      <th>gold_player_7</th>\n",
       "      <th>gold_player_8</th>\n",
       "      <th>gold_player_9</th>\n",
       "      <th>radiant_gold</th>\n",
       "      <th>dire_gold</th>\n",
       "      <th>radiant_carry_gold</th>\n",
       "      <th>dire_carry_gold</th>\n",
       "    </tr>\n",
       "    <tr>\n",
       "      <th>mid</th>\n",
       "      <th></th>\n",
       "      <th></th>\n",
       "      <th></th>\n",
       "      <th></th>\n",
       "      <th></th>\n",
       "      <th></th>\n",
       "      <th></th>\n",
       "      <th></th>\n",
       "      <th></th>\n",
       "      <th></th>\n",
       "      <th></th>\n",
       "      <th></th>\n",
       "      <th></th>\n",
       "      <th></th>\n",
       "    </tr>\n",
       "  </thead>\n",
       "  <tbody>\n",
       "    <tr>\n",
       "      <th>0</th>\n",
       "      <td>-0.460819</td>\n",
       "      <td>0.883620</td>\n",
       "      <td>-1.022316</td>\n",
       "      <td>0.302363</td>\n",
       "      <td>1.318719</td>\n",
       "      <td>0.005361</td>\n",
       "      <td>0.009184</td>\n",
       "      <td>1.420892</td>\n",
       "      <td>-1.704481</td>\n",
       "      <td>1.827721</td>\n",
       "      <td>0.524044</td>\n",
       "      <td>0.801772</td>\n",
       "      <td>0.007513</td>\n",
       "      <td>0.665735</td>\n",
       "    </tr>\n",
       "    <tr>\n",
       "      <th>1</th>\n",
       "      <td>-1.176482</td>\n",
       "      <td>1.291373</td>\n",
       "      <td>-0.146754</td>\n",
       "      <td>0.248927</td>\n",
       "      <td>1.321671</td>\n",
       "      <td>2.659065</td>\n",
       "      <td>0.808769</td>\n",
       "      <td>-0.933944</td>\n",
       "      <td>0.328328</td>\n",
       "      <td>0.498696</td>\n",
       "      <td>0.796655</td>\n",
       "      <td>1.744066</td>\n",
       "      <td>0.012183</td>\n",
       "      <td>1.882619</td>\n",
       "    </tr>\n",
       "    <tr>\n",
       "      <th>2</th>\n",
       "      <td>-0.350943</td>\n",
       "      <td>-1.514322</td>\n",
       "      <td>3.321283</td>\n",
       "      <td>0.276011</td>\n",
       "      <td>-0.811136</td>\n",
       "      <td>-0.716695</td>\n",
       "      <td>-1.259380</td>\n",
       "      <td>0.836084</td>\n",
       "      <td>-1.101751</td>\n",
       "      <td>-1.110322</td>\n",
       "      <td>0.500272</td>\n",
       "      <td>-1.725554</td>\n",
       "      <td>2.646680</td>\n",
       "      <td>-0.531107</td>\n",
       "    </tr>\n",
       "    <tr>\n",
       "      <th>3</th>\n",
       "      <td>-0.458622</td>\n",
       "      <td>1.073512</td>\n",
       "      <td>0.301579</td>\n",
       "      <td>-0.770018</td>\n",
       "      <td>0.255267</td>\n",
       "      <td>-0.532482</td>\n",
       "      <td>0.603076</td>\n",
       "      <td>-1.559622</td>\n",
       "      <td>0.993203</td>\n",
       "      <td>-1.294469</td>\n",
       "      <td>0.207340</td>\n",
       "      <td>-0.926862</td>\n",
       "      <td>-0.264248</td>\n",
       "      <td>-0.342132</td>\n",
       "    </tr>\n",
       "    <tr>\n",
       "      <th>4</th>\n",
       "      <td>-0.298934</td>\n",
       "      <td>0.071793</td>\n",
       "      <td>0.827062</td>\n",
       "      <td>-0.719510</td>\n",
       "      <td>-1.396367</td>\n",
       "      <td>-0.107090</td>\n",
       "      <td>-0.367047</td>\n",
       "      <td>-0.455398</td>\n",
       "      <td>0.341805</td>\n",
       "      <td>-1.314846</td>\n",
       "      <td>-0.785714</td>\n",
       "      <td>-0.978204</td>\n",
       "      <td>-0.553753</td>\n",
       "      <td>-1.172477</td>\n",
       "    </tr>\n",
       "  </tbody>\n",
       "</table>\n",
       "</div>"
      ],
      "text/plain": [
       "     gold_player_0  gold_player_1  gold_player_2  gold_player_3  \\\n",
       "mid                                                               \n",
       "0        -0.460819       0.883620      -1.022316       0.302363   \n",
       "1        -1.176482       1.291373      -0.146754       0.248927   \n",
       "2        -0.350943      -1.514322       3.321283       0.276011   \n",
       "3        -0.458622       1.073512       0.301579      -0.770018   \n",
       "4        -0.298934       0.071793       0.827062      -0.719510   \n",
       "\n",
       "     gold_player_4  gold_player_5  gold_player_6  gold_player_7  \\\n",
       "mid                                                               \n",
       "0         1.318719       0.005361       0.009184       1.420892   \n",
       "1         1.321671       2.659065       0.808769      -0.933944   \n",
       "2        -0.811136      -0.716695      -1.259380       0.836084   \n",
       "3         0.255267      -0.532482       0.603076      -1.559622   \n",
       "4        -1.396367      -0.107090      -0.367047      -0.455398   \n",
       "\n",
       "     gold_player_8  gold_player_9  radiant_gold  dire_gold  \\\n",
       "mid                                                          \n",
       "0        -1.704481       1.827721      0.524044   0.801772   \n",
       "1         0.328328       0.498696      0.796655   1.744066   \n",
       "2        -1.101751      -1.110322      0.500272  -1.725554   \n",
       "3         0.993203      -1.294469      0.207340  -0.926862   \n",
       "4         0.341805      -1.314846     -0.785714  -0.978204   \n",
       "\n",
       "     radiant_carry_gold  dire_carry_gold  \n",
       "mid                                       \n",
       "0              0.007513         0.665735  \n",
       "1              0.012183         1.882619  \n",
       "2              2.646680        -0.531107  \n",
       "3             -0.264248        -0.342132  \n",
       "4             -0.553753        -1.172477  "
      ]
     },
     "execution_count": 8,
     "metadata": {},
     "output_type": "execute_result"
    }
   ],
   "source": [
    "norm_gold = normalize_data(norm_gold)\n",
    "norm_gold.head()"
   ]
  },
  {
   "cell_type": "code",
   "execution_count": 9,
   "metadata": {
    "collapsed": false
   },
   "outputs": [
    {
     "data": {
      "text/html": [
       "<div>\n",
       "<table border=\"1\" class=\"dataframe\">\n",
       "  <thead>\n",
       "    <tr style=\"text-align: right;\">\n",
       "      <th></th>\n",
       "      <th>gold_player_0</th>\n",
       "      <th>gold_player_1</th>\n",
       "      <th>gold_player_2</th>\n",
       "      <th>gold_player_3</th>\n",
       "      <th>gold_player_4</th>\n",
       "      <th>gold_player_5</th>\n",
       "      <th>gold_player_6</th>\n",
       "      <th>gold_player_7</th>\n",
       "      <th>gold_player_8</th>\n",
       "      <th>gold_player_9</th>\n",
       "      <th>radiant_gold</th>\n",
       "      <th>dire_gold</th>\n",
       "      <th>radiant_carry_gold</th>\n",
       "      <th>dire_carry_gold</th>\n",
       "      <th>ratio_gold</th>\n",
       "    </tr>\n",
       "    <tr>\n",
       "      <th>mid</th>\n",
       "      <th></th>\n",
       "      <th></th>\n",
       "      <th></th>\n",
       "      <th></th>\n",
       "      <th></th>\n",
       "      <th></th>\n",
       "      <th></th>\n",
       "      <th></th>\n",
       "      <th></th>\n",
       "      <th></th>\n",
       "      <th></th>\n",
       "      <th></th>\n",
       "      <th></th>\n",
       "      <th></th>\n",
       "      <th></th>\n",
       "    </tr>\n",
       "  </thead>\n",
       "  <tbody>\n",
       "    <tr>\n",
       "      <th>0</th>\n",
       "      <td>-0.460819</td>\n",
       "      <td>0.883620</td>\n",
       "      <td>-1.022316</td>\n",
       "      <td>0.302363</td>\n",
       "      <td>1.318719</td>\n",
       "      <td>0.005361</td>\n",
       "      <td>0.009184</td>\n",
       "      <td>1.420892</td>\n",
       "      <td>-1.704481</td>\n",
       "      <td>1.827721</td>\n",
       "      <td>0.524044</td>\n",
       "      <td>0.801772</td>\n",
       "      <td>0.007513</td>\n",
       "      <td>0.665735</td>\n",
       "      <td>0.970989</td>\n",
       "    </tr>\n",
       "    <tr>\n",
       "      <th>1</th>\n",
       "      <td>-1.176482</td>\n",
       "      <td>1.291373</td>\n",
       "      <td>-0.146754</td>\n",
       "      <td>0.248927</td>\n",
       "      <td>1.321671</td>\n",
       "      <td>2.659065</td>\n",
       "      <td>0.808769</td>\n",
       "      <td>-0.933944</td>\n",
       "      <td>0.328328</td>\n",
       "      <td>0.498696</td>\n",
       "      <td>0.796655</td>\n",
       "      <td>1.744066</td>\n",
       "      <td>0.012183</td>\n",
       "      <td>1.882619</td>\n",
       "      <td>0.903366</td>\n",
       "    </tr>\n",
       "    <tr>\n",
       "      <th>2</th>\n",
       "      <td>-0.350943</td>\n",
       "      <td>-1.514322</td>\n",
       "      <td>3.321283</td>\n",
       "      <td>0.276011</td>\n",
       "      <td>-0.811136</td>\n",
       "      <td>-0.716695</td>\n",
       "      <td>-1.259380</td>\n",
       "      <td>0.836084</td>\n",
       "      <td>-1.101751</td>\n",
       "      <td>-1.110322</td>\n",
       "      <td>0.500272</td>\n",
       "      <td>-1.725554</td>\n",
       "      <td>2.646680</td>\n",
       "      <td>-0.531107</td>\n",
       "      <td>1.375868</td>\n",
       "    </tr>\n",
       "    <tr>\n",
       "      <th>3</th>\n",
       "      <td>-0.458622</td>\n",
       "      <td>1.073512</td>\n",
       "      <td>0.301579</td>\n",
       "      <td>-0.770018</td>\n",
       "      <td>0.255267</td>\n",
       "      <td>-0.532482</td>\n",
       "      <td>0.603076</td>\n",
       "      <td>-1.559622</td>\n",
       "      <td>0.993203</td>\n",
       "      <td>-1.294469</td>\n",
       "      <td>0.207340</td>\n",
       "      <td>-0.926862</td>\n",
       "      <td>-0.264248</td>\n",
       "      <td>-0.342132</td>\n",
       "      <td>1.170914</td>\n",
       "    </tr>\n",
       "    <tr>\n",
       "      <th>4</th>\n",
       "      <td>-0.298934</td>\n",
       "      <td>0.071793</td>\n",
       "      <td>0.827062</td>\n",
       "      <td>-0.719510</td>\n",
       "      <td>-1.396367</td>\n",
       "      <td>-0.107090</td>\n",
       "      <td>-0.367047</td>\n",
       "      <td>-0.455398</td>\n",
       "      <td>0.341805</td>\n",
       "      <td>-1.314846</td>\n",
       "      <td>-0.785714</td>\n",
       "      <td>-0.978204</td>\n",
       "      <td>-0.553753</td>\n",
       "      <td>-1.172477</td>\n",
       "      <td>1.031686</td>\n",
       "    </tr>\n",
       "  </tbody>\n",
       "</table>\n",
       "</div>"
      ],
      "text/plain": [
       "     gold_player_0  gold_player_1  gold_player_2  gold_player_3  \\\n",
       "mid                                                               \n",
       "0        -0.460819       0.883620      -1.022316       0.302363   \n",
       "1        -1.176482       1.291373      -0.146754       0.248927   \n",
       "2        -0.350943      -1.514322       3.321283       0.276011   \n",
       "3        -0.458622       1.073512       0.301579      -0.770018   \n",
       "4        -0.298934       0.071793       0.827062      -0.719510   \n",
       "\n",
       "     gold_player_4  gold_player_5  gold_player_6  gold_player_7  \\\n",
       "mid                                                               \n",
       "0         1.318719       0.005361       0.009184       1.420892   \n",
       "1         1.321671       2.659065       0.808769      -0.933944   \n",
       "2        -0.811136      -0.716695      -1.259380       0.836084   \n",
       "3         0.255267      -0.532482       0.603076      -1.559622   \n",
       "4        -1.396367      -0.107090      -0.367047      -0.455398   \n",
       "\n",
       "     gold_player_8  gold_player_9  radiant_gold  dire_gold  \\\n",
       "mid                                                          \n",
       "0        -1.704481       1.827721      0.524044   0.801772   \n",
       "1         0.328328       0.498696      0.796655   1.744066   \n",
       "2        -1.101751      -1.110322      0.500272  -1.725554   \n",
       "3         0.993203      -1.294469      0.207340  -0.926862   \n",
       "4         0.341805      -1.314846     -0.785714  -0.978204   \n",
       "\n",
       "     radiant_carry_gold  dire_carry_gold  ratio_gold  \n",
       "mid                                                   \n",
       "0              0.007513         0.665735    0.970989  \n",
       "1              0.012183         1.882619    0.903366  \n",
       "2              2.646680        -0.531107    1.375868  \n",
       "3             -0.264248        -0.342132    1.170914  \n",
       "4             -0.553753        -1.172477    1.031686  "
      ]
     },
     "execution_count": 9,
     "metadata": {},
     "output_type": "execute_result"
    }
   ],
   "source": [
    "norm_gold['ratio_gold'] = radiant_gold / dire_gold\n",
    "norm_gold.head()"
   ]
  },
  {
   "cell_type": "code",
   "execution_count": 10,
   "metadata": {
    "collapsed": false
   },
   "outputs": [
    {
     "data": {
      "text/html": [
       "<div>\n",
       "<table border=\"1\" class=\"dataframe\">\n",
       "  <thead>\n",
       "    <tr style=\"text-align: right;\">\n",
       "      <th></th>\n",
       "      <th>mid</th>\n",
       "      <th>gold_player_0</th>\n",
       "      <th>gold_player_1</th>\n",
       "      <th>gold_player_2</th>\n",
       "      <th>gold_player_3</th>\n",
       "      <th>gold_player_4</th>\n",
       "      <th>gold_player_5</th>\n",
       "      <th>gold_player_6</th>\n",
       "      <th>gold_player_7</th>\n",
       "      <th>gold_player_8</th>\n",
       "      <th>gold_player_9</th>\n",
       "      <th>radiant_gold</th>\n",
       "      <th>dire_gold</th>\n",
       "      <th>radiant_carry_gold</th>\n",
       "      <th>dire_carry_gold</th>\n",
       "      <th>ratio_gold</th>\n",
       "    </tr>\n",
       "  </thead>\n",
       "  <tbody>\n",
       "    <tr>\n",
       "      <th>0</th>\n",
       "      <td>0</td>\n",
       "      <td>-0.460819</td>\n",
       "      <td>0.883620</td>\n",
       "      <td>-1.022316</td>\n",
       "      <td>0.302363</td>\n",
       "      <td>1.318719</td>\n",
       "      <td>0.005361</td>\n",
       "      <td>0.009184</td>\n",
       "      <td>1.420892</td>\n",
       "      <td>-1.704481</td>\n",
       "      <td>1.827721</td>\n",
       "      <td>0.524044</td>\n",
       "      <td>0.801772</td>\n",
       "      <td>0.007513</td>\n",
       "      <td>0.665735</td>\n",
       "      <td>0.970989</td>\n",
       "    </tr>\n",
       "    <tr>\n",
       "      <th>1</th>\n",
       "      <td>1</td>\n",
       "      <td>-1.176482</td>\n",
       "      <td>1.291373</td>\n",
       "      <td>-0.146754</td>\n",
       "      <td>0.248927</td>\n",
       "      <td>1.321671</td>\n",
       "      <td>2.659065</td>\n",
       "      <td>0.808769</td>\n",
       "      <td>-0.933944</td>\n",
       "      <td>0.328328</td>\n",
       "      <td>0.498696</td>\n",
       "      <td>0.796655</td>\n",
       "      <td>1.744066</td>\n",
       "      <td>0.012183</td>\n",
       "      <td>1.882619</td>\n",
       "      <td>0.903366</td>\n",
       "    </tr>\n",
       "    <tr>\n",
       "      <th>2</th>\n",
       "      <td>2</td>\n",
       "      <td>-0.350943</td>\n",
       "      <td>-1.514322</td>\n",
       "      <td>3.321283</td>\n",
       "      <td>0.276011</td>\n",
       "      <td>-0.811136</td>\n",
       "      <td>-0.716695</td>\n",
       "      <td>-1.259380</td>\n",
       "      <td>0.836084</td>\n",
       "      <td>-1.101751</td>\n",
       "      <td>-1.110322</td>\n",
       "      <td>0.500272</td>\n",
       "      <td>-1.725554</td>\n",
       "      <td>2.646680</td>\n",
       "      <td>-0.531107</td>\n",
       "      <td>1.375868</td>\n",
       "    </tr>\n",
       "    <tr>\n",
       "      <th>3</th>\n",
       "      <td>3</td>\n",
       "      <td>-0.458622</td>\n",
       "      <td>1.073512</td>\n",
       "      <td>0.301579</td>\n",
       "      <td>-0.770018</td>\n",
       "      <td>0.255267</td>\n",
       "      <td>-0.532482</td>\n",
       "      <td>0.603076</td>\n",
       "      <td>-1.559622</td>\n",
       "      <td>0.993203</td>\n",
       "      <td>-1.294469</td>\n",
       "      <td>0.207340</td>\n",
       "      <td>-0.926862</td>\n",
       "      <td>-0.264248</td>\n",
       "      <td>-0.342132</td>\n",
       "      <td>1.170914</td>\n",
       "    </tr>\n",
       "    <tr>\n",
       "      <th>4</th>\n",
       "      <td>4</td>\n",
       "      <td>-0.298934</td>\n",
       "      <td>0.071793</td>\n",
       "      <td>0.827062</td>\n",
       "      <td>-0.719510</td>\n",
       "      <td>-1.396367</td>\n",
       "      <td>-0.107090</td>\n",
       "      <td>-0.367047</td>\n",
       "      <td>-0.455398</td>\n",
       "      <td>0.341805</td>\n",
       "      <td>-1.314846</td>\n",
       "      <td>-0.785714</td>\n",
       "      <td>-0.978204</td>\n",
       "      <td>-0.553753</td>\n",
       "      <td>-1.172477</td>\n",
       "      <td>1.031686</td>\n",
       "    </tr>\n",
       "  </tbody>\n",
       "</table>\n",
       "</div>"
      ],
      "text/plain": [
       "   mid  gold_player_0  gold_player_1  gold_player_2  gold_player_3  \\\n",
       "0    0      -0.460819       0.883620      -1.022316       0.302363   \n",
       "1    1      -1.176482       1.291373      -0.146754       0.248927   \n",
       "2    2      -0.350943      -1.514322       3.321283       0.276011   \n",
       "3    3      -0.458622       1.073512       0.301579      -0.770018   \n",
       "4    4      -0.298934       0.071793       0.827062      -0.719510   \n",
       "\n",
       "   gold_player_4  gold_player_5  gold_player_6  gold_player_7  gold_player_8  \\\n",
       "0       1.318719       0.005361       0.009184       1.420892      -1.704481   \n",
       "1       1.321671       2.659065       0.808769      -0.933944       0.328328   \n",
       "2      -0.811136      -0.716695      -1.259380       0.836084      -1.101751   \n",
       "3       0.255267      -0.532482       0.603076      -1.559622       0.993203   \n",
       "4      -1.396367      -0.107090      -0.367047      -0.455398       0.341805   \n",
       "\n",
       "   gold_player_9  radiant_gold  dire_gold  radiant_carry_gold  \\\n",
       "0       1.827721      0.524044   0.801772            0.007513   \n",
       "1       0.498696      0.796655   1.744066            0.012183   \n",
       "2      -1.110322      0.500272  -1.725554            2.646680   \n",
       "3      -1.294469      0.207340  -0.926862           -0.264248   \n",
       "4      -1.314846     -0.785714  -0.978204           -0.553753   \n",
       "\n",
       "   dire_carry_gold  ratio_gold  \n",
       "0         0.665735    0.970989  \n",
       "1         1.882619    0.903366  \n",
       "2        -0.531107    1.375868  \n",
       "3        -0.342132    1.170914  \n",
       "4        -1.172477    1.031686  "
      ]
     },
     "execution_count": 10,
     "metadata": {},
     "output_type": "execute_result"
    }
   ],
   "source": [
    "norm_gold = norm_gold.reset_index()\n",
    "norm_gold.head()"
   ]
  },
  {
   "cell_type": "code",
   "execution_count": 11,
   "metadata": {
    "collapsed": true
   },
   "outputs": [],
   "source": [
    "norm_gold.to_csv('processing_tables/norm_gold.csv', index=None)"
   ]
  },
  {
   "cell_type": "markdown",
   "metadata": {},
   "source": [
    "# New features"
   ]
  },
  {
   "cell_type": "code",
   "execution_count": 40,
   "metadata": {
    "collapsed": false
   },
   "outputs": [
    {
     "data": {
      "text/html": [
       "<div>\n",
       "<table border=\"1\" class=\"dataframe\">\n",
       "  <thead>\n",
       "    <tr style=\"text-align: right;\">\n",
       "      <th></th>\n",
       "      <th>player_0</th>\n",
       "      <th>player_1</th>\n",
       "      <th>player_2</th>\n",
       "      <th>player_3</th>\n",
       "      <th>player_4</th>\n",
       "      <th>player_5</th>\n",
       "      <th>player_6</th>\n",
       "      <th>player_7</th>\n",
       "      <th>player_8</th>\n",
       "      <th>player_9</th>\n",
       "    </tr>\n",
       "    <tr>\n",
       "      <th>mid</th>\n",
       "      <th></th>\n",
       "      <th></th>\n",
       "      <th></th>\n",
       "      <th></th>\n",
       "      <th></th>\n",
       "      <th></th>\n",
       "      <th></th>\n",
       "      <th></th>\n",
       "      <th></th>\n",
       "      <th></th>\n",
       "    </tr>\n",
       "  </thead>\n",
       "  <tbody>\n",
       "    <tr>\n",
       "      <th>0</th>\n",
       "      <td>3454</td>\n",
       "      <td>5206</td>\n",
       "      <td>2613</td>\n",
       "      <td>4426</td>\n",
       "      <td>5755</td>\n",
       "      <td>4072</td>\n",
       "      <td>3997</td>\n",
       "      <td>5917</td>\n",
       "      <td>1725</td>\n",
       "      <td>6384</td>\n",
       "    </tr>\n",
       "    <tr>\n",
       "      <th>1</th>\n",
       "      <td>2477</td>\n",
       "      <td>5760</td>\n",
       "      <td>3816</td>\n",
       "      <td>4353</td>\n",
       "      <td>5759</td>\n",
       "      <td>7659</td>\n",
       "      <td>5066</td>\n",
       "      <td>2748</td>\n",
       "      <td>4440</td>\n",
       "      <td>4623</td>\n",
       "    </tr>\n",
       "    <tr>\n",
       "      <th>2</th>\n",
       "      <td>3604</td>\n",
       "      <td>1948</td>\n",
       "      <td>8581</td>\n",
       "      <td>4390</td>\n",
       "      <td>2869</td>\n",
       "      <td>3096</td>\n",
       "      <td>2301</td>\n",
       "      <td>5130</td>\n",
       "      <td>2530</td>\n",
       "      <td>2491</td>\n",
       "    </tr>\n",
       "    <tr>\n",
       "      <th>3</th>\n",
       "      <td>3457</td>\n",
       "      <td>5464</td>\n",
       "      <td>4432</td>\n",
       "      <td>2961</td>\n",
       "      <td>4314</td>\n",
       "      <td>3345</td>\n",
       "      <td>4791</td>\n",
       "      <td>1906</td>\n",
       "      <td>5328</td>\n",
       "      <td>2247</td>\n",
       "    </tr>\n",
       "    <tr>\n",
       "      <th>4</th>\n",
       "      <td>3675</td>\n",
       "      <td>4103</td>\n",
       "      <td>5154</td>\n",
       "      <td>3030</td>\n",
       "      <td>2076</td>\n",
       "      <td>3920</td>\n",
       "      <td>3494</td>\n",
       "      <td>3392</td>\n",
       "      <td>4458</td>\n",
       "      <td>2220</td>\n",
       "    </tr>\n",
       "  </tbody>\n",
       "</table>\n",
       "</div>"
      ],
      "text/plain": [
       "     player_0  player_1  player_2  player_3  player_4  player_5  player_6  \\\n",
       "mid                                                                         \n",
       "0        3454      5206      2613      4426      5755      4072      3997   \n",
       "1        2477      5760      3816      4353      5759      7659      5066   \n",
       "2        3604      1948      8581      4390      2869      3096      2301   \n",
       "3        3457      5464      4432      2961      4314      3345      4791   \n",
       "4        3675      4103      5154      3030      2076      3920      3494   \n",
       "\n",
       "     player_7  player_8  player_9  \n",
       "mid                                \n",
       "0        5917      1725      6384  \n",
       "1        2748      4440      4623  \n",
       "2        5130      2530      2491  \n",
       "3        1906      5328      2247  \n",
       "4        3392      4458      2220  "
      ]
     },
     "execution_count": 40,
     "metadata": {},
     "output_type": "execute_result"
    }
   ],
   "source": [
    "new_gold = pd.read_csv('data/gold.csv', index_col='mid')\n",
    "new_gold = new_gold[new_gold.times == 600]\n",
    "new_gold.drop('times', 1, inplace=True)\n",
    "new_gold.head()"
   ]
  },
  {
   "cell_type": "code",
   "execution_count": 41,
   "metadata": {
    "collapsed": false
   },
   "outputs": [
    {
     "data": {
      "text/html": [
       "<div>\n",
       "<table border=\"1\" class=\"dataframe\">\n",
       "  <thead>\n",
       "    <tr style=\"text-align: right;\">\n",
       "      <th></th>\n",
       "      <th>player_0</th>\n",
       "      <th>player_1</th>\n",
       "      <th>player_2</th>\n",
       "      <th>player_3</th>\n",
       "      <th>player_4</th>\n",
       "      <th>player_5</th>\n",
       "      <th>player_6</th>\n",
       "      <th>player_7</th>\n",
       "      <th>player_8</th>\n",
       "      <th>player_9</th>\n",
       "    </tr>\n",
       "    <tr>\n",
       "      <th>mid</th>\n",
       "      <th></th>\n",
       "      <th></th>\n",
       "      <th></th>\n",
       "      <th></th>\n",
       "      <th></th>\n",
       "      <th></th>\n",
       "      <th></th>\n",
       "      <th></th>\n",
       "      <th></th>\n",
       "      <th></th>\n",
       "    </tr>\n",
       "  </thead>\n",
       "  <tbody>\n",
       "    <tr>\n",
       "      <th>0</th>\n",
       "      <td>91</td>\n",
       "      <td>42</td>\n",
       "      <td>87</td>\n",
       "      <td>15</td>\n",
       "      <td>65</td>\n",
       "      <td>11</td>\n",
       "      <td>6</td>\n",
       "      <td>34</td>\n",
       "      <td>69</td>\n",
       "      <td>74</td>\n",
       "    </tr>\n",
       "    <tr>\n",
       "      <th>1</th>\n",
       "      <td>69</td>\n",
       "      <td>85</td>\n",
       "      <td>71</td>\n",
       "      <td>24</td>\n",
       "      <td>64</td>\n",
       "      <td>74</td>\n",
       "      <td>68</td>\n",
       "      <td>39</td>\n",
       "      <td>65</td>\n",
       "      <td>11</td>\n",
       "    </tr>\n",
       "    <tr>\n",
       "      <th>2</th>\n",
       "      <td>17</td>\n",
       "      <td>40</td>\n",
       "      <td>31</td>\n",
       "      <td>67</td>\n",
       "      <td>99</td>\n",
       "      <td>32</td>\n",
       "      <td>7</td>\n",
       "      <td>72</td>\n",
       "      <td>48</td>\n",
       "      <td>104</td>\n",
       "    </tr>\n",
       "    <tr>\n",
       "      <th>3</th>\n",
       "      <td>80</td>\n",
       "      <td>43</td>\n",
       "      <td>101</td>\n",
       "      <td>71</td>\n",
       "      <td>94</td>\n",
       "      <td>69</td>\n",
       "      <td>70</td>\n",
       "      <td>98</td>\n",
       "      <td>24</td>\n",
       "      <td>39</td>\n",
       "    </tr>\n",
       "    <tr>\n",
       "      <th>4</th>\n",
       "      <td>25</td>\n",
       "      <td>15</td>\n",
       "      <td>75</td>\n",
       "      <td>29</td>\n",
       "      <td>95</td>\n",
       "      <td>3</td>\n",
       "      <td>32</td>\n",
       "      <td>55</td>\n",
       "      <td>64</td>\n",
       "      <td>86</td>\n",
       "    </tr>\n",
       "  </tbody>\n",
       "</table>\n",
       "</div>"
      ],
      "text/plain": [
       "     player_0  player_1  player_2  player_3  player_4  player_5  player_6  \\\n",
       "mid                                                                         \n",
       "0          91        42        87        15        65        11         6   \n",
       "1          69        85        71        24        64        74        68   \n",
       "2          17        40        31        67        99        32         7   \n",
       "3          80        43       101        71        94        69        70   \n",
       "4          25        15        75        29        95         3        32   \n",
       "\n",
       "     player_7  player_8  player_9  \n",
       "mid                                \n",
       "0          34        69        74  \n",
       "1          39        65        11  \n",
       "2          72        48       104  \n",
       "3          98        24        39  \n",
       "4          55        64        86  "
      ]
     },
     "execution_count": 41,
     "metadata": {},
     "output_type": "execute_result"
    }
   ],
   "source": [
    "heroes = pd.read_csv('data/heroes.csv', index_col='mid')\n",
    "heroes.head()"
   ]
  },
  {
   "cell_type": "code",
   "execution_count": 42,
   "metadata": {
    "collapsed": false
   },
   "outputs": [
    {
     "data": {
      "text/plain": [
       "110"
      ]
     },
     "execution_count": 42,
     "metadata": {},
     "output_type": "execute_result"
    }
   ],
   "source": [
    "heroes.max()[0]"
   ]
  },
  {
   "cell_type": "code",
   "execution_count": 48,
   "metadata": {
    "collapsed": false
   },
   "outputs": [
    {
     "name": "stdout",
     "output_type": "stream",
     "text": [
      "[ 100000.    4793.    4149.    3651.    3124.    3789.    3245.    3224.\n",
      "    4364.    4589.    3101.    4808.    3217.    4635.    4535.    5610.\n",
      "    3314.    4150.    3062.    2610.    3785.    3000.    4603.    3873.\n",
      "    4939.    4383.    3343.    4516.    4352.    4605.    4443.    4447.\n",
      "    3635.    3305.    5088.    4666.    4527.    4603.    4285.    2838.\n",
      "    2793.    3345.    3678.    3807.    4264.    4556.    4426.    4225.\n",
      "    4485.    4493.    2736.    4022.    4648.    4187.    4117.    4461.\n",
      "    4843.    3359.    4398.    4403.    2970.    2825.    3845.    3786.\n",
      "    4562.    4364.    2684.    4646.    4162.    2895.    4601.    3486.\n",
      "    4865.    4075.    6446.    4589.    3293.    4323.    4425.    4224.\n",
      "    2965.    4139.    4968.    4354.    4374.    4719.    2680.    2754.\n",
      "    2921.    3712.    2940.    2838.    2795.    3290.    3938.    3838.\n",
      "    3374.    3016.    2959.    3370.    3129.    4483.    4430.    2908.\n",
      "    2873.    4453.    3710.    4110.    3927.    2862.    4122.]\n"
     ]
    }
   ],
   "source": [
    "mean_gold = np.zeros(111)\n",
    "for hero_num in range(111):\n",
    "    hero_values = []\n",
    "    for player_num in range(10):\n",
    "        colname = 'player_{}'.format(player_num)\n",
    "        hero_index = heroes.loc[heroes[colname] == hero_num].index\n",
    "        hero_values.extend(new_gold.loc[hero_index][colname].values)\n",
    "    mean_gold[hero_num] = int(np.mean(hero_values))\n",
    "\n",
    "mean_gold[0] = 100000\n",
    "print mean_gold"
   ]
  },
  {
   "cell_type": "markdown",
   "metadata": {},
   "source": [
    "mean_gold == 0 - соответствует вышедшему из игры человеку"
   ]
  },
  {
   "cell_type": "code",
   "execution_count": 49,
   "metadata": {
    "collapsed": false
   },
   "outputs": [
    {
     "data": {
      "text/html": [
       "<div>\n",
       "<table border=\"1\" class=\"dataframe\">\n",
       "  <thead>\n",
       "    <tr style=\"text-align: right;\">\n",
       "      <th></th>\n",
       "      <th>player_0</th>\n",
       "      <th>player_1</th>\n",
       "      <th>player_2</th>\n",
       "      <th>player_3</th>\n",
       "      <th>player_4</th>\n",
       "      <th>player_5</th>\n",
       "      <th>player_6</th>\n",
       "      <th>player_7</th>\n",
       "      <th>player_8</th>\n",
       "      <th>player_9</th>\n",
       "    </tr>\n",
       "    <tr>\n",
       "      <th>mid</th>\n",
       "      <th></th>\n",
       "      <th></th>\n",
       "      <th></th>\n",
       "      <th></th>\n",
       "      <th></th>\n",
       "      <th></th>\n",
       "      <th></th>\n",
       "      <th></th>\n",
       "      <th></th>\n",
       "      <th></th>\n",
       "    </tr>\n",
       "  </thead>\n",
       "  <tbody>\n",
       "    <tr>\n",
       "      <th>0</th>\n",
       "      <td>2838.0</td>\n",
       "      <td>3678.0</td>\n",
       "      <td>2754.0</td>\n",
       "      <td>5610.0</td>\n",
       "      <td>4364.0</td>\n",
       "      <td>4808.0</td>\n",
       "      <td>3245.0</td>\n",
       "      <td>5088.0</td>\n",
       "      <td>2895.0</td>\n",
       "      <td>6446.0</td>\n",
       "    </tr>\n",
       "    <tr>\n",
       "      <th>1</th>\n",
       "      <td>2895.0</td>\n",
       "      <td>4719.0</td>\n",
       "      <td>3486.0</td>\n",
       "      <td>4939.0</td>\n",
       "      <td>4562.0</td>\n",
       "      <td>6446.0</td>\n",
       "      <td>4162.0</td>\n",
       "      <td>2838.0</td>\n",
       "      <td>4364.0</td>\n",
       "      <td>4808.0</td>\n",
       "    </tr>\n",
       "    <tr>\n",
       "      <th>2</th>\n",
       "      <td>4150.0</td>\n",
       "      <td>2793.0</td>\n",
       "      <td>4447.0</td>\n",
       "      <td>4646.0</td>\n",
       "      <td>3370.0</td>\n",
       "      <td>3635.0</td>\n",
       "      <td>3224.0</td>\n",
       "      <td>4865.0</td>\n",
       "      <td>4485.0</td>\n",
       "      <td>2873.0</td>\n",
       "    </tr>\n",
       "    <tr>\n",
       "      <th>3</th>\n",
       "      <td>2965.0</td>\n",
       "      <td>3807.0</td>\n",
       "      <td>4483.0</td>\n",
       "      <td>3486.0</td>\n",
       "      <td>3938.0</td>\n",
       "      <td>2895.0</td>\n",
       "      <td>4601.0</td>\n",
       "      <td>2959.0</td>\n",
       "      <td>4939.0</td>\n",
       "      <td>2838.0</td>\n",
       "    </tr>\n",
       "    <tr>\n",
       "      <th>4</th>\n",
       "      <td>4383.0</td>\n",
       "      <td>5610.0</td>\n",
       "      <td>4589.0</td>\n",
       "      <td>4605.0</td>\n",
       "      <td>3838.0</td>\n",
       "      <td>3651.0</td>\n",
       "      <td>3635.0</td>\n",
       "      <td>4461.0</td>\n",
       "      <td>4562.0</td>\n",
       "      <td>2680.0</td>\n",
       "    </tr>\n",
       "  </tbody>\n",
       "</table>\n",
       "</div>"
      ],
      "text/plain": [
       "     player_0  player_1  player_2  player_3  player_4  player_5  player_6  \\\n",
       "mid                                                                         \n",
       "0      2838.0    3678.0    2754.0    5610.0    4364.0    4808.0    3245.0   \n",
       "1      2895.0    4719.0    3486.0    4939.0    4562.0    6446.0    4162.0   \n",
       "2      4150.0    2793.0    4447.0    4646.0    3370.0    3635.0    3224.0   \n",
       "3      2965.0    3807.0    4483.0    3486.0    3938.0    2895.0    4601.0   \n",
       "4      4383.0    5610.0    4589.0    4605.0    3838.0    3651.0    3635.0   \n",
       "\n",
       "     player_7  player_8  player_9  \n",
       "mid                                \n",
       "0      5088.0    2895.0    6446.0  \n",
       "1      2838.0    4364.0    4808.0  \n",
       "2      4865.0    4485.0    2873.0  \n",
       "3      2959.0    4939.0    2838.0  \n",
       "4      4461.0    4562.0    2680.0  "
      ]
     },
     "execution_count": 49,
     "metadata": {},
     "output_type": "execute_result"
    }
   ],
   "source": [
    "mean_predict_gold = heroes.apply(lambda x: mean_gold[x])\n",
    "mean_predict_gold.head()"
   ]
  },
  {
   "cell_type": "code",
   "execution_count": 50,
   "metadata": {
    "collapsed": false
   },
   "outputs": [
    {
     "data": {
      "text/html": [
       "<div>\n",
       "<table border=\"1\" class=\"dataframe\">\n",
       "  <thead>\n",
       "    <tr style=\"text-align: right;\">\n",
       "      <th></th>\n",
       "      <th>mid</th>\n",
       "      <th>gold_score_player_0</th>\n",
       "      <th>gold_score_player_1</th>\n",
       "      <th>gold_score_player_2</th>\n",
       "      <th>gold_score_player_3</th>\n",
       "      <th>gold_score_player_4</th>\n",
       "      <th>gold_score_player_5</th>\n",
       "      <th>gold_score_player_6</th>\n",
       "      <th>gold_score_player_7</th>\n",
       "      <th>gold_score_player_8</th>\n",
       "      <th>gold_score_player_9</th>\n",
       "      <th>radiant_best_gold_score</th>\n",
       "      <th>dire_best_gold_score</th>\n",
       "      <th>radiant_sum_gold_score</th>\n",
       "      <th>dire_sum_gold_score</th>\n",
       "    </tr>\n",
       "  </thead>\n",
       "  <tbody>\n",
       "    <tr>\n",
       "      <th>0</th>\n",
       "      <td>0</td>\n",
       "      <td>1.217054</td>\n",
       "      <td>1.415443</td>\n",
       "      <td>0.948802</td>\n",
       "      <td>0.788948</td>\n",
       "      <td>1.318744</td>\n",
       "      <td>0.846922</td>\n",
       "      <td>1.231741</td>\n",
       "      <td>1.162932</td>\n",
       "      <td>0.595855</td>\n",
       "      <td>0.990382</td>\n",
       "      <td>1.415443</td>\n",
       "      <td>1.415443</td>\n",
       "      <td>0.499345</td>\n",
       "      <td>0.146006</td>\n",
       "    </tr>\n",
       "    <tr>\n",
       "      <th>1</th>\n",
       "      <td>1</td>\n",
       "      <td>0.855613</td>\n",
       "      <td>1.220598</td>\n",
       "      <td>1.094664</td>\n",
       "      <td>0.881353</td>\n",
       "      <td>1.262385</td>\n",
       "      <td>1.188179</td>\n",
       "      <td>1.217203</td>\n",
       "      <td>0.968288</td>\n",
       "      <td>1.017415</td>\n",
       "      <td>0.961522</td>\n",
       "      <td>1.262385</td>\n",
       "      <td>1.262385</td>\n",
       "      <td>1.015678</td>\n",
       "      <td>0.193635</td>\n",
       "    </tr>\n",
       "    <tr>\n",
       "      <th>2</th>\n",
       "      <td>2</td>\n",
       "      <td>0.868434</td>\n",
       "      <td>0.697458</td>\n",
       "      <td>1.929615</td>\n",
       "      <td>0.944899</td>\n",
       "      <td>0.851335</td>\n",
       "      <td>0.851719</td>\n",
       "      <td>0.713710</td>\n",
       "      <td>1.054471</td>\n",
       "      <td>0.564103</td>\n",
       "      <td>0.867038</td>\n",
       "      <td>1.929615</td>\n",
       "      <td>1.929615</td>\n",
       "      <td>0.430412</td>\n",
       "      <td>-0.272140</td>\n",
       "    </tr>\n",
       "    <tr>\n",
       "      <th>3</th>\n",
       "      <td>3</td>\n",
       "      <td>1.165936</td>\n",
       "      <td>1.435251</td>\n",
       "      <td>0.988624</td>\n",
       "      <td>0.849398</td>\n",
       "      <td>1.095480</td>\n",
       "      <td>1.155440</td>\n",
       "      <td>1.041295</td>\n",
       "      <td>0.644137</td>\n",
       "      <td>1.078761</td>\n",
       "      <td>0.791755</td>\n",
       "      <td>1.435251</td>\n",
       "      <td>1.435251</td>\n",
       "      <td>0.822264</td>\n",
       "      <td>-0.487514</td>\n",
       "    </tr>\n",
       "    <tr>\n",
       "      <th>4</th>\n",
       "      <td>4</td>\n",
       "      <td>0.838467</td>\n",
       "      <td>0.731373</td>\n",
       "      <td>1.123121</td>\n",
       "      <td>0.657980</td>\n",
       "      <td>0.540907</td>\n",
       "      <td>1.073678</td>\n",
       "      <td>0.961210</td>\n",
       "      <td>0.760368</td>\n",
       "      <td>0.977203</td>\n",
       "      <td>0.828358</td>\n",
       "      <td>1.123121</td>\n",
       "      <td>1.123121</td>\n",
       "      <td>-1.374948</td>\n",
       "      <td>-1.020622</td>\n",
       "    </tr>\n",
       "  </tbody>\n",
       "</table>\n",
       "</div>"
      ],
      "text/plain": [
       "   mid  gold_score_player_0  gold_score_player_1  gold_score_player_2  \\\n",
       "0    0             1.217054             1.415443             0.948802   \n",
       "1    1             0.855613             1.220598             1.094664   \n",
       "2    2             0.868434             0.697458             1.929615   \n",
       "3    3             1.165936             1.435251             0.988624   \n",
       "4    4             0.838467             0.731373             1.123121   \n",
       "\n",
       "   gold_score_player_3  gold_score_player_4  gold_score_player_5  \\\n",
       "0             0.788948             1.318744             0.846922   \n",
       "1             0.881353             1.262385             1.188179   \n",
       "2             0.944899             0.851335             0.851719   \n",
       "3             0.849398             1.095480             1.155440   \n",
       "4             0.657980             0.540907             1.073678   \n",
       "\n",
       "   gold_score_player_6  gold_score_player_7  gold_score_player_8  \\\n",
       "0             1.231741             1.162932             0.595855   \n",
       "1             1.217203             0.968288             1.017415   \n",
       "2             0.713710             1.054471             0.564103   \n",
       "3             1.041295             0.644137             1.078761   \n",
       "4             0.961210             0.760368             0.977203   \n",
       "\n",
       "   gold_score_player_9  radiant_best_gold_score  dire_best_gold_score  \\\n",
       "0             0.990382                 1.415443              1.415443   \n",
       "1             0.961522                 1.262385              1.262385   \n",
       "2             0.867038                 1.929615              1.929615   \n",
       "3             0.791755                 1.435251              1.435251   \n",
       "4             0.828358                 1.123121              1.123121   \n",
       "\n",
       "   radiant_sum_gold_score  dire_sum_gold_score  \n",
       "0                0.499345             0.146006  \n",
       "1                1.015678             0.193635  \n",
       "2                0.430412            -0.272140  \n",
       "3                0.822264            -0.487514  \n",
       "4               -1.374948            -1.020622  "
      ]
     },
     "execution_count": 50,
     "metadata": {},
     "output_type": "execute_result"
    }
   ],
   "source": [
    "temp_gold_score = new_gold / mean_predict_gold\n",
    "gold_score_by_mean = pd.DataFrame(index=temp_gold_score.index)\n",
    "for col in temp_gold_score.columns:\n",
    "#     gold_score_by_mean['gold_score_' + col] = StandardScaler().fit_transform(temp_gold_score[col].reshape(-1, 1))\n",
    "    gold_score_by_mean['gold_score_' + col] = temp_gold_score[col]\n",
    "\n",
    "# gold_score_by_mean['radiant_norm_gold'] = norm_gold.radiant_gold\n",
    "# gold_score_by_mean['dire_norm_gold'] = norm_gold.dire_gold\n",
    "# gold_score_by_mean['radiant_carry_norm_gold'] = norm_gold.radiant_carry_gold\n",
    "# gold_score_by_mean['dire_carry_norm_gold'] = norm_gold.dire_carry_gold\n",
    "\n",
    "gold_score_by_mean['radiant_best_gold_score'] = gold_score_by_mean.iloc[:,1:6].max(1)\n",
    "gold_score_by_mean['dire_best_gold_score'] = gold_score_by_mean.iloc[:,6:11].max(1)\n",
    "gold_score_by_mean['radiant_sum_gold_score'] = StandardScaler().fit_transform(gold_score_by_mean.iloc[:,1:6].sum(1).reshape(-1, 1))\n",
    "gold_score_by_mean['dire_sum_gold_score'] = StandardScaler().fit_transform(gold_score_by_mean.iloc[:,6:11].sum(1).reshape(-1, 1))\n",
    "\n",
    "# gold_score_by_mean = normalize_data(gold_score_by_mean)\n",
    "gold_score_by_mean.reset_index(level=0, inplace=True)\n",
    "gold_score_by_mean.head()"
   ]
  },
  {
   "cell_type": "code",
   "execution_count": 51,
   "metadata": {
    "collapsed": false
   },
   "outputs": [
    {
     "data": {
      "text/html": [
       "<div>\n",
       "<table border=\"1\" class=\"dataframe\">\n",
       "  <thead>\n",
       "    <tr style=\"text-align: right;\">\n",
       "      <th></th>\n",
       "      <th>mid</th>\n",
       "      <th>gold_player_0</th>\n",
       "      <th>gold_player_1</th>\n",
       "      <th>gold_player_2</th>\n",
       "      <th>gold_player_3</th>\n",
       "      <th>gold_player_4</th>\n",
       "      <th>gold_player_5</th>\n",
       "      <th>gold_player_6</th>\n",
       "      <th>gold_player_7</th>\n",
       "      <th>gold_player_8</th>\n",
       "      <th>gold_player_9</th>\n",
       "      <th>radiant_gold</th>\n",
       "      <th>dire_gold</th>\n",
       "      <th>radiant_carry_gold</th>\n",
       "      <th>dire_carry_gold</th>\n",
       "      <th>ratio_gold</th>\n",
       "    </tr>\n",
       "  </thead>\n",
       "  <tbody>\n",
       "    <tr>\n",
       "      <th>0</th>\n",
       "      <td>0</td>\n",
       "      <td>-0.460819</td>\n",
       "      <td>0.883620</td>\n",
       "      <td>-1.022316</td>\n",
       "      <td>0.302363</td>\n",
       "      <td>1.318719</td>\n",
       "      <td>0.005361</td>\n",
       "      <td>0.009184</td>\n",
       "      <td>1.420892</td>\n",
       "      <td>-1.704481</td>\n",
       "      <td>1.827721</td>\n",
       "      <td>0.524044</td>\n",
       "      <td>0.801772</td>\n",
       "      <td>0.007513</td>\n",
       "      <td>0.665735</td>\n",
       "      <td>0.970989</td>\n",
       "    </tr>\n",
       "    <tr>\n",
       "      <th>1</th>\n",
       "      <td>1</td>\n",
       "      <td>-1.176482</td>\n",
       "      <td>1.291373</td>\n",
       "      <td>-0.146754</td>\n",
       "      <td>0.248927</td>\n",
       "      <td>1.321671</td>\n",
       "      <td>2.659065</td>\n",
       "      <td>0.808769</td>\n",
       "      <td>-0.933944</td>\n",
       "      <td>0.328328</td>\n",
       "      <td>0.498696</td>\n",
       "      <td>0.796655</td>\n",
       "      <td>1.744066</td>\n",
       "      <td>0.012183</td>\n",
       "      <td>1.882619</td>\n",
       "      <td>0.903366</td>\n",
       "    </tr>\n",
       "    <tr>\n",
       "      <th>2</th>\n",
       "      <td>2</td>\n",
       "      <td>-0.350943</td>\n",
       "      <td>-1.514322</td>\n",
       "      <td>3.321283</td>\n",
       "      <td>0.276011</td>\n",
       "      <td>-0.811136</td>\n",
       "      <td>-0.716695</td>\n",
       "      <td>-1.259380</td>\n",
       "      <td>0.836084</td>\n",
       "      <td>-1.101751</td>\n",
       "      <td>-1.110322</td>\n",
       "      <td>0.500272</td>\n",
       "      <td>-1.725554</td>\n",
       "      <td>2.646680</td>\n",
       "      <td>-0.531107</td>\n",
       "      <td>1.375868</td>\n",
       "    </tr>\n",
       "    <tr>\n",
       "      <th>3</th>\n",
       "      <td>3</td>\n",
       "      <td>-0.458622</td>\n",
       "      <td>1.073512</td>\n",
       "      <td>0.301579</td>\n",
       "      <td>-0.770018</td>\n",
       "      <td>0.255267</td>\n",
       "      <td>-0.532482</td>\n",
       "      <td>0.603076</td>\n",
       "      <td>-1.559622</td>\n",
       "      <td>0.993203</td>\n",
       "      <td>-1.294469</td>\n",
       "      <td>0.207340</td>\n",
       "      <td>-0.926862</td>\n",
       "      <td>-0.264248</td>\n",
       "      <td>-0.342132</td>\n",
       "      <td>1.170914</td>\n",
       "    </tr>\n",
       "    <tr>\n",
       "      <th>4</th>\n",
       "      <td>4</td>\n",
       "      <td>-0.298934</td>\n",
       "      <td>0.071793</td>\n",
       "      <td>0.827062</td>\n",
       "      <td>-0.719510</td>\n",
       "      <td>-1.396367</td>\n",
       "      <td>-0.107090</td>\n",
       "      <td>-0.367047</td>\n",
       "      <td>-0.455398</td>\n",
       "      <td>0.341805</td>\n",
       "      <td>-1.314846</td>\n",
       "      <td>-0.785714</td>\n",
       "      <td>-0.978204</td>\n",
       "      <td>-0.553753</td>\n",
       "      <td>-1.172477</td>\n",
       "      <td>1.031686</td>\n",
       "    </tr>\n",
       "  </tbody>\n",
       "</table>\n",
       "</div>"
      ],
      "text/plain": [
       "   mid  gold_player_0  gold_player_1  gold_player_2  gold_player_3  \\\n",
       "0    0      -0.460819       0.883620      -1.022316       0.302363   \n",
       "1    1      -1.176482       1.291373      -0.146754       0.248927   \n",
       "2    2      -0.350943      -1.514322       3.321283       0.276011   \n",
       "3    3      -0.458622       1.073512       0.301579      -0.770018   \n",
       "4    4      -0.298934       0.071793       0.827062      -0.719510   \n",
       "\n",
       "   gold_player_4  gold_player_5  gold_player_6  gold_player_7  gold_player_8  \\\n",
       "0       1.318719       0.005361       0.009184       1.420892      -1.704481   \n",
       "1       1.321671       2.659065       0.808769      -0.933944       0.328328   \n",
       "2      -0.811136      -0.716695      -1.259380       0.836084      -1.101751   \n",
       "3       0.255267      -0.532482       0.603076      -1.559622       0.993203   \n",
       "4      -1.396367      -0.107090      -0.367047      -0.455398       0.341805   \n",
       "\n",
       "   gold_player_9  radiant_gold  dire_gold  radiant_carry_gold  \\\n",
       "0       1.827721      0.524044   0.801772            0.007513   \n",
       "1       0.498696      0.796655   1.744066            0.012183   \n",
       "2      -1.110322      0.500272  -1.725554            2.646680   \n",
       "3      -1.294469      0.207340  -0.926862           -0.264248   \n",
       "4      -1.314846     -0.785714  -0.978204           -0.553753   \n",
       "\n",
       "   dire_carry_gold  ratio_gold  \n",
       "0         0.665735    0.970989  \n",
       "1         1.882619    0.903366  \n",
       "2        -0.531107    1.375868  \n",
       "3        -0.342132    1.170914  \n",
       "4        -1.172477    1.031686  "
      ]
     },
     "execution_count": 51,
     "metadata": {},
     "output_type": "execute_result"
    }
   ],
   "source": [
    "norm_gold.head()"
   ]
  },
  {
   "cell_type": "code",
   "execution_count": 47,
   "metadata": {
    "collapsed": true
   },
   "outputs": [],
   "source": [
    "pd.merge(gold_score_by_mean, norm_gold, on='mid').to_csv('processing_tables/old_gold.csv', index=None)"
   ]
  },
  {
   "cell_type": "code",
   "execution_count": 18,
   "metadata": {
    "collapsed": true
   },
   "outputs": [],
   "source": [
    "gold_score_by_mean.to_csv('processing_tables/goldScoreWithCarry.csv', index=None)"
   ]
  },
  {
   "cell_type": "code",
   "execution_count": 31,
   "metadata": {
    "collapsed": false
   },
   "outputs": [],
   "source": [
    "cropped_gold_score = gold_score_by_mean.copy()\n",
    "cropped_gold_score.drop(['radiant_carry_norm_gold', 'dire_carry_norm_gold'], 1)\n",
    "cropped_gold_score.head()\n",
    "cropped_gold_score.to_csv('processing_tables/goldScoreWithoutCarry.csv', index=None)"
   ]
  },
  {
   "cell_type": "markdown",
   "metadata": {},
   "source": [
    "# Test only norm gold"
   ]
  },
  {
   "cell_type": "code",
   "execution_count": 19,
   "metadata": {
    "collapsed": true
   },
   "outputs": [],
   "source": [
    "train = pd.merge(train_matches, norm_gold, on='mid', how='left')\n",
    "test = pd.merge(test_matches, norm_gold, on='mid', how='left')\n",
    "X_train = train.drop('radiant_won', 1)\n",
    "y_train = train.radiant_won"
   ]
  },
  {
   "cell_type": "code",
   "execution_count": 20,
   "metadata": {
    "collapsed": false
   },
   "outputs": [],
   "source": [
    "norm_gold.to_csv('processing_tables/norm_gold.csv', index=None)\n",
    "train.to_csv('processing_tables/train_carry_gold.csv', index=None)\n",
    "test.to_csv('processing_tables/test_carry_gold.csv', index=None)"
   ]
  },
  {
   "cell_type": "code",
   "execution_count": 21,
   "metadata": {
    "collapsed": false
   },
   "outputs": [
    {
     "data": {
      "text/plain": [
       "0.68262955795920532"
      ]
     },
     "execution_count": 21,
     "metadata": {},
     "output_type": "execute_result"
    }
   ],
   "source": [
    "clf = RandomForestClassifier(n_estimators=100, n_jobs=-1, random_state=228)\n",
    "np.mean(cross_val_score(clf, X_train, y_train, cv=5, scoring='roc_auc'))"
   ]
  },
  {
   "cell_type": "code",
   "execution_count": 46,
   "metadata": {
    "collapsed": false
   },
   "outputs": [
    {
     "name": "stdout",
     "output_type": "stream",
     "text": [
      "[mean: 0.68967, std: 0.00681, params: {'C': 1.0000000000000001e-05}, mean: 0.70764, std: 0.00645, params: {'C': 0.0001}, mean: 0.70784, std: 0.00654, params: {'C': 0.001}, mean: 0.70785, std: 0.00655, params: {'C': 0.01}, mean: 0.70785, std: 0.00655, params: {'C': 0.10000000000000001}, mean: 0.70785, std: 0.00656, params: {'C': 1.0}]\n",
      "{'C': 0.01}\n",
      "best score: 0.707850412385\n"
     ]
    }
   ],
   "source": [
    "gs = logEstimation(X_train, y_train)\n",
    "print gs.grid_scores_\n",
    "print gs.best_params_\n",
    "print('best score: {}'.format(gs.best_score_))"
   ]
  },
  {
   "cell_type": "code",
   "execution_count": 48,
   "metadata": {
    "collapsed": false
   },
   "outputs": [
    {
     "data": {
      "text/plain": [
       "0.70773748356589905"
      ]
     },
     "execution_count": 48,
     "metadata": {},
     "output_type": "execute_result"
    }
   ],
   "source": [
    "clf=LogisticRegression(random_state=241, C=0.01)\n",
    "np.mean(cross_val_score(clf, X_train, y_train, cv=5, scoring='roc_auc'))"
   ]
  },
  {
   "cell_type": "code",
   "execution_count": 49,
   "metadata": {
    "collapsed": false
   },
   "outputs": [
    {
     "data": {
      "text/plain": [
       "0.70800015376238057"
      ]
     },
     "execution_count": 49,
     "metadata": {},
     "output_type": "execute_result"
    }
   ],
   "source": [
    "clf=Ridge(alpha=0.0001)\n",
    "np.mean(cross_val_score(clf, X_train, y_train, cv=5, scoring='roc_auc'))"
   ]
  },
  {
   "cell_type": "code",
   "execution_count": 50,
   "metadata": {
    "collapsed": false
   },
   "outputs": [
    {
     "data": {
      "text/plain": [
       "0.70802949628560896"
      ]
     },
     "execution_count": 50,
     "metadata": {},
     "output_type": "execute_result"
    }
   ],
   "source": [
    "clf=Lasso(alpha=0.0001, max_iter=6000)\n",
    "np.mean(cross_val_score(clf, X_train, y_train, cv=5, scoring='roc_auc'))"
   ]
  },
  {
   "cell_type": "markdown",
   "metadata": {},
   "source": [
    "# Test only gold score"
   ]
  },
  {
   "cell_type": "code",
   "execution_count": 51,
   "metadata": {
    "collapsed": false
   },
   "outputs": [],
   "source": [
    "train = pd.merge(train_matches, gold_score_by_mean, on='mid', how='left')\n",
    "test = pd.merge(test_matches, gold_score_by_mean, on='mid', how='left')\n",
    "X_train = train.drop('radiant_won', 1)\n",
    "y_train = train.radiant_won"
   ]
  },
  {
   "cell_type": "code",
   "execution_count": 52,
   "metadata": {
    "collapsed": false
   },
   "outputs": [
    {
     "data": {
      "text/plain": [
       "0.69685786733527155"
      ]
     },
     "execution_count": 52,
     "metadata": {},
     "output_type": "execute_result"
    }
   ],
   "source": [
    "clf = RandomForestClassifier(n_estimators=100, n_jobs=-1, random_state=228)\n",
    "np.mean(cross_val_score(clf, X_train, y_train, cv=5, scoring='roc_auc'))"
   ]
  },
  {
   "cell_type": "code",
   "execution_count": 53,
   "metadata": {
    "collapsed": false
   },
   "outputs": [
    {
     "name": "stdout",
     "output_type": "stream",
     "text": [
      "[mean: 0.67999, std: 0.00792, params: {'C': 1.0000000000000001e-05}, mean: 0.70581, std: 0.00620, params: {'C': 0.0001}, mean: 0.71012, std: 0.00592, params: {'C': 0.001}, mean: 0.71094, std: 0.00598, params: {'C': 0.01}, mean: 0.71096, std: 0.00597, params: {'C': 0.10000000000000001}, mean: 0.71095, std: 0.00597, params: {'C': 1.0}]\n",
      "{'C': 0.10000000000000001}\n",
      "best score: 0.710962365258\n"
     ]
    }
   ],
   "source": [
    "gs = logEstimation(X_train, y_train)\n",
    "print gs.grid_scores_\n",
    "print gs.best_params_\n",
    "print('best score: {}'.format(gs.best_score_))"
   ]
  },
  {
   "cell_type": "code",
   "execution_count": 54,
   "metadata": {
    "collapsed": false
   },
   "outputs": [
    {
     "data": {
      "text/plain": [
       "0.71081699986728908"
      ]
     },
     "execution_count": 54,
     "metadata": {},
     "output_type": "execute_result"
    }
   ],
   "source": [
    "clf=LogisticRegression(random_state=241, C=0.1)\n",
    "np.mean(cross_val_score(clf, X_train, y_train, cv=5, scoring='roc_auc'))"
   ]
  },
  {
   "cell_type": "code",
   "execution_count": 55,
   "metadata": {
    "collapsed": false
   },
   "outputs": [
    {
     "data": {
      "text/plain": [
       "0.71334095613179094"
      ]
     },
     "execution_count": 55,
     "metadata": {},
     "output_type": "execute_result"
    }
   ],
   "source": [
    "clf=Ridge(alpha=0.0001)\n",
    "np.mean(cross_val_score(clf, X_train, y_train, cv=5, scoring='roc_auc'))"
   ]
  },
  {
   "cell_type": "code",
   "execution_count": 56,
   "metadata": {
    "collapsed": false
   },
   "outputs": [
    {
     "data": {
      "text/plain": [
       "0.7133690808550458"
      ]
     },
     "execution_count": 56,
     "metadata": {},
     "output_type": "execute_result"
    }
   ],
   "source": [
    "clf=Lasso(alpha=0.0001, max_iter=4000)\n",
    "np.mean(cross_val_score(clf, X_train, y_train, cv=5, scoring='roc_auc'))"
   ]
  },
  {
   "cell_type": "code",
   "execution_count": 57,
   "metadata": {
    "collapsed": true
   },
   "outputs": [],
   "source": [
    "train.to_csv('processing_tables/train_score_gold.csv', index=None)\n",
    "test.to_csv('processing_tables/test_score_gold.csv', index=None)\n",
    "gold_score_by_mean.to_csv('processing_tables/gold_scores.csv', index=None)"
   ]
  },
  {
   "cell_type": "markdown",
   "metadata": {},
   "source": [
    "# RANKS\n",
    "\n",
    "## NormByRowsRanks"
   ]
  },
  {
   "cell_type": "code",
   "execution_count": 19,
   "metadata": {
    "collapsed": false
   },
   "outputs": [],
   "source": [
    "gold = pd.read_csv('data/gold.csv', index_col='mid')\n",
    "gold = gold[gold.times == 600]\n",
    "gold.drop('times', 1, inplace=True)"
   ]
  },
  {
   "cell_type": "code",
   "execution_count": 20,
   "metadata": {
    "collapsed": false
   },
   "outputs": [
    {
     "data": {
      "text/html": [
       "<div>\n",
       "<table border=\"1\" class=\"dataframe\">\n",
       "  <thead>\n",
       "    <tr style=\"text-align: right;\">\n",
       "      <th></th>\n",
       "      <th>mid</th>\n",
       "      <th>radiant_gold_rank_0</th>\n",
       "      <th>radiant_gold_rank_1</th>\n",
       "      <th>radiant_gold_rank_2</th>\n",
       "      <th>radiant_gold_rank_3</th>\n",
       "      <th>radiant_gold_rank_4</th>\n",
       "    </tr>\n",
       "  </thead>\n",
       "  <tbody>\n",
       "    <tr>\n",
       "      <th>0</th>\n",
       "      <td>0</td>\n",
       "      <td>2613</td>\n",
       "      <td>3454</td>\n",
       "      <td>4426</td>\n",
       "      <td>5206</td>\n",
       "      <td>5755</td>\n",
       "    </tr>\n",
       "    <tr>\n",
       "      <th>1</th>\n",
       "      <td>1</td>\n",
       "      <td>2477</td>\n",
       "      <td>3816</td>\n",
       "      <td>4353</td>\n",
       "      <td>5759</td>\n",
       "      <td>5760</td>\n",
       "    </tr>\n",
       "    <tr>\n",
       "      <th>2</th>\n",
       "      <td>2</td>\n",
       "      <td>1948</td>\n",
       "      <td>2869</td>\n",
       "      <td>3604</td>\n",
       "      <td>4390</td>\n",
       "      <td>8581</td>\n",
       "    </tr>\n",
       "    <tr>\n",
       "      <th>3</th>\n",
       "      <td>3</td>\n",
       "      <td>2961</td>\n",
       "      <td>3457</td>\n",
       "      <td>4314</td>\n",
       "      <td>4432</td>\n",
       "      <td>5464</td>\n",
       "    </tr>\n",
       "    <tr>\n",
       "      <th>4</th>\n",
       "      <td>4</td>\n",
       "      <td>2076</td>\n",
       "      <td>3030</td>\n",
       "      <td>3675</td>\n",
       "      <td>4103</td>\n",
       "      <td>5154</td>\n",
       "    </tr>\n",
       "  </tbody>\n",
       "</table>\n",
       "</div>"
      ],
      "text/plain": [
       "   mid  radiant_gold_rank_0  radiant_gold_rank_1  radiant_gold_rank_2  \\\n",
       "0    0                 2613                 3454                 4426   \n",
       "1    1                 2477                 3816                 4353   \n",
       "2    2                 1948                 2869                 3604   \n",
       "3    3                 2961                 3457                 4314   \n",
       "4    4                 2076                 3030                 3675   \n",
       "\n",
       "   radiant_gold_rank_3  radiant_gold_rank_4  \n",
       "0                 5206                 5755  \n",
       "1                 5759                 5760  \n",
       "2                 4390                 8581  \n",
       "3                 4432                 5464  \n",
       "4                 4103                 5154  "
      ]
     },
     "execution_count": 20,
     "metadata": {},
     "output_type": "execute_result"
    }
   ],
   "source": [
    "radiant_rank_gold = pd.DataFrame(data = np.sort(gold.values[:,:5]),\n",
    "                                 index=gold.index,\n",
    "                                 columns = ['radiant_gold_rank_{0}'.format(i) for i in range(5)]) \n",
    "# radiant_rank_gold = normalize_data(radiant_rank_gold)\n",
    "\n",
    "radiant_rank_gold.reset_index(inplace=True)\n",
    "radiant_rank_gold.head()"
   ]
  },
  {
   "cell_type": "code",
   "execution_count": 21,
   "metadata": {
    "collapsed": false
   },
   "outputs": [
    {
     "data": {
      "text/html": [
       "<div>\n",
       "<table border=\"1\" class=\"dataframe\">\n",
       "  <thead>\n",
       "    <tr style=\"text-align: right;\">\n",
       "      <th></th>\n",
       "      <th>mid</th>\n",
       "      <th>dire_gold_rank_0</th>\n",
       "      <th>dire_gold_rank_1</th>\n",
       "      <th>dire_gold_rank_2</th>\n",
       "      <th>dire_gold_rank_3</th>\n",
       "      <th>dire_gold_rank_4</th>\n",
       "    </tr>\n",
       "  </thead>\n",
       "  <tbody>\n",
       "    <tr>\n",
       "      <th>0</th>\n",
       "      <td>0</td>\n",
       "      <td>1725</td>\n",
       "      <td>3997</td>\n",
       "      <td>4072</td>\n",
       "      <td>5917</td>\n",
       "      <td>6384</td>\n",
       "    </tr>\n",
       "    <tr>\n",
       "      <th>1</th>\n",
       "      <td>1</td>\n",
       "      <td>2748</td>\n",
       "      <td>4440</td>\n",
       "      <td>4623</td>\n",
       "      <td>5066</td>\n",
       "      <td>7659</td>\n",
       "    </tr>\n",
       "    <tr>\n",
       "      <th>2</th>\n",
       "      <td>2</td>\n",
       "      <td>2301</td>\n",
       "      <td>2491</td>\n",
       "      <td>2530</td>\n",
       "      <td>3096</td>\n",
       "      <td>5130</td>\n",
       "    </tr>\n",
       "    <tr>\n",
       "      <th>3</th>\n",
       "      <td>3</td>\n",
       "      <td>1906</td>\n",
       "      <td>2247</td>\n",
       "      <td>3345</td>\n",
       "      <td>4791</td>\n",
       "      <td>5328</td>\n",
       "    </tr>\n",
       "    <tr>\n",
       "      <th>4</th>\n",
       "      <td>4</td>\n",
       "      <td>2220</td>\n",
       "      <td>3392</td>\n",
       "      <td>3494</td>\n",
       "      <td>3920</td>\n",
       "      <td>4458</td>\n",
       "    </tr>\n",
       "  </tbody>\n",
       "</table>\n",
       "</div>"
      ],
      "text/plain": [
       "   mid  dire_gold_rank_0  dire_gold_rank_1  dire_gold_rank_2  \\\n",
       "0    0              1725              3997              4072   \n",
       "1    1              2748              4440              4623   \n",
       "2    2              2301              2491              2530   \n",
       "3    3              1906              2247              3345   \n",
       "4    4              2220              3392              3494   \n",
       "\n",
       "   dire_gold_rank_3  dire_gold_rank_4  \n",
       "0              5917              6384  \n",
       "1              5066              7659  \n",
       "2              3096              5130  \n",
       "3              4791              5328  \n",
       "4              3920              4458  "
      ]
     },
     "execution_count": 21,
     "metadata": {},
     "output_type": "execute_result"
    }
   ],
   "source": [
    "dire_rank_gold = pd.DataFrame(data = np.sort(gold.values[:,5:10]),\n",
    "                                 index=gold.index,\n",
    "                                 columns = ['dire_gold_rank_{0}'.format(i) for i in range(5)]) \n",
    "# dire_rank_gold = normalize_data(dire_rank_gold)\n",
    "\n",
    "dire_rank_gold.reset_index(inplace=True)\n",
    "\n",
    "dire_rank_gold.head()"
   ]
  },
  {
   "cell_type": "code",
   "execution_count": 22,
   "metadata": {
    "collapsed": false
   },
   "outputs": [
    {
     "data": {
      "text/html": [
       "<div>\n",
       "<table border=\"1\" class=\"dataframe\">\n",
       "  <thead>\n",
       "    <tr style=\"text-align: right;\">\n",
       "      <th></th>\n",
       "      <th>mid</th>\n",
       "      <th>radiant_gold_rank_0</th>\n",
       "      <th>radiant_gold_rank_1</th>\n",
       "      <th>radiant_gold_rank_2</th>\n",
       "      <th>radiant_gold_rank_3</th>\n",
       "      <th>radiant_gold_rank_4</th>\n",
       "      <th>dire_gold_rank_0</th>\n",
       "      <th>dire_gold_rank_1</th>\n",
       "      <th>dire_gold_rank_2</th>\n",
       "      <th>dire_gold_rank_3</th>\n",
       "      <th>dire_gold_rank_4</th>\n",
       "    </tr>\n",
       "  </thead>\n",
       "  <tbody>\n",
       "    <tr>\n",
       "      <th>0</th>\n",
       "      <td>0</td>\n",
       "      <td>2613</td>\n",
       "      <td>3454</td>\n",
       "      <td>4426</td>\n",
       "      <td>5206</td>\n",
       "      <td>5755</td>\n",
       "      <td>1725</td>\n",
       "      <td>3997</td>\n",
       "      <td>4072</td>\n",
       "      <td>5917</td>\n",
       "      <td>6384</td>\n",
       "    </tr>\n",
       "    <tr>\n",
       "      <th>1</th>\n",
       "      <td>1</td>\n",
       "      <td>2477</td>\n",
       "      <td>3816</td>\n",
       "      <td>4353</td>\n",
       "      <td>5759</td>\n",
       "      <td>5760</td>\n",
       "      <td>2748</td>\n",
       "      <td>4440</td>\n",
       "      <td>4623</td>\n",
       "      <td>5066</td>\n",
       "      <td>7659</td>\n",
       "    </tr>\n",
       "    <tr>\n",
       "      <th>2</th>\n",
       "      <td>2</td>\n",
       "      <td>1948</td>\n",
       "      <td>2869</td>\n",
       "      <td>3604</td>\n",
       "      <td>4390</td>\n",
       "      <td>8581</td>\n",
       "      <td>2301</td>\n",
       "      <td>2491</td>\n",
       "      <td>2530</td>\n",
       "      <td>3096</td>\n",
       "      <td>5130</td>\n",
       "    </tr>\n",
       "    <tr>\n",
       "      <th>3</th>\n",
       "      <td>3</td>\n",
       "      <td>2961</td>\n",
       "      <td>3457</td>\n",
       "      <td>4314</td>\n",
       "      <td>4432</td>\n",
       "      <td>5464</td>\n",
       "      <td>1906</td>\n",
       "      <td>2247</td>\n",
       "      <td>3345</td>\n",
       "      <td>4791</td>\n",
       "      <td>5328</td>\n",
       "    </tr>\n",
       "    <tr>\n",
       "      <th>4</th>\n",
       "      <td>4</td>\n",
       "      <td>2076</td>\n",
       "      <td>3030</td>\n",
       "      <td>3675</td>\n",
       "      <td>4103</td>\n",
       "      <td>5154</td>\n",
       "      <td>2220</td>\n",
       "      <td>3392</td>\n",
       "      <td>3494</td>\n",
       "      <td>3920</td>\n",
       "      <td>4458</td>\n",
       "    </tr>\n",
       "  </tbody>\n",
       "</table>\n",
       "</div>"
      ],
      "text/plain": [
       "   mid  radiant_gold_rank_0  radiant_gold_rank_1  radiant_gold_rank_2  \\\n",
       "0    0                 2613                 3454                 4426   \n",
       "1    1                 2477                 3816                 4353   \n",
       "2    2                 1948                 2869                 3604   \n",
       "3    3                 2961                 3457                 4314   \n",
       "4    4                 2076                 3030                 3675   \n",
       "\n",
       "   radiant_gold_rank_3  radiant_gold_rank_4  dire_gold_rank_0  \\\n",
       "0                 5206                 5755              1725   \n",
       "1                 5759                 5760              2748   \n",
       "2                 4390                 8581              2301   \n",
       "3                 4432                 5464              1906   \n",
       "4                 4103                 5154              2220   \n",
       "\n",
       "   dire_gold_rank_1  dire_gold_rank_2  dire_gold_rank_3  dire_gold_rank_4  \n",
       "0              3997              4072              5917              6384  \n",
       "1              4440              4623              5066              7659  \n",
       "2              2491              2530              3096              5130  \n",
       "3              2247              3345              4791              5328  \n",
       "4              3392              3494              3920              4458  "
      ]
     },
     "execution_count": 22,
     "metadata": {},
     "output_type": "execute_result"
    }
   ],
   "source": [
    "rank_gold = pd.merge(radiant_rank_gold, dire_rank_gold, on='mid', how='left')\n",
    "rank_gold.head()"
   ]
  },
  {
   "cell_type": "code",
   "execution_count": 23,
   "metadata": {
    "collapsed": false
   },
   "outputs": [
    {
     "data": {
      "text/html": [
       "<div>\n",
       "<table border=\"1\" class=\"dataframe\">\n",
       "  <thead>\n",
       "    <tr style=\"text-align: right;\">\n",
       "      <th></th>\n",
       "      <th>mid</th>\n",
       "      <th>radiant_gold_rank_0</th>\n",
       "      <th>radiant_gold_rank_1</th>\n",
       "      <th>radiant_gold_rank_2</th>\n",
       "      <th>radiant_gold_rank_3</th>\n",
       "      <th>radiant_gold_rank_4</th>\n",
       "      <th>dire_gold_rank_0</th>\n",
       "      <th>dire_gold_rank_1</th>\n",
       "      <th>dire_gold_rank_2</th>\n",
       "      <th>dire_gold_rank_3</th>\n",
       "      <th>dire_gold_rank_4</th>\n",
       "    </tr>\n",
       "  </thead>\n",
       "  <tbody>\n",
       "    <tr>\n",
       "      <th>0</th>\n",
       "      <td>0</td>\n",
       "      <td>-0.264298</td>\n",
       "      <td>0.003371</td>\n",
       "      <td>0.286861</td>\n",
       "      <td>0.114283</td>\n",
       "      <td>-0.486818</td>\n",
       "      <td>-1.982586</td>\n",
       "      <td>0.917339</td>\n",
       "      <td>-0.275545</td>\n",
       "      <td>1.161705</td>\n",
       "      <td>0.214201</td>\n",
       "    </tr>\n",
       "    <tr>\n",
       "      <th>1</th>\n",
       "      <td>1</td>\n",
       "      <td>-0.846838</td>\n",
       "      <td>0.180427</td>\n",
       "      <td>-0.292264</td>\n",
       "      <td>0.347176</td>\n",
       "      <td>-0.872878</td>\n",
       "      <td>-0.374487</td>\n",
       "      <td>1.161269</td>\n",
       "      <td>0.106051</td>\n",
       "      <td>-0.541100</td>\n",
       "      <td>0.989521</td>\n",
       "    </tr>\n",
       "    <tr>\n",
       "      <th>2</th>\n",
       "      <td>2</td>\n",
       "      <td>-0.872392</td>\n",
       "      <td>-0.118177</td>\n",
       "      <td>0.007082</td>\n",
       "      <td>0.070942</td>\n",
       "      <td>3.900556</td>\n",
       "      <td>-0.086196</td>\n",
       "      <td>-0.887209</td>\n",
       "      <td>-2.014996</td>\n",
       "      <td>-2.074395</td>\n",
       "      <td>-0.129632</td>\n",
       "    </tr>\n",
       "    <tr>\n",
       "      <th>3</th>\n",
       "      <td>3</td>\n",
       "      <td>1.193386</td>\n",
       "      <td>0.821186</td>\n",
       "      <td>1.054641</td>\n",
       "      <td>-0.111582</td>\n",
       "      <td>-0.017247</td>\n",
       "      <td>-1.127523</td>\n",
       "      <td>-1.530593</td>\n",
       "      <td>-0.695655</td>\n",
       "      <td>0.502861</td>\n",
       "      <td>-0.110102</td>\n",
       "    </tr>\n",
       "    <tr>\n",
       "      <th>4</th>\n",
       "      <td>4</td>\n",
       "      <td>-0.394726</td>\n",
       "      <td>0.445302</td>\n",
       "      <td>0.412301</td>\n",
       "      <td>-0.134949</td>\n",
       "      <td>0.080223</td>\n",
       "      <td>-0.068948</td>\n",
       "      <td>1.192190</td>\n",
       "      <td>0.062250</td>\n",
       "      <td>-0.424432</td>\n",
       "      <td>-0.725317</td>\n",
       "    </tr>\n",
       "  </tbody>\n",
       "</table>\n",
       "</div>"
      ],
      "text/plain": [
       "   mid  radiant_gold_rank_0  radiant_gold_rank_1  radiant_gold_rank_2  \\\n",
       "0    0            -0.264298             0.003371             0.286861   \n",
       "1    1            -0.846838             0.180427            -0.292264   \n",
       "2    2            -0.872392            -0.118177             0.007082   \n",
       "3    3             1.193386             0.821186             1.054641   \n",
       "4    4            -0.394726             0.445302             0.412301   \n",
       "\n",
       "   radiant_gold_rank_3  radiant_gold_rank_4  dire_gold_rank_0  \\\n",
       "0             0.114283            -0.486818         -1.982586   \n",
       "1             0.347176            -0.872878         -0.374487   \n",
       "2             0.070942             3.900556         -0.086196   \n",
       "3            -0.111582            -0.017247         -1.127523   \n",
       "4            -0.134949             0.080223         -0.068948   \n",
       "\n",
       "   dire_gold_rank_1  dire_gold_rank_2  dire_gold_rank_3  dire_gold_rank_4  \n",
       "0          0.917339         -0.275545          1.161705          0.214201  \n",
       "1          1.161269          0.106051         -0.541100          0.989521  \n",
       "2         -0.887209         -2.014996         -2.074395         -0.129632  \n",
       "3         -1.530593         -0.695655          0.502861         -0.110102  \n",
       "4          1.192190          0.062250         -0.424432         -0.725317  "
      ]
     },
     "execution_count": 23,
     "metadata": {},
     "output_type": "execute_result"
    }
   ],
   "source": [
    "norm_rank_gold = pd.DataFrame(rank_gold.mid)\n",
    "row_sum = rank_gold.drop('mid', 1).sum(1)\n",
    "for col in rank_gold.columns[1:]:\n",
    "    norm_rank_gold[col] = rank_gold[col] / row_sum\n",
    "norm_rank_gold.ix[:,1:] = normalize_data(norm_rank_gold.drop('mid', 1))\n",
    "norm_rank_gold.head()"
   ]
  },
  {
   "cell_type": "code",
   "execution_count": 24,
   "metadata": {
    "collapsed": true
   },
   "outputs": [],
   "source": [
    "norm_rank_gold.to_csv('processing_tables/normByRowsRankGold.csv', index=None)"
   ]
  },
  {
   "cell_type": "code",
   "execution_count": null,
   "metadata": {
    "collapsed": true
   },
   "outputs": [],
   "source": []
  },
  {
   "cell_type": "code",
   "execution_count": 57,
   "metadata": {
    "collapsed": false
   },
   "outputs": [],
   "source": [
    "train = pd.merge(norm_rank_gold, train_matches, on='mid', how='right')\n",
    "test = pd.merge(norm_rank_gold, test_matches, on='mid', how='right')\n",
    "X_train = train.drop('radiant_won', 1)\n",
    "y_train = train.radiant_won"
   ]
  },
  {
   "cell_type": "code",
   "execution_count": 58,
   "metadata": {
    "collapsed": false
   },
   "outputs": [
    {
     "data": {
      "text/plain": [
       "0.68176935801531036"
      ]
     },
     "execution_count": 58,
     "metadata": {},
     "output_type": "execute_result"
    }
   ],
   "source": [
    "clf = RandomForestClassifier(n_estimators=100, n_jobs=-1, random_state=228)\n",
    "np.mean(cross_val_score(clf, X_train, y_train, cv=5, scoring='roc_auc'))"
   ]
  },
  {
   "cell_type": "code",
   "execution_count": 59,
   "metadata": {
    "collapsed": false
   },
   "outputs": [
    {
     "name": "stdout",
     "output_type": "stream",
     "text": [
      "[mean: 0.69120, std: 0.00482, params: {'C': 1.0000000000000001e-05}, mean: 0.70635, std: 0.00514, params: {'C': 0.0001}, mean: 0.70820, std: 0.00582, params: {'C': 0.001}, mean: 0.70832, std: 0.00599, params: {'C': 0.01}, mean: 0.70832, std: 0.00601, params: {'C': 0.10000000000000001}, mean: 0.70832, std: 0.00601, params: {'C': 1.0}]\n",
      "{'C': 1.0}\n",
      "best score: 0.708323548422\n"
     ]
    }
   ],
   "source": [
    "gs = logEstimation(X_train, y_train)\n",
    "print gs.grid_scores_\n",
    "print gs.best_params_\n",
    "print('best score: {}'.format(gs.best_score_))"
   ]
  },
  {
   "cell_type": "code",
   "execution_count": 60,
   "metadata": {
    "collapsed": false
   },
   "outputs": [
    {
     "data": {
      "text/plain": [
       "0.70845337984152956"
      ]
     },
     "execution_count": 60,
     "metadata": {},
     "output_type": "execute_result"
    }
   ],
   "source": [
    "clf=LogisticRegression(random_state=241, C=0.001)\n",
    "np.mean(cross_val_score(clf, X_train, y_train, cv=5, scoring='roc_auc'))"
   ]
  },
  {
   "cell_type": "code",
   "execution_count": 61,
   "metadata": {
    "collapsed": false
   },
   "outputs": [
    {
     "data": {
      "text/plain": [
       "0.70850717633608307"
      ]
     },
     "execution_count": 61,
     "metadata": {},
     "output_type": "execute_result"
    }
   ],
   "source": [
    "clf=Ridge(alpha=0.0001)\n",
    "np.mean(cross_val_score(clf, X_train, y_train, cv=5, scoring='roc_auc'))"
   ]
  },
  {
   "cell_type": "markdown",
   "metadata": {},
   "source": [
    "# NormByRowsRanks and scores"
   ]
  },
  {
   "cell_type": "code",
   "execution_count": 62,
   "metadata": {
    "collapsed": true
   },
   "outputs": [],
   "source": [
    "train = pd.merge(norm_rank_gold, train_matches, on='mid', how='right')\n",
    "test = pd.merge(norm_rank_gold, test_matches, on='mid', how='right')\n",
    "\n",
    "train = pd.merge(train, gold_score_by_mean, on='mid', how='left')\n",
    "test = pd.merge(test, gold_score_by_mean, on='mid', how='left')\n",
    "\n",
    "X_train = train.drop(['radiant_carry_norm_gold', 'dire_carry_norm_gold'], 1)\n",
    "X_test = test.drop(['radiant_carry_norm_gold', 'dire_carry_norm_gold'], 1)\n",
    "\n",
    "X_train = train.drop('radiant_won', 1)\n",
    "y_train = train.radiant_won"
   ]
  },
  {
   "cell_type": "code",
   "execution_count": 63,
   "metadata": {
    "collapsed": false
   },
   "outputs": [
    {
     "data": {
      "text/plain": [
       "0.69825666646363904"
      ]
     },
     "execution_count": 63,
     "metadata": {},
     "output_type": "execute_result"
    }
   ],
   "source": [
    "clf = RandomForestClassifier(n_estimators=100, n_jobs=-1, random_state=228)\n",
    "np.mean(cross_val_score(clf, X_train, y_train, cv=5, scoring='roc_auc'))"
   ]
  },
  {
   "cell_type": "code",
   "execution_count": 64,
   "metadata": {
    "collapsed": false
   },
   "outputs": [
    {
     "name": "stdout",
     "output_type": "stream",
     "text": [
      "[mean: 0.70311, std: 0.00541, params: {'C': 1.0000000000000001e-05}, mean: 0.70920, std: 0.00572, params: {'C': 0.0001}, mean: 0.70985, std: 0.00570, params: {'C': 0.001}, mean: 0.71021, std: 0.00548, params: {'C': 0.01}, mean: 0.71004, std: 0.00562, params: {'C': 0.10000000000000001}, mean: 0.71003, std: 0.00563, params: {'C': 1.0}]\n",
      "{'C': 0.01}\n",
      "best score: 0.710213914303\n"
     ]
    }
   ],
   "source": [
    "gs = logEstimation(X_train, y_train)\n",
    "print gs.grid_scores_\n",
    "print gs.best_params_\n",
    "print('best score: {}'.format(gs.best_score_))"
   ]
  },
  {
   "cell_type": "code",
   "execution_count": 65,
   "metadata": {
    "collapsed": false
   },
   "outputs": [
    {
     "data": {
      "text/plain": [
       "0.71098463805857992"
      ]
     },
     "execution_count": 65,
     "metadata": {},
     "output_type": "execute_result"
    }
   ],
   "source": [
    "clf=LogisticRegression(random_state=241, C=0.01)\n",
    "np.mean(cross_val_score(clf, X_train, y_train, cv=5, scoring='roc_auc'))"
   ]
  },
  {
   "cell_type": "code",
   "execution_count": 66,
   "metadata": {
    "collapsed": false
   },
   "outputs": [
    {
     "data": {
      "text/plain": [
       "0.71404182454961085"
      ]
     },
     "execution_count": 66,
     "metadata": {},
     "output_type": "execute_result"
    }
   ],
   "source": [
    "clf=Ridge(alpha=0.0001)\n",
    "np.mean(cross_val_score(clf, X_train, y_train, cv=5, scoring='roc_auc'))"
   ]
  },
  {
   "cell_type": "code",
   "execution_count": 67,
   "metadata": {
    "collapsed": false
   },
   "outputs": [
    {
     "data": {
      "text/plain": [
       "0.7141212821701044"
      ]
     },
     "execution_count": 67,
     "metadata": {},
     "output_type": "execute_result"
    }
   ],
   "source": [
    "clf=Lasso(alpha=0.0001, max_iter=6000)\n",
    "np.mean(cross_val_score(clf, X_train, y_train, cv=5, scoring='roc_auc'))"
   ]
  },
  {
   "cell_type": "code",
   "execution_count": null,
   "metadata": {
    "collapsed": true
   },
   "outputs": [],
   "source": []
  },
  {
   "cell_type": "markdown",
   "metadata": {},
   "source": [
    "## Just rank gold and gold scores"
   ]
  },
  {
   "cell_type": "code",
   "execution_count": 32,
   "metadata": {
    "collapsed": false
   },
   "outputs": [
    {
     "data": {
      "text/html": [
       "<div>\n",
       "<table border=\"1\" class=\"dataframe\">\n",
       "  <thead>\n",
       "    <tr style=\"text-align: right;\">\n",
       "      <th></th>\n",
       "      <th>mid</th>\n",
       "      <th>radiant_gold_rank_0</th>\n",
       "      <th>radiant_gold_rank_1</th>\n",
       "      <th>radiant_gold_rank_2</th>\n",
       "      <th>radiant_gold_rank_3</th>\n",
       "      <th>radiant_gold_rank_4</th>\n",
       "      <th>dire_gold_rank_0</th>\n",
       "      <th>dire_gold_rank_1</th>\n",
       "      <th>dire_gold_rank_2</th>\n",
       "      <th>dire_gold_rank_3</th>\n",
       "      <th>dire_gold_rank_4</th>\n",
       "    </tr>\n",
       "  </thead>\n",
       "  <tbody>\n",
       "    <tr>\n",
       "      <th>0</th>\n",
       "      <td>0</td>\n",
       "      <td>2613</td>\n",
       "      <td>3454</td>\n",
       "      <td>4426</td>\n",
       "      <td>5206</td>\n",
       "      <td>5755</td>\n",
       "      <td>1725</td>\n",
       "      <td>3997</td>\n",
       "      <td>4072</td>\n",
       "      <td>5917</td>\n",
       "      <td>6384</td>\n",
       "    </tr>\n",
       "    <tr>\n",
       "      <th>1</th>\n",
       "      <td>1</td>\n",
       "      <td>2477</td>\n",
       "      <td>3816</td>\n",
       "      <td>4353</td>\n",
       "      <td>5759</td>\n",
       "      <td>5760</td>\n",
       "      <td>2748</td>\n",
       "      <td>4440</td>\n",
       "      <td>4623</td>\n",
       "      <td>5066</td>\n",
       "      <td>7659</td>\n",
       "    </tr>\n",
       "    <tr>\n",
       "      <th>2</th>\n",
       "      <td>2</td>\n",
       "      <td>1948</td>\n",
       "      <td>2869</td>\n",
       "      <td>3604</td>\n",
       "      <td>4390</td>\n",
       "      <td>8581</td>\n",
       "      <td>2301</td>\n",
       "      <td>2491</td>\n",
       "      <td>2530</td>\n",
       "      <td>3096</td>\n",
       "      <td>5130</td>\n",
       "    </tr>\n",
       "    <tr>\n",
       "      <th>3</th>\n",
       "      <td>3</td>\n",
       "      <td>2961</td>\n",
       "      <td>3457</td>\n",
       "      <td>4314</td>\n",
       "      <td>4432</td>\n",
       "      <td>5464</td>\n",
       "      <td>1906</td>\n",
       "      <td>2247</td>\n",
       "      <td>3345</td>\n",
       "      <td>4791</td>\n",
       "      <td>5328</td>\n",
       "    </tr>\n",
       "    <tr>\n",
       "      <th>4</th>\n",
       "      <td>4</td>\n",
       "      <td>2076</td>\n",
       "      <td>3030</td>\n",
       "      <td>3675</td>\n",
       "      <td>4103</td>\n",
       "      <td>5154</td>\n",
       "      <td>2220</td>\n",
       "      <td>3392</td>\n",
       "      <td>3494</td>\n",
       "      <td>3920</td>\n",
       "      <td>4458</td>\n",
       "    </tr>\n",
       "  </tbody>\n",
       "</table>\n",
       "</div>"
      ],
      "text/plain": [
       "   mid  radiant_gold_rank_0  radiant_gold_rank_1  radiant_gold_rank_2  \\\n",
       "0    0                 2613                 3454                 4426   \n",
       "1    1                 2477                 3816                 4353   \n",
       "2    2                 1948                 2869                 3604   \n",
       "3    3                 2961                 3457                 4314   \n",
       "4    4                 2076                 3030                 3675   \n",
       "\n",
       "   radiant_gold_rank_3  radiant_gold_rank_4  dire_gold_rank_0  \\\n",
       "0                 5206                 5755              1725   \n",
       "1                 5759                 5760              2748   \n",
       "2                 4390                 8581              2301   \n",
       "3                 4432                 5464              1906   \n",
       "4                 4103                 5154              2220   \n",
       "\n",
       "   dire_gold_rank_1  dire_gold_rank_2  dire_gold_rank_3  dire_gold_rank_4  \n",
       "0              3997              4072              5917              6384  \n",
       "1              4440              4623              5066              7659  \n",
       "2              2491              2530              3096              5130  \n",
       "3              2247              3345              4791              5328  \n",
       "4              3392              3494              3920              4458  "
      ]
     },
     "execution_count": 32,
     "metadata": {},
     "output_type": "execute_result"
    }
   ],
   "source": [
    "rank_gold.head()"
   ]
  },
  {
   "cell_type": "code",
   "execution_count": 33,
   "metadata": {
    "collapsed": false
   },
   "outputs": [
    {
     "data": {
      "text/html": [
       "<div>\n",
       "<table border=\"1\" class=\"dataframe\">\n",
       "  <thead>\n",
       "    <tr style=\"text-align: right;\">\n",
       "      <th></th>\n",
       "      <th>mid</th>\n",
       "      <th>radiant_gold_rank_0</th>\n",
       "      <th>radiant_gold_rank_1</th>\n",
       "      <th>radiant_gold_rank_2</th>\n",
       "      <th>radiant_gold_rank_3</th>\n",
       "      <th>radiant_gold_rank_4</th>\n",
       "      <th>dire_gold_rank_0</th>\n",
       "      <th>dire_gold_rank_1</th>\n",
       "      <th>dire_gold_rank_2</th>\n",
       "      <th>dire_gold_rank_3</th>\n",
       "      <th>dire_gold_rank_4</th>\n",
       "    </tr>\n",
       "  </thead>\n",
       "  <tbody>\n",
       "    <tr>\n",
       "      <th>0</th>\n",
       "      <td>0</td>\n",
       "      <td>0.155574</td>\n",
       "      <td>0.432631</td>\n",
       "      <td>0.743580</td>\n",
       "      <td>0.631293</td>\n",
       "      <td>0.007513</td>\n",
       "      <td>-1.529347</td>\n",
       "      <td>1.287882</td>\n",
       "      <td>0.236226</td>\n",
       "      <td>1.596343</td>\n",
       "      <td>0.665735</td>\n",
       "    </tr>\n",
       "    <tr>\n",
       "      <th>1</th>\n",
       "      <td>1</td>\n",
       "      <td>-0.101736</td>\n",
       "      <td>1.006005</td>\n",
       "      <td>0.638412</td>\n",
       "      <td>1.347826</td>\n",
       "      <td>0.012183</td>\n",
       "      <td>0.396231</td>\n",
       "      <td>1.991675</td>\n",
       "      <td>1.038963</td>\n",
       "      <td>0.482048</td>\n",
       "      <td>1.882619</td>\n",
       "    </tr>\n",
       "    <tr>\n",
       "      <th>2</th>\n",
       "      <td>2</td>\n",
       "      <td>-1.102595</td>\n",
       "      <td>-0.493955</td>\n",
       "      <td>-0.440642</td>\n",
       "      <td>-0.426014</td>\n",
       "      <td>2.646680</td>\n",
       "      <td>-0.445151</td>\n",
       "      <td>-1.104698</td>\n",
       "      <td>-2.010270</td>\n",
       "      <td>-2.097459</td>\n",
       "      <td>-0.531107</td>\n",
       "    </tr>\n",
       "    <tr>\n",
       "      <th>3</th>\n",
       "      <td>3</td>\n",
       "      <td>0.813984</td>\n",
       "      <td>0.437382</td>\n",
       "      <td>0.582226</td>\n",
       "      <td>-0.371594</td>\n",
       "      <td>-0.264248</td>\n",
       "      <td>-1.188654</td>\n",
       "      <td>-1.492340</td>\n",
       "      <td>-0.822919</td>\n",
       "      <td>0.121965</td>\n",
       "      <td>-0.342132</td>\n",
       "    </tr>\n",
       "    <tr>\n",
       "      <th>4</th>\n",
       "      <td>4</td>\n",
       "      <td>-0.860421</td>\n",
       "      <td>-0.238946</td>\n",
       "      <td>-0.338355</td>\n",
       "      <td>-0.797886</td>\n",
       "      <td>-0.553753</td>\n",
       "      <td>-0.597616</td>\n",
       "      <td>0.326719</td>\n",
       "      <td>-0.605846</td>\n",
       "      <td>-1.018518</td>\n",
       "      <td>-1.172477</td>\n",
       "    </tr>\n",
       "  </tbody>\n",
       "</table>\n",
       "</div>"
      ],
      "text/plain": [
       "   mid  radiant_gold_rank_0  radiant_gold_rank_1  radiant_gold_rank_2  \\\n",
       "0    0             0.155574             0.432631             0.743580   \n",
       "1    1            -0.101736             1.006005             0.638412   \n",
       "2    2            -1.102595            -0.493955            -0.440642   \n",
       "3    3             0.813984             0.437382             0.582226   \n",
       "4    4            -0.860421            -0.238946            -0.338355   \n",
       "\n",
       "   radiant_gold_rank_3  radiant_gold_rank_4  dire_gold_rank_0  \\\n",
       "0             0.631293             0.007513         -1.529347   \n",
       "1             1.347826             0.012183          0.396231   \n",
       "2            -0.426014             2.646680         -0.445151   \n",
       "3            -0.371594            -0.264248         -1.188654   \n",
       "4            -0.797886            -0.553753         -0.597616   \n",
       "\n",
       "   dire_gold_rank_1  dire_gold_rank_2  dire_gold_rank_3  dire_gold_rank_4  \n",
       "0          1.287882          0.236226          1.596343          0.665735  \n",
       "1          1.991675          1.038963          0.482048          1.882619  \n",
       "2         -1.104698         -2.010270         -2.097459         -0.531107  \n",
       "3         -1.492340         -0.822919          0.121965         -0.342132  \n",
       "4          0.326719         -0.605846         -1.018518         -1.172477  "
      ]
     },
     "execution_count": 33,
     "metadata": {},
     "output_type": "execute_result"
    }
   ],
   "source": [
    "stupid_norm_rank_gold = rank_gold.copy()\n",
    "stupid_norm_rank_gold.ix[:,1:] = normalize_data(rank_gold.drop('mid', 1))\n",
    "stupid_norm_rank_gold.head()"
   ]
  },
  {
   "cell_type": "code",
   "execution_count": 39,
   "metadata": {
    "collapsed": true
   },
   "outputs": [],
   "source": [
    "stupid_norm_rank_gold.to_csv('processing_tables/normByColsRankGold.csv', index=None)"
   ]
  },
  {
   "cell_type": "code",
   "execution_count": null,
   "metadata": {
    "collapsed": true
   },
   "outputs": [],
   "source": []
  },
  {
   "cell_type": "code",
   "execution_count": null,
   "metadata": {
    "collapsed": true
   },
   "outputs": [],
   "source": []
  },
  {
   "cell_type": "code",
   "execution_count": null,
   "metadata": {
    "collapsed": true
   },
   "outputs": [],
   "source": []
  },
  {
   "cell_type": "code",
   "execution_count": 78,
   "metadata": {
    "collapsed": false
   },
   "outputs": [],
   "source": [
    "train = pd.merge(train_matches, stupid_norm_rank_gold, on='mid', how='left')\n",
    "test = pd.merge(test_matches, stupid_norm_rank_gold, on='mid', how='left')\n",
    "train = pd.merge(train, gold_score_by_mean, on='mid', how='left')\n",
    "test = pd.merge(test, gold_score_by_mean, on='mid', how='left')\n",
    "X_train = train.drop(['radiant_carry_norm_gold', 'dire_carry_norm_gold'], 1)\n",
    "X_test = test.drop(['radiant_carry_norm_gold', 'dire_carry_norm_gold'], 1)\n",
    "\n",
    "X_train = train.drop('radiant_won', 1)\n",
    "y_train = train.radiant_won"
   ]
  },
  {
   "cell_type": "code",
   "execution_count": 79,
   "metadata": {
    "collapsed": false
   },
   "outputs": [
    {
     "data": {
      "text/plain": [
       "0.69758600239845026"
      ]
     },
     "execution_count": 79,
     "metadata": {},
     "output_type": "execute_result"
    }
   ],
   "source": [
    "clf = RandomForestClassifier(n_estimators=100, n_jobs=-1, random_state=228)\n",
    "np.mean(cross_val_score(clf, X_train, y_train, cv=5, scoring='roc_auc'))"
   ]
  },
  {
   "cell_type": "code",
   "execution_count": 82,
   "metadata": {
    "collapsed": false
   },
   "outputs": [
    {
     "name": "stdout",
     "output_type": "stream",
     "text": [
      "[mean: 0.70089, std: 0.00624, params: {'C': 1.0000000000000001e-05}, mean: 0.70929, std: 0.00584, params: {'C': 0.0001}, mean: 0.70982, std: 0.00569, params: {'C': 0.001}, mean: 0.71015, std: 0.00625, params: {'C': 0.01}, mean: 0.71044, std: 0.00605, params: {'C': 0.10000000000000001}, mean: 0.71043, std: 0.00605, params: {'C': 1.0}]\n",
      "{'C': 0.10000000000000001}\n",
      "best score: 0.710437947905\n"
     ]
    }
   ],
   "source": [
    "gs = logEstimation(X_train, y_train)\n",
    "print gs.grid_scores_\n",
    "print gs.best_params_\n",
    "print('best score: {}'.format(gs.best_score_))"
   ]
  },
  {
   "cell_type": "code",
   "execution_count": 83,
   "metadata": {
    "collapsed": false
   },
   "outputs": [
    {
     "data": {
      "text/plain": [
       "0.71045225358876185"
      ]
     },
     "execution_count": 83,
     "metadata": {},
     "output_type": "execute_result"
    }
   ],
   "source": [
    "clf=LogisticRegression(random_state=241, C=0.1)\n",
    "np.mean(cross_val_score(clf, X_train, y_train, cv=5, scoring='roc_auc'))"
   ]
  },
  {
   "cell_type": "code",
   "execution_count": 80,
   "metadata": {
    "collapsed": false
   },
   "outputs": [
    {
     "data": {
      "text/plain": [
       "0.714064953004098"
      ]
     },
     "execution_count": 80,
     "metadata": {},
     "output_type": "execute_result"
    }
   ],
   "source": [
    "clf=Ridge(alpha=0.0001)\n",
    "np.mean(cross_val_score(clf, X_train, y_train, cv=5, scoring='roc_auc'))"
   ]
  },
  {
   "cell_type": "code",
   "execution_count": 81,
   "metadata": {
    "collapsed": false
   },
   "outputs": [
    {
     "data": {
      "text/plain": [
       "0.71410844283760944"
      ]
     },
     "execution_count": 81,
     "metadata": {},
     "output_type": "execute_result"
    }
   ],
   "source": [
    "clf=Lasso(alpha=0.0001, max_iter=4000)\n",
    "np.mean(cross_val_score(clf, X_train, y_train, cv=5, scoring='roc_auc'))"
   ]
  },
  {
   "cell_type": "code",
   "execution_count": null,
   "metadata": {
    "collapsed": true
   },
   "outputs": [],
   "source": [
    "train.to_csv('processing_tables/train_rank_score_gold.csv', index=None)\n",
    "test.to_csv('processing_tables/test_rank_score_gold.csv', index=None)\n",
    "gold_score_by_mean.to_csv('processing_tables/stupidRank+gold_scores.csv', index=None)"
   ]
  },
  {
   "cell_type": "markdown",
   "metadata": {},
   "source": [
    "# Diff rank"
   ]
  },
  {
   "cell_type": "code",
   "execution_count": 35,
   "metadata": {
    "collapsed": false
   },
   "outputs": [
    {
     "data": {
      "text/html": [
       "<div>\n",
       "<table border=\"1\" class=\"dataframe\">\n",
       "  <thead>\n",
       "    <tr style=\"text-align: right;\">\n",
       "      <th></th>\n",
       "      <th>mid</th>\n",
       "      <th>gold_diff_rank_0</th>\n",
       "      <th>gold_diff_rank_1</th>\n",
       "      <th>gold_diff_rank_2</th>\n",
       "      <th>gold_diff_rank_3</th>\n",
       "      <th>gold_diff_rank_4</th>\n",
       "    </tr>\n",
       "  </thead>\n",
       "  <tbody>\n",
       "    <tr>\n",
       "      <th>0</th>\n",
       "      <td>0</td>\n",
       "      <td>1.235400</td>\n",
       "      <td>-0.636307</td>\n",
       "      <td>0.361294</td>\n",
       "      <td>-0.665978</td>\n",
       "      <td>-0.463171</td>\n",
       "    </tr>\n",
       "    <tr>\n",
       "      <th>1</th>\n",
       "      <td>1</td>\n",
       "      <td>-0.364904</td>\n",
       "      <td>-0.732195</td>\n",
       "      <td>-0.275577</td>\n",
       "      <td>0.611509</td>\n",
       "      <td>-1.316314</td>\n",
       "    </tr>\n",
       "    <tr>\n",
       "      <th>2</th>\n",
       "      <td>2</td>\n",
       "      <td>-0.478126</td>\n",
       "      <td>0.453976</td>\n",
       "      <td>1.096144</td>\n",
       "      <td>1.158354</td>\n",
       "      <td>2.277633</td>\n",
       "    </tr>\n",
       "    <tr>\n",
       "      <th>3</th>\n",
       "      <td>3</td>\n",
       "      <td>1.465987</td>\n",
       "      <td>1.438900</td>\n",
       "      <td>0.988979</td>\n",
       "      <td>-0.345696</td>\n",
       "      <td>0.050730</td>\n",
       "    </tr>\n",
       "    <tr>\n",
       "      <th>4</th>\n",
       "      <td>4</td>\n",
       "      <td>-0.189547</td>\n",
       "      <td>-0.422038</td>\n",
       "      <td>0.184725</td>\n",
       "      <td>0.147465</td>\n",
       "      <td>0.426918</td>\n",
       "    </tr>\n",
       "  </tbody>\n",
       "</table>\n",
       "</div>"
      ],
      "text/plain": [
       "   mid  gold_diff_rank_0  gold_diff_rank_1  gold_diff_rank_2  \\\n",
       "0    0          1.235400         -0.636307          0.361294   \n",
       "1    1         -0.364904         -0.732195         -0.275577   \n",
       "2    2         -0.478126          0.453976          1.096144   \n",
       "3    3          1.465987          1.438900          0.988979   \n",
       "4    4         -0.189547         -0.422038          0.184725   \n",
       "\n",
       "   gold_diff_rank_3  gold_diff_rank_4  \n",
       "0         -0.665978         -0.463171  \n",
       "1          0.611509         -1.316314  \n",
       "2          1.158354          2.277633  \n",
       "3         -0.345696          0.050730  \n",
       "4          0.147465          0.426918  "
      ]
     },
     "execution_count": 35,
     "metadata": {},
     "output_type": "execute_result"
    }
   ],
   "source": [
    "gold_rank_dif = pd.DataFrame(data = np.sort(gold.values[:,:5]) - np.sort(gold.values[:,5:10]),\n",
    "                                 index=gold.index,\n",
    "                                 columns = ['gold_diff_rank_{0}'.format(i) for i in range(5)]) \n",
    "gold_rank_dif = normalize_data(gold_rank_dif)\n",
    "\n",
    "gold_rank_dif.reset_index(inplace=True)\n",
    "gold_rank_dif.head()"
   ]
  },
  {
   "cell_type": "code",
   "execution_count": 36,
   "metadata": {
    "collapsed": true
   },
   "outputs": [],
   "source": [
    "gold_rank_dif.to_csv('processing_tables/goldRankDif.csv', index=None)"
   ]
  },
  {
   "cell_type": "code",
   "execution_count": 85,
   "metadata": {
    "collapsed": false
   },
   "outputs": [
    {
     "data": {
      "text/html": [
       "<div>\n",
       "<table border=\"1\" class=\"dataframe\">\n",
       "  <thead>\n",
       "    <tr style=\"text-align: right;\">\n",
       "      <th></th>\n",
       "      <th>mid</th>\n",
       "      <th>gold_diff_rank_0</th>\n",
       "      <th>gold_diff_rank_1</th>\n",
       "      <th>gold_diff_rank_2</th>\n",
       "      <th>gold_diff_rank_3</th>\n",
       "      <th>gold_diff_rank_4</th>\n",
       "      <th>gold_score_player_0</th>\n",
       "      <th>gold_score_player_1</th>\n",
       "      <th>gold_score_player_2</th>\n",
       "      <th>gold_score_player_3</th>\n",
       "      <th>...</th>\n",
       "      <th>gold_score_player_8</th>\n",
       "      <th>gold_score_player_9</th>\n",
       "      <th>radiant_norm_gold</th>\n",
       "      <th>dire_norm_gold</th>\n",
       "      <th>radiant_carry_norm_gold</th>\n",
       "      <th>dire_carry_norm_gold</th>\n",
       "      <th>radiant_best_gold_score</th>\n",
       "      <th>dire_best_gold_score</th>\n",
       "      <th>radiant_sum_gold_score</th>\n",
       "      <th>dire_sum_gold_score</th>\n",
       "    </tr>\n",
       "  </thead>\n",
       "  <tbody>\n",
       "    <tr>\n",
       "      <th>0</th>\n",
       "      <td>0</td>\n",
       "      <td>1.235400</td>\n",
       "      <td>-0.636307</td>\n",
       "      <td>0.361294</td>\n",
       "      <td>-0.665978</td>\n",
       "      <td>-0.463171</td>\n",
       "      <td>1.217054</td>\n",
       "      <td>1.415443</td>\n",
       "      <td>0.948802</td>\n",
       "      <td>0.788948</td>\n",
       "      <td>...</td>\n",
       "      <td>0.595855</td>\n",
       "      <td>0.990382</td>\n",
       "      <td>0.524044</td>\n",
       "      <td>0.801772</td>\n",
       "      <td>0.007513</td>\n",
       "      <td>0.665735</td>\n",
       "      <td>1.415443</td>\n",
       "      <td>1.231741</td>\n",
       "      <td>0.499268</td>\n",
       "      <td>0.448760</td>\n",
       "    </tr>\n",
       "    <tr>\n",
       "      <th>1</th>\n",
       "      <td>1</td>\n",
       "      <td>-0.364904</td>\n",
       "      <td>-0.732195</td>\n",
       "      <td>-0.275577</td>\n",
       "      <td>0.611509</td>\n",
       "      <td>-1.316314</td>\n",
       "      <td>0.855613</td>\n",
       "      <td>1.220598</td>\n",
       "      <td>1.094664</td>\n",
       "      <td>0.881353</td>\n",
       "      <td>...</td>\n",
       "      <td>1.017415</td>\n",
       "      <td>0.961522</td>\n",
       "      <td>0.796655</td>\n",
       "      <td>1.744066</td>\n",
       "      <td>0.012183</td>\n",
       "      <td>1.882619</td>\n",
       "      <td>1.262385</td>\n",
       "      <td>1.217203</td>\n",
       "      <td>1.015610</td>\n",
       "      <td>0.846631</td>\n",
       "    </tr>\n",
       "    <tr>\n",
       "      <th>2</th>\n",
       "      <td>2</td>\n",
       "      <td>-0.478126</td>\n",
       "      <td>0.453976</td>\n",
       "      <td>1.096144</td>\n",
       "      <td>1.158354</td>\n",
       "      <td>2.277633</td>\n",
       "      <td>0.868434</td>\n",
       "      <td>0.697458</td>\n",
       "      <td>1.929615</td>\n",
       "      <td>0.944899</td>\n",
       "      <td>...</td>\n",
       "      <td>0.564103</td>\n",
       "      <td>0.867038</td>\n",
       "      <td>0.500272</td>\n",
       "      <td>-1.725554</td>\n",
       "      <td>2.646680</td>\n",
       "      <td>-0.531107</td>\n",
       "      <td>1.929615</td>\n",
       "      <td>1.054471</td>\n",
       "      <td>0.430333</td>\n",
       "      <td>-0.253739</td>\n",
       "    </tr>\n",
       "    <tr>\n",
       "      <th>3</th>\n",
       "      <td>4</td>\n",
       "      <td>-0.189547</td>\n",
       "      <td>-0.422038</td>\n",
       "      <td>0.184725</td>\n",
       "      <td>0.147465</td>\n",
       "      <td>0.426918</td>\n",
       "      <td>0.838467</td>\n",
       "      <td>0.731373</td>\n",
       "      <td>1.123121</td>\n",
       "      <td>0.657980</td>\n",
       "      <td>...</td>\n",
       "      <td>0.977203</td>\n",
       "      <td>0.828358</td>\n",
       "      <td>-0.785714</td>\n",
       "      <td>-0.978204</td>\n",
       "      <td>-0.553753</td>\n",
       "      <td>-1.172477</td>\n",
       "      <td>1.123121</td>\n",
       "      <td>0.977203</td>\n",
       "      <td>-1.375060</td>\n",
       "      <td>-1.089529</td>\n",
       "    </tr>\n",
       "    <tr>\n",
       "      <th>4</th>\n",
       "      <td>5</td>\n",
       "      <td>-0.791560</td>\n",
       "      <td>-1.662664</td>\n",
       "      <td>-2.252530</td>\n",
       "      <td>-0.657789</td>\n",
       "      <td>-0.796367</td>\n",
       "      <td>0.974335</td>\n",
       "      <td>0.743297</td>\n",
       "      <td>0.614883</td>\n",
       "      <td>0.972850</td>\n",
       "      <td>...</td>\n",
       "      <td>1.171903</td>\n",
       "      <td>1.045423</td>\n",
       "      <td>-1.560604</td>\n",
       "      <td>0.780926</td>\n",
       "      <td>-1.384913</td>\n",
       "      <td>-0.283913</td>\n",
       "      <td>1.035520</td>\n",
       "      <td>1.465198</td>\n",
       "      <td>-1.423393</td>\n",
       "      <td>-0.665986</td>\n",
       "    </tr>\n",
       "  </tbody>\n",
       "</table>\n",
       "<p>5 rows × 24 columns</p>\n",
       "</div>"
      ],
      "text/plain": [
       "   mid  gold_diff_rank_0  gold_diff_rank_1  gold_diff_rank_2  \\\n",
       "0    0          1.235400         -0.636307          0.361294   \n",
       "1    1         -0.364904         -0.732195         -0.275577   \n",
       "2    2         -0.478126          0.453976          1.096144   \n",
       "3    4         -0.189547         -0.422038          0.184725   \n",
       "4    5         -0.791560         -1.662664         -2.252530   \n",
       "\n",
       "   gold_diff_rank_3  gold_diff_rank_4  gold_score_player_0  \\\n",
       "0         -0.665978         -0.463171             1.217054   \n",
       "1          0.611509         -1.316314             0.855613   \n",
       "2          1.158354          2.277633             0.868434   \n",
       "3          0.147465          0.426918             0.838467   \n",
       "4         -0.657789         -0.796367             0.974335   \n",
       "\n",
       "   gold_score_player_1  gold_score_player_2  gold_score_player_3  \\\n",
       "0             1.415443             0.948802             0.788948   \n",
       "1             1.220598             1.094664             0.881353   \n",
       "2             0.697458             1.929615             0.944899   \n",
       "3             0.731373             1.123121             0.657980   \n",
       "4             0.743297             0.614883             0.972850   \n",
       "\n",
       "          ...           gold_score_player_8  gold_score_player_9  \\\n",
       "0         ...                      0.595855             0.990382   \n",
       "1         ...                      1.017415             0.961522   \n",
       "2         ...                      0.564103             0.867038   \n",
       "3         ...                      0.977203             0.828358   \n",
       "4         ...                      1.171903             1.045423   \n",
       "\n",
       "   radiant_norm_gold  dire_norm_gold  radiant_carry_norm_gold  \\\n",
       "0           0.524044        0.801772                 0.007513   \n",
       "1           0.796655        1.744066                 0.012183   \n",
       "2           0.500272       -1.725554                 2.646680   \n",
       "3          -0.785714       -0.978204                -0.553753   \n",
       "4          -1.560604        0.780926                -1.384913   \n",
       "\n",
       "   dire_carry_norm_gold  radiant_best_gold_score  dire_best_gold_score  \\\n",
       "0              0.665735                 1.415443              1.231741   \n",
       "1              1.882619                 1.262385              1.217203   \n",
       "2             -0.531107                 1.929615              1.054471   \n",
       "3             -1.172477                 1.123121              0.977203   \n",
       "4             -0.283913                 1.035520              1.465198   \n",
       "\n",
       "   radiant_sum_gold_score  dire_sum_gold_score  \n",
       "0                0.499268             0.448760  \n",
       "1                1.015610             0.846631  \n",
       "2                0.430333            -0.253739  \n",
       "3               -1.375060            -1.089529  \n",
       "4               -1.423393            -0.665986  \n",
       "\n",
       "[5 rows x 24 columns]"
      ]
     },
     "execution_count": 85,
     "metadata": {},
     "output_type": "execute_result"
    }
   ],
   "source": [
    "train = pd.merge(train_matches, gold_rank_dif, on='mid', how='left')\n",
    "test = pd.merge(test_matches, gold_rank_dif, on='mid', how='left')\n",
    "train = pd.merge(train, gold_score_by_mean, on='mid', how='left')\n",
    "test = pd.merge(test, gold_score_by_mean, on='mid', how='left')\n",
    "\n",
    "X_train = train.drop(['radiant_carry_norm_gold', 'dire_carry_norm_gold'], 1)\n",
    "X_test = test.drop(['radiant_carry_norm_gold', 'dire_carry_norm_gold'], 1)\n",
    "\n",
    "X_train = train.drop(['radiant_won'], 1)\n",
    "y_train = train.radiant_won\n",
    "\n",
    "X_train.head()"
   ]
  },
  {
   "cell_type": "code",
   "execution_count": 87,
   "metadata": {
    "collapsed": true
   },
   "outputs": [],
   "source": [
    "train.to_csv('processing_tables/train_scoreDiffRankGold.csv', index=None)\n",
    "test.to_csv('processing_tables/test_scoreDiffRankGold.csv', index=None)"
   ]
  },
  {
   "cell_type": "code",
   "execution_count": 88,
   "metadata": {
    "collapsed": false
   },
   "outputs": [
    {
     "data": {
      "text/plain": [
       "0.69860716177691806"
      ]
     },
     "execution_count": 88,
     "metadata": {},
     "output_type": "execute_result"
    }
   ],
   "source": [
    "clf = RandomForestClassifier(n_estimators=100, n_jobs=-1, random_state=228)\n",
    "np.mean(cross_val_score(clf, X_train, y_train, cv=5, scoring='roc_auc'))"
   ]
  },
  {
   "cell_type": "code",
   "execution_count": 89,
   "metadata": {
    "collapsed": false
   },
   "outputs": [
    {
     "name": "stdout",
     "output_type": "stream",
     "text": [
      "[mean: 0.70078, std: 0.00607, params: {'C': 1.0000000000000001e-05}, mean: 0.70919, std: 0.00576, params: {'C': 0.0001}, mean: 0.70991, std: 0.00560, params: {'C': 0.001}, mean: 0.71092, std: 0.00484, params: {'C': 0.01}, mean: 0.71066, std: 0.00502, params: {'C': 0.10000000000000001}, mean: 0.71066, std: 0.00505, params: {'C': 1.0}]\n",
      "{'C': 0.01}\n",
      "best score: 0.710915002029\n"
     ]
    }
   ],
   "source": [
    "gs = logEstimation(X_train, y_train)\n",
    "print gs.grid_scores_\n",
    "print gs.best_params_\n",
    "print('best score: {}'.format(gs.best_score_))"
   ]
  },
  {
   "cell_type": "code",
   "execution_count": 90,
   "metadata": {
    "collapsed": false
   },
   "outputs": [
    {
     "data": {
      "text/plain": [
       "0.71037668327284587"
      ]
     },
     "execution_count": 90,
     "metadata": {},
     "output_type": "execute_result"
    }
   ],
   "source": [
    "clf=LogisticRegression(random_state=241, C=0.01)\n",
    "np.mean(cross_val_score(clf, X_train, y_train, cv=5, scoring='roc_auc'))"
   ]
  },
  {
   "cell_type": "code",
   "execution_count": 91,
   "metadata": {
    "collapsed": false
   },
   "outputs": [
    {
     "data": {
      "text/plain": [
       "0.71424622599317356"
      ]
     },
     "execution_count": 91,
     "metadata": {},
     "output_type": "execute_result"
    }
   ],
   "source": [
    "clf=Ridge(alpha=0.0001)\n",
    "np.mean(cross_val_score(clf, X_train, y_train, cv=5, scoring='roc_auc'))"
   ]
  },
  {
   "cell_type": "code",
   "execution_count": 92,
   "metadata": {
    "collapsed": false
   },
   "outputs": [
    {
     "data": {
      "text/plain": [
       "0.71428920162133758"
      ]
     },
     "execution_count": 92,
     "metadata": {},
     "output_type": "execute_result"
    }
   ],
   "source": [
    "clf=Lasso(alpha=0.0001, max_iter=4000)\n",
    "np.mean(cross_val_score(clf, X_train, y_train, cv=5, scoring='roc_auc'))"
   ]
  },
  {
   "cell_type": "markdown",
   "metadata": {},
   "source": [
    "## Diff rank rates"
   ]
  },
  {
   "cell_type": "code",
   "execution_count": 93,
   "metadata": {
    "collapsed": false
   },
   "outputs": [
    {
     "data": {
      "text/html": [
       "<div>\n",
       "<table border=\"1\" class=\"dataframe\">\n",
       "  <thead>\n",
       "    <tr style=\"text-align: right;\">\n",
       "      <th></th>\n",
       "      <th>mid</th>\n",
       "      <th>radiant_gold_rank_0</th>\n",
       "      <th>radiant_gold_rank_1</th>\n",
       "      <th>radiant_gold_rank_2</th>\n",
       "      <th>radiant_gold_rank_3</th>\n",
       "      <th>radiant_gold_rank_4</th>\n",
       "      <th>dire_gold_rank_0</th>\n",
       "      <th>dire_gold_rank_1</th>\n",
       "      <th>dire_gold_rank_2</th>\n",
       "      <th>dire_gold_rank_3</th>\n",
       "      <th>dire_gold_rank_4</th>\n",
       "    </tr>\n",
       "  </thead>\n",
       "  <tbody>\n",
       "    <tr>\n",
       "      <th>0</th>\n",
       "      <td>0</td>\n",
       "      <td>2613</td>\n",
       "      <td>3454</td>\n",
       "      <td>4426</td>\n",
       "      <td>5206</td>\n",
       "      <td>5755</td>\n",
       "      <td>1725</td>\n",
       "      <td>3997</td>\n",
       "      <td>4072</td>\n",
       "      <td>5917</td>\n",
       "      <td>6384</td>\n",
       "    </tr>\n",
       "    <tr>\n",
       "      <th>1</th>\n",
       "      <td>1</td>\n",
       "      <td>2477</td>\n",
       "      <td>3816</td>\n",
       "      <td>4353</td>\n",
       "      <td>5759</td>\n",
       "      <td>5760</td>\n",
       "      <td>2748</td>\n",
       "      <td>4440</td>\n",
       "      <td>4623</td>\n",
       "      <td>5066</td>\n",
       "      <td>7659</td>\n",
       "    </tr>\n",
       "    <tr>\n",
       "      <th>2</th>\n",
       "      <td>2</td>\n",
       "      <td>1948</td>\n",
       "      <td>2869</td>\n",
       "      <td>3604</td>\n",
       "      <td>4390</td>\n",
       "      <td>8581</td>\n",
       "      <td>2301</td>\n",
       "      <td>2491</td>\n",
       "      <td>2530</td>\n",
       "      <td>3096</td>\n",
       "      <td>5130</td>\n",
       "    </tr>\n",
       "    <tr>\n",
       "      <th>3</th>\n",
       "      <td>3</td>\n",
       "      <td>2961</td>\n",
       "      <td>3457</td>\n",
       "      <td>4314</td>\n",
       "      <td>4432</td>\n",
       "      <td>5464</td>\n",
       "      <td>1906</td>\n",
       "      <td>2247</td>\n",
       "      <td>3345</td>\n",
       "      <td>4791</td>\n",
       "      <td>5328</td>\n",
       "    </tr>\n",
       "    <tr>\n",
       "      <th>4</th>\n",
       "      <td>4</td>\n",
       "      <td>2076</td>\n",
       "      <td>3030</td>\n",
       "      <td>3675</td>\n",
       "      <td>4103</td>\n",
       "      <td>5154</td>\n",
       "      <td>2220</td>\n",
       "      <td>3392</td>\n",
       "      <td>3494</td>\n",
       "      <td>3920</td>\n",
       "      <td>4458</td>\n",
       "    </tr>\n",
       "  </tbody>\n",
       "</table>\n",
       "</div>"
      ],
      "text/plain": [
       "   mid  radiant_gold_rank_0  radiant_gold_rank_1  radiant_gold_rank_2  \\\n",
       "0    0                 2613                 3454                 4426   \n",
       "1    1                 2477                 3816                 4353   \n",
       "2    2                 1948                 2869                 3604   \n",
       "3    3                 2961                 3457                 4314   \n",
       "4    4                 2076                 3030                 3675   \n",
       "\n",
       "   radiant_gold_rank_3  radiant_gold_rank_4  dire_gold_rank_0  \\\n",
       "0                 5206                 5755              1725   \n",
       "1                 5759                 5760              2748   \n",
       "2                 4390                 8581              2301   \n",
       "3                 4432                 5464              1906   \n",
       "4                 4103                 5154              2220   \n",
       "\n",
       "   dire_gold_rank_1  dire_gold_rank_2  dire_gold_rank_3  dire_gold_rank_4  \n",
       "0              3997              4072              5917              6384  \n",
       "1              4440              4623              5066              7659  \n",
       "2              2491              2530              3096              5130  \n",
       "3              2247              3345              4791              5328  \n",
       "4              3392              3494              3920              4458  "
      ]
     },
     "execution_count": 93,
     "metadata": {},
     "output_type": "execute_result"
    }
   ],
   "source": [
    "rank_gold.head()"
   ]
  },
  {
   "cell_type": "code",
   "execution_count": 96,
   "metadata": {
    "collapsed": false
   },
   "outputs": [
    {
     "data": {
      "text/html": [
       "<div>\n",
       "<table border=\"1\" class=\"dataframe\">\n",
       "  <thead>\n",
       "    <tr style=\"text-align: right;\">\n",
       "      <th></th>\n",
       "      <th>gold_diff_rank_0</th>\n",
       "      <th>gold_diff_rank_1</th>\n",
       "      <th>gold_diff_rank_2</th>\n",
       "      <th>gold_diff_rank_3</th>\n",
       "      <th>gold_diff_rank_4</th>\n",
       "    </tr>\n",
       "    <tr>\n",
       "      <th>mid</th>\n",
       "      <th></th>\n",
       "      <th></th>\n",
       "      <th></th>\n",
       "      <th></th>\n",
       "      <th></th>\n",
       "    </tr>\n",
       "  </thead>\n",
       "  <tbody>\n",
       "    <tr>\n",
       "      <th>0</th>\n",
       "      <td>888</td>\n",
       "      <td>-543</td>\n",
       "      <td>354</td>\n",
       "      <td>-711</td>\n",
       "      <td>-629</td>\n",
       "    </tr>\n",
       "    <tr>\n",
       "      <th>1</th>\n",
       "      <td>-271</td>\n",
       "      <td>-624</td>\n",
       "      <td>-270</td>\n",
       "      <td>693</td>\n",
       "      <td>-1899</td>\n",
       "    </tr>\n",
       "    <tr>\n",
       "      <th>2</th>\n",
       "      <td>-353</td>\n",
       "      <td>378</td>\n",
       "      <td>1074</td>\n",
       "      <td>1294</td>\n",
       "      <td>3451</td>\n",
       "    </tr>\n",
       "    <tr>\n",
       "      <th>3</th>\n",
       "      <td>1055</td>\n",
       "      <td>1210</td>\n",
       "      <td>969</td>\n",
       "      <td>-359</td>\n",
       "      <td>136</td>\n",
       "    </tr>\n",
       "    <tr>\n",
       "      <th>4</th>\n",
       "      <td>-144</td>\n",
       "      <td>-362</td>\n",
       "      <td>181</td>\n",
       "      <td>183</td>\n",
       "      <td>696</td>\n",
       "    </tr>\n",
       "  </tbody>\n",
       "</table>\n",
       "</div>"
      ],
      "text/plain": [
       "     gold_diff_rank_0  gold_diff_rank_1  gold_diff_rank_2  gold_diff_rank_3  \\\n",
       "mid                                                                           \n",
       "0                 888              -543               354              -711   \n",
       "1                -271              -624              -270               693   \n",
       "2                -353               378              1074              1294   \n",
       "3                1055              1210               969              -359   \n",
       "4                -144              -362               181               183   \n",
       "\n",
       "     gold_diff_rank_4  \n",
       "mid                    \n",
       "0                -629  \n",
       "1               -1899  \n",
       "2                3451  \n",
       "3                 136  \n",
       "4                 696  "
      ]
     },
     "execution_count": 96,
     "metadata": {},
     "output_type": "execute_result"
    }
   ],
   "source": [
    "norm_by_row_gold_rank_dif = pd.DataFrame(data = np.sort(gold.values[:,:5]) - np.sort(gold.values[:,5:10]),\n",
    "                                 index=gold.index,\n",
    "                                 columns = ['gold_diff_rank_{0}'.format(i) for i in range(5)]) \n",
    "norm_by_row_gold_rank_dif.head()"
   ]
  },
  {
   "cell_type": "code",
   "execution_count": null,
   "metadata": {
    "collapsed": true
   },
   "outputs": [],
   "source": [
    "norm_by_row_dif_gold = "
   ]
  }
 ],
 "metadata": {
  "anaconda-cloud": {},
  "kernelspec": {
   "display_name": "Python 2.7",
   "language": "python",
   "name": "python2.7"
  },
  "language_info": {
   "codemirror_mode": {
    "name": "ipython",
    "version": 2
   },
   "file_extension": ".py",
   "mimetype": "text/x-python",
   "name": "python",
   "nbconvert_exporter": "python",
   "pygments_lexer": "ipython2",
   "version": "2.7.12"
  }
 },
 "nbformat": 4,
 "nbformat_minor": 1
}
