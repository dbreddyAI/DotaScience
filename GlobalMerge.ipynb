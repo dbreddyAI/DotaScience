{
 "cells": [
  {
   "cell_type": "code",
   "execution_count": 1,
   "metadata": {
    "collapsed": false
   },
   "outputs": [
    {
     "name": "stdout",
     "output_type": "stream",
     "text": [
      "Populating the interactive namespace from numpy and matplotlib\n"
     ]
    }
   ],
   "source": [
    "import pandas as pd\n",
    "import numpy as np\n",
    "\n",
    "from sklearn.preprocessing import StandardScaler\n",
    "from sklearn.grid_search import GridSearchCV\n",
    "from sklearn.cross_validation import KFold\n",
    "\n",
    "from sklearn.cross_validation import cross_val_score\n",
    "\n",
    "from sklearn.linear_model import LogisticRegression\n",
    "from sklearn.ensemble import RandomForestClassifier\n",
    "from sklearn.linear_model import Lasso, Ridge\n",
    "\n",
    "%pylab inline"
   ]
  },
  {
   "cell_type": "code",
   "execution_count": 2,
   "metadata": {
    "collapsed": true
   },
   "outputs": [],
   "source": [
    "def normalize_data(X):\n",
    "    return pd.DataFrame(\n",
    "        StandardScaler().fit_transform(X),\n",
    "        index = X.index, \n",
    "        columns=X.columns\n",
    "    )\n",
    "\n",
    "def logEstimation(X, y):\n",
    "    grid = {'C': np.power(10.0, np.arange(-5, 1))}\n",
    "    kf=KFold(y.size, n_folds=5, shuffle=True, random_state=241)\n",
    "    clf=LogisticRegression(random_state=241)\n",
    "    gs = GridSearchCV(clf, grid, scoring='roc_auc', cv=kf)\n",
    "    gs.fit(X, y)\n",
    "    return gs"
   ]
  },
  {
   "cell_type": "code",
   "execution_count": 3,
   "metadata": {
    "collapsed": false
   },
   "outputs": [],
   "source": [
    "def my_clf_cross_val(X_train, y_train): \n",
    "    clf=LogisticRegression(random_state=241, C=0.1)\n",
    "    print 'logreg: ', np.mean(cross_val_score(clf, X_train, y_train, cv=5, scoring='roc_auc'))\n",
    "    clf=Ridge(alpha=0.0001)\n",
    "    print 'Ridge: ', np.mean(cross_val_score(clf, X_train, y_train, cv=5, scoring='roc_auc'))\n",
    "    clf=Lasso(alpha=0.0001, max_iter=6000)\n",
    "    print 'Lasso: ', np.mean(cross_val_score(clf, X_train, y_train, cv=5, scoring='roc_auc'))"
   ]
  },
  {
   "cell_type": "code",
   "execution_count": 4,
   "metadata": {
    "collapsed": true
   },
   "outputs": [],
   "source": [
    "def easy_test():\n",
    "    clf=Ridge(alpha=0.0001)\n",
    "    print 'Ridge: ', np.mean(cross_val_score(clf, X_train, y_train, cv=5, scoring='roc_auc'))\n",
    "    clf=Lasso(alpha=0.0001, max_iter=6000)\n",
    "    print 'Lasso: ', np.mean(cross_val_score(clf, X_train, y_train, cv=5, scoring='roc_auc'))"
   ]
  },
  {
   "cell_type": "code",
   "execution_count": 6,
   "metadata": {
    "collapsed": false
   },
   "outputs": [],
   "source": [
    "def full_test():\n",
    "    clf = RandomForestClassifier(n_estimators=100, n_jobs=-1, random_state=228)\n",
    "    print 'RF: ', np.mean(cross_val_score(clf, X_train, y_train, cv=5, scoring='roc_auc'))\n",
    "    gs = logEstimation(X_train, y_train)\n",
    "#     print gs.grid_scores_\n",
    "    print gs.best_params_\n",
    "    print('best score of log grid search: {}'.format(gs.best_score_))\n",
    "    clf=LogisticRegression(random_state=241, C=gs.best_params_['C'])\n",
    "#     clf=LogisticRegression(random_state=241, C=0.1)\n",
    "    print 'logreg: ', np.mean(cross_val_score(clf, X_train, y_train, cv=5, scoring='roc_auc'))\n",
    "    clf=Ridge(alpha=0.0001)\n",
    "    print 'Ridge: ', np.mean(cross_val_score(clf, X_train, y_train, cv=5, scoring='roc_auc'))\n",
    "    clf=Lasso(alpha=0.0001, max_iter=6000)\n",
    "    print 'Lasso: ', np.mean(cross_val_score(clf, X_train, y_train, cv=5, scoring='roc_auc'))"
   ]
  },
  {
   "cell_type": "code",
   "execution_count": 11,
   "metadata": {
    "collapsed": true
   },
   "outputs": [],
   "source": [
    "def total_merge(gold, heroes, items, xp, creeps, events):\n",
    "    train_matches = pd.read_csv('data/train.csv')\n",
    "    test_matches = pd.read_csv('data/test.csv')\n",
    "    \n",
    "    train = pd.merge(train_matches, gold, on='mid', how='left')\n",
    "    test = pd.merge(test_matches, gold, on='mid', how='left')\n",
    "    train = pd.merge(train, heroes, on='mid', how='left')\n",
    "    test = pd.merge(test, heroes, on='mid', how='left')\n",
    "    train = pd.merge(train, items, on='mid', how='left')\n",
    "    test = pd.merge(test, items, on='mid', how='left')\n",
    "    train = pd.merge(train, xp, on='mid', how='left')\n",
    "    test = pd.merge(test, xp, on='mid', how='left')\n",
    "    train = pd.merge(train, creeps, on='mid', how='left')\n",
    "    test = pd.merge(test, creeps, on='mid', how='left')\n",
    "    train = pd.merge(train, events, on='mid', how='left')\n",
    "    test = pd.merge(test, events, on='mid', how='left')\n",
    "\n",
    "    X_train = train.drop(['radiant_won'], 1)\n",
    "    y_train = train.radiant_won\n",
    "\n",
    "    return X_train, y_train, test"
   ]
  },
  {
   "cell_type": "code",
   "execution_count": 8,
   "metadata": {
    "collapsed": false
   },
   "outputs": [],
   "source": [
    "gold_tables_path = [\n",
    "    'norm_gold',\n",
    "    'goldScoreWithoutCarry',\n",
    "    'goldScoreWithCarry',\n",
    "    'normByRowsRankGold',\n",
    "    'normByColsRankGold',\n",
    "    'goldRankDif'\n",
    "]\n",
    "\n",
    "gold_tables_dict = {path: pd.read_csv('processing_tables/' + path + '.csv') for path in gold_tables_path}"
   ]
  },
  {
   "cell_type": "code",
   "execution_count": 14,
   "metadata": {
    "collapsed": false
   },
   "outputs": [],
   "source": [
    "norm_gold = pd.read_csv('processing_tables/norm_gold.csv')\n",
    "gold_score = pd.read_csv('processing_tables/goldScoreWithoutCarry.csv')\n",
    "gold_score_with_carry = pd.read_csv('processing_tables/goldScoreWithCarry.csv')\n",
    "norm_by_rows_rank_gold = pd.read_csv('processing_tables/normByRowsRankGold.csv')\n",
    "norm_by_cols_rank = pd.read_csv('processing_tables/normByColsRankGold.csv')\n",
    "dif_rank_gold = pd.read_csv('processing_tables/goldRankDif.csv')\n",
    "\n",
    "gold_tables_dict['scoreNormGold'] = pd.merge(\n",
    "    norm_gold, \n",
    "    gold_score.drop(['radiant_norm_gold', 'dire_norm_gold'], 1),\n",
    "    on='mid'\n",
    ")\n",
    "\n",
    "gold_tables_dict['scoreNormByRowsRank'] = pd.merge(norm_by_rows_rank_gold, gold_score, on='mid', how='left')\n",
    "gold_tables_dict['scoreNormByColsRank'] = pd.merge(norm_by_cols_rank, gold_score, on='mid', how='left')\n",
    "gold_tables_dict['scoreDifRankGold'] = pd.merge(dif_rank_gold, gold_score, on='mid', how='left')"
   ]
  },
  {
   "cell_type": "code",
   "execution_count": null,
   "metadata": {
    "collapsed": true
   },
   "outputs": [],
   "source": []
  },
  {
   "cell_type": "code",
   "execution_count": 21,
   "metadata": {
    "collapsed": false
   },
   "outputs": [
    {
     "name": "stdout",
     "output_type": "stream",
     "text": [
      "goldRankDif norm xp + score\n",
      "logreg:  0.766173901595\n",
      "Ridge:  0.764441899903\n",
      "Lasso:  0.765962116574\n",
      "goldRankDif rank_by_rows_xp\n",
      "logreg:  0.766163004419\n",
      "Ridge:  0.764194817133\n",
      "Lasso:  0.765875200761\n",
      "goldRankDif xp_score\n",
      "logreg:  0.765479990705\n",
      "Ridge:  0.763445984357\n",
      "Lasso:  0.765231354801\n",
      "goldRankDif only_xp\n",
      "logreg:  0.766214545164\n",
      "Ridge:  0.764247713985\n",
      "Lasso:  0.765991038421\n",
      "goldRankDif rank_by_rows_xp_score\n",
      "logreg:  0.766100869082\n",
      "Ridge:  0.764478500457\n",
      "Lasso:  0.765867695325\n",
      "goldRankDif xp_dif\n",
      "logreg:  0.766383583565\n",
      "Ridge:  0.764408464647\n",
      "Lasso:  0.766107133354\n",
      "goldRankDif xp_score_dif\n",
      "logreg:  0.766296141942\n",
      "Ridge:  0.764691677351\n",
      "Lasso:  0.766084907833\n",
      "scoreNormByColsRank norm xp + score\n",
      "logreg:  0.76604067885\n",
      "Ridge:  0.764648292738\n",
      "Lasso:  0.766073849827\n",
      "scoreNormByColsRank rank_by_rows_xp\n",
      "logreg:  0.766054305536\n",
      "Ridge:  0.764625264931\n",
      "Lasso:  0.766046681085\n",
      "scoreNormByColsRank xp_score\n",
      "logreg:  0.765636655361\n",
      "Ridge:  0.764314280461\n",
      "Lasso:  0.765798847252\n",
      "scoreNormByColsRank only_xp\n",
      "logreg:  0.76598713525\n",
      "Ridge:  0.764625320798\n",
      "Lasso:  0.766044476612\n",
      "scoreNormByColsRank rank_by_rows_xp_score\n",
      "logreg:  0.765882736692\n",
      "Ridge:  0.764466378024\n",
      "Lasso:  0.76581450204\n",
      "scoreNormByColsRank xp_dif\n",
      "logreg:  0.766196660789\n",
      "Ridge:  0.76478033056\n",
      "Lasso:  0.766180994358\n",
      "scoreNormByColsRank xp_score_dif\n",
      "logreg:  0.766003987055\n",
      "Ridge:  0.764599247061\n",
      "Lasso:  0.765945474665\n",
      "goldScoreWithoutCarry norm xp + score\n",
      "logreg:  0.765969051883\n",
      "Ridge:  0.764805355026\n",
      "Lasso:  0.766205799555\n",
      "goldScoreWithoutCarry rank_by_rows_xp\n",
      "logreg:  0.765899295519\n",
      "Ridge:  0.764740849049\n",
      "Lasso:  0.766101636688\n",
      "goldScoreWithoutCarry xp_score\n",
      "logreg:  0.765601173772\n",
      "Ridge:  0.764511231309\n",
      "Lasso:  0.765968003017\n",
      "goldScoreWithoutCarry only_xp\n",
      "logreg:  0.76590588659\n",
      "Ridge:  0.764808153483\n",
      "Lasso:  0.766194810202\n",
      "goldScoreWithoutCarry rank_by_rows_xp_score\n",
      "logreg:  0.765639278504\n",
      "Ridge:  0.76449214978\n",
      "Lasso:  0.765834428335\n",
      "goldScoreWithoutCarry xp_dif\n",
      "logreg:  0.766116219213\n",
      "Ridge:  0.764978735139\n",
      "Lasso:  0.766302002184\n",
      "goldScoreWithoutCarry xp_score_dif\n",
      "logreg:  0.765871743844\n",
      "Ridge:  0.764726352919\n",
      "Lasso:  0.766034152467\n",
      "scoreNormGold norm xp + score\n",
      "logreg:  0.765767624462\n",
      "Ridge:  0.764400675275\n",
      "Lasso:  0.765984346921\n",
      "scoreNormGold rank_by_rows_xp\n",
      "logreg:  0.765852905623\n",
      "Ridge:  0.764595232388\n",
      "Lasso:  0.766034716641\n",
      "scoreNormGold xp_score\n",
      "logreg:  0.765547811262\n",
      "Ridge:  0.764349005141\n",
      "Lasso:  0.765902387431\n",
      "scoreNormGold only_xp\n",
      "logreg:  0.765844099954\n",
      "Ridge:  0.764604950031\n",
      "Lasso:  0.76606028093\n",
      "scoreNormGold rank_by_rows_xp_score\n",
      "logreg:  0.765584890432\n",
      "Ridge:  0.764325022541\n",
      "Lasso:  0.765767840614\n",
      "scoreNormGold xp_dif\n",
      "logreg:  0.766077856761\n",
      "Ridge:  0.764819930756\n",
      "Lasso:  0.766243842007\n",
      "scoreNormGold xp_score_dif\n",
      "logreg:  0.765816841555\n",
      "Ridge:  0.764537182095\n",
      "Lasso:  0.76600066595\n",
      "norm_gold norm xp + score\n",
      "logreg:  0.765613547084\n",
      "Ridge:  0.763852637558\n",
      "Lasso:  0.765406691954\n",
      "norm_gold rank_by_rows_xp\n",
      "logreg:  0.76552202687\n",
      "Ridge:  0.763387993176\n",
      "Lasso:  0.765180376656\n",
      "norm_gold xp_score\n",
      "logreg:  0.764935697492\n",
      "Ridge:  0.762767580464\n",
      "Lasso:  0.764636748811\n",
      "norm_gold only_xp\n",
      "logreg:  0.765465065979\n",
      "Ridge:  0.76336146542\n",
      "Lasso:  0.765215817068\n",
      "norm_gold rank_by_rows_xp_score\n",
      "logreg:  0.765594281391\n",
      "Ridge:  0.763908538772\n",
      "Lasso:  0.765293226421\n",
      "norm_gold xp_dif\n",
      "logreg:  0.765755908205\n",
      "Ridge:  0.763628910281\n",
      "Lasso:  0.765422904069\n",
      "norm_gold xp_score_dif\n",
      "logreg:  0.765771863111\n",
      "Ridge:  0.764121094418\n",
      "Lasso:  0.765506731971\n",
      "scoreNormByRowsRank norm xp + score\n",
      "logreg:  0.766072556946\n",
      "Ridge:  0.764664906452\n",
      "Lasso:  0.766139459594\n",
      "scoreNormByRowsRank rank_by_rows_xp\n",
      "logreg:  0.766070435702\n",
      "Ridge:  0.764668835801\n",
      "Lasso:  0.766130576826\n",
      "scoreNormByRowsRank xp_score\n",
      "logreg:  0.765670157195\n",
      "Ridge:  0.764351439655\n",
      "Lasso:  0.765881806575\n",
      "scoreNormByRowsRank only_xp\n",
      "logreg:  0.765995425142\n",
      "Ridge:  0.764666485124\n",
      "Lasso:  0.766144057117\n",
      "scoreNormByRowsRank rank_by_rows_xp_score\n",
      "logreg:  0.765870927586\n",
      "Ridge:  0.764489581421\n",
      "Lasso:  0.765855347502\n",
      "scoreNormByRowsRank xp_dif\n",
      "logreg:  0.766220334189\n",
      "Ridge:  0.764823957768\n",
      "Lasso:  0.766281750474\n",
      "scoreNormByRowsRank xp_score_dif\n",
      "logreg:  0.766014331502\n",
      "Ridge:  0.764632765341\n",
      "Lasso:  0.76597331446\n",
      "scoreDifRankGold norm xp + score\n",
      "logreg:  0.766106202706\n",
      "Ridge:  0.764738125643\n",
      "Lasso:  0.766177837936\n",
      "scoreDifRankGold rank_by_rows_xp\n",
      "logreg:  0.766083168584\n",
      "Ridge:  0.764714201223\n",
      "Lasso:  0.766093633934\n",
      "scoreDifRankGold xp_score\n",
      "logreg:  0.765749820952\n",
      "Ridge:  0.764455982806\n",
      "Lasso:  0.765915964387\n",
      "scoreDifRankGold only_xp\n",
      "logreg:  0.766070081345\n",
      "Ridge:  0.764748477589\n",
      "Lasso:  0.766185161547\n",
      "scoreDifRankGold rank_by_rows_xp_score\n",
      "logreg:  0.765882100448\n",
      "Ridge:  0.764514990926\n",
      "Lasso:  0.765833640788\n",
      "scoreDifRankGold xp_dif\n",
      "logreg:  0.766278512169\n",
      "Ridge:  0.764918547891\n",
      "Lasso:  0.766311579246\n",
      "scoreDifRankGold xp_score_dif\n",
      "logreg:  0.766085742405\n",
      "Ridge:  0.764739751783\n",
      "Lasso:  0.766043795867\n",
      "normByColsRankGold norm xp + score\n",
      "logreg:  0.765964114163\n",
      "Ridge:  0.764252805591\n",
      "Lasso:  0.765761436265\n",
      "normByColsRankGold rank_by_rows_xp\n",
      "logreg:  0.766015587649\n",
      "Ridge:  0.764022542671\n",
      "Lasso:  0.765727699853\n",
      "normByColsRankGold xp_score\n",
      "logreg:  0.765279502498\n",
      "Ridge:  0.763241843788\n",
      "Lasso:  0.765028041796\n",
      "normByColsRankGold only_xp\n",
      "logreg:  0.766004773466\n",
      "Ridge:  0.764023971064\n",
      "Lasso:  0.765777528619\n",
      "normByColsRankGold rank_by_rows_xp_score\n",
      "logreg:  0.765948907018\n",
      "Ridge:  0.764352335129\n",
      "Lasso:  0.765723376642\n",
      "normByColsRankGold xp_dif\n",
      "logreg:  0.766169278705\n",
      "Ridge:  0.764187928525\n",
      "Lasso:  0.765884713267\n",
      "normByColsRankGold xp_score_dif\n",
      "logreg:  0.766087464526\n",
      "Ridge:  0.764498789887\n",
      "Lasso:  0.765877227077\n",
      "goldScoreWithCarry norm xp + score\n",
      "logreg:  0.765969051883\n",
      "Ridge:  0.764805355026\n",
      "Lasso:  0.766205799555\n",
      "goldScoreWithCarry rank_by_rows_xp\n",
      "logreg:  0.765899295519\n",
      "Ridge:  0.764740849049\n",
      "Lasso:  0.766101636688\n",
      "goldScoreWithCarry xp_score\n",
      "logreg:  0.765601173772\n",
      "Ridge:  0.764511231309\n",
      "Lasso:  0.765968003017\n",
      "goldScoreWithCarry only_xp\n",
      "logreg:  0.76590588659\n",
      "Ridge:  0.764808153483\n",
      "Lasso:  0.766194810202\n",
      "goldScoreWithCarry rank_by_rows_xp_score\n",
      "logreg:  0.765639278504\n",
      "Ridge:  0.76449214978\n",
      "Lasso:  0.765834428335\n",
      "goldScoreWithCarry xp_dif\n",
      "logreg:  0.766116219213\n",
      "Ridge:  0.764978735139\n",
      "Lasso:  0.766302002184\n",
      "goldScoreWithCarry xp_score_dif\n",
      "logreg:  0.765871743844\n",
      "Ridge:  0.764726352919\n",
      "Lasso:  0.766034152467\n",
      "normByRowsRankGold norm xp + score\n",
      "logreg:  0.766066554073\n",
      "Ridge:  0.764536456661\n",
      "Lasso:  0.766013460629\n",
      "normByRowsRankGold rank_by_rows_xp\n"
     ]
    },
    {
     "ename": "MemoryError",
     "evalue": "",
     "output_type": "error",
     "traceback": [
      "\u001b[0;31m---------------------------------------------------------------------------\u001b[0m",
      "\u001b[0;31mMemoryError\u001b[0m                               Traceback (most recent call last)",
      "\u001b[0;32m<ipython-input-21-72a6e946efe8>\u001b[0m in \u001b[0;36m<module>\u001b[0;34m()\u001b[0m\n\u001b[1;32m     27\u001b[0m     \u001b[1;32mfor\u001b[0m \u001b[0mxp_table_name\u001b[0m\u001b[1;33m,\u001b[0m \u001b[0mxp\u001b[0m \u001b[1;32min\u001b[0m \u001b[0mxp_dict\u001b[0m\u001b[1;33m.\u001b[0m\u001b[0mitems\u001b[0m\u001b[1;33m(\u001b[0m\u001b[1;33m)\u001b[0m\u001b[1;33m:\u001b[0m\u001b[1;33m\u001b[0m\u001b[0m\n\u001b[1;32m     28\u001b[0m         \u001b[1;32mprint\u001b[0m \u001b[0mgold_table_name\u001b[0m\u001b[1;33m,\u001b[0m \u001b[0mxp_table_name\u001b[0m\u001b[1;33m\u001b[0m\u001b[0m\n\u001b[0;32m---> 29\u001b[0;31m         \u001b[0mX_train\u001b[0m\u001b[1;33m,\u001b[0m \u001b[0my_train\u001b[0m\u001b[1;33m,\u001b[0m \u001b[0mtest\u001b[0m \u001b[1;33m=\u001b[0m \u001b[0mtotal_merge\u001b[0m\u001b[1;33m(\u001b[0m\u001b[0mgold\u001b[0m\u001b[1;33m,\u001b[0m \u001b[0mheroes\u001b[0m\u001b[1;33m,\u001b[0m \u001b[0mitems\u001b[0m\u001b[1;33m,\u001b[0m \u001b[0mxp\u001b[0m\u001b[1;33m,\u001b[0m \u001b[0mcreeps\u001b[0m\u001b[1;33m,\u001b[0m \u001b[0mevents\u001b[0m\u001b[1;33m)\u001b[0m\u001b[1;33m\u001b[0m\u001b[0m\n\u001b[0m\u001b[1;32m     30\u001b[0m         \u001b[0mX_train\u001b[0m\u001b[1;33m.\u001b[0m\u001b[0mindex\u001b[0m \u001b[1;33m=\u001b[0m \u001b[0mX_train\u001b[0m\u001b[1;33m.\u001b[0m\u001b[0mmid\u001b[0m\u001b[1;33m\u001b[0m\u001b[0m\n\u001b[1;32m     31\u001b[0m         \u001b[0mX_train\u001b[0m\u001b[1;33m.\u001b[0m\u001b[0mdrop\u001b[0m\u001b[1;33m(\u001b[0m\u001b[1;34m'mid'\u001b[0m\u001b[1;33m,\u001b[0m \u001b[1;36m1\u001b[0m\u001b[1;33m,\u001b[0m\u001b[0minplace\u001b[0m\u001b[1;33m=\u001b[0m\u001b[0mTrue\u001b[0m\u001b[1;33m)\u001b[0m\u001b[1;33m\u001b[0m\u001b[0m\n",
      "\u001b[0;32m<ipython-input-11-c45a6e1f1a2e>\u001b[0m in \u001b[0;36mtotal_merge\u001b[0;34m(gold, heroes, items, xp, creeps, events)\u001b[0m\n\u001b[1;32m      8\u001b[0m     \u001b[0mtest\u001b[0m \u001b[1;33m=\u001b[0m \u001b[0mpd\u001b[0m\u001b[1;33m.\u001b[0m\u001b[0mmerge\u001b[0m\u001b[1;33m(\u001b[0m\u001b[0mtest\u001b[0m\u001b[1;33m,\u001b[0m \u001b[0mheroes\u001b[0m\u001b[1;33m,\u001b[0m \u001b[0mon\u001b[0m\u001b[1;33m=\u001b[0m\u001b[1;34m'mid'\u001b[0m\u001b[1;33m,\u001b[0m \u001b[0mhow\u001b[0m\u001b[1;33m=\u001b[0m\u001b[1;34m'left'\u001b[0m\u001b[1;33m)\u001b[0m\u001b[1;33m\u001b[0m\u001b[0m\n\u001b[1;32m      9\u001b[0m     \u001b[0mtrain\u001b[0m \u001b[1;33m=\u001b[0m \u001b[0mpd\u001b[0m\u001b[1;33m.\u001b[0m\u001b[0mmerge\u001b[0m\u001b[1;33m(\u001b[0m\u001b[0mtrain\u001b[0m\u001b[1;33m,\u001b[0m \u001b[0mitems\u001b[0m\u001b[1;33m,\u001b[0m \u001b[0mon\u001b[0m\u001b[1;33m=\u001b[0m\u001b[1;34m'mid'\u001b[0m\u001b[1;33m,\u001b[0m \u001b[0mhow\u001b[0m\u001b[1;33m=\u001b[0m\u001b[1;34m'left'\u001b[0m\u001b[1;33m)\u001b[0m\u001b[1;33m\u001b[0m\u001b[0m\n\u001b[0;32m---> 10\u001b[0;31m     \u001b[0mtest\u001b[0m \u001b[1;33m=\u001b[0m \u001b[0mpd\u001b[0m\u001b[1;33m.\u001b[0m\u001b[0mmerge\u001b[0m\u001b[1;33m(\u001b[0m\u001b[0mtest\u001b[0m\u001b[1;33m,\u001b[0m \u001b[0mitems\u001b[0m\u001b[1;33m,\u001b[0m \u001b[0mon\u001b[0m\u001b[1;33m=\u001b[0m\u001b[1;34m'mid'\u001b[0m\u001b[1;33m,\u001b[0m \u001b[0mhow\u001b[0m\u001b[1;33m=\u001b[0m\u001b[1;34m'left'\u001b[0m\u001b[1;33m)\u001b[0m\u001b[1;33m\u001b[0m\u001b[0m\n\u001b[0m\u001b[1;32m     11\u001b[0m     \u001b[0mtrain\u001b[0m \u001b[1;33m=\u001b[0m \u001b[0mpd\u001b[0m\u001b[1;33m.\u001b[0m\u001b[0mmerge\u001b[0m\u001b[1;33m(\u001b[0m\u001b[0mtrain\u001b[0m\u001b[1;33m,\u001b[0m \u001b[0mxp\u001b[0m\u001b[1;33m,\u001b[0m \u001b[0mon\u001b[0m\u001b[1;33m=\u001b[0m\u001b[1;34m'mid'\u001b[0m\u001b[1;33m,\u001b[0m \u001b[0mhow\u001b[0m\u001b[1;33m=\u001b[0m\u001b[1;34m'left'\u001b[0m\u001b[1;33m)\u001b[0m\u001b[1;33m\u001b[0m\u001b[0m\n\u001b[1;32m     12\u001b[0m     \u001b[0mtest\u001b[0m \u001b[1;33m=\u001b[0m \u001b[0mpd\u001b[0m\u001b[1;33m.\u001b[0m\u001b[0mmerge\u001b[0m\u001b[1;33m(\u001b[0m\u001b[0mtest\u001b[0m\u001b[1;33m,\u001b[0m \u001b[0mxp\u001b[0m\u001b[1;33m,\u001b[0m \u001b[0mon\u001b[0m\u001b[1;33m=\u001b[0m\u001b[1;34m'mid'\u001b[0m\u001b[1;33m,\u001b[0m \u001b[0mhow\u001b[0m\u001b[1;33m=\u001b[0m\u001b[1;34m'left'\u001b[0m\u001b[1;33m)\u001b[0m\u001b[1;33m\u001b[0m\u001b[0m\n",
      "\u001b[0;32mC:\\Anaconda3\\envs\\Python2.7\\lib\\site-packages\\pandas\\tools\\merge.pyc\u001b[0m in \u001b[0;36mmerge\u001b[0;34m(left, right, how, on, left_on, right_on, left_index, right_index, sort, suffixes, copy, indicator)\u001b[0m\n\u001b[1;32m     37\u001b[0m                          \u001b[0mright_index\u001b[0m\u001b[1;33m=\u001b[0m\u001b[0mright_index\u001b[0m\u001b[1;33m,\u001b[0m \u001b[0msort\u001b[0m\u001b[1;33m=\u001b[0m\u001b[0msort\u001b[0m\u001b[1;33m,\u001b[0m \u001b[0msuffixes\u001b[0m\u001b[1;33m=\u001b[0m\u001b[0msuffixes\u001b[0m\u001b[1;33m,\u001b[0m\u001b[1;33m\u001b[0m\u001b[0m\n\u001b[1;32m     38\u001b[0m                          copy=copy, indicator=indicator)\n\u001b[0;32m---> 39\u001b[0;31m     \u001b[1;32mreturn\u001b[0m \u001b[0mop\u001b[0m\u001b[1;33m.\u001b[0m\u001b[0mget_result\u001b[0m\u001b[1;33m(\u001b[0m\u001b[1;33m)\u001b[0m\u001b[1;33m\u001b[0m\u001b[0m\n\u001b[0m\u001b[1;32m     40\u001b[0m \u001b[1;32mif\u001b[0m \u001b[0m__debug__\u001b[0m\u001b[1;33m:\u001b[0m\u001b[1;33m\u001b[0m\u001b[0m\n\u001b[1;32m     41\u001b[0m     \u001b[0mmerge\u001b[0m\u001b[1;33m.\u001b[0m\u001b[0m__doc__\u001b[0m \u001b[1;33m=\u001b[0m \u001b[0m_merge_doc\u001b[0m \u001b[1;33m%\u001b[0m \u001b[1;34m'\\nleft : DataFrame'\u001b[0m\u001b[1;33m\u001b[0m\u001b[0m\n",
      "\u001b[0;32mC:\\Anaconda3\\envs\\Python2.7\\lib\\site-packages\\pandas\\tools\\merge.pyc\u001b[0m in \u001b[0;36mget_result\u001b[0;34m(self)\u001b[0m\n\u001b[1;32m    229\u001b[0m             \u001b[1;33m[\u001b[0m\u001b[1;33m(\u001b[0m\u001b[0mldata\u001b[0m\u001b[1;33m,\u001b[0m \u001b[0mlindexers\u001b[0m\u001b[1;33m)\u001b[0m\u001b[1;33m,\u001b[0m \u001b[1;33m(\u001b[0m\u001b[0mrdata\u001b[0m\u001b[1;33m,\u001b[0m \u001b[0mrindexers\u001b[0m\u001b[1;33m)\u001b[0m\u001b[1;33m]\u001b[0m\u001b[1;33m,\u001b[0m\u001b[1;33m\u001b[0m\u001b[0m\n\u001b[1;32m    230\u001b[0m             \u001b[0maxes\u001b[0m\u001b[1;33m=\u001b[0m\u001b[1;33m[\u001b[0m\u001b[0mllabels\u001b[0m\u001b[1;33m.\u001b[0m\u001b[0mappend\u001b[0m\u001b[1;33m(\u001b[0m\u001b[0mrlabels\u001b[0m\u001b[1;33m)\u001b[0m\u001b[1;33m,\u001b[0m \u001b[0mjoin_index\u001b[0m\u001b[1;33m]\u001b[0m\u001b[1;33m,\u001b[0m\u001b[1;33m\u001b[0m\u001b[0m\n\u001b[0;32m--> 231\u001b[0;31m             concat_axis=0, copy=self.copy)\n\u001b[0m\u001b[1;32m    232\u001b[0m \u001b[1;33m\u001b[0m\u001b[0m\n\u001b[1;32m    233\u001b[0m         \u001b[0mtyp\u001b[0m \u001b[1;33m=\u001b[0m \u001b[0mself\u001b[0m\u001b[1;33m.\u001b[0m\u001b[0mleft\u001b[0m\u001b[1;33m.\u001b[0m\u001b[0m_constructor\u001b[0m\u001b[1;33m\u001b[0m\u001b[0m\n",
      "\u001b[0;32mC:\\Anaconda3\\envs\\Python2.7\\lib\\site-packages\\pandas\\core\\internals.pyc\u001b[0m in \u001b[0;36mconcatenate_block_managers\u001b[0;34m(mgrs_indexers, axes, concat_axis, copy)\u001b[0m\n\u001b[1;32m   4543\u001b[0m                                                 copy=copy),\n\u001b[1;32m   4544\u001b[0m                          placement=placement)\n\u001b[0;32m-> 4545\u001b[0;31m               for placement, join_units in concat_plan]\n\u001b[0m\u001b[1;32m   4546\u001b[0m \u001b[1;33m\u001b[0m\u001b[0m\n\u001b[1;32m   4547\u001b[0m     \u001b[1;32mreturn\u001b[0m \u001b[0mBlockManager\u001b[0m\u001b[1;33m(\u001b[0m\u001b[0mblocks\u001b[0m\u001b[1;33m,\u001b[0m \u001b[0maxes\u001b[0m\u001b[1;33m)\u001b[0m\u001b[1;33m\u001b[0m\u001b[0m\n",
      "\u001b[0;32mC:\\Anaconda3\\envs\\Python2.7\\lib\\site-packages\\pandas\\core\\internals.pyc\u001b[0m in \u001b[0;36mconcatenate_join_units\u001b[0;34m(join_units, concat_axis, copy)\u001b[0m\n\u001b[1;32m   4640\u001b[0m     to_concat = [ju.get_reindexed_values(empty_dtype=empty_dtype,\n\u001b[1;32m   4641\u001b[0m                                          upcasted_na=upcasted_na)\n\u001b[0;32m-> 4642\u001b[0;31m                  for ju in join_units]\n\u001b[0m\u001b[1;32m   4643\u001b[0m \u001b[1;33m\u001b[0m\u001b[0m\n\u001b[1;32m   4644\u001b[0m     \u001b[1;32mif\u001b[0m \u001b[0mlen\u001b[0m\u001b[1;33m(\u001b[0m\u001b[0mto_concat\u001b[0m\u001b[1;33m)\u001b[0m \u001b[1;33m==\u001b[0m \u001b[1;36m1\u001b[0m\u001b[1;33m:\u001b[0m\u001b[1;33m\u001b[0m\u001b[0m\n",
      "\u001b[0;32mC:\\Anaconda3\\envs\\Python2.7\\lib\\site-packages\\pandas\\core\\internals.pyc\u001b[0m in \u001b[0;36mget_reindexed_values\u001b[0;34m(self, empty_dtype, upcasted_na)\u001b[0m\n\u001b[1;32m   4940\u001b[0m             \u001b[1;32mfor\u001b[0m \u001b[0max\u001b[0m\u001b[1;33m,\u001b[0m \u001b[0mindexer\u001b[0m \u001b[1;32min\u001b[0m \u001b[0mself\u001b[0m\u001b[1;33m.\u001b[0m\u001b[0mindexers\u001b[0m\u001b[1;33m.\u001b[0m\u001b[0mitems\u001b[0m\u001b[1;33m(\u001b[0m\u001b[1;33m)\u001b[0m\u001b[1;33m:\u001b[0m\u001b[1;33m\u001b[0m\u001b[0m\n\u001b[1;32m   4941\u001b[0m                 values = algos.take_nd(values, indexer, axis=ax,\n\u001b[0;32m-> 4942\u001b[0;31m                                        fill_value=fill_value)\n\u001b[0m\u001b[1;32m   4943\u001b[0m \u001b[1;33m\u001b[0m\u001b[0m\n\u001b[1;32m   4944\u001b[0m         \u001b[1;32mreturn\u001b[0m \u001b[0mvalues\u001b[0m\u001b[1;33m\u001b[0m\u001b[0m\n",
      "\u001b[0;32mC:\\Anaconda3\\envs\\Python2.7\\lib\\site-packages\\pandas\\core\\algorithms.pyc\u001b[0m in \u001b[0;36mtake_nd\u001b[0;34m(arr, indexer, axis, out, fill_value, mask_info, allow_fill)\u001b[0m\n\u001b[1;32m    928\u001b[0m             \u001b[0mout\u001b[0m \u001b[1;33m=\u001b[0m \u001b[0mnp\u001b[0m\u001b[1;33m.\u001b[0m\u001b[0mempty\u001b[0m\u001b[1;33m(\u001b[0m\u001b[0mout_shape\u001b[0m\u001b[1;33m,\u001b[0m \u001b[0mdtype\u001b[0m\u001b[1;33m=\u001b[0m\u001b[0mdtype\u001b[0m\u001b[1;33m,\u001b[0m \u001b[0morder\u001b[0m\u001b[1;33m=\u001b[0m\u001b[1;34m'F'\u001b[0m\u001b[1;33m)\u001b[0m\u001b[1;33m\u001b[0m\u001b[0m\n\u001b[1;32m    929\u001b[0m         \u001b[1;32melse\u001b[0m\u001b[1;33m:\u001b[0m\u001b[1;33m\u001b[0m\u001b[0m\n\u001b[0;32m--> 930\u001b[0;31m             \u001b[0mout\u001b[0m \u001b[1;33m=\u001b[0m \u001b[0mnp\u001b[0m\u001b[1;33m.\u001b[0m\u001b[0mempty\u001b[0m\u001b[1;33m(\u001b[0m\u001b[0mout_shape\u001b[0m\u001b[1;33m,\u001b[0m \u001b[0mdtype\u001b[0m\u001b[1;33m=\u001b[0m\u001b[0mdtype\u001b[0m\u001b[1;33m)\u001b[0m\u001b[1;33m\u001b[0m\u001b[0m\n\u001b[0m\u001b[1;32m    931\u001b[0m \u001b[1;33m\u001b[0m\u001b[0m\n\u001b[1;32m    932\u001b[0m     func = _get_take_nd_function(arr.ndim, arr.dtype, out.dtype, axis=axis,\n",
      "\u001b[0;31mMemoryError\u001b[0m: "
     ]
    }
   ],
   "source": [
    "only_xp = pd.read_csv('processing_tables/only_exp.csv')\n",
    "xp_score = pd.read_csv('processing_tables/xp_score.csv')\n",
    "rank_by_rows_xp = pd.read_csv('processing_tables/rankByRowsXp.csv')\n",
    "rank_by_rows_xp_score = pd.merge(rank_by_rows_xp, xp_score, on='mid', how='left')\n",
    "\n",
    "xp_dif = pd.read_csv('processing_tables/xpDif.csv')\n",
    "norm_score_xp = pd.merge(only_xp, xp_score, on='mid', how='left')\n",
    "xp_score_dif = pd.merge(xp_score, xp_dif, on='mid', how='left')\n",
    "\n",
    "heroes = pd.read_csv('processing_tables/only_heroes.csv')\n",
    "items = pd.read_csv('processing_tables/only_items.csv')\n",
    "\n",
    "xp_dict = {\n",
    "    'only_xp': only_xp,\n",
    "    'norm xp + score': norm_score_xp,\n",
    "    'xp_score': xp_score,\n",
    "    'xp_dif': xp_dif,\n",
    "    'xp_score_dif': xp_score_dif,\n",
    "    'rank_by_rows_xp': rank_by_rows_xp,\n",
    "    'rank_by_rows_xp_score': rank_by_rows_xp_score,\n",
    "}\n",
    "\n",
    "creeps = pd.read_csv('processing_tables/creeps.csv')\n",
    "events = pd.read_csv('processing_tables/dummy_events.csv')\n",
    "\n",
    "for gold_table_name, gold in gold_tables_dict.items():\n",
    "    for xp_table_name, xp in xp_dict.items():\n",
    "        print gold_table_name, xp_table_name\n",
    "        X_train, y_train, test = total_merge(gold, heroes, items, xp, creeps, events)\n",
    "        X_train.index = X_train.mid\n",
    "        X_train.drop('mid', 1,inplace=True)\n",
    "        my_clf_cross_val(X_train, y_train)"
   ]
  },
  {
   "cell_type": "code",
   "execution_count": null,
   "metadata": {
    "collapsed": true
   },
   "outputs": [],
   "source": []
  },
  {
   "cell_type": "code",
   "execution_count": null,
   "metadata": {
    "collapsed": true
   },
   "outputs": [],
   "source": []
  },
  {
   "cell_type": "code",
   "execution_count": null,
   "metadata": {
    "collapsed": true
   },
   "outputs": [],
   "source": []
  },
  {
   "cell_type": "code",
   "execution_count": null,
   "metadata": {
    "collapsed": true
   },
   "outputs": [],
   "source": []
  },
  {
   "cell_type": "code",
   "execution_count": 107,
   "metadata": {
    "collapsed": false
   },
   "outputs": [
    {
     "name": "stdout",
     "output_type": "stream",
     "text": [
      "goldRankDif\n",
      "logreg:  0.765071725275\n",
      "Ridge:  0.76444053927\n",
      "Lasso:  0.765956935043\n",
      "scoreNormByColsRank\n",
      "logreg:  0.764455259581\n",
      "Ridge:  0.764647095789\n",
      "Lasso:  0.76607724744\n",
      "goldScoreWithoutCarry\n",
      "logreg:  0.764024424627\n",
      "Ridge:  0.764808975599\n",
      "Lasso:  0.766211588079\n",
      "scoreNormGold\n",
      "logreg:  0.763913143579\n",
      "Ridge:  0.764398556237\n",
      "Lasso:  0.765984679271\n",
      "norm_gold\n",
      "logreg:  0.764802685821\n",
      "Ridge:  0.763851938059\n",
      "Lasso:  0.765405592767\n",
      "scoreNormByRowsRank\n",
      "logreg:  0.76431752769\n",
      "Ridge:  0.764663530475\n",
      "Lasso:  0.76614739602\n",
      "scoreDifRankGold\n",
      "logreg:  0.764797522394\n",
      "Ridge:  0.764737295219\n",
      "Lasso:  0.766177217117\n",
      "normByColsRankGold\n",
      "logreg:  0.764798307096\n",
      "Ridge:  0.764252874796\n",
      "Lasso:  0.765758106068\n",
      "goldScoreWithCarry\n",
      "logreg:  0.764024424627\n",
      "Ridge:  0.764808975599\n",
      "Lasso:  0.766211588079\n",
      "normByRowsRankGold\n",
      "logreg:  0.764609923882\n",
      "Ridge:  0.764537152695\n",
      "Lasso:  0.766012323891\n"
     ]
    }
   ],
   "source": [
    "# gold = pd.read_csv('processing_tables/')\n",
    "heroes = pd.read_csv('processing_tables/only_heroes.csv')\n",
    "items = pd.read_csv('processing_tables/only_items.csv')\n",
    "xp = pd.read_csv('processing_tables/only_exp.csv')\n",
    "xp_score = pd.read_csv('processing_tables/xp_score.csv')\n",
    "xp = pd.merge(xp, xp_score, on='mid', how='left')\n",
    "creeps = pd.read_csv('processing_tables/creeps.csv')\n",
    "events = pd.read_csv('processing_tables/dummy_events.csv')\n",
    "\n",
    "for gold_table_name, gold in gold_tables_dict.items():\n",
    "    print gold_table_name, \n",
    "    X_train, y_train, test = total_merge(gold, heroes, items, xp, creeps, events)\n",
    "    my_clf_cross_val(X_train, y_train)"
   ]
  },
  {
   "cell_type": "markdown",
   "metadata": {},
   "source": [
    "# GOLD STANDART"
   ]
  },
  {
   "cell_type": "code",
   "execution_count": 106,
   "metadata": {
    "collapsed": false
   },
   "outputs": [
    {
     "name": "stdout",
     "output_type": "stream",
     "text": [
      "logreg:  0.764024424627\n",
      "Ridge:  0.764808975599\n",
      "Lasso:  0.766211588079\n"
     ]
    }
   ],
   "source": [
    "gold = pd.read_csv('processing_tables/goldScoreWithCarry.csv')\n",
    "heroes = pd.read_csv('processing_tables/only_heroes.csv')\n",
    "items = pd.read_csv('processing_tables/only_items.csv')\n",
    "xp = pd.read_csv('processing_tables/only_exp.csv')\n",
    "xp_score = pd.read_csv('processing_tables/xp_score.csv')\n",
    "xp = pd.merge(xp, xp_score, on='mid', how='left')\n",
    "creeps = pd.read_csv('processing_tables/creeps.csv')\n",
    "events = pd.read_csv('processing_tables/dummy_events.csv')\n",
    "\n",
    "X_train, y_train, test = total_merge(gold, heroes, items, xp, creeps, events)\n",
    "my_clf_cross_val(X_train, y_train)"
   ]
  },
  {
   "cell_type": "code",
   "execution_count": null,
   "metadata": {
    "collapsed": true
   },
   "outputs": [],
   "source": []
  },
  {
   "cell_type": "code",
   "execution_count": 99,
   "metadata": {
    "collapsed": true
   },
   "outputs": [],
   "source": [
    "def logEstimation(X, y):\n",
    "    grid = {'C': [0.0001, 0.001, 0.1, 0.2, 0.4, 0.6, 0.8, 1, 1.2]}\n",
    "    kf=KFold(y.size, n_folds=5, shuffle=True, random_state=241)\n",
    "    clf=LogisticRegression(random_state=241)\n",
    "    gs = GridSearchCV(clf, grid, scoring='roc_auc', cv=kf)\n",
    "    gs.fit(X, y)\n",
    "    return gs"
   ]
  },
  {
   "cell_type": "code",
   "execution_count": 100,
   "metadata": {
    "collapsed": false
   },
   "outputs": [
    {
     "name": "stdout",
     "output_type": "stream",
     "text": [
      "[mean: 0.72353, std: 0.00496, params: {'C': 0.0001}, mean: 0.74613, std: 0.00703, params: {'C': 0.001}, mean: 0.76480, std: 0.01168, params: {'C': 0.1}, mean: 0.76484, std: 0.01188, params: {'C': 0.2}, mean: 0.76467, std: 0.01194, params: {'C': 0.4}, mean: 0.76462, std: 0.01195, params: {'C': 0.6}, mean: 0.76474, std: 0.01192, params: {'C': 0.8}, mean: 0.76463, std: 0.01200, params: {'C': 1}, mean: 0.76473, std: 0.01195, params: {'C': 1.2}]\n",
      "{'C': 0.2}\n",
      "best score of log grid search: 0.764842857076\n"
     ]
    }
   ],
   "source": [
    "gs = logEstimation(X_train, y_train)\n",
    "print gs.grid_scores_\n",
    "print gs.best_params_\n",
    "print('best score of log grid search: {}'.format(gs.best_score_))\n",
    "clf=LogisticRegression(random_state=241, C=gs.best_params_['C'])\n",
    "print 'logreg: ', np.mean(cross_val_score(clf, X_train, y_train, cv=5, scoring='roc_auc'))"
   ]
  }
 ],
 "metadata": {
  "anaconda-cloud": {},
  "kernelspec": {
   "display_name": "Python 2.7",
   "language": "python",
   "name": "python2.7"
  },
  "language_info": {
   "codemirror_mode": {
    "name": "ipython",
    "version": 2
   },
   "file_extension": ".py",
   "mimetype": "text/x-python",
   "name": "python",
   "nbconvert_exporter": "python",
   "pygments_lexer": "ipython2",
   "version": "2.7.12"
  }
 },
 "nbformat": 4,
 "nbformat_minor": 1
}
