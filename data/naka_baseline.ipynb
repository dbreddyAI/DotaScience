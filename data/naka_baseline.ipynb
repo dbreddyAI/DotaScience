{
 "cells": [
  {
   "cell_type": "code",
   "execution_count": 4,
   "metadata": {
    "collapsed": false
   },
   "outputs": [
    {
     "name": "stdout",
     "output_type": "stream",
     "text": [
      "Populating the interactive namespace from numpy and matplotlib\n"
     ]
    }
   ],
   "source": [
    "import pandas as pd\n",
    "import numpy as np\n",
    "\n",
    "from sklearn.preprocessing import StandardScaler\n",
    "from sklearn.grid_search import GridSearchCV\n",
    "from sklearn.cross_validation import KFold\n",
    "\n",
    "from sklearn.cross_validation import cross_val_score\n",
    "\n",
    "from sklearn.linear_model import LogisticRegression\n",
    "from sklearn.ensemble import RandomForestClassifier\n",
    "from sklearn.linear_model import Lasso, Ridge\n",
    "\n",
    "%pylab inline"
   ]
  },
  {
   "cell_type": "code",
   "execution_count": 3,
   "metadata": {
    "collapsed": false
   },
   "outputs": [
    {
     "ename": "IOError",
     "evalue": "File train.csv does not exist",
     "output_type": "error",
     "traceback": [
      "\u001b[0;31m---------------------------------------------------------------------------\u001b[0m",
      "\u001b[0;31mIOError\u001b[0m                                   Traceback (most recent call last)",
      "\u001b[0;32m<ipython-input-3-2ab95f1bc575>\u001b[0m in \u001b[0;36m<module>\u001b[0;34m()\u001b[0m\n\u001b[0;32m----> 1\u001b[0;31m \u001b[0mtrain_matches\u001b[0m \u001b[1;33m=\u001b[0m \u001b[0mpd\u001b[0m\u001b[1;33m.\u001b[0m\u001b[0mread_csv\u001b[0m\u001b[1;33m(\u001b[0m\u001b[1;34m'train.csv'\u001b[0m\u001b[1;33m)\u001b[0m\u001b[1;33m\u001b[0m\u001b[0m\n\u001b[0m\u001b[1;32m      2\u001b[0m \u001b[0mtest_matches\u001b[0m \u001b[1;33m=\u001b[0m \u001b[0mpd\u001b[0m\u001b[1;33m.\u001b[0m\u001b[0mread_csv\u001b[0m\u001b[1;33m(\u001b[0m\u001b[1;34m'test.csv'\u001b[0m\u001b[1;33m)\u001b[0m\u001b[1;33m\u001b[0m\u001b[0m\n\u001b[1;32m      3\u001b[0m \u001b[0mgold\u001b[0m \u001b[1;33m=\u001b[0m \u001b[0mpd\u001b[0m\u001b[1;33m.\u001b[0m\u001b[0mread_csv\u001b[0m\u001b[1;33m(\u001b[0m\u001b[1;34m'gold.csv'\u001b[0m\u001b[1;33m)\u001b[0m\u001b[1;33m\u001b[0m\u001b[0m\n\u001b[1;32m      4\u001b[0m \u001b[0mheroes\u001b[0m \u001b[1;33m=\u001b[0m \u001b[0mpd\u001b[0m\u001b[1;33m.\u001b[0m\u001b[0mread_csv\u001b[0m\u001b[1;33m(\u001b[0m\u001b[1;34m'heroes.csv'\u001b[0m\u001b[1;33m)\u001b[0m\u001b[1;33m\u001b[0m\u001b[0m\n\u001b[1;32m      5\u001b[0m \u001b[0mitems\u001b[0m \u001b[1;33m=\u001b[0m \u001b[0mpd\u001b[0m\u001b[1;33m.\u001b[0m\u001b[0mread_csv\u001b[0m\u001b[1;33m(\u001b[0m\u001b[1;34m'items.csv'\u001b[0m\u001b[1;33m)\u001b[0m\u001b[1;33m\u001b[0m\u001b[0m\n",
      "\u001b[0;32mC:\\Anaconda3\\envs\\Python2.7\\lib\\site-packages\\pandas\\io\\parsers.pyc\u001b[0m in \u001b[0;36mparser_f\u001b[0;34m(filepath_or_buffer, sep, delimiter, header, names, index_col, usecols, squeeze, prefix, mangle_dupe_cols, dtype, engine, converters, true_values, false_values, skipinitialspace, skiprows, skipfooter, nrows, na_values, keep_default_na, na_filter, verbose, skip_blank_lines, parse_dates, infer_datetime_format, keep_date_col, date_parser, dayfirst, iterator, chunksize, compression, thousands, decimal, lineterminator, quotechar, quoting, escapechar, comment, encoding, dialect, tupleize_cols, error_bad_lines, warn_bad_lines, skip_footer, doublequote, delim_whitespace, as_recarray, compact_ints, use_unsigned, low_memory, buffer_lines, memory_map, float_precision)\u001b[0m\n\u001b[1;32m    560\u001b[0m                     skip_blank_lines=skip_blank_lines)\n\u001b[1;32m    561\u001b[0m \u001b[1;33m\u001b[0m\u001b[0m\n\u001b[0;32m--> 562\u001b[0;31m         \u001b[1;32mreturn\u001b[0m \u001b[0m_read\u001b[0m\u001b[1;33m(\u001b[0m\u001b[0mfilepath_or_buffer\u001b[0m\u001b[1;33m,\u001b[0m \u001b[0mkwds\u001b[0m\u001b[1;33m)\u001b[0m\u001b[1;33m\u001b[0m\u001b[0m\n\u001b[0m\u001b[1;32m    563\u001b[0m \u001b[1;33m\u001b[0m\u001b[0m\n\u001b[1;32m    564\u001b[0m     \u001b[0mparser_f\u001b[0m\u001b[1;33m.\u001b[0m\u001b[0m__name__\u001b[0m \u001b[1;33m=\u001b[0m \u001b[0mname\u001b[0m\u001b[1;33m\u001b[0m\u001b[0m\n",
      "\u001b[0;32mC:\\Anaconda3\\envs\\Python2.7\\lib\\site-packages\\pandas\\io\\parsers.pyc\u001b[0m in \u001b[0;36m_read\u001b[0;34m(filepath_or_buffer, kwds)\u001b[0m\n\u001b[1;32m    313\u001b[0m \u001b[1;33m\u001b[0m\u001b[0m\n\u001b[1;32m    314\u001b[0m     \u001b[1;31m# Create the parser.\u001b[0m\u001b[1;33m\u001b[0m\u001b[1;33m\u001b[0m\u001b[0m\n\u001b[0;32m--> 315\u001b[0;31m     \u001b[0mparser\u001b[0m \u001b[1;33m=\u001b[0m \u001b[0mTextFileReader\u001b[0m\u001b[1;33m(\u001b[0m\u001b[0mfilepath_or_buffer\u001b[0m\u001b[1;33m,\u001b[0m \u001b[1;33m**\u001b[0m\u001b[0mkwds\u001b[0m\u001b[1;33m)\u001b[0m\u001b[1;33m\u001b[0m\u001b[0m\n\u001b[0m\u001b[1;32m    316\u001b[0m \u001b[1;33m\u001b[0m\u001b[0m\n\u001b[1;32m    317\u001b[0m     \u001b[1;32mif\u001b[0m \u001b[1;33m(\u001b[0m\u001b[0mnrows\u001b[0m \u001b[1;32mis\u001b[0m \u001b[1;32mnot\u001b[0m \u001b[0mNone\u001b[0m\u001b[1;33m)\u001b[0m \u001b[1;32mand\u001b[0m \u001b[1;33m(\u001b[0m\u001b[0mchunksize\u001b[0m \u001b[1;32mis\u001b[0m \u001b[1;32mnot\u001b[0m \u001b[0mNone\u001b[0m\u001b[1;33m)\u001b[0m\u001b[1;33m:\u001b[0m\u001b[1;33m\u001b[0m\u001b[0m\n",
      "\u001b[0;32mC:\\Anaconda3\\envs\\Python2.7\\lib\\site-packages\\pandas\\io\\parsers.pyc\u001b[0m in \u001b[0;36m__init__\u001b[0;34m(self, f, engine, **kwds)\u001b[0m\n\u001b[1;32m    643\u001b[0m             \u001b[0mself\u001b[0m\u001b[1;33m.\u001b[0m\u001b[0moptions\u001b[0m\u001b[1;33m[\u001b[0m\u001b[1;34m'has_index_names'\u001b[0m\u001b[1;33m]\u001b[0m \u001b[1;33m=\u001b[0m \u001b[0mkwds\u001b[0m\u001b[1;33m[\u001b[0m\u001b[1;34m'has_index_names'\u001b[0m\u001b[1;33m]\u001b[0m\u001b[1;33m\u001b[0m\u001b[0m\n\u001b[1;32m    644\u001b[0m \u001b[1;33m\u001b[0m\u001b[0m\n\u001b[0;32m--> 645\u001b[0;31m         \u001b[0mself\u001b[0m\u001b[1;33m.\u001b[0m\u001b[0m_make_engine\u001b[0m\u001b[1;33m(\u001b[0m\u001b[0mself\u001b[0m\u001b[1;33m.\u001b[0m\u001b[0mengine\u001b[0m\u001b[1;33m)\u001b[0m\u001b[1;33m\u001b[0m\u001b[0m\n\u001b[0m\u001b[1;32m    646\u001b[0m \u001b[1;33m\u001b[0m\u001b[0m\n\u001b[1;32m    647\u001b[0m     \u001b[1;32mdef\u001b[0m \u001b[0mclose\u001b[0m\u001b[1;33m(\u001b[0m\u001b[0mself\u001b[0m\u001b[1;33m)\u001b[0m\u001b[1;33m:\u001b[0m\u001b[1;33m\u001b[0m\u001b[0m\n",
      "\u001b[0;32mC:\\Anaconda3\\envs\\Python2.7\\lib\\site-packages\\pandas\\io\\parsers.pyc\u001b[0m in \u001b[0;36m_make_engine\u001b[0;34m(self, engine)\u001b[0m\n\u001b[1;32m    797\u001b[0m     \u001b[1;32mdef\u001b[0m \u001b[0m_make_engine\u001b[0m\u001b[1;33m(\u001b[0m\u001b[0mself\u001b[0m\u001b[1;33m,\u001b[0m \u001b[0mengine\u001b[0m\u001b[1;33m=\u001b[0m\u001b[1;34m'c'\u001b[0m\u001b[1;33m)\u001b[0m\u001b[1;33m:\u001b[0m\u001b[1;33m\u001b[0m\u001b[0m\n\u001b[1;32m    798\u001b[0m         \u001b[1;32mif\u001b[0m \u001b[0mengine\u001b[0m \u001b[1;33m==\u001b[0m \u001b[1;34m'c'\u001b[0m\u001b[1;33m:\u001b[0m\u001b[1;33m\u001b[0m\u001b[0m\n\u001b[0;32m--> 799\u001b[0;31m             \u001b[0mself\u001b[0m\u001b[1;33m.\u001b[0m\u001b[0m_engine\u001b[0m \u001b[1;33m=\u001b[0m \u001b[0mCParserWrapper\u001b[0m\u001b[1;33m(\u001b[0m\u001b[0mself\u001b[0m\u001b[1;33m.\u001b[0m\u001b[0mf\u001b[0m\u001b[1;33m,\u001b[0m \u001b[1;33m**\u001b[0m\u001b[0mself\u001b[0m\u001b[1;33m.\u001b[0m\u001b[0moptions\u001b[0m\u001b[1;33m)\u001b[0m\u001b[1;33m\u001b[0m\u001b[0m\n\u001b[0m\u001b[1;32m    800\u001b[0m         \u001b[1;32melse\u001b[0m\u001b[1;33m:\u001b[0m\u001b[1;33m\u001b[0m\u001b[0m\n\u001b[1;32m    801\u001b[0m             \u001b[1;32mif\u001b[0m \u001b[0mengine\u001b[0m \u001b[1;33m==\u001b[0m \u001b[1;34m'python'\u001b[0m\u001b[1;33m:\u001b[0m\u001b[1;33m\u001b[0m\u001b[0m\n",
      "\u001b[0;32mC:\\Anaconda3\\envs\\Python2.7\\lib\\site-packages\\pandas\\io\\parsers.pyc\u001b[0m in \u001b[0;36m__init__\u001b[0;34m(self, src, **kwds)\u001b[0m\n\u001b[1;32m   1211\u001b[0m         \u001b[0mkwds\u001b[0m\u001b[1;33m[\u001b[0m\u001b[1;34m'allow_leading_cols'\u001b[0m\u001b[1;33m]\u001b[0m \u001b[1;33m=\u001b[0m \u001b[0mself\u001b[0m\u001b[1;33m.\u001b[0m\u001b[0mindex_col\u001b[0m \u001b[1;32mis\u001b[0m \u001b[1;32mnot\u001b[0m \u001b[0mFalse\u001b[0m\u001b[1;33m\u001b[0m\u001b[0m\n\u001b[1;32m   1212\u001b[0m \u001b[1;33m\u001b[0m\u001b[0m\n\u001b[0;32m-> 1213\u001b[0;31m         \u001b[0mself\u001b[0m\u001b[1;33m.\u001b[0m\u001b[0m_reader\u001b[0m \u001b[1;33m=\u001b[0m \u001b[0m_parser\u001b[0m\u001b[1;33m.\u001b[0m\u001b[0mTextReader\u001b[0m\u001b[1;33m(\u001b[0m\u001b[0msrc\u001b[0m\u001b[1;33m,\u001b[0m \u001b[1;33m**\u001b[0m\u001b[0mkwds\u001b[0m\u001b[1;33m)\u001b[0m\u001b[1;33m\u001b[0m\u001b[0m\n\u001b[0m\u001b[1;32m   1214\u001b[0m \u001b[1;33m\u001b[0m\u001b[0m\n\u001b[1;32m   1215\u001b[0m         \u001b[1;31m# XXX\u001b[0m\u001b[1;33m\u001b[0m\u001b[1;33m\u001b[0m\u001b[0m\n",
      "\u001b[0;32mpandas\\parser.pyx\u001b[0m in \u001b[0;36mpandas.parser.TextReader.__cinit__ (pandas\\parser.c:3427)\u001b[0;34m()\u001b[0m\n",
      "\u001b[0;32mpandas\\parser.pyx\u001b[0m in \u001b[0;36mpandas.parser.TextReader._setup_parser_source (pandas\\parser.c:6861)\u001b[0;34m()\u001b[0m\n",
      "\u001b[0;31mIOError\u001b[0m: File train.csv does not exist"
     ]
    }
   ],
   "source": [
    "train_matches = pd.read_csv('train.csv')\n",
    "test_matches = pd.read_csv('test.csv')\n",
    "gold = pd.read_csv('gold.csv')\n",
    "heroes = pd.read_csv('heroes.csv')\n",
    "items = pd.read_csv('items.csv')\n",
    "lh = pd.read_csv('lh.csv')\n",
    "xp = pd.read_csv('xp.csv')\n",
    "events = pd.read_csv('events.csv')"
   ]
  },
  {
   "cell_type": "code",
   "execution_count": 4,
   "metadata": {
    "collapsed": false
   },
   "outputs": [
    {
     "name": "stdout",
     "output_type": "stream",
     "text": [
      "train_matches.shape (24974, 2)\n",
      "test_matches.shape (24974, 1)\n",
      "gold.shape (499480, 12)\n",
      "heroes.shape (49948, 11)\n",
      "items.shape (499412, 123)\n",
      "lh.shape (499480, 12)\n",
      "xp.shape (499480, 12)\n",
      "events.shape (69120, 4)\n"
     ]
    }
   ],
   "source": [
    "print 'train_matches.shape', train_matches.shape\n",
    "print 'test_matches.shape', test_matches.shape\n",
    "print 'gold.shape', gold.shape\n",
    "print 'heroes.shape', heroes.shape\n",
    "print 'items.shape', items.shape\n",
    "print 'lh.shape', lh.shape\n",
    "print 'xp.shape', xp.shape\n",
    "print 'events.shape', events.shape"
   ]
  },
  {
   "cell_type": "markdown",
   "metadata": {},
   "source": [
    "#### Что такое event"
   ]
  },
  {
   "cell_type": "code",
   "execution_count": 17,
   "metadata": {
    "collapsed": false
   },
   "outputs": [
    {
     "name": "stdout",
     "output_type": "stream",
     "text": [
      "0 953\n",
      "1 12\n",
      "2 17\n",
      "3 48655\n",
      "4 968\n",
      "5 2251\n",
      "6 16264\n"
     ]
    },
    {
     "data": {
      "text/html": [
       "<div>\n",
       "<table border=\"1\" class=\"dataframe\">\n",
       "  <thead>\n",
       "    <tr style=\"text-align: right;\">\n",
       "      <th></th>\n",
       "      <th>mid</th>\n",
       "      <th>event_type</th>\n",
       "      <th>from_team</th>\n",
       "      <th>time</th>\n",
       "    </tr>\n",
       "  </thead>\n",
       "  <tbody>\n",
       "    <tr>\n",
       "      <th>0</th>\n",
       "      <td>0</td>\n",
       "      <td>3</td>\n",
       "      <td>radiant</td>\n",
       "      <td>1</td>\n",
       "    </tr>\n",
       "    <tr>\n",
       "      <th>1</th>\n",
       "      <td>1</td>\n",
       "      <td>3</td>\n",
       "      <td>radiant</td>\n",
       "      <td>222</td>\n",
       "    </tr>\n",
       "    <tr>\n",
       "      <th>2</th>\n",
       "      <td>2</td>\n",
       "      <td>3</td>\n",
       "      <td>dire</td>\n",
       "      <td>143</td>\n",
       "    </tr>\n",
       "    <tr>\n",
       "      <th>3</th>\n",
       "      <td>3</td>\n",
       "      <td>3</td>\n",
       "      <td>radiant</td>\n",
       "      <td>143</td>\n",
       "    </tr>\n",
       "    <tr>\n",
       "      <th>4</th>\n",
       "      <td>4</td>\n",
       "      <td>3</td>\n",
       "      <td>dire</td>\n",
       "      <td>53</td>\n",
       "    </tr>\n",
       "  </tbody>\n",
       "</table>\n",
       "</div>"
      ],
      "text/plain": [
       "   mid  event_type from_team  time\n",
       "0    0           3   radiant     1\n",
       "1    1           3   radiant   222\n",
       "2    2           3      dire   143\n",
       "3    3           3   radiant   143\n",
       "4    4           3      dire    53"
      ]
     },
     "execution_count": 17,
     "metadata": {},
     "output_type": "execute_result"
    }
   ],
   "source": [
    "for i in np.unique(events[['event_type']]):\n",
    "    print i, events['event_type'].value_counts()[i]\n",
    "events.head()"
   ]
  },
  {
   "cell_type": "markdown",
   "metadata": {},
   "source": [
    "Видимо, это какое-то событие, их происходит в mid-е по одному-два раза"
   ]
  },
  {
   "cell_type": "markdown",
   "metadata": {},
   "source": [
    "#### Как признаки будем использовать количество денег, которое игроки успели получить к 10-ой минуте."
   ]
  },
  {
   "cell_type": "code",
   "execution_count": 95,
   "metadata": {
    "collapsed": false
   },
   "outputs": [],
   "source": [
    "gold = gold[gold['times']==600]\n",
    "\n",
    "radiant_gold = gold[['player_0', 'player_1', 'player_2', 'player_3', 'player_4']].sum(axis=1)\n",
    "dire_gold = gold[['player_5', 'player_6', 'player_7', 'player_8', 'player_9']].sum(axis=1)\n",
    "\n",
    "diff_gold = radiant_gold - dire_gold\n",
    "ratio_gold = radiant_gold / dire_gold"
   ]
  },
  {
   "cell_type": "markdown",
   "metadata": {},
   "source": [
    "#### XP & LH"
   ]
  },
  {
   "cell_type": "code",
   "execution_count": 96,
   "metadata": {
    "collapsed": false
   },
   "outputs": [],
   "source": [
    "xp = xp[xp['times']==600]\n",
    "\n",
    "radiant_xp = xp[['player_0', 'player_1', 'player_2', 'player_3', 'player_4']].sum(axis=1)\n",
    "dire_xp = xp[['player_5', 'player_6', 'player_7', 'player_8', 'player_9']].sum(axis=1)\n",
    "\n",
    "diff_xp = radiant_xp - dire_xp\n",
    "ratio_xp = radiant_xp / dire_xp"
   ]
  },
  {
   "cell_type": "code",
   "execution_count": 100,
   "metadata": {
    "collapsed": true
   },
   "outputs": [],
   "source": [
    "lh = lh[lh['times']==600]\n",
    "\n",
    "radiant_lh = lh[['player_0', 'player_1', 'player_2', 'player_3', 'player_4']].sum(axis=1)\n",
    "dire_lh = lh[['player_5', 'player_6', 'player_7', 'player_8', 'player_9']].sum(axis=1)\n",
    "\n",
    "diff_lh = radiant_lh - dire_lh\n",
    "ratio_lh = radiant_lh / dire_lh"
   ]
  },
  {
   "cell_type": "code",
   "execution_count": 110,
   "metadata": {
    "collapsed": false
   },
   "outputs": [
    {
     "data": {
      "text/html": [
       "<div>\n",
       "<table border=\"1\" class=\"dataframe\">\n",
       "  <thead>\n",
       "    <tr style=\"text-align: right;\">\n",
       "      <th></th>\n",
       "      <th>diff_gold</th>\n",
       "      <th>diff_lh</th>\n",
       "      <th>diff_xp</th>\n",
       "      <th>dire_gold</th>\n",
       "      <th>dire_lh</th>\n",
       "      <th>dire_xp</th>\n",
       "      <th>mid</th>\n",
       "      <th>radiant_gold</th>\n",
       "      <th>radiant_lh</th>\n",
       "      <th>radiant_xp</th>\n",
       "      <th>ratio_gold</th>\n",
       "      <th>ratio_lh</th>\n",
       "      <th>ratio_xp</th>\n",
       "    </tr>\n",
       "  </thead>\n",
       "  <tbody>\n",
       "    <tr>\n",
       "      <th>9</th>\n",
       "      <td>-641</td>\n",
       "      <td>-44</td>\n",
       "      <td>926</td>\n",
       "      <td>22095</td>\n",
       "      <td>192</td>\n",
       "      <td>14930</td>\n",
       "      <td>0</td>\n",
       "      <td>21454</td>\n",
       "      <td>148</td>\n",
       "      <td>15856</td>\n",
       "      <td>0.970989</td>\n",
       "      <td>0.770833</td>\n",
       "      <td>1.062023</td>\n",
       "    </tr>\n",
       "    <tr>\n",
       "      <th>19</th>\n",
       "      <td>-2371</td>\n",
       "      <td>13</td>\n",
       "      <td>-2106</td>\n",
       "      <td>24536</td>\n",
       "      <td>144</td>\n",
       "      <td>17337</td>\n",
       "      <td>1</td>\n",
       "      <td>22165</td>\n",
       "      <td>157</td>\n",
       "      <td>15231</td>\n",
       "      <td>0.903366</td>\n",
       "      <td>1.090278</td>\n",
       "      <td>0.878526</td>\n",
       "    </tr>\n",
       "    <tr>\n",
       "      <th>29</th>\n",
       "      <td>5844</td>\n",
       "      <td>75</td>\n",
       "      <td>5558</td>\n",
       "      <td>15548</td>\n",
       "      <td>99</td>\n",
       "      <td>12445</td>\n",
       "      <td>2</td>\n",
       "      <td>21392</td>\n",
       "      <td>174</td>\n",
       "      <td>18003</td>\n",
       "      <td>1.375868</td>\n",
       "      <td>1.757576</td>\n",
       "      <td>1.446605</td>\n",
       "    </tr>\n",
       "    <tr>\n",
       "      <th>39</th>\n",
       "      <td>3011</td>\n",
       "      <td>-11</td>\n",
       "      <td>1609</td>\n",
       "      <td>17617</td>\n",
       "      <td>143</td>\n",
       "      <td>13933</td>\n",
       "      <td>3</td>\n",
       "      <td>20628</td>\n",
       "      <td>132</td>\n",
       "      <td>15542</td>\n",
       "      <td>1.170914</td>\n",
       "      <td>0.923077</td>\n",
       "      <td>1.115481</td>\n",
       "    </tr>\n",
       "    <tr>\n",
       "      <th>49</th>\n",
       "      <td>554</td>\n",
       "      <td>42</td>\n",
       "      <td>2258</td>\n",
       "      <td>17484</td>\n",
       "      <td>101</td>\n",
       "      <td>13076</td>\n",
       "      <td>4</td>\n",
       "      <td>18038</td>\n",
       "      <td>143</td>\n",
       "      <td>15334</td>\n",
       "      <td>1.031686</td>\n",
       "      <td>1.415842</td>\n",
       "      <td>1.172683</td>\n",
       "    </tr>\n",
       "  </tbody>\n",
       "</table>\n",
       "</div>"
      ],
      "text/plain": [
       "    diff_gold  diff_lh  diff_xp  dire_gold  dire_lh  dire_xp  mid  \\\n",
       "9        -641      -44      926      22095      192    14930    0   \n",
       "19      -2371       13    -2106      24536      144    17337    1   \n",
       "29       5844       75     5558      15548       99    12445    2   \n",
       "39       3011      -11     1609      17617      143    13933    3   \n",
       "49        554       42     2258      17484      101    13076    4   \n",
       "\n",
       "    radiant_gold  radiant_lh  radiant_xp  ratio_gold  ratio_lh  ratio_xp  \n",
       "9          21454         148       15856    0.970989  0.770833  1.062023  \n",
       "19         22165         157       15231    0.903366  1.090278  0.878526  \n",
       "29         21392         174       18003    1.375868  1.757576  1.446605  \n",
       "39         20628         132       15542    1.170914  0.923077  1.115481  \n",
       "49         18038         143       15334    1.031686  1.415842  1.172683  "
      ]
     },
     "execution_count": 110,
     "metadata": {},
     "output_type": "execute_result"
    }
   ],
   "source": [
    "data = pd.DataFrame({'mid':np.arange(49948),\n",
    "                     'radiant_gold':radiant_gold,\n",
    "                     'dire_gold':dire_gold,\n",
    "                     'diff_gold':diff_gold,\n",
    "                     'ratio_gold':ratio_gold,\n",
    "                     'radiant_xp':radiant_xp,\n",
    "                     'dire_xp':dire_xp,\n",
    "                     'diff_xp':diff_xp,\n",
    "                     'ratio_xp':ratio_xp,\n",
    "                     'radiant_lh':radiant_lh,\n",
    "                     'dire_lh':dire_lh,\n",
    "                     'diff_lh':diff_lh,\n",
    "                     'ratio_lh':ratio_lh})\n",
    "data.head()"
   ]
  },
  {
   "cell_type": "code",
   "execution_count": 134,
   "metadata": {
    "collapsed": false
   },
   "outputs": [
    {
     "data": {
      "text/html": [
       "<div>\n",
       "<table border=\"1\" class=\"dataframe\">\n",
       "  <thead>\n",
       "    <tr style=\"text-align: right;\">\n",
       "      <th></th>\n",
       "      <th>diff_gold</th>\n",
       "      <th>dire_gold</th>\n",
       "      <th>mid</th>\n",
       "      <th>radiant_gold</th>\n",
       "      <th>ratio_gold</th>\n",
       "    </tr>\n",
       "  </thead>\n",
       "  <tbody>\n",
       "    <tr>\n",
       "      <th>9</th>\n",
       "      <td>-641</td>\n",
       "      <td>22095</td>\n",
       "      <td>0</td>\n",
       "      <td>21454</td>\n",
       "      <td>0.970989</td>\n",
       "    </tr>\n",
       "    <tr>\n",
       "      <th>19</th>\n",
       "      <td>-2371</td>\n",
       "      <td>24536</td>\n",
       "      <td>1</td>\n",
       "      <td>22165</td>\n",
       "      <td>0.903366</td>\n",
       "    </tr>\n",
       "    <tr>\n",
       "      <th>29</th>\n",
       "      <td>5844</td>\n",
       "      <td>15548</td>\n",
       "      <td>2</td>\n",
       "      <td>21392</td>\n",
       "      <td>1.375868</td>\n",
       "    </tr>\n",
       "    <tr>\n",
       "      <th>39</th>\n",
       "      <td>3011</td>\n",
       "      <td>17617</td>\n",
       "      <td>3</td>\n",
       "      <td>20628</td>\n",
       "      <td>1.170914</td>\n",
       "    </tr>\n",
       "    <tr>\n",
       "      <th>49</th>\n",
       "      <td>554</td>\n",
       "      <td>17484</td>\n",
       "      <td>4</td>\n",
       "      <td>18038</td>\n",
       "      <td>1.031686</td>\n",
       "    </tr>\n",
       "  </tbody>\n",
       "</table>\n",
       "</div>"
      ],
      "text/plain": [
       "    diff_gold  dire_gold  mid  radiant_gold  ratio_gold\n",
       "9        -641      22095    0         21454    0.970989\n",
       "19      -2371      24536    1         22165    0.903366\n",
       "29       5844      15548    2         21392    1.375868\n",
       "39       3011      17617    3         20628    1.170914\n",
       "49        554      17484    4         18038    1.031686"
      ]
     },
     "execution_count": 134,
     "metadata": {},
     "output_type": "execute_result"
    }
   ],
   "source": [
    "data = pd.DataFrame({'mid':np.arange(49948),\n",
    "                     'radiant_gold':radiant_gold,\n",
    "                     'dire_gold':dire_gold,\n",
    "                     'diff_gold':diff_gold,\n",
    "                     'ratio_gold':ratio_gold,})\n",
    "data.head()"
   ]
  },
  {
   "cell_type": "code",
   "execution_count": 135,
   "metadata": {
    "collapsed": false
   },
   "outputs": [
    {
     "data": {
      "text/plain": [
       "0.63740423688453518"
      ]
     },
     "execution_count": 135,
     "metadata": {},
     "output_type": "execute_result"
    }
   ],
   "source": [
    "train = pd.merge(train_matches[['mid']], data, on='mid', how='left').drop(['mid'], 1)\n",
    "test = pd.merge(test_matches[['mid']], data, on='mid', how='left').drop(['mid'], 1)\n",
    "\n",
    "x_train = train.values\n",
    "y_train = train_matches.radiant_won.values\n",
    "x_test = test.values\n"
   ]
  },
  {
   "cell_type": "code",
   "execution_count": 136,
   "metadata": {
    "collapsed": false
   },
   "outputs": [
    {
     "data": {
      "text/plain": [
       "0.70548990458441474"
      ]
     },
     "execution_count": 136,
     "metadata": {},
     "output_type": "execute_result"
    }
   ],
   "source": [
    "logreg = LogisticRegression()\n",
    "np.mean(cross_val_score(logreg, x_train, y_train, cv=5, scoring='roc_auc'))"
   ]
  },
  {
   "cell_type": "code",
   "execution_count": 138,
   "metadata": {
    "collapsed": false
   },
   "outputs": [],
   "source": [
    "logreg.fit(x_train, y_train)\n",
    "test_matches['radiant_won'] = logreg.predict_proba(x_test)\n",
    "test_matches.to_csv('baseline1.csv', index=None)"
   ]
  },
  {
   "cell_type": "code",
   "execution_count": 139,
   "metadata": {
    "collapsed": true
   },
   "outputs": [],
   "source": [
    "\n",
    "clf = RandomForestClassifier(n_estimators=100, n_jobs=-1, random_state=1234)\n",
    "np.mean(cross_val_score(clf, x_train, y_train, cv=5, scoring='roc_auc'))\n",
    "clf.fit(x_train, y_train)\n",
    "test_matches['radiant_won'] = clf.predict_proba(x_test)\n",
    "test_matches.to_csv('baseline2.csv', index=None)"
   ]
  }
 ],
 "metadata": {
  "anaconda-cloud": {},
  "kernelspec": {
   "display_name": "Python 2.7",
   "language": "python",
   "name": "python2.7"
  },
  "language_info": {
   "codemirror_mode": {
    "name": "ipython",
    "version": 2
   },
   "file_extension": ".py",
   "mimetype": "text/x-python",
   "name": "python",
   "nbconvert_exporter": "python",
   "pygments_lexer": "ipython2",
   "version": "2.7.12"
  }
 },
 "nbformat": 4,
 "nbformat_minor": 0
}
