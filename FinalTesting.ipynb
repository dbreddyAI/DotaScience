{
 "cells": [
  {
   "cell_type": "code",
   "execution_count": 3,
   "metadata": {
    "collapsed": false
   },
   "outputs": [
    {
     "name": "stdout",
     "output_type": "stream",
     "text": [
      "Populating the interactive namespace from numpy and matplotlib\n"
     ]
    }
   ],
   "source": [
    "import pandas as pd\n",
    "import numpy as np\n",
    "import seaborn as sns\n",
    "\n",
    "from sklearn.preprocessing import StandardScaler\n",
    "from sklearn.grid_search import GridSearchCV\n",
    "from sklearn.cross_validation import KFold\n",
    "\n",
    "from sklearn.cross_validation import cross_val_score\n",
    "\n",
    "from sklearn.linear_model import LogisticRegression\n",
    "from sklearn.ensemble import RandomForestClassifier\n",
    "from sklearn.linear_model import Lasso, Ridge\n",
    "\n",
    "%pylab inline\n",
    "\n",
    "pd.set_option(\"display.max_rows\", 15)\n",
    "pd.set_option(\"display.max_columns\", 150)\n",
    "sns.set_style('whitegrid')\n",
    "%config InlineBackend.figure_format = 'svg'\n",
    "\n",
    "\n",
    "plt.rcParams['figure.figsize'] = (12.0, 5.0)"
   ]
  },
  {
   "cell_type": "code",
   "execution_count": 4,
   "metadata": {
    "collapsed": true
   },
   "outputs": [],
   "source": [
    "def normalize_data(X):\n",
    "    return pd.DataFrame(\n",
    "        StandardScaler().fit_transform(X),\n",
    "        index = X.index, \n",
    "        columns=X.columns\n",
    "    )\n",
    "\n",
    "def logEstimation(X, y):\n",
    "    grid = {'C': np.power(10.0, np.arange(-5, 4))}\n",
    "    kf=KFold(y.size, n_folds=5, shuffle=True, random_state=241)\n",
    "    clf=LogisticRegression(random_state=241)\n",
    "    gs = GridSearchCV(clf, grid, scoring='roc_auc', cv=kf)\n",
    "    gs.fit(X, y)\n",
    "    return gs"
   ]
  },
  {
   "cell_type": "code",
   "execution_count": 5,
   "metadata": {
    "collapsed": true
   },
   "outputs": [],
   "source": [
    "def logEstimation_linear(X, y):\n",
    "    grid = {'C': [0.0001, 0.001, 0.01, 0.5, 0.1, 0.5, 1, 5, 10]}\n",
    "    kf=KFold(y.size, n_folds=5, shuffle=True, random_state=241)\n",
    "    clf=LogisticRegression(random_state=241)\n",
    "    gs = GridSearchCV(clf, grid, scoring='roc_auc', cv=kf)\n",
    "    gs.fit(X, y)\n",
    "    return gs"
   ]
  },
  {
   "cell_type": "code",
   "execution_count": 6,
   "metadata": {
    "collapsed": false
   },
   "outputs": [],
   "source": [
    "def my_clf_cross_val(X_train, y_train, with_lasso = True): \n",
    "    clf=LogisticRegression(random_state=241, C=0.1)\n",
    "    score = cross_val_score(clf, X_train, y_train, cv=5, scoring='roc_auc')\n",
    "    print 'logreg: ', np.mean(score), np.std(score)\n",
    "    clf=Ridge(alpha=0.0001)\n",
    "    score = cross_val_score(clf, X_train, y_train, cv=5, scoring='roc_auc')\n",
    "    print 'Ridge: ', np.mean(score), np.std(score)\n",
    "    clf=Lasso(alpha=0.0001, max_iter=6000)\n",
    "    if with_lasso:\n",
    "        score = cross_val_score(clf, X_train, y_train, cv=5, scoring='roc_auc')\n",
    "        print 'Lasso: ', np.mean(score), np.std(score)"
   ]
  },
  {
   "cell_type": "code",
   "execution_count": 8,
   "metadata": {
    "collapsed": true
   },
   "outputs": [],
   "source": [
    "def easy_test():\n",
    "    clf=Ridge(alpha=0.0001)\n",
    "    print 'Ridge: ', np.mean(cross_val_score(clf, X_train, y_train, cv=5, scoring='roc_auc'))\n",
    "    clf=Lasso(alpha=0.0001, max_iter=6000)\n",
    "    print 'Lasso: ', np.mean(cross_val_score(clf, X_train, y_train, cv=5, scoring='roc_auc'))"
   ]
  },
  {
   "cell_type": "code",
   "execution_count": 7,
   "metadata": {
    "collapsed": false
   },
   "outputs": [],
   "source": [
    "def full_test():\n",
    "    clf = RandomForestClassifier(n_estimators=100, n_jobs=-1, random_state=228)\n",
    "    print 'RF: ', np.mean(cross_val_score(clf, X_train, y_train, cv=5, scoring='roc_auc'))\n",
    "   \n",
    "    gs = logEstimation(X_train, y_train)\n",
    "    print gs.best_params_\n",
    "    print('best score of log grid search: {}'.format(gs.best_score_))\n",
    "    \n",
    "    clf=LogisticRegression(random_state=241, C=gs.best_params_['C'])\n",
    "    print 'logreg: ', np.mean(cross_val_score(clf, X_train, y_train, cv=5, scoring='roc_auc'))\n",
    "    \n",
    "    clf=Ridge(alpha=0.0001)\n",
    "    print 'Ridge: ', np.mean(cross_val_score(clf, X_train, y_train, cv=5, scoring='roc_auc'))\n",
    "    \n",
    "    clf=Lasso(alpha=0.00015, max_iter=12000)\n",
    "    print 'Lasso: ', np.mean(cross_val_score(clf, X_train, y_train, cv=5, scoring='roc_auc'))"
   ]
  },
  {
   "cell_type": "code",
   "execution_count": 9,
   "metadata": {
    "collapsed": true
   },
   "outputs": [],
   "source": [
    "def total_merge(gold, heroes, items, xp, creeps, events):\n",
    "    train_matches = pd.read_csv('data/train.csv')\n",
    "    test_matches = pd.read_csv('data/test.csv')\n",
    "    \n",
    "    train = pd.merge(train_matches, gold, on='mid', how='left')\n",
    "    test = pd.merge(test_matches, gold, on='mid', how='left')\n",
    "    train = pd.merge(train, heroes, on='mid', how='left')\n",
    "    test = pd.merge(test, heroes, on='mid', how='left')\n",
    "    train = pd.merge(train, items, on='mid', how='left')\n",
    "    test = pd.merge(test, items, on='mid', how='left')\n",
    "    train = pd.merge(train, xp, on='mid', how='left')\n",
    "    test = pd.merge(test, xp, on='mid', how='left')\n",
    "    train = pd.merge(train, creeps, on='mid', how='left')\n",
    "    test = pd.merge(test, creeps, on='mid', how='left')\n",
    "    train = pd.merge(train, events, on='mid', how='left')\n",
    "    test = pd.merge(test, events, on='mid', how='left')\n",
    "\n",
    "    X_train = train.drop(['radiant_won'], 1)\n",
    "    y_train = train.radiant_won\n",
    "\n",
    "    return X_train, y_train, test"
   ]
  },
  {
   "cell_type": "markdown",
   "metadata": {},
   "source": [
    "# GOLD STANDART"
   ]
  },
  {
   "cell_type": "code",
   "execution_count": 51,
   "metadata": {
    "collapsed": false
   },
   "outputs": [],
   "source": [
    "gold = pd.read_csv('processing_tables/goldScoreWithCarry.csv')\n",
    "heroes = pd.read_csv('processing_tables/only_heroes.csv')\n",
    "items = pd.read_csv('processing_tables/only_items.csv')\n",
    "xp = pd.read_csv('processing_tables/only_exp.csv')\n",
    "xp_score = pd.read_csv('processing_tables/xp_score.csv')\n",
    "xp = pd.merge(xp, xp_score, on='mid', how='left')\n",
    "creeps = pd.read_csv('processing_tables/creeps.csv')\n",
    "events = pd.read_csv('processing_tables/dummy_events.csv')\n",
    "\n",
    "X_train, y_train, test = total_merge(gold, heroes, items, xp, creeps, events)"
   ]
  },
  {
   "cell_type": "code",
   "execution_count": 50,
   "metadata": {
    "collapsed": false
   },
   "outputs": [
    {
     "name": "stdout",
     "output_type": "stream",
     "text": [
      "logreg:  0.765969822732\n",
      "Ridge:  0.764805355026\n",
      "Lasso:  0.766205494153\n"
     ]
    }
   ],
   "source": [
    "creeps.drop(['creeps_diff'], 1, inplace=True)\n",
    "X_train, y_train, test = total_merge(gold, heroes, items, xp, creeps, events)\n",
    "X_train.index = X_train.mid\n",
    "X_train.drop('mid', 1,inplace=True)\n",
    "my_clf_cross_val(X_train, y_train)"
   ]
  },
  {
   "cell_type": "markdown",
   "metadata": {},
   "source": [
    "#  3) - cropped-1"
   ]
  },
  {
   "cell_type": "code",
   "execution_count": 163,
   "metadata": {
    "collapsed": false
   },
   "outputs": [
    {
     "name": "stdout",
     "output_type": "stream",
     "text": [
      "logreg:  0.767068642918\n",
      "Ridge:  0.765069226126\n",
      "Lasso:  0.76680058736\n"
     ]
    }
   ],
   "source": [
    "gold = pd.read_csv('processing_tables/gold_stat.csv')\n",
    "heroes = pd.read_csv('processing_tables/only_heroes.csv')\n",
    "items = pd.read_csv('processing_tables/only_items.csv')\n",
    "xp = pd.read_csv('processing_tables/xpDif.csv')\n",
    "creeps = pd.read_csv('processing_tables/cropped_creeps.csv')\n",
    "events = pd.read_csv('processing_tables/dummy_events.csv')\n",
    "\n",
    "X_train, y_train, test = total_merge(gold, heroes, items, xp, creeps, events)\n",
    "X_train.index = X_train.mid\n",
    "X_train.drop('mid', 1,inplace=True)\n",
    "my_clf_cross_val(X_train, y_train)"
   ]
  },
  {
   "cell_type": "code",
   "execution_count": 166,
   "metadata": {
    "collapsed": false
   },
   "outputs": [
    {
     "name": "stdout",
     "output_type": "stream",
     "text": [
      "Lasso:  0.767138785895\n"
     ]
    },
    {
     "data": {
      "text/html": [
       "<div>\n",
       "<table border=\"1\" class=\"dataframe\">\n",
       "  <thead>\n",
       "    <tr style=\"text-align: right;\">\n",
       "      <th></th>\n",
       "      <th>mid</th>\n",
       "      <th>radiant_won</th>\n",
       "    </tr>\n",
       "  </thead>\n",
       "  <tbody>\n",
       "    <tr>\n",
       "      <th>0</th>\n",
       "      <td>3</td>\n",
       "      <td>0.685594</td>\n",
       "    </tr>\n",
       "    <tr>\n",
       "      <th>1</th>\n",
       "      <td>7</td>\n",
       "      <td>0.568960</td>\n",
       "    </tr>\n",
       "    <tr>\n",
       "      <th>2</th>\n",
       "      <td>9</td>\n",
       "      <td>0.207443</td>\n",
       "    </tr>\n",
       "    <tr>\n",
       "      <th>3</th>\n",
       "      <td>10</td>\n",
       "      <td>0.388243</td>\n",
       "    </tr>\n",
       "    <tr>\n",
       "      <th>4</th>\n",
       "      <td>12</td>\n",
       "      <td>0.503102</td>\n",
       "    </tr>\n",
       "  </tbody>\n",
       "</table>\n",
       "</div>"
      ],
      "text/plain": [
       "   mid  radiant_won\n",
       "0    3     0.685594\n",
       "1    7     0.568960\n",
       "2    9     0.207443\n",
       "3   10     0.388243\n",
       "4   12     0.503102"
      ]
     },
     "execution_count": 166,
     "metadata": {},
     "output_type": "execute_result"
    }
   ],
   "source": [
    "clf = Lasso(alpha=0.00015, max_iter=12000, selection='random')\n",
    "print 'Lasso: ', np.mean(cross_val_score(clf, X_train, y_train, cv=5, scoring='roc_auc'))\n",
    "clf.fit(X_train, y_train)\n",
    "\n",
    "X_test = test.copy()\n",
    "X_test.index = test.mid\n",
    "X_test.drop('mid', 1, inplace=True)\n",
    "\n",
    "test_matches = pd.read_csv('data/test.csv')\n",
    "test_matches['radiant_won'] = clf.predict(X_test)\n",
    "test_matches.head()"
   ]
  },
  {
   "cell_type": "code",
   "execution_count": 167,
   "metadata": {
    "collapsed": true
   },
   "outputs": [],
   "source": [
    "test_matches.to_csv('submissions/cropped-1.csv', index=None)"
   ]
  },
  {
   "cell_type": "markdown",
   "metadata": {},
   "source": [
    "# With Cropped Events"
   ]
  },
  {
   "cell_type": "code",
   "execution_count": 41,
   "metadata": {
    "collapsed": false
   },
   "outputs": [
    {
     "name": "stdout",
     "output_type": "stream",
     "text": [
      "logreg:  0.76717484477\n",
      "Ridge:  0.765241262579\n",
      "Lasso:  0.766967025891\n"
     ]
    }
   ],
   "source": [
    "gold = pd.read_csv('processing_tables/gold_stat.csv')\n",
    "heroes = pd.read_csv('processing_tables/only_heroes.csv')\n",
    "items = pd.read_csv('processing_tables/only_items.csv')\n",
    "xp = pd.read_csv('processing_tables/xpDif.csv')\n",
    "creeps = pd.read_csv('processing_tables/cropped_creeps.csv')\n",
    "events = pd.read_csv('processing_tables/dummy_events_cropped.csv')\n",
    "\n",
    "X_train, y_train, test = total_merge(gold, heroes, items, xp, creeps, events)\n",
    "X_train.index = X_train.mid\n",
    "X_train.drop('mid', 1,inplace=True)\n",
    "my_clf_cross_val(X_train, y_train)"
   ]
  },
  {
   "cell_type": "code",
   "execution_count": 43,
   "metadata": {
    "collapsed": false
   },
   "outputs": [
    {
     "name": "stdout",
     "output_type": "stream",
     "text": [
      "[mean: 0.72350, std: 0.00508, params: {'C': 0.0001}, mean: 0.74932, std: 0.00729, params: {'C': 0.001}, mean: 0.76646, std: 0.01083, params: {'C': 0.01}, mean: 0.76684, std: 0.01120, params: {'C': 0.5}, mean: 0.76752, std: 0.01138, params: {'C': 0.1}, mean: 0.76684, std: 0.01120, params: {'C': 0.5}, mean: 0.76664, std: 0.01114, params: {'C': 1}, mean: 0.76625, std: 0.01103, params: {'C': 5}, mean: 0.76610, std: 0.01102, params: {'C': 10}]\n",
      "{'C': 0.1}\n",
      "best score of log grid search: 0.767522676665\n",
      "logreg:  0.76717484477\n"
     ]
    }
   ],
   "source": [
    "gs = logEstimation_linear(X_train, y_train)\n",
    "print gs.grid_scores_\n",
    "print gs.best_params_\n",
    "print('best score of log grid search: {}'.format(gs.best_score_))\n",
    "clf=LogisticRegression(random_state=241, C=gs.best_params_['C'])\n",
    "print 'logreg: ', np.mean(cross_val_score(clf, X_train, y_train, cv=5, scoring='roc_auc'))"
   ]
  },
  {
   "cell_type": "code",
   "execution_count": 44,
   "metadata": {
    "collapsed": false
   },
   "outputs": [
    {
     "data": {
      "text/html": [
       "<div>\n",
       "<table border=\"1\" class=\"dataframe\">\n",
       "  <thead>\n",
       "    <tr style=\"text-align: right;\">\n",
       "      <th></th>\n",
       "      <th>mid</th>\n",
       "      <th>radiant_won</th>\n",
       "    </tr>\n",
       "  </thead>\n",
       "  <tbody>\n",
       "    <tr>\n",
       "      <th>0</th>\n",
       "      <td>3</td>\n",
       "      <td>0.729537</td>\n",
       "    </tr>\n",
       "    <tr>\n",
       "      <th>1</th>\n",
       "      <td>7</td>\n",
       "      <td>0.600068</td>\n",
       "    </tr>\n",
       "    <tr>\n",
       "      <th>2</th>\n",
       "      <td>9</td>\n",
       "      <td>0.177503</td>\n",
       "    </tr>\n",
       "    <tr>\n",
       "      <th>3</th>\n",
       "      <td>10</td>\n",
       "      <td>0.364566</td>\n",
       "    </tr>\n",
       "    <tr>\n",
       "      <th>4</th>\n",
       "      <td>12</td>\n",
       "      <td>0.503870</td>\n",
       "    </tr>\n",
       "  </tbody>\n",
       "</table>\n",
       "</div>"
      ],
      "text/plain": [
       "   mid  radiant_won\n",
       "0    3     0.729537\n",
       "1    7     0.600068\n",
       "2    9     0.177503\n",
       "3   10     0.364566\n",
       "4   12     0.503870"
      ]
     },
     "execution_count": 44,
     "metadata": {},
     "output_type": "execute_result"
    }
   ],
   "source": [
    "X_test = test.copy()\n",
    "X_test.index = test.mid\n",
    "X_test.drop('mid', 1, inplace=True)\n",
    "clf=LogisticRegression(random_state=241, C=0.1)\n",
    "clf.fit(X_train, y_train)\n",
    "\n",
    "test_matches = pd.read_csv('data/test.csv')\n",
    "test_matches['radiant_won'] = clf.predict_proba(X_test)[:, 1]\n",
    "test_matches.head()"
   ]
  },
  {
   "cell_type": "code",
   "execution_count": 45,
   "metadata": {
    "collapsed": true
   },
   "outputs": [],
   "source": [
    "test_matches.to_csv('submissions/with_cropped_events.csv', index=None)"
   ]
  },
  {
   "cell_type": "markdown",
   "metadata": {
    "collapsed": true
   },
   "source": [
    "# 1) With cropped items"
   ]
  },
  {
   "cell_type": "code",
   "execution_count": 13,
   "metadata": {
    "collapsed": false
   },
   "outputs": [
    {
     "name": "stdout",
     "output_type": "stream",
     "text": [
      "logreg:  0.768729181764\n",
      "Ridge:  0.767748195646\n",
      "Lasso:  0.768365266477\n"
     ]
    }
   ],
   "source": [
    "gold = pd.read_csv('processing_tables/gold_stat.csv')\n",
    "heroes = pd.read_csv('processing_tables/only_heroes.csv')\n",
    "items = pd.read_csv('processing_tables/items_dif.csv')\n",
    "xp = pd.read_csv('processing_tables/xpDif.csv')\n",
    "creeps = pd.read_csv('processing_tables/cropped_creeps.csv')\n",
    "events = pd.read_csv('processing_tables/dummy_events.csv')\n",
    "\n",
    "X_train, y_train, test = total_merge(gold, heroes, items, xp, creeps, events)\n",
    "X_train.index = X_train.mid\n",
    "X_train.drop('mid', 1,inplace=True)\n",
    "my_clf_cross_val(X_train, y_train)"
   ]
  },
  {
   "cell_type": "code",
   "execution_count": 14,
   "metadata": {
    "collapsed": false
   },
   "outputs": [
    {
     "name": "stdout",
     "output_type": "stream",
     "text": [
      "[mean: 0.72454, std: 0.00516, params: {'C': 0.0001}, mean: 0.74984, std: 0.00754, params: {'C': 0.001}, mean: 0.76742, std: 0.01100, params: {'C': 0.01}, mean: 0.76890, std: 0.01153, params: {'C': 0.5}, mean: 0.76911, std: 0.01160, params: {'C': 0.1}, mean: 0.76890, std: 0.01153, params: {'C': 0.5}, mean: 0.76882, std: 0.01146, params: {'C': 1}, mean: 0.76862, std: 0.01142, params: {'C': 5}, mean: 0.76856, std: 0.01144, params: {'C': 10}]\n",
      "{'C': 0.1}\n",
      "best score of log grid search: 0.769109659471\n",
      "logreg:  0.768729181764\n"
     ]
    }
   ],
   "source": [
    "gs = logEstimation_linear(X_train, y_train)\n",
    "print gs.grid_scores_\n",
    "print gs.best_params_\n",
    "print('best score of log grid search: {}'.format(gs.best_score_))\n",
    "clf=LogisticRegression(random_state=241, C=gs.best_params_['C'])\n",
    "print 'logreg: ', np.mean(cross_val_score(clf, X_train, y_train, cv=5, scoring='roc_auc'))"
   ]
  },
  {
   "cell_type": "code",
   "execution_count": 15,
   "metadata": {
    "collapsed": false
   },
   "outputs": [
    {
     "data": {
      "text/html": [
       "<div>\n",
       "<table border=\"1\" class=\"dataframe\">\n",
       "  <thead>\n",
       "    <tr style=\"text-align: right;\">\n",
       "      <th></th>\n",
       "      <th>mid</th>\n",
       "      <th>radiant_won</th>\n",
       "    </tr>\n",
       "  </thead>\n",
       "  <tbody>\n",
       "    <tr>\n",
       "      <th>0</th>\n",
       "      <td>3</td>\n",
       "      <td>0.704479</td>\n",
       "    </tr>\n",
       "    <tr>\n",
       "      <th>1</th>\n",
       "      <td>7</td>\n",
       "      <td>0.526255</td>\n",
       "    </tr>\n",
       "    <tr>\n",
       "      <th>2</th>\n",
       "      <td>9</td>\n",
       "      <td>0.153394</td>\n",
       "    </tr>\n",
       "    <tr>\n",
       "      <th>3</th>\n",
       "      <td>10</td>\n",
       "      <td>0.384878</td>\n",
       "    </tr>\n",
       "    <tr>\n",
       "      <th>4</th>\n",
       "      <td>12</td>\n",
       "      <td>0.550598</td>\n",
       "    </tr>\n",
       "  </tbody>\n",
       "</table>\n",
       "</div>"
      ],
      "text/plain": [
       "   mid  radiant_won\n",
       "0    3     0.704479\n",
       "1    7     0.526255\n",
       "2    9     0.153394\n",
       "3   10     0.384878\n",
       "4   12     0.550598"
      ]
     },
     "execution_count": 15,
     "metadata": {},
     "output_type": "execute_result"
    }
   ],
   "source": [
    "X_test = test.copy()\n",
    "X_test.index = test.mid\n",
    "X_test.drop('mid', 1, inplace=True)\n",
    "clf=LogisticRegression(random_state=241, C=0.1)\n",
    "clf.fit(X_train, y_train)\n",
    "\n",
    "test_matches = pd.read_csv('data/test.csv')\n",
    "test_matches['radiant_won'] = clf.predict_proba(X_test)[:, 1]\n",
    "test_matches.head()"
   ]
  },
  {
   "cell_type": "code",
   "execution_count": 16,
   "metadata": {
    "collapsed": true
   },
   "outputs": [],
   "source": [
    "test_matches.to_csv('submissions/with_cropped_items.csv', index=None)"
   ]
  },
  {
   "cell_type": "markdown",
   "metadata": {
    "collapsed": true
   },
   "source": [
    "# 2) With cropped items and events"
   ]
  },
  {
   "cell_type": "code",
   "execution_count": 17,
   "metadata": {
    "collapsed": false
   },
   "outputs": [
    {
     "name": "stdout",
     "output_type": "stream",
     "text": [
      "logreg:  0.768891703732\n",
      "Ridge:  0.767991692533\n",
      "Lasso:  0.768600442808\n"
     ]
    }
   ],
   "source": [
    "gold = pd.read_csv('processing_tables/gold_stat.csv')\n",
    "heroes = pd.read_csv('processing_tables/only_heroes.csv')\n",
    "items = pd.read_csv('processing_tables/items_dif.csv')\n",
    "xp = pd.read_csv('processing_tables/xpDif.csv')\n",
    "creeps = pd.read_csv('processing_tables/cropped_creeps.csv')\n",
    "events = pd.read_csv('processing_tables/dummy_events_cropped.csv')\n",
    "\n",
    "X_train, y_train, test = total_merge(gold, heroes, items, xp, creeps, events)\n",
    "X_train.index = X_train.mid\n",
    "X_train.drop('mid', 1,inplace=True)\n",
    "my_clf_cross_val(X_train, y_train)"
   ]
  },
  {
   "cell_type": "code",
   "execution_count": 18,
   "metadata": {
    "collapsed": false
   },
   "outputs": [
    {
     "name": "stdout",
     "output_type": "stream",
     "text": [
      "Lasso2:  0.76867911356\n"
     ]
    }
   ],
   "source": [
    "clf = Lasso(alpha=0.00015, max_iter=12000)\n",
    "print 'Lasso2: ', np.mean(cross_val_score(clf, X_train, y_train, cv=5, scoring='roc_auc'))"
   ]
  },
  {
   "cell_type": "code",
   "execution_count": 19,
   "metadata": {
    "collapsed": false
   },
   "outputs": [
    {
     "data": {
      "text/html": [
       "<div>\n",
       "<table border=\"1\" class=\"dataframe\">\n",
       "  <thead>\n",
       "    <tr style=\"text-align: right;\">\n",
       "      <th></th>\n",
       "      <th>mid</th>\n",
       "      <th>radiant_won</th>\n",
       "    </tr>\n",
       "  </thead>\n",
       "  <tbody>\n",
       "    <tr>\n",
       "      <th>0</th>\n",
       "      <td>3</td>\n",
       "      <td>0.704094</td>\n",
       "    </tr>\n",
       "    <tr>\n",
       "      <th>1</th>\n",
       "      <td>7</td>\n",
       "      <td>0.522105</td>\n",
       "    </tr>\n",
       "    <tr>\n",
       "      <th>2</th>\n",
       "      <td>9</td>\n",
       "      <td>0.153881</td>\n",
       "    </tr>\n",
       "    <tr>\n",
       "      <th>3</th>\n",
       "      <td>10</td>\n",
       "      <td>0.386449</td>\n",
       "    </tr>\n",
       "    <tr>\n",
       "      <th>4</th>\n",
       "      <td>12</td>\n",
       "      <td>0.552490</td>\n",
       "    </tr>\n",
       "  </tbody>\n",
       "</table>\n",
       "</div>"
      ],
      "text/plain": [
       "   mid  radiant_won\n",
       "0    3     0.704094\n",
       "1    7     0.522105\n",
       "2    9     0.153881\n",
       "3   10     0.386449\n",
       "4   12     0.552490"
      ]
     },
     "execution_count": 19,
     "metadata": {},
     "output_type": "execute_result"
    }
   ],
   "source": [
    "X_test = test.copy()\n",
    "X_test.index = test.mid\n",
    "X_test.drop('mid', 1, inplace=True)\n",
    "clf=LogisticRegression(random_state=241, C=0.1)\n",
    "clf.fit(X_train, y_train)\n",
    "\n",
    "test_matches = pd.read_csv('data/test.csv')\n",
    "test_matches['radiant_won'] = clf.predict_proba(X_test)[:, 1]\n",
    "test_matches.to_csv('submissions/with_cropped_items_events.csv', index=None)\n",
    "test_matches.head()"
   ]
  },
  {
   "cell_type": "code",
   "execution_count": null,
   "metadata": {
    "collapsed": true
   },
   "outputs": [],
   "source": []
  },
  {
   "cell_type": "code",
   "execution_count": null,
   "metadata": {
    "collapsed": true
   },
   "outputs": [],
   "source": []
  },
  {
   "cell_type": "markdown",
   "metadata": {},
   "source": [
    "# 1) lasso 0.76269"
   ]
  },
  {
   "cell_type": "code",
   "execution_count": 20,
   "metadata": {
    "collapsed": false
   },
   "outputs": [
    {
     "name": "stdout",
     "output_type": "stream",
     "text": [
      "logreg:  0.768830201087\n",
      "Ridge:  0.76787056204\n",
      "Lasso:  0.768476686177\n"
     ]
    }
   ],
   "source": [
    "gold = pd.read_csv('processing_tables/gold_stat_dif.csv')\n",
    "heroes = pd.read_csv('processing_tables/only_heroes.csv')\n",
    "items = pd.read_csv('processing_tables/items_dif.csv')\n",
    "xp = pd.read_csv('processing_tables/xpDif.csv')\n",
    "creeps = pd.read_csv('processing_tables/cropped_creeps.csv')\n",
    "events = pd.read_csv('processing_tables/dummy_events.csv')\n",
    "\n",
    "X_train, y_train, test = total_merge(gold, heroes, items, xp, creeps, events)\n",
    "X_train.index = X_train.mid\n",
    "X_train.drop('mid', 1,inplace=True)\n",
    "my_clf_cross_val(X_train, y_train)"
   ]
  },
  {
   "cell_type": "code",
   "execution_count": 21,
   "metadata": {
    "collapsed": false
   },
   "outputs": [
    {
     "data": {
      "text/html": [
       "<div>\n",
       "<table border=\"1\" class=\"dataframe\">\n",
       "  <thead>\n",
       "    <tr style=\"text-align: right;\">\n",
       "      <th></th>\n",
       "      <th>mid</th>\n",
       "      <th>radiant_won</th>\n",
       "    </tr>\n",
       "  </thead>\n",
       "  <tbody>\n",
       "    <tr>\n",
       "      <th>0</th>\n",
       "      <td>3</td>\n",
       "      <td>0.703232</td>\n",
       "    </tr>\n",
       "    <tr>\n",
       "      <th>1</th>\n",
       "      <td>7</td>\n",
       "      <td>0.517801</td>\n",
       "    </tr>\n",
       "    <tr>\n",
       "      <th>2</th>\n",
       "      <td>9</td>\n",
       "      <td>0.151132</td>\n",
       "    </tr>\n",
       "    <tr>\n",
       "      <th>3</th>\n",
       "      <td>10</td>\n",
       "      <td>0.386902</td>\n",
       "    </tr>\n",
       "    <tr>\n",
       "      <th>4</th>\n",
       "      <td>12</td>\n",
       "      <td>0.546474</td>\n",
       "    </tr>\n",
       "  </tbody>\n",
       "</table>\n",
       "</div>"
      ],
      "text/plain": [
       "   mid  radiant_won\n",
       "0    3     0.703232\n",
       "1    7     0.517801\n",
       "2    9     0.151132\n",
       "3   10     0.386902\n",
       "4   12     0.546474"
      ]
     },
     "execution_count": 21,
     "metadata": {},
     "output_type": "execute_result"
    }
   ],
   "source": [
    "X_test = test.copy()\n",
    "X_test.index = test.mid\n",
    "X_test.drop('mid', 1, inplace=True)\n",
    "clf=LogisticRegression(random_state=241, C=0.1)\n",
    "clf.fit(X_train, y_train)\n",
    "\n",
    "test_matches = pd.read_csv('data/test.csv')\n",
    "test_matches['radiant_won'] = clf.predict_proba(X_test)[:, 1]\n",
    "test_matches.to_csv('submissions/cropped_items_events_goldStatDif.csv', index=None)\n",
    "test_matches.head()"
   ]
  },
  {
   "cell_type": "code",
   "execution_count": null,
   "metadata": {
    "collapsed": true
   },
   "outputs": [],
   "source": []
  },
  {
   "cell_type": "code",
   "execution_count": 26,
   "metadata": {
    "collapsed": false
   },
   "outputs": [
    {
     "name": "stdout",
     "output_type": "stream",
     "text": [
      "logreg:  0.768899382226 0.00567106969127\n",
      "Ridge:  0.768306721781 0.00591528254533\n",
      "Lasso:  0.768595774301 0.00594092866854\n"
     ]
    }
   ],
   "source": [
    "gold = pd.read_csv('processing_tables/gold_stats_usual_dif.csv')\n",
    "heroes = pd.read_csv('processing_tables/only_heroes.csv')\n",
    "items = pd.read_csv('processing_tables/items_dif.csv')\n",
    "xp = pd.read_csv('processing_tables/xpDif.csv')\n",
    "creeps = pd.read_csv('processing_tables/cropped_creeps.csv')\n",
    "events = pd.read_csv('processing_tables/dummy_events.csv')\n",
    "\n",
    "X_train, y_train, test = total_merge(gold, heroes, items, xp, creeps, events)\n",
    "X_train.index = X_train.mid\n",
    "X_train.drop('mid', 1,inplace=True)\n",
    "my_clf_cross_val(X_train, y_train)"
   ]
  },
  {
   "cell_type": "code",
   "execution_count": 34,
   "metadata": {
    "collapsed": false
   },
   "outputs": [
    {
     "name": "stdout",
     "output_type": "stream",
     "text": [
      "logreg:  0.769254382848 0.00568661630208\n",
      "Ridge:  0.768540778247 0.00565586238941\n",
      "Lasso:  0.76900440766 0.00580143502894\n"
     ]
    }
   ],
   "source": [
    "gold = pd.read_csv('processing_tables/gold_stats_adapt_dif.csv')\n",
    "heroes = pd.read_csv('processing_tables/only_heroes.csv')\n",
    "items = pd.read_csv('processing_tables/items_dif.csv')\n",
    "xp = pd.read_csv('processing_tables/xpDif.csv')\n",
    "creeps = pd.read_csv('processing_tables/cropped_creeps.csv')\n",
    "events = pd.read_csv('processing_tables/dummy_events_cropped.csv')\n",
    "\n",
    "X_train, y_train, test = total_merge(gold, heroes, items, xp, creeps, events)\n",
    "X_train.index = X_train.mid\n",
    "X_train.drop('mid', 1,inplace=True)\n",
    "my_clf_cross_val(X_train, y_train)"
   ]
  },
  {
   "cell_type": "code",
   "execution_count": 35,
   "metadata": {
    "collapsed": false
   },
   "outputs": [
    {
     "name": "stdout",
     "output_type": "stream",
     "text": [
      "Lasso2:  0.768967083336\n"
     ]
    },
    {
     "data": {
      "text/plain": [
       "Lasso(alpha=0.00015, copy_X=True, fit_intercept=True, max_iter=12000,\n",
       "   normalize=False, positive=False, precompute=False, random_state=None,\n",
       "   selection='cyclic', tol=0.0001, warm_start=False)"
      ]
     },
     "execution_count": 35,
     "metadata": {},
     "output_type": "execute_result"
    }
   ],
   "source": [
    "clf = Lasso(alpha=0.00015, max_iter=12000)\n",
    "print 'Lasso2: ', np.mean(cross_val_score(clf, X_train, y_train, cv=5, scoring='roc_auc'))\n",
    "clf.fit(X_train, y_train)"
   ]
  },
  {
   "cell_type": "code",
   "execution_count": 36,
   "metadata": {
    "collapsed": false
   },
   "outputs": [
    {
     "name": "stdout",
     "output_type": "stream",
     "text": [
      "second_gold_dif -0.00445717201172\n",
      "adapt_score_sum_dif -0.0196351851119\n",
      "dire_best_creeps -0.0243520409374\n",
      "dire_second_creeps -0.0103223300512\n",
      "rad_creeps_sum -0.00505117098916\n",
      "barracks_dif -0.0\n",
      "make_fb -0.00429199717334\n",
      "kill_roshan -0.0375580925728\n",
      "pushing -0.0304878012461\n"
     ]
    }
   ],
   "source": [
    "for i, col in enumerate(X_train.columns):\n",
    "    if clf.coef_[i] < 0.001 and 'hero' not in col and 'item' not in col:\n",
    "        print col, clf.coef_[i]"
   ]
  },
  {
   "cell_type": "code",
   "execution_count": null,
   "metadata": {
    "collapsed": true
   },
   "outputs": [],
   "source": []
  },
  {
   "cell_type": "code",
   "execution_count": null,
   "metadata": {
    "collapsed": true
   },
   "outputs": [],
   "source": []
  },
  {
   "cell_type": "code",
   "execution_count": null,
   "metadata": {
    "collapsed": true
   },
   "outputs": [],
   "source": []
  },
  {
   "cell_type": "code",
   "execution_count": null,
   "metadata": {
    "collapsed": true
   },
   "outputs": [],
   "source": []
  },
  {
   "cell_type": "code",
   "execution_count": null,
   "metadata": {
    "collapsed": true
   },
   "outputs": [],
   "source": []
  },
  {
   "cell_type": "markdown",
   "metadata": {},
   "source": [
    "# 0.76262"
   ]
  },
  {
   "cell_type": "code",
   "execution_count": 19,
   "metadata": {
    "collapsed": false
   },
   "outputs": [
    {
     "name": "stdout",
     "output_type": "stream",
     "text": [
      "logreg:  0.769006508164 0.00563920655664\n",
      "Ridge:  0.768216625786 0.00566150042797\n",
      "Lasso:  0.768693087269 0.00587526922375\n"
     ]
    }
   ],
   "source": [
    "gold = pd.read_csv('processing_tables/gold_stats_adapt_dif.csv')\n",
    "gold.drop('third_gold_dif', 1, inplace=True)\n",
    "heroes = pd.read_csv('processing_tables/only_heroes.csv')\n",
    "items = pd.read_csv('processing_tables/items_dif.csv')\n",
    "xp = pd.read_csv('processing_tables/xpDif.csv')\n",
    "creeps = pd.read_csv('processing_tables/cropped_creeps2.csv')\n",
    "events = pd.read_csv('processing_tables/dummy_events.csv')\n",
    "\n",
    "X_train, y_train, test = total_merge(gold, heroes, items, xp, creeps, events)\n",
    "X_train.index = X_train.mid\n",
    "X_train.drop('mid', 1,inplace=True)\n",
    "my_clf_cross_val(X_train, y_train)"
   ]
  },
  {
   "cell_type": "code",
   "execution_count": 11,
   "metadata": {
    "collapsed": false
   },
   "outputs": [
    {
     "name": "stdout",
     "output_type": "stream",
     "text": [
      "Lasso2:  0.768700854721\n"
     ]
    },
    {
     "data": {
      "text/plain": [
       "Lasso(alpha=0.00015, copy_X=True, fit_intercept=True, max_iter=12000,\n",
       "   normalize=False, positive=False, precompute=False, random_state=None,\n",
       "   selection='cyclic', tol=0.0001, warm_start=False)"
      ]
     },
     "execution_count": 11,
     "metadata": {},
     "output_type": "execute_result"
    }
   ],
   "source": [
    "clf = Lasso(alpha=0.00015, max_iter=12000)\n",
    "print 'Lasso2: ', np.mean(cross_val_score(clf, X_train, y_train, cv=5, scoring='roc_auc'))\n",
    "clf.fit(X_train, y_train)"
   ]
  },
  {
   "cell_type": "code",
   "execution_count": 13,
   "metadata": {
    "collapsed": false
   },
   "outputs": [
    {
     "name": "stdout",
     "output_type": "stream",
     "text": [
      "second_gold_dif -0.00734078564414\n",
      "adapt_score_sum_dif -0.0\n",
      "dire_best_creeps -0.0263821986337\n",
      "dire_second_creeps -0.0111857902993\n",
      "rad_creeps_sum -0.00851029209591\n",
      "radiant_take_aegis -0.0\n",
      "dire_take_aegis 0.0\n",
      "radiant_steal_aegis 0.0\n",
      "dire_steal_aegis -0.0\n",
      "radiant_destroy_barracks -0.0\n",
      "dire_destroy_barracks -0.0\n",
      "radiant_make_fb -0.0264005396576\n",
      "dire_make_fb -0.0178608563296\n",
      "radiant_kill_roshan -0.016792562585\n",
      "radiant_denay_tower -0.0\n",
      "dire_denay_tower -0.0320101242926\n",
      "radiant_destroy_tower -0.0295518778494\n"
     ]
    }
   ],
   "source": [
    "for i, col in enumerate(X_train.columns):\n",
    "    if clf.coef_[i] < 0.001 and 'hero' not in col and 'item' not in col:\n",
    "        print col, clf.coef_[i]"
   ]
  },
  {
   "cell_type": "code",
   "execution_count": 37,
   "metadata": {
    "collapsed": false
   },
   "outputs": [
    {
     "data": {
      "text/html": [
       "<div>\n",
       "<table border=\"1\" class=\"dataframe\">\n",
       "  <thead>\n",
       "    <tr style=\"text-align: right;\">\n",
       "      <th></th>\n",
       "      <th>mid</th>\n",
       "      <th>radiant_won</th>\n",
       "    </tr>\n",
       "  </thead>\n",
       "  <tbody>\n",
       "    <tr>\n",
       "      <th>0</th>\n",
       "      <td>3</td>\n",
       "      <td>0.720901</td>\n",
       "    </tr>\n",
       "    <tr>\n",
       "      <th>1</th>\n",
       "      <td>7</td>\n",
       "      <td>0.488509</td>\n",
       "    </tr>\n",
       "    <tr>\n",
       "      <th>2</th>\n",
       "      <td>9</td>\n",
       "      <td>0.157156</td>\n",
       "    </tr>\n",
       "    <tr>\n",
       "      <th>3</th>\n",
       "      <td>10</td>\n",
       "      <td>0.435753</td>\n",
       "    </tr>\n",
       "    <tr>\n",
       "      <th>4</th>\n",
       "      <td>12</td>\n",
       "      <td>0.583108</td>\n",
       "    </tr>\n",
       "  </tbody>\n",
       "</table>\n",
       "</div>"
      ],
      "text/plain": [
       "   mid  radiant_won\n",
       "0    3     0.720901\n",
       "1    7     0.488509\n",
       "2    9     0.157156\n",
       "3   10     0.435753\n",
       "4   12     0.583108"
      ]
     },
     "execution_count": 37,
     "metadata": {},
     "output_type": "execute_result"
    }
   ],
   "source": [
    "X_test = test.copy()\n",
    "X_test.index = test.mid\n",
    "X_test.drop('mid', 1, inplace=True)\n",
    "clf=LogisticRegression(random_state=241, C=0.1)\n",
    "clf.fit(X_train, y_train)\n",
    "\n",
    "test_matches = pd.read_csv('data/test.csv')\n",
    "test_matches['radiant_won'] = clf.predict_proba(X_test)[:, 1]\n",
    "test_matches.to_csv('submissions/adapthGold_croppedEvents.csv', index=None)\n",
    "test_matches.head()"
   ]
  },
  {
   "cell_type": "code",
   "execution_count": null,
   "metadata": {
    "collapsed": true
   },
   "outputs": [],
   "source": []
  },
  {
   "cell_type": "code",
   "execution_count": null,
   "metadata": {
    "collapsed": true
   },
   "outputs": [],
   "source": []
  },
  {
   "cell_type": "markdown",
   "metadata": {},
   "source": [
    "# logreg 0.76252"
   ]
  },
  {
   "cell_type": "code",
   "execution_count": 51,
   "metadata": {
    "collapsed": false
   },
   "outputs": [
    {
     "name": "stdout",
     "output_type": "stream",
     "text": [
      "logreg:  0.769103987736\n",
      "Ridge:  0.768222997104\n",
      "Lasso:  0.76878372997\n"
     ]
    }
   ],
   "source": [
    "gold = pd.read_csv('processing_tables/gold_stats_adapt_dif.csv')\n",
    "gold.drop('third_gold_dif', 1, inplace=True)\n",
    "gold.drop('second_gold_dif', 1, inplace=True)\n",
    "heroes = pd.read_csv('processing_tables/only_heroes.csv')\n",
    "items = pd.read_csv('processing_tables/items_dif.csv')\n",
    "xp = pd.read_csv('processing_tables/xpDif.csv')\n",
    "creeps = pd.read_csv('processing_tables/cropped_creeps_dif.csv')\n",
    "events = pd.read_csv('processing_tables/dummy_events.csv')\n",
    "\n",
    "X_train, y_train, test = total_merge(gold, heroes, items, xp, creeps, events)\n",
    "X_train.index = X_train.mid\n",
    "X_train.drop('mid', 1,inplace=True)\n",
    "my_clf_cross_val(X_train, y_train)"
   ]
  },
  {
   "cell_type": "code",
   "execution_count": 52,
   "metadata": {
    "collapsed": false
   },
   "outputs": [
    {
     "name": "stdout",
     "output_type": "stream",
     "text": [
      "Lasso2:  0.768843672615\n"
     ]
    },
    {
     "data": {
      "text/plain": [
       "Lasso(alpha=0.00015, copy_X=True, fit_intercept=True, max_iter=12000,\n",
       "   normalize=False, positive=False, precompute=False, random_state=None,\n",
       "   selection='cyclic', tol=0.0001, warm_start=False)"
      ]
     },
     "execution_count": 52,
     "metadata": {},
     "output_type": "execute_result"
    }
   ],
   "source": [
    "clf = Lasso(alpha=0.00015, max_iter=12000)\n",
    "print 'Lasso2: ', np.mean(cross_val_score(clf, X_train, y_train, cv=5, scoring='roc_auc'))\n",
    "clf.fit(X_train, y_train)"
   ]
  },
  {
   "cell_type": "code",
   "execution_count": 53,
   "metadata": {
    "collapsed": false
   },
   "outputs": [
    {
     "name": "stdout",
     "output_type": "stream",
     "text": [
      "adapt_score_sum_dif 0.0\n",
      "sum_creeps_dif -0.0131034094218\n",
      "radiant_take_aegis -0.0\n",
      "dire_take_aegis 0.0\n",
      "radiant_steal_aegis 0.0\n",
      "dire_steal_aegis -0.0\n",
      "radiant_destroy_barracks -0.0\n",
      "dire_destroy_barracks -0.0\n",
      "radiant_make_fb -0.0259819385947\n",
      "dire_make_fb -0.0179045465266\n",
      "radiant_kill_roshan -0.0155819383747\n",
      "radiant_denay_tower -0.0\n",
      "dire_denay_tower -0.0313426377648\n",
      "radiant_destroy_tower -0.0287696695177\n"
     ]
    }
   ],
   "source": [
    "for i, col in enumerate(X_train.columns):\n",
    "    if clf.coef_[i] < 0.001 and 'hero' not in col and 'item' not in col:\n",
    "        print col, clf.coef_[i]"
   ]
  },
  {
   "cell_type": "code",
   "execution_count": 54,
   "metadata": {
    "collapsed": false
   },
   "outputs": [
    {
     "data": {
      "text/html": [
       "<div>\n",
       "<table border=\"1\" class=\"dataframe\">\n",
       "  <thead>\n",
       "    <tr style=\"text-align: right;\">\n",
       "      <th></th>\n",
       "      <th>mid</th>\n",
       "      <th>radiant_won</th>\n",
       "    </tr>\n",
       "  </thead>\n",
       "  <tbody>\n",
       "    <tr>\n",
       "      <th>0</th>\n",
       "      <td>3</td>\n",
       "      <td>0.729692</td>\n",
       "    </tr>\n",
       "    <tr>\n",
       "      <th>1</th>\n",
       "      <td>7</td>\n",
       "      <td>0.468287</td>\n",
       "    </tr>\n",
       "    <tr>\n",
       "      <th>2</th>\n",
       "      <td>9</td>\n",
       "      <td>0.162953</td>\n",
       "    </tr>\n",
       "    <tr>\n",
       "      <th>3</th>\n",
       "      <td>10</td>\n",
       "      <td>0.390292</td>\n",
       "    </tr>\n",
       "    <tr>\n",
       "      <th>4</th>\n",
       "      <td>12</td>\n",
       "      <td>0.578631</td>\n",
       "    </tr>\n",
       "  </tbody>\n",
       "</table>\n",
       "</div>"
      ],
      "text/plain": [
       "   mid  radiant_won\n",
       "0    3     0.729692\n",
       "1    7     0.468287\n",
       "2    9     0.162953\n",
       "3   10     0.390292\n",
       "4   12     0.578631"
      ]
     },
     "execution_count": 54,
     "metadata": {},
     "output_type": "execute_result"
    }
   ],
   "source": [
    "X_test = test.copy()\n",
    "X_test.index = test.mid\n",
    "X_test.drop('mid', 1, inplace=True)\n",
    "clf=LogisticRegression(random_state=241, C=0.1)\n",
    "clf.fit(X_train, y_train)\n",
    "\n",
    "test_matches = pd.read_csv('data/test.csv')\n",
    "test_matches['radiant_won'] = clf.predict_proba(X_test)[:, 1]\n",
    "test_matches.to_csv('submissions/logreg_very_crop_creeps.csv', index=None)\n",
    "test_matches.head()"
   ]
  },
  {
   "cell_type": "code",
   "execution_count": null,
   "metadata": {
    "collapsed": false
   },
   "outputs": [],
   "source": [
    "clf = Lasso(alpha=0.00015, max_iter=12000)\n",
    "print 'Lasso2: ', np.mean(cross_val_score(clf, X_train, y_train, cv=5, scoring='roc_auc'))\n",
    "clf.fit(X_train, y_train)"
   ]
  },
  {
   "cell_type": "code",
   "execution_count": null,
   "metadata": {
    "collapsed": false
   },
   "outputs": [],
   "source": [
    "for i, col in enumerate(X_train.columns):\n",
    "    if clf.coef_[i] < 0.001 and 'hero' not in col and 'item' not in col:\n",
    "        print col, clf.coef_[i]"
   ]
  },
  {
   "cell_type": "code",
   "execution_count": null,
   "metadata": {
    "collapsed": false
   },
   "outputs": [],
   "source": [
    "X_test = test.copy()\n",
    "X_test.index = test.mid\n",
    "X_test.drop('mid', 1, inplace=True)\n",
    "clf=LogisticRegression(random_state=241, C=0.1)\n",
    "clf.fit(X_train, y_train)\n",
    "\n",
    "test_matches = pd.read_csv('data/test.csv')\n",
    "test_matches['radiant_won'] = clf.predict_proba(X_test)[:, 1]\n",
    "test_matches.to_csv('submissions/logreg_very_crop_creeps.csv', index=None)\n",
    "test_matches.head()"
   ]
  },
  {
   "cell_type": "markdown",
   "metadata": {},
   "source": [
    "# threshold_gold_score 0.76297"
   ]
  },
  {
   "cell_type": "code",
   "execution_count": 67,
   "metadata": {
    "collapsed": false
   },
   "outputs": [
    {
     "name": "stdout",
     "output_type": "stream",
     "text": [
      "logreg:  0.769069496006 0.00600877674853\n",
      "Ridge:  0.768169310013 0.00578611917496\n",
      "Lasso:  0.768734954971 0.00609786660687\n"
     ]
    }
   ],
   "source": [
    "gold = pd.read_csv('processing_tables/gold_stats_threshold_dif.csv')\n",
    "gold.drop('third_gold_dif', 1, inplace=True)\n",
    "gold.drop('second_gold_dif', 1, inplace=True)\n",
    "heroes = pd.read_csv('processing_tables/only_heroes.csv')\n",
    "items = pd.read_csv('processing_tables/items_dif.csv')\n",
    "xp = pd.read_csv('processing_tables/xpDif.csv')\n",
    "creeps = pd.read_csv('processing_tables/cropped_creeps_dif.csv')\n",
    "events = pd.read_csv('processing_tables/dummy_events.csv')\n",
    "# events.drop(['radiant_take_aegis', 'dire_take_aegis', 'radiant_steal_aegis', 'dire_steal_aegis'], 1, inplace=True)\n",
    "\n",
    "X_train, y_train, test = total_merge(gold, heroes, items, xp, creeps, events)\n",
    "X_train.index = X_train.mid\n",
    "X_train.drop('mid', 1,inplace=True)\n",
    "my_clf_cross_val(X_train, y_train)"
   ]
  },
  {
   "cell_type": "code",
   "execution_count": 68,
   "metadata": {
    "collapsed": false
   },
   "outputs": [
    {
     "data": {
      "text/html": [
       "<div>\n",
       "<table border=\"1\" class=\"dataframe\">\n",
       "  <thead>\n",
       "    <tr style=\"text-align: right;\">\n",
       "      <th></th>\n",
       "      <th>mid</th>\n",
       "      <th>radiant_won</th>\n",
       "    </tr>\n",
       "  </thead>\n",
       "  <tbody>\n",
       "    <tr>\n",
       "      <th>0</th>\n",
       "      <td>3</td>\n",
       "      <td>0.698131</td>\n",
       "    </tr>\n",
       "    <tr>\n",
       "      <th>1</th>\n",
       "      <td>7</td>\n",
       "      <td>0.513709</td>\n",
       "    </tr>\n",
       "    <tr>\n",
       "      <th>2</th>\n",
       "      <td>9</td>\n",
       "      <td>0.158672</td>\n",
       "    </tr>\n",
       "    <tr>\n",
       "      <th>3</th>\n",
       "      <td>10</td>\n",
       "      <td>0.387372</td>\n",
       "    </tr>\n",
       "    <tr>\n",
       "      <th>4</th>\n",
       "      <td>12</td>\n",
       "      <td>0.561858</td>\n",
       "    </tr>\n",
       "  </tbody>\n",
       "</table>\n",
       "</div>"
      ],
      "text/plain": [
       "   mid  radiant_won\n",
       "0    3     0.698131\n",
       "1    7     0.513709\n",
       "2    9     0.158672\n",
       "3   10     0.387372\n",
       "4   12     0.561858"
      ]
     },
     "execution_count": 68,
     "metadata": {},
     "output_type": "execute_result"
    }
   ],
   "source": [
    "X_test = test.copy()\n",
    "X_test.index = test.mid\n",
    "X_test.drop('mid', 1, inplace=True)\n",
    "clf=LogisticRegression(random_state=241, C=0.1)\n",
    "clf.fit(X_train, y_train)\n",
    "\n",
    "test_matches = pd.read_csv('data/test.csv')\n",
    "test_matches['radiant_won'] = clf.predict_proba(X_test)[:, 1]\n",
    "# test_matches.to_csv('submissions/thresholdGold_easyCroppedEvents.csv', index=None)\n",
    "test_matches.head()"
   ]
  },
  {
   "cell_type": "code",
   "execution_count": 69,
   "metadata": {
    "collapsed": false
   },
   "outputs": [
    {
     "data": {
      "text/html": [
       "<div>\n",
       "<table border=\"1\" class=\"dataframe\">\n",
       "  <thead>\n",
       "    <tr style=\"text-align: right;\">\n",
       "      <th></th>\n",
       "      <th>mid</th>\n",
       "      <th>gold_dif</th>\n",
       "      <th>top_gold_dif</th>\n",
       "      <th>threshold_score_sum_dif</th>\n",
       "      <th>top_threshold_gold_score_dif</th>\n",
       "      <th>second_threshold_gold_score_dif</th>\n",
       "      <th>third_threshold_gold_score_dif</th>\n",
       "    </tr>\n",
       "  </thead>\n",
       "  <tbody>\n",
       "    <tr>\n",
       "      <th>0</th>\n",
       "      <td>0</td>\n",
       "      <td>-0.191463</td>\n",
       "      <td>-0.463171</td>\n",
       "      <td>-1.251202</td>\n",
       "      <td>-1.140037</td>\n",
       "      <td>-1.157989</td>\n",
       "      <td>-1.121482</td>\n",
       "    </tr>\n",
       "    <tr>\n",
       "      <th>1</th>\n",
       "      <td>1</td>\n",
       "      <td>-0.657847</td>\n",
       "      <td>-1.316314</td>\n",
       "      <td>0.702919</td>\n",
       "      <td>0.197841</td>\n",
       "      <td>0.712788</td>\n",
       "      <td>1.299354</td>\n",
       "    </tr>\n",
       "    <tr>\n",
       "      <th>2</th>\n",
       "      <td>2</td>\n",
       "      <td>1.556804</td>\n",
       "      <td>2.277633</td>\n",
       "      <td>1.497239</td>\n",
       "      <td>2.588696</td>\n",
       "      <td>1.050663</td>\n",
       "      <td>0.180734</td>\n",
       "    </tr>\n",
       "    <tr>\n",
       "      <th>3</th>\n",
       "      <td>3</td>\n",
       "      <td>0.793066</td>\n",
       "      <td>0.050730</td>\n",
       "      <td>-0.309281</td>\n",
       "      <td>-0.292735</td>\n",
       "      <td>-1.380092</td>\n",
       "      <td>0.339919</td>\n",
       "    </tr>\n",
       "    <tr>\n",
       "      <th>4</th>\n",
       "      <td>4</td>\n",
       "      <td>0.130693</td>\n",
       "      <td>0.426918</td>\n",
       "      <td>0.436196</td>\n",
       "      <td>0.411904</td>\n",
       "      <td>-0.086841</td>\n",
       "      <td>0.923760</td>\n",
       "    </tr>\n",
       "  </tbody>\n",
       "</table>\n",
       "</div>"
      ],
      "text/plain": [
       "   mid  gold_dif  top_gold_dif  threshold_score_sum_dif  \\\n",
       "0    0 -0.191463     -0.463171                -1.251202   \n",
       "1    1 -0.657847     -1.316314                 0.702919   \n",
       "2    2  1.556804      2.277633                 1.497239   \n",
       "3    3  0.793066      0.050730                -0.309281   \n",
       "4    4  0.130693      0.426918                 0.436196   \n",
       "\n",
       "   top_threshold_gold_score_dif  second_threshold_gold_score_dif  \\\n",
       "0                     -1.140037                        -1.157989   \n",
       "1                      0.197841                         0.712788   \n",
       "2                      2.588696                         1.050663   \n",
       "3                     -0.292735                        -1.380092   \n",
       "4                      0.411904                        -0.086841   \n",
       "\n",
       "   third_threshold_gold_score_dif  \n",
       "0                       -1.121482  \n",
       "1                        1.299354  \n",
       "2                        0.180734  \n",
       "3                        0.339919  \n",
       "4                        0.923760  "
      ]
     },
     "execution_count": 69,
     "metadata": {},
     "output_type": "execute_result"
    }
   ],
   "source": [
    "gold.head()"
   ]
  },
  {
   "cell_type": "code",
   "execution_count": null,
   "metadata": {
    "collapsed": true
   },
   "outputs": [],
   "source": []
  },
  {
   "cell_type": "code",
   "execution_count": null,
   "metadata": {
    "collapsed": true
   },
   "outputs": [],
   "source": []
  },
  {
   "cell_type": "markdown",
   "metadata": {
    "collapsed": true
   },
   "source": [
    "# 0.76299 hand events"
   ]
  },
  {
   "cell_type": "code",
   "execution_count": 107,
   "metadata": {
    "collapsed": false
   },
   "outputs": [
    {
     "name": "stdout",
     "output_type": "stream",
     "text": [
      "logreg:  0.769098461087 0.00599224871226\n",
      "Ridge:  0.768202455192 0.00574751213618\n"
     ]
    }
   ],
   "source": [
    "gold = pd.read_csv('processing_tables/gold_stats_threshold_dif.csv')\n",
    "gold.drop('third_gold_dif', 1, inplace=True)\n",
    "gold.drop('second_gold_dif', 1, inplace=True)\n",
    "heroes = pd.read_csv('processing_tables/only_heroes.csv')\n",
    "items = pd.read_csv('processing_tables/items_dif.csv')\n",
    "xp = pd.read_csv('processing_tables/xpDif.csv')\n",
    "creeps = pd.read_csv('processing_tables/cropped_creeps_dif.csv')\n",
    "events = pd.read_csv('processing_tables/dummy_events.csv')\n",
    "events.drop(['radiant_take_aegis', 'dire_take_aegis', 'radiant_steal_aegis',\n",
    "             'dire_steal_aegis', 'radiant_destroy_barracks', 'dire_destroy_barracks'], 1, inplace=True)\n",
    "\n",
    "X_train, y_train, test= total_merge(gold, heroes, items, xp, creeps, events)\n",
    "X_train.index = X_train.mid\n",
    "X_train.drop('mid', 1,inplace=True)\n",
    "my_clf_cross_val(X_train, y_train, False)"
   ]
  },
  {
   "cell_type": "code",
   "execution_count": 86,
   "metadata": {
    "collapsed": false
   },
   "outputs": [
    {
     "data": {
      "text/plain": [
       "mid                      49947\n",
       "radiant_make_fb              1\n",
       "dire_make_fb                 1\n",
       "radiant_kill_roshan          1\n",
       "dire_kill_roshan             2\n",
       "radiant_denay_tower          2\n",
       "dire_denay_tower             2\n",
       "radiant_destroy_tower        6\n",
       "dire_destroy_tower           7\n",
       "dtype: int64"
      ]
     },
     "execution_count": 86,
     "metadata": {},
     "output_type": "execute_result"
    }
   ],
   "source": [
    "events.max()"
   ]
  },
  {
   "cell_type": "code",
   "execution_count": 107,
   "metadata": {
    "collapsed": false
   },
   "outputs": [
    {
     "name": "stdout",
     "output_type": "stream",
     "text": [
      "Lasso2:  0.768802017774\n",
      "threshold_score_sum_dif -0.0170285822233\n",
      "sum_creeps_dif -0.00900064841111\n",
      "radiant_make_fb -0.026631288495\n",
      "dire_make_fb -0.0175996469743\n",
      "radiant_kill_roshan -0.0178522155815\n",
      "radiant_denay_tower -0.0\n",
      "dire_denay_tower -0.0319353708447\n",
      "radiant_destroy_tower -0.0298492140113\n"
     ]
    }
   ],
   "source": [
    "clf = Lasso(alpha=0.00015, max_iter=12000)\n",
    "print 'Lasso2: ', np.mean(cross_val_score(clf, X_train, y_train, cv=5, scoring='roc_auc'))\n",
    "clf.fit(X_train, y_train)\n",
    "for i, col in enumerate(X_train.columns):\n",
    "    if clf.coef_[i] < 0.001 and 'hero' not in col and 'item' not in col:\n",
    "        print col, clf.coef_[i]"
   ]
  },
  {
   "cell_type": "code",
   "execution_count": 109,
   "metadata": {
    "collapsed": false
   },
   "outputs": [
    {
     "name": "stdout",
     "output_type": "stream",
     "text": [
      "[14337 34802 40699] [ 7341  9348  9512 29462 36614 47375]\n"
     ]
    }
   ],
   "source": [
    "events = pd.read_csv('processing_tables/dummy_events.csv')\n",
    "midRadWin = events.loc[events.radiant_destroy_barracks!=0].mid.values\n",
    "midDireWin = events.loc[events.dire_destroy_barracks!=0].mid.values\n",
    "print midRadWin, midDireWin"
   ]
  },
  {
   "cell_type": "code",
   "execution_count": 110,
   "metadata": {
    "collapsed": false
   },
   "outputs": [
    {
     "data": {
      "text/html": [
       "<div>\n",
       "<table border=\"1\" class=\"dataframe\">\n",
       "  <thead>\n",
       "    <tr style=\"text-align: right;\">\n",
       "      <th></th>\n",
       "      <th>mid</th>\n",
       "      <th>radiant_won</th>\n",
       "    </tr>\n",
       "  </thead>\n",
       "  <tbody>\n",
       "    <tr>\n",
       "      <th>0</th>\n",
       "      <td>3</td>\n",
       "      <td>0.698500</td>\n",
       "    </tr>\n",
       "    <tr>\n",
       "      <th>1</th>\n",
       "      <td>7</td>\n",
       "      <td>0.513692</td>\n",
       "    </tr>\n",
       "    <tr>\n",
       "      <th>2</th>\n",
       "      <td>9</td>\n",
       "      <td>0.158695</td>\n",
       "    </tr>\n",
       "    <tr>\n",
       "      <th>3</th>\n",
       "      <td>10</td>\n",
       "      <td>0.387303</td>\n",
       "    </tr>\n",
       "    <tr>\n",
       "      <th>4</th>\n",
       "      <td>12</td>\n",
       "      <td>0.561851</td>\n",
       "    </tr>\n",
       "  </tbody>\n",
       "</table>\n",
       "</div>"
      ],
      "text/plain": [
       "   mid  radiant_won\n",
       "0    3     0.698500\n",
       "1    7     0.513692\n",
       "2    9     0.158695\n",
       "3   10     0.387303\n",
       "4   12     0.561851"
      ]
     },
     "execution_count": 110,
     "metadata": {},
     "output_type": "execute_result"
    }
   ],
   "source": [
    "X_test = test.copy()\n",
    "X_test.index = test.mid\n",
    "X_test.drop('mid', 1, inplace=True)\n",
    "clf=LogisticRegression(random_state=241, C=0.1)\n",
    "clf.fit(X_train, y_train)\n",
    "\n",
    "test_matches = pd.read_csv('data/test.csv')\n",
    "test_matches['radiant_won'] = clf.predict_proba(X_test)[:, 1]\n",
    "for mid in midRadWin:\n",
    "    if mid in test_matches.mid.values:\n",
    "        test_matches.ix[test_matches[test_matches.mid == mid].index[0],1] = 1\n",
    "for mid in midDireWin:\n",
    "    if mid in test_matches.mid.values:\n",
    "        test_matches.ix[test_matches[test_matches.mid == mid].index[0],1] = 0\n",
    "# test_matches.to_csv('submissions/thresholdGold_withHandEvents.csv', index=None)\n",
    "test_matches.head()"
   ]
  },
  {
   "cell_type": "code",
   "execution_count": null,
   "metadata": {
    "collapsed": true
   },
   "outputs": [],
   "source": []
  },
  {
   "cell_type": "code",
   "execution_count": 165,
   "metadata": {
    "collapsed": true
   },
   "outputs": [],
   "source": [
    "gold = pd.read_csv('processing_tables/gold_stats_threshold_dif.csv')\n",
    "gold.drop('third_gold_dif', 1, inplace=True)\n",
    "gold.drop('second_gold_dif', 1, inplace=True)\n",
    "heroes = pd.read_csv('processing_tables/only_heroes.csv')\n",
    "items = pd.read_csv('processing_tables/items_dif.csv')\n",
    "xp = pd.read_csv('processing_tables/xpDif.csv')\n",
    "creeps = pd.read_csv('processing_tables/cropped_creeps_dif.csv')\n",
    "events = pd.read_csv('processing_tables/dummy_events.csv')\n",
    "events.drop(['radiant_take_aegis', 'dire_take_aegis', 'radiant_steal_aegis',\n",
    "             'dire_steal_aegis', 'radiant_destroy_barracks', 'dire_destroy_barracks'], 1, inplace=True)\n"
   ]
  },
  {
   "cell_type": "code",
   "execution_count": 166,
   "metadata": {
    "collapsed": false
   },
   "outputs": [
    {
     "name": "stdout",
     "output_type": "stream",
     "text": [
      "logreg:  0.768799301857 0.00611035805161\n",
      "Ridge:  0.767870951236 0.00584925694023\n"
     ]
    }
   ],
   "source": [
    "X_train, y_train, test= total_merge(gold, heroes, items, xp, creeps, events)\n",
    "X_train.index = X_train.mid\n",
    "X_train.drop('mid', 1,inplace=True)\n",
    "my_clf_cross_val(X_train, y_train, False)"
   ]
  },
  {
   "cell_type": "code",
   "execution_count": null,
   "metadata": {
    "collapsed": true
   },
   "outputs": [],
   "source": []
  },
  {
   "cell_type": "markdown",
   "metadata": {},
   "source": [
    "# 0.76281"
   ]
  },
  {
   "cell_type": "code",
   "execution_count": 102,
   "metadata": {
    "collapsed": false
   },
   "outputs": [
    {
     "name": "stdout",
     "output_type": "stream",
     "text": [
      "logreg:  0.769101148072 0.00599022833835\n",
      "Ridge:  0.768327277155 0.00576934444735\n"
     ]
    }
   ],
   "source": [
    "gold = pd.read_csv('processing_tables/gold_stats_threshold_dif.csv')\n",
    "gold.drop('third_gold_dif', 1, inplace=True)\n",
    "gold.drop('second_gold_dif', 1, inplace=True)\n",
    "heroes = pd.read_csv('processing_tables/only_heroes.csv')\n",
    "items = pd.read_csv('processing_tables/items_dif.csv')\n",
    "xp = pd.read_csv('processing_tables/xpDif.csv')\n",
    "creeps = pd.read_csv('processing_tables/cropped_creeps_dif.csv')\n",
    "events = pd.read_csv('processing_tables/dummy_events_cropped.csv')\n",
    "events.drop('barracks_dif', 1, inplace=True)\n",
    "\n",
    "X_train, y_train, test= total_merge(gold, heroes, items, xp, creeps, events)\n",
    "X_train.index = X_train.mid\n",
    "X_train.drop('mid', 1,inplace=True)\n",
    "my_clf_cross_val(X_train, y_train, False)"
   ]
  },
  {
   "cell_type": "code",
   "execution_count": 105,
   "metadata": {
    "collapsed": false
   },
   "outputs": [
    {
     "name": "stdout",
     "output_type": "stream",
     "text": [
      "[14337 34802 40699] [ 7341  9348  9512 29462 36614 47375]\n"
     ]
    }
   ],
   "source": [
    "events = pd.read_csv('processing_tables/dummy_events.csv')\n",
    "midRadWin = events.loc[events.radiant_destroy_barracks!=0].mid.values\n",
    "midDireWin = events.loc[events.dire_destroy_barracks!=0].mid.values\n",
    "print midRadWin, midDireWin\n",
    "\n",
    "X_test = test.copy()\n",
    "X_test.index = test.mid\n",
    "X_test.drop('mid', 1, inplace=True)\n",
    "clf=LogisticRegression(random_state=241, C=0.1)\n",
    "clf.fit(X_train, y_train)\n",
    "\n",
    "test_matches = pd.read_csv('data/test.csv')\n",
    "test_matches['radiant_won'] = clf.predict_proba(X_test)[:, 1]\n",
    "for mid in midRadWin:\n",
    "    if mid in test_matches.mid.values:\n",
    "        test_matches.ix[test_matches[test_matches.mid == mid].index[0],1] = 1\n",
    "for mid in midDireWin:\n",
    "    if mid in test_matches.mid.values:\n",
    "        test_matches.ix[test_matches[test_matches.mid == mid].index[0],1] = 0\n",
    "test_matches.to_csv('submissions/last_submit-1.csv', index=None)\n",
    "# test_matches.head()"
   ]
  },
  {
   "cell_type": "code",
   "execution_count": 106,
   "metadata": {
    "collapsed": false
   },
   "outputs": [
    {
     "data": {
      "text/html": [
       "<div>\n",
       "<table border=\"1\" class=\"dataframe\">\n",
       "  <thead>\n",
       "    <tr style=\"text-align: right;\">\n",
       "      <th></th>\n",
       "      <th>mid</th>\n",
       "      <th>radiant_won</th>\n",
       "    </tr>\n",
       "  </thead>\n",
       "  <tbody>\n",
       "    <tr>\n",
       "      <th>0</th>\n",
       "      <td>3</td>\n",
       "      <td>0.696987</td>\n",
       "    </tr>\n",
       "    <tr>\n",
       "      <th>1</th>\n",
       "      <td>7</td>\n",
       "      <td>0.515100</td>\n",
       "    </tr>\n",
       "    <tr>\n",
       "      <th>2</th>\n",
       "      <td>9</td>\n",
       "      <td>0.160410</td>\n",
       "    </tr>\n",
       "    <tr>\n",
       "      <th>3</th>\n",
       "      <td>10</td>\n",
       "      <td>0.387755</td>\n",
       "    </tr>\n",
       "    <tr>\n",
       "      <th>4</th>\n",
       "      <td>12</td>\n",
       "      <td>0.561959</td>\n",
       "    </tr>\n",
       "  </tbody>\n",
       "</table>\n",
       "</div>"
      ],
      "text/plain": [
       "   mid  radiant_won\n",
       "0    3     0.696987\n",
       "1    7     0.515100\n",
       "2    9     0.160410\n",
       "3   10     0.387755\n",
       "4   12     0.561959"
      ]
     },
     "execution_count": 106,
     "metadata": {},
     "output_type": "execute_result"
    }
   ],
   "source": [
    "test_matches.head()"
   ]
  },
  {
   "cell_type": "code",
   "execution_count": null,
   "metadata": {
    "collapsed": true
   },
   "outputs": [],
   "source": []
  },
  {
   "cell_type": "markdown",
   "metadata": {},
   "source": [
    "# CURRENT TEST"
   ]
  },
  {
   "cell_type": "code",
   "execution_count": 8,
   "metadata": {
    "collapsed": false
   },
   "outputs": [
    {
     "name": "stdout",
     "output_type": "stream",
     "text": [
      "logreg:  0.769069496006 0.00600877674853\n",
      "Ridge:  0.768169310013 0.00578611917496\n",
      "Lasso:  0.768734954971 0.00609786660687\n"
     ]
    }
   ],
   "source": [
    "gold = pd.read_csv('processing_tables/gold_stats_threshold_dif.csv')\n",
    "gold.drop('third_gold_dif', 1, inplace=True)\n",
    "gold.drop('second_gold_dif', 1, inplace=True)\n",
    "heroes = pd.read_csv('processing_tables/only_heroes.csv')\n",
    "items = pd.read_csv('processing_tables/items_dif.csv')\n",
    "xp = pd.read_csv('processing_tables/xpDif.csv')\n",
    "creeps = pd.read_csv('processing_tables/cropped_creeps_dif.csv')\n",
    "events = pd.read_csv('processing_tables/dummy_events.csv')\n",
    "# events.drop(['radiant_take_aegis', 'dire_take_aegis', 'radiant_steal_aegis', 'dire_steal_aegis'], 1, inplace=True)\n",
    "\n",
    "X_train, y_train, test = total_merge(gold, heroes, items, xp, creeps, events)\n",
    "X_train.index = X_train.mid\n",
    "X_train.drop('mid', 1,inplace=True)\n",
    "my_clf_cross_val(X_train, y_train)"
   ]
  },
  {
   "cell_type": "code",
   "execution_count": 10,
   "metadata": {
    "collapsed": false
   },
   "outputs": [
    {
     "name": "stdout",
     "output_type": "stream",
     "text": [
      "logreg:  0.769113088551 0.00614139434181\n",
      "Ridge:  0.768091318205 0.00585900100205\n",
      "Lasso:  0.768906171935 0.00651028181203\n"
     ]
    }
   ],
   "source": [
    "gold = pd.read_csv('processing_tables/all_stats_gold.csv')\n",
    "\n",
    "heroes = pd.read_csv('processing_tables/only_heroes.csv')\n",
    "items = pd.read_csv('processing_tables/items_dif.csv')\n",
    "xp = pd.read_csv('processing_tables/xpDif.csv')\n",
    "creeps = pd.read_csv('processing_tables/cropped_creeps_dif.csv')\n",
    "events = pd.read_csv('processing_tables/dummy_events.csv')\n",
    "# events.drop(['radiant_take_aegis', 'dire_take_aegis', 'radiant_steal_aegis', 'dire_steal_aegis'], 1, inplace=True)\n",
    "\n",
    "X_train, y_train, test = total_merge(gold, heroes, items, xp, creeps, events)\n",
    "X_train.index = X_train.mid\n",
    "X_train.drop('mid', 1,inplace=True)\n",
    "my_clf_cross_val(X_train, y_train)"
   ]
  },
  {
   "cell_type": "code",
   "execution_count": 11,
   "metadata": {
    "collapsed": false
   },
   "outputs": [
    {
     "name": "stdout",
     "output_type": "stream",
     "text": [
      "Lasso2:  0.768972181685\n",
      "gold_rank_0 0.0\n",
      "gold_rank_1 0.0\n",
      "gold_rank_3 0.0\n",
      "gold_square_rank_0 -0.0\n",
      "gold_square_rank_1 0.0\n",
      "gold_square_rank_2 0.0\n",
      "gold_square_rank_3 -0.0051092946684\n",
      "gold_square_rank_4 -0.0211581690939\n",
      "gold_log_rank_4 0.0\n",
      "gold_score_rank_rel_1 -0.00545617203299\n",
      "gold_score_rank_rel_2 -0.00627447903678\n",
      "gold_score_rank_rel_3 -0.0164697980575\n",
      "gold_score_rank_dif_0 -0.0215791602994\n",
      "gold_score_rank_dif_2 -0.0\n",
      "sum_creeps_dif -0.0139034983352\n",
      "radiant_take_aegis -0.0\n",
      "dire_take_aegis 0.0\n",
      "radiant_steal_aegis 0.0\n",
      "dire_steal_aegis -0.0\n",
      "radiant_destroy_barracks -0.0\n",
      "dire_destroy_barracks -0.0\n",
      "radiant_make_fb -0.0271744213239\n",
      "dire_make_fb -0.0173165580822\n",
      "radiant_kill_roshan -0.0138837294478\n",
      "radiant_denay_tower -0.0\n",
      "dire_denay_tower -0.0305522079754\n",
      "radiant_destroy_tower -0.0257207635304\n"
     ]
    }
   ],
   "source": [
    "clf = Lasso(alpha=0.00015, max_iter=12000)\n",
    "print 'Lasso2: ', np.mean(cross_val_score(clf, X_train, y_train, cv=5, scoring='roc_auc'))\n",
    "clf.fit(X_train, y_train)\n",
    "for i, col in enumerate(X_train.columns):\n",
    "    if clf.coef_[i] < 0.001 and 'hero' not in col and 'item' not in col:\n",
    "        print col, clf.coef_[i]"
   ]
  },
  {
   "cell_type": "code",
   "execution_count": 16,
   "metadata": {
    "collapsed": false
   },
   "outputs": [
    {
     "name": "stdout",
     "output_type": "stream",
     "text": [
      "logreg:  0.769120218401 0.00614428773512\n",
      "Ridge:  0.768263233768 0.00589628319516\n",
      "Lasso:  0.768923170767 0.00651480780025\n"
     ]
    }
   ],
   "source": [
    "gold = pd.read_csv('processing_tables/all_stats_gold.csv')\n",
    "gold.drop(['gold_rank_0','gold_rank_1','gold_rank_2'], 1, inplace=True)\n",
    "heroes = pd.read_csv('processing_tables/only_heroes.csv')\n",
    "items = pd.read_csv('processing_tables/items_dif.csv')\n",
    "xp = pd.read_csv('processing_tables/xpDif.csv')\n",
    "creeps = pd.read_csv('processing_tables/cropped_creeps_dif.csv')\n",
    "events = pd.read_csv('processing_tables/dummy_events.csv')\n",
    "# events.drop(['radiant_take_aegis', 'dire_take_aegis', 'radiant_steal_aegis', 'dire_steal_aegis'], 1, inplace=True)\n",
    "\n",
    "X_train, y_train, test = total_merge(gold, heroes, items, xp, creeps, events)\n",
    "X_train.index = X_train.mid\n",
    "X_train.drop('mid', 1, inplace=True)\n",
    "my_clf_cross_val(X_train, y_train)"
   ]
  },
  {
   "cell_type": "code",
   "execution_count": 17,
   "metadata": {
    "collapsed": false
   },
   "outputs": [
    {
     "name": "stdout",
     "output_type": "stream",
     "text": [
      "Lasso2:  0.768993006614\n",
      "gold_rank_3 0.0\n",
      "gold_square_rank_0 -0.0\n",
      "gold_square_rank_1 0.0\n",
      "gold_square_rank_2 0.0\n",
      "gold_square_rank_3 -0.00459835947871\n",
      "gold_square_rank_4 -0.0212225767509\n",
      "gold_log_rank_4 0.0\n",
      "gold_score_rank_rel_1 -0.00551709739187\n",
      "gold_score_rank_rel_2 -0.00626214018667\n",
      "gold_score_rank_rel_3 -0.0164919059924\n",
      "gold_score_rank_dif_0 -0.0215548512568\n",
      "gold_score_rank_dif_2 -0.0\n",
      "sum_creeps_dif -0.013918214527\n",
      "radiant_take_aegis -0.0\n",
      "dire_take_aegis 0.0\n",
      "radiant_steal_aegis 0.0\n",
      "dire_steal_aegis -0.0\n",
      "radiant_destroy_barracks -0.0\n",
      "dire_destroy_barracks -0.0\n",
      "radiant_make_fb -0.0271823042789\n",
      "dire_make_fb -0.0173341732333\n",
      "radiant_kill_roshan -0.0138182806149\n",
      "radiant_denay_tower -0.0\n",
      "dire_denay_tower -0.0305307765036\n",
      "radiant_destroy_tower -0.02565072251\n"
     ]
    }
   ],
   "source": [
    "clf = Lasso(alpha=0.00015, max_iter=12000)\n",
    "print 'Lasso2: ', np.mean(cross_val_score(clf, X_train, y_train, cv=5, scoring='roc_auc'))\n",
    "clf.fit(X_train, y_train)\n",
    "for i, col in enumerate(X_train.columns):\n",
    "    if clf.coef_[i] < 0.001 and 'hero' not in col and 'item' not in col:\n",
    "        print col, clf.coef_[i]"
   ]
  },
  {
   "cell_type": "code",
   "execution_count": 18,
   "metadata": {
    "collapsed": false
   },
   "outputs": [
    {
     "name": "stdout",
     "output_type": "stream",
     "text": [
      "logreg:  0.769257000209 0.00616973210926\n",
      "Ridge:  0.768375800538 0.00588643296084\n",
      "Lasso:  0.769001041624 0.00651032526406\n"
     ]
    }
   ],
   "source": [
    "gold = pd.read_csv('processing_tables/all_stats_gold.csv')\n",
    "gold.drop(['gold_rank_0','gold_rank_1','gold_rank_2'], 1, inplace=True)\n",
    "gold.drop(['gold_square_rank_0','gold_square_rank_1','gold_square_rank_2'], 1, inplace=True)\n",
    "heroes = pd.read_csv('processing_tables/only_heroes.csv')\n",
    "items = pd.read_csv('processing_tables/items_dif.csv')\n",
    "xp = pd.read_csv('processing_tables/xpDif.csv')\n",
    "creeps = pd.read_csv('processing_tables/cropped_creeps_dif.csv')\n",
    "events = pd.read_csv('processing_tables/dummy_events.csv')\n",
    "# events.drop(['radiant_take_aegis', 'dire_take_aegis', 'radiant_steal_aegis', 'dire_steal_aegis'], 1, inplace=True)\n",
    "\n",
    "X_train, y_train, test = total_merge(gold, heroes, items, xp, creeps, events)\n",
    "X_train.index = X_train.mid\n",
    "X_train.drop('mid', 1, inplace=True)\n",
    "my_clf_cross_val(X_train, y_train)"
   ]
  },
  {
   "cell_type": "code",
   "execution_count": 19,
   "metadata": {
    "collapsed": false
   },
   "outputs": [
    {
     "name": "stdout",
     "output_type": "stream",
     "text": [
      "logreg:  0.769237759188 0.00616545980241\n",
      "Ridge:  0.768354958024 0.00588818803067\n",
      "Lasso:  0.768978123652 0.00652714753152\n"
     ]
    }
   ],
   "source": [
    "gold = pd.read_csv('processing_tables/all_stats_gold.csv')\n",
    "gold.drop(['gold_rank_0','gold_rank_1','gold_rank_2'], 1, inplace=True)\n",
    "gold.drop(['gold_square_rank_0','gold_square_rank_1','gold_square_rank_2'], 1, inplace=True)\n",
    "heroes = pd.read_csv('processing_tables/only_heroes.csv')\n",
    "items = pd.read_csv('processing_tables/items_dif.csv')\n",
    "xp = pd.read_csv('processing_tables/xpDif.csv')\n",
    "creeps = pd.read_csv('processing_tables/cropped_creeps_dif.csv')\n",
    "events = pd.read_csv('processing_tables/dummy_events.csv')\n",
    "# events.drop(['radiant_take_aegis', 'dire_take_aegis', 'radiant_steal_aegis', 'dire_steal_aegis'], 1, inplace=True)\n",
    "\n",
    "X_train, y_train, test = total_merge(gold, heroes, items, xp, creeps, events)\n",
    "X_train.index = X_train.mid\n",
    "X_train.drop('mid', 1, inplace=True)\n",
    "my_clf_cross_val(X_train, y_train)"
   ]
  },
  {
   "cell_type": "code",
   "execution_count": 20,
   "metadata": {
    "collapsed": false
   },
   "outputs": [
    {
     "name": "stdout",
     "output_type": "stream",
     "text": [
      "Lasso2:  0.769036965111\n",
      "gold_rank_3 0.0\n",
      "gold_square_rank_3 -0.00754489142023\n",
      "gold_square_rank_4 -0.0213710738109\n",
      "gold_log_rank_4 0.0\n",
      "gold_score_rank_rel_1 -0.00504553274582\n",
      "gold_score_rank_rel_2 -0.00646595286632\n",
      "gold_score_rank_rel_3 -0.0164435508769\n",
      "gold_score_rank_dif_0 -0.0220631678225\n",
      "gold_score_rank_dif_2 -0.0\n",
      "sum_creeps_dif -0.0139132858871\n",
      "radiant_take_aegis -0.0\n",
      "dire_take_aegis 0.0\n",
      "radiant_steal_aegis 0.0\n",
      "dire_steal_aegis -0.0\n",
      "radiant_destroy_barracks -0.0\n",
      "dire_destroy_barracks -0.0\n",
      "radiant_make_fb -0.0272143806973\n",
      "dire_make_fb -0.0173390193486\n",
      "radiant_kill_roshan -0.0141614628547\n",
      "radiant_denay_tower -0.0\n",
      "dire_denay_tower -0.0305860932254\n",
      "radiant_destroy_tower -0.0259688257391\n"
     ]
    }
   ],
   "source": [
    "clf = Lasso(alpha=0.00015, max_iter=12000)\n",
    "print 'Lasso2: ', np.mean(cross_val_score(clf, X_train, y_train, cv=5, scoring='roc_auc'))\n",
    "clf.fit(X_train, y_train)\n",
    "for i, col in enumerate(X_train.columns):\n",
    "    if clf.coef_[i] < 0.001 and 'hero' not in col and 'item' not in col:\n",
    "        print col, clf.coef_[i]"
   ]
  },
  {
   "cell_type": "code",
   "execution_count": 22,
   "metadata": {
    "collapsed": false
   },
   "outputs": [
    {
     "name": "stdout",
     "output_type": "stream",
     "text": [
      "logreg:  0.769173737341 0.00604865730518\n",
      "Ridge:  0.768327622225 0.00588295897767\n",
      "Lasso:  0.768985474391 0.00635414842302\n"
     ]
    }
   ],
   "source": [
    "gold = pd.read_csv('processing_tables/all_stats_gold.csv')\n",
    "gold.drop(['gold_rank_0','gold_rank_1','gold_rank_2'], 1, inplace=True)\n",
    "gold.drop(['gold_square_rank_0','gold_square_rank_1','gold_square_rank_2'], 1, inplace=True)\n",
    "gold.drop(['gold_score_rank_dif_0','gold_score_rank_dif_1','gold_score_rank_dif_2'], 1, inplace=True)\n",
    "heroes = pd.read_csv('processing_tables/only_heroes.csv')\n",
    "items = pd.read_csv('processing_tables/items_dif.csv')\n",
    "xp = pd.read_csv('processing_tables/xpDif.csv')\n",
    "creeps = pd.read_csv('processing_tables/cropped_creeps_dif.csv')\n",
    "events = pd.read_csv('processing_tables/dummy_events.csv')\n",
    "# events.drop(['radiant_take_aegis', 'dire_take_aegis', 'radiant_steal_aegis',\n",
    "#              'dire_steal_aegis', 'radiant_destroy_barracks', 'dire_destroy_barracks'], 1, inplace=True)\n",
    "\n",
    "X_train, y_train, test = total_merge(gold, heroes, items, xp, creeps, events)\n",
    "X_train.index = X_train.mid\n",
    "X_train.drop('mid', 1, inplace=True)\n",
    "my_clf_cross_val(X_train, y_train)"
   ]
  },
  {
   "cell_type": "code",
   "execution_count": 24,
   "metadata": {
    "collapsed": false
   },
   "outputs": [
    {
     "name": "stdout",
     "output_type": "stream",
     "text": [
      "logreg:  0.769256320809 0.0061951279143\n",
      "Ridge:  0.768384007855 0.0059335541087\n",
      "Lasso:  0.769037780526 0.00654443737737\n"
     ]
    }
   ],
   "source": [
    "gold = pd.read_csv('processing_tables/all_stats_gold.csv')\n",
    "gold.drop(['gold_rank_0','gold_rank_1','gold_rank_2'], 1, inplace=True)\n",
    "gold.drop(['gold_square_rank_0','gold_square_rank_1','gold_square_rank_2'], 1, inplace=True)\n",
    "gold.drop(['gold_score_rank_rel_0','gold_score_rank_rel_1','gold_score_rank_rel_2'], 1, inplace=True)\n",
    "heroes = pd.read_csv('processing_tables/only_heroes.csv')\n",
    "items = pd.read_csv('processing_tables/items_dif.csv')\n",
    "xp = pd.read_csv('processing_tables/xpDif.csv')\n",
    "creeps = pd.read_csv('processing_tables/cropped_creeps_dif.csv')\n",
    "events = pd.read_csv('processing_tables/dummy_events.csv')\n",
    "# events.drop(['radiant_take_aegis', 'dire_take_aegis', 'radiant_steal_aegis',\n",
    "#              'dire_steal_aegis', 'radiant_destroy_barracks', 'dire_destroy_barracks'], 1, inplace=True)\n",
    "\n",
    "X_train, y_train, test = total_merge(gold, heroes, items, xp, creeps, events)\n",
    "X_train.index = X_train.mid\n",
    "X_train.drop('mid', 1, inplace=True)\n",
    "my_clf_cross_val(X_train, y_train)"
   ]
  },
  {
   "cell_type": "code",
   "execution_count": 25,
   "metadata": {
    "collapsed": false
   },
   "outputs": [
    {
     "name": "stdout",
     "output_type": "stream",
     "text": [
      "logreg:  0.769253379483 0.00605184370149\n",
      "Ridge:  0.768336436864 0.00589879470678\n",
      "Lasso:  0.7690444808 0.00638949209895\n"
     ]
    }
   ],
   "source": [
    "gold = pd.read_csv('processing_tables/all_stats_gold.csv')\n",
    "gold.drop(['gold_rank_0','gold_rank_1','gold_rank_2'], 1, inplace=True)\n",
    "gold.drop(['gold_square_rank_0','gold_square_rank_1','gold_square_rank_2'], 1, inplace=True)\n",
    "gold.drop(['gold_score_rank_rel_0','gold_score_rank_rel_1','gold_score_rank_rel_2'], 1, inplace=True)\n",
    "gold.drop(['gold_score_rank_dif_0','gold_score_rank_dif_1','gold_score_rank_dif_2'], 1, inplace=True)\n",
    "heroes = pd.read_csv('processing_tables/only_heroes.csv')\n",
    "items = pd.read_csv('processing_tables/items_dif.csv')\n",
    "xp = pd.read_csv('processing_tables/xpDif.csv')\n",
    "creeps = pd.read_csv('processing_tables/cropped_creeps_dif.csv')\n",
    "events = pd.read_csv('processing_tables/dummy_events.csv')\n",
    "# events.drop(['radiant_take_aegis', 'dire_take_aegis', 'radiant_steal_aegis',\n",
    "#              'dire_steal_aegis', 'radiant_destroy_barracks', 'dire_destroy_barracks'], 1, inplace=True)\n",
    "\n",
    "X_train, y_train, test = total_merge(gold, heroes, items, xp, creeps, events)\n",
    "X_train.index = X_train.mid\n",
    "X_train.drop('mid', 1, inplace=True)\n",
    "my_clf_cross_val(X_train, y_train)"
   ]
  },
  {
   "cell_type": "code",
   "execution_count": 27,
   "metadata": {
    "collapsed": false
   },
   "outputs": [
    {
     "name": "stdout",
     "output_type": "stream",
     "text": [
      "logreg:  0.769275697437 0.00603190098226\n",
      "Ridge:  0.768411518125 0.00586301483547\n",
      "Lasso:  0.769059188603 0.00636542990019\n"
     ]
    }
   ],
   "source": [
    "gold = pd.read_csv('processing_tables/all_stats_gold.csv')\n",
    "gold.drop(['gold_rank_0','gold_rank_1','gold_rank_2'], 1, inplace=True)\n",
    "gold.drop(['gold_square_rank_0','gold_square_rank_1','gold_square_rank_2'], 1, inplace=True)\n",
    "gold.drop(['gold_score_rank_rel_0','gold_score_rank_rel_1','gold_score_rank_rel_2'], 1, inplace=True)\n",
    "gold.drop(['gold_score_rank_dif_0','gold_score_rank_dif_1','gold_score_rank_dif_2'], 1, inplace=True)\n",
    "heroes = pd.read_csv('processing_tables/only_heroes.csv')\n",
    "items = pd.read_csv('processing_tables/items_dif.csv')\n",
    "xp = pd.read_csv('processing_tables/xpDif.csv')\n",
    "creeps = pd.read_csv('processing_tables/cropped_creeps_dif.csv')\n",
    "events = pd.read_csv('processing_tables/dummy_events.csv')\n",
    "events.drop(['radiant_take_aegis', 'dire_take_aegis', 'radiant_steal_aegis',\n",
    "             'dire_steal_aegis', 'radiant_destroy_barracks', 'dire_destroy_barracks'], 1, inplace=True)\n",
    "\n",
    "X_train, y_train, test = total_merge(gold, heroes, items, xp, creeps, events)\n",
    "X_train.index = X_train.mid\n",
    "X_train.drop('mid', 1, inplace=True)\n",
    "my_clf_cross_val(X_train, y_train)"
   ]
  },
  {
   "cell_type": "code",
   "execution_count": 28,
   "metadata": {
    "collapsed": false
   },
   "outputs": [
    {
     "name": "stdout",
     "output_type": "stream",
     "text": [
      "logreg:  0.769280485431 0.00617310016806\n",
      "Ridge:  0.768475221587 0.00588820239419\n",
      "Lasso:  0.769052038661 0.00652103645519\n"
     ]
    }
   ],
   "source": [
    "gold = pd.read_csv('processing_tables/all_stats_gold.csv')\n",
    "gold.drop(['gold_rank_0','gold_rank_1','gold_rank_2'], 1, inplace=True)\n",
    "gold.drop(['gold_square_rank_0','gold_square_rank_1','gold_square_rank_2'], 1, inplace=True)\n",
    "gold.drop(['gold_score_rank_rel_0','gold_score_rank_rel_1','gold_score_rank_rel_2'], 1, inplace=True)\n",
    "heroes = pd.read_csv('processing_tables/only_heroes.csv')\n",
    "items = pd.read_csv('processing_tables/items_dif.csv')\n",
    "xp = pd.read_csv('processing_tables/xpDif.csv')\n",
    "creeps = pd.read_csv('processing_tables/cropped_creeps_dif.csv')\n",
    "events = pd.read_csv('processing_tables/dummy_events.csv')\n",
    "events.drop(['radiant_take_aegis', 'dire_take_aegis', 'radiant_steal_aegis',\n",
    "             'dire_steal_aegis', 'radiant_destroy_barracks', 'dire_destroy_barracks'], 1, inplace=True)\n",
    "\n",
    "X_train, y_train, test = total_merge(gold, heroes, items, xp, creeps, events)\n",
    "X_train.index = X_train.mid\n",
    "X_train.drop('mid', 1, inplace=True)\n",
    "my_clf_cross_val(X_train, y_train)"
   ]
  },
  {
   "cell_type": "code",
   "execution_count": 29,
   "metadata": {
    "collapsed": false
   },
   "outputs": [
    {
     "name": "stdout",
     "output_type": "stream",
     "text": [
      "Lasso2:  0.769075980422\n",
      "gold_rank_3 0.0\n",
      "gold_square_rank_3 -0.00852771431931\n",
      "gold_square_rank_4 -0.0216689302051\n",
      "gold_log_rank_4 0.0\n",
      "gold_score_rank_rel_3 -0.0179441309041\n",
      "gold_score_rank_dif_0 -0.0193359830812\n",
      "gold_score_rank_dif_1 0.0\n",
      "gold_score_rank_dif_2 -0.00456203542917\n",
      "sum_creeps_dif -0.0137743185979\n",
      "radiant_make_fb -0.0270832315813\n",
      "dire_make_fb -0.0172911530527\n",
      "radiant_kill_roshan -0.0148290035123\n",
      "radiant_denay_tower -0.0\n",
      "dire_denay_tower -0.0305894945259\n",
      "radiant_destroy_tower -0.0258919900324\n"
     ]
    }
   ],
   "source": [
    "clf = Lasso(alpha=0.00015, max_iter=12000)\n",
    "print 'Lasso2: ', np.mean(cross_val_score(clf, X_train, y_train, cv=5, scoring='roc_auc'))\n",
    "clf.fit(X_train, y_train)\n",
    "for i, col in enumerate(X_train.columns):\n",
    "    if clf.coef_[i] < 0.001 and 'hero' not in col and 'item' not in col:\n",
    "        print col, clf.coef_[i]"
   ]
  },
  {
   "cell_type": "code",
   "execution_count": 30,
   "metadata": {
    "collapsed": false
   },
   "outputs": [
    {
     "data": {
      "text/html": [
       "<div>\n",
       "<table border=\"1\" class=\"dataframe\">\n",
       "  <thead>\n",
       "    <tr style=\"text-align: right;\">\n",
       "      <th></th>\n",
       "      <th>mid</th>\n",
       "      <th>radiant_make_fb</th>\n",
       "      <th>dire_make_fb</th>\n",
       "      <th>radiant_kill_roshan</th>\n",
       "      <th>dire_kill_roshan</th>\n",
       "      <th>radiant_denay_tower</th>\n",
       "      <th>dire_denay_tower</th>\n",
       "      <th>radiant_destroy_tower</th>\n",
       "      <th>dire_destroy_tower</th>\n",
       "    </tr>\n",
       "  </thead>\n",
       "  <tbody>\n",
       "    <tr>\n",
       "      <th>0</th>\n",
       "      <td>0</td>\n",
       "      <td>1</td>\n",
       "      <td>0</td>\n",
       "      <td>0</td>\n",
       "      <td>0</td>\n",
       "      <td>0</td>\n",
       "      <td>0</td>\n",
       "      <td>0</td>\n",
       "      <td>0</td>\n",
       "    </tr>\n",
       "    <tr>\n",
       "      <th>1</th>\n",
       "      <td>1</td>\n",
       "      <td>1</td>\n",
       "      <td>0</td>\n",
       "      <td>0</td>\n",
       "      <td>0</td>\n",
       "      <td>0</td>\n",
       "      <td>0</td>\n",
       "      <td>0</td>\n",
       "      <td>0</td>\n",
       "    </tr>\n",
       "    <tr>\n",
       "      <th>2</th>\n",
       "      <td>2</td>\n",
       "      <td>0</td>\n",
       "      <td>1</td>\n",
       "      <td>0</td>\n",
       "      <td>0</td>\n",
       "      <td>0</td>\n",
       "      <td>0</td>\n",
       "      <td>0</td>\n",
       "      <td>0</td>\n",
       "    </tr>\n",
       "    <tr>\n",
       "      <th>3</th>\n",
       "      <td>3</td>\n",
       "      <td>1</td>\n",
       "      <td>0</td>\n",
       "      <td>0</td>\n",
       "      <td>0</td>\n",
       "      <td>0</td>\n",
       "      <td>0</td>\n",
       "      <td>0</td>\n",
       "      <td>0</td>\n",
       "    </tr>\n",
       "    <tr>\n",
       "      <th>4</th>\n",
       "      <td>4</td>\n",
       "      <td>0</td>\n",
       "      <td>1</td>\n",
       "      <td>0</td>\n",
       "      <td>0</td>\n",
       "      <td>0</td>\n",
       "      <td>0</td>\n",
       "      <td>0</td>\n",
       "      <td>0</td>\n",
       "    </tr>\n",
       "  </tbody>\n",
       "</table>\n",
       "</div>"
      ],
      "text/plain": [
       "   mid  radiant_make_fb  dire_make_fb  radiant_kill_roshan  dire_kill_roshan  \\\n",
       "0    0                1             0                    0                 0   \n",
       "1    1                1             0                    0                 0   \n",
       "2    2                0             1                    0                 0   \n",
       "3    3                1             0                    0                 0   \n",
       "4    4                0             1                    0                 0   \n",
       "\n",
       "   radiant_denay_tower  dire_denay_tower  radiant_destroy_tower  \\\n",
       "0                    0                 0                      0   \n",
       "1                    0                 0                      0   \n",
       "2                    0                 0                      0   \n",
       "3                    0                 0                      0   \n",
       "4                    0                 0                      0   \n",
       "\n",
       "   dire_destroy_tower  \n",
       "0                   0  \n",
       "1                   0  \n",
       "2                   0  \n",
       "3                   0  \n",
       "4                   0  "
      ]
     },
     "execution_count": 30,
     "metadata": {},
     "output_type": "execute_result"
    }
   ],
   "source": [
    "events.head()"
   ]
  },
  {
   "cell_type": "code",
   "execution_count": 35,
   "metadata": {
    "collapsed": false
   },
   "outputs": [
    {
     "data": {
      "text/html": [
       "<div>\n",
       "<table border=\"1\" class=\"dataframe\">\n",
       "  <thead>\n",
       "    <tr style=\"text-align: right;\">\n",
       "      <th></th>\n",
       "      <th>mid</th>\n",
       "      <th>barracks_dif</th>\n",
       "      <th>make_fb</th>\n",
       "      <th>kill_roshan</th>\n",
       "      <th>pushing</th>\n",
       "    </tr>\n",
       "  </thead>\n",
       "  <tbody>\n",
       "    <tr>\n",
       "      <th>0</th>\n",
       "      <td>0</td>\n",
       "      <td>0.0</td>\n",
       "      <td>1</td>\n",
       "      <td>0</td>\n",
       "      <td>0</td>\n",
       "    </tr>\n",
       "    <tr>\n",
       "      <th>1</th>\n",
       "      <td>1</td>\n",
       "      <td>0.0</td>\n",
       "      <td>1</td>\n",
       "      <td>0</td>\n",
       "      <td>0</td>\n",
       "    </tr>\n",
       "    <tr>\n",
       "      <th>2</th>\n",
       "      <td>2</td>\n",
       "      <td>0.0</td>\n",
       "      <td>-1</td>\n",
       "      <td>0</td>\n",
       "      <td>0</td>\n",
       "    </tr>\n",
       "    <tr>\n",
       "      <th>3</th>\n",
       "      <td>3</td>\n",
       "      <td>0.0</td>\n",
       "      <td>1</td>\n",
       "      <td>0</td>\n",
       "      <td>0</td>\n",
       "    </tr>\n",
       "    <tr>\n",
       "      <th>4</th>\n",
       "      <td>4</td>\n",
       "      <td>0.0</td>\n",
       "      <td>-1</td>\n",
       "      <td>0</td>\n",
       "      <td>0</td>\n",
       "    </tr>\n",
       "  </tbody>\n",
       "</table>\n",
       "</div>"
      ],
      "text/plain": [
       "   mid  barracks_dif  make_fb  kill_roshan  pushing\n",
       "0    0           0.0        1            0        0\n",
       "1    1           0.0        1            0        0\n",
       "2    2           0.0       -1            0        0\n",
       "3    3           0.0        1            0        0\n",
       "4    4           0.0       -1            0        0"
      ]
     },
     "execution_count": 35,
     "metadata": {},
     "output_type": "execute_result"
    }
   ],
   "source": [
    "new_events = pd.read_csv('processing_tables/dummy_events_cropped.csv')\n",
    "new_events.barracks_dif = new_events.barracks_dif / new_events.barracks_dif.max()\n",
    "new_events.pushing = new_events.pushing / new_events.pushing.max()\n",
    "new_events.head()"
   ]
  },
  {
   "cell_type": "code",
   "execution_count": 36,
   "metadata": {
    "collapsed": false
   },
   "outputs": [
    {
     "name": "stdout",
     "output_type": "stream",
     "text": [
      "logreg:  0.769398848412 0.00612645752364\n",
      "Ridge:  0.768585843161 0.00591882604328\n",
      "Lasso:  0.769216079589 0.00634182081628\n"
     ]
    }
   ],
   "source": [
    "gold = pd.read_csv('processing_tables/all_stats_gold.csv')\n",
    "gold.drop(['gold_rank_0','gold_rank_1','gold_rank_2'], 1, inplace=True)\n",
    "gold.drop(['gold_square_rank_0','gold_square_rank_1','gold_square_rank_2'], 1, inplace=True)\n",
    "gold.drop(['gold_score_rank_rel_0','gold_score_rank_rel_1','gold_score_rank_rel_2'], 1, inplace=True)\n",
    "gold.drop(['gold_score_rank_dif_0','gold_score_rank_dif_1','gold_score_rank_dif_2'], 1, inplace=True)\n",
    "heroes = pd.read_csv('processing_tables/only_heroes.csv')\n",
    "items = pd.read_csv('processing_tables/items_dif.csv')\n",
    "xp = pd.read_csv('processing_tables/xpDif.csv')\n",
    "creeps = pd.read_csv('processing_tables/cropped_creeps_dif.csv')\n",
    "new_events = pd.read_csv('processing_tables/dummy_events_cropped.csv')\n",
    "new_events.barracks_dif = new_events.barracks_dif / new_events.barracks_dif.max()\n",
    "new_events.pushing = new_events.pushing / new_events.pushing.max()\n",
    "new_events.head()\n",
    "\n",
    "X_train, y_train, test = total_merge(gold, heroes, items, xp, creeps, new_events)\n",
    "X_train.index = X_train.mid\n",
    "X_train.drop('mid', 1, inplace=True)\n",
    "my_clf_cross_val(X_train, y_train)"
   ]
  },
  {
   "cell_type": "code",
   "execution_count": 37,
   "metadata": {
    "collapsed": false
   },
   "outputs": [
    {
     "name": "stdout",
     "output_type": "stream",
     "text": [
      "Lasso2:  0.769270127905\n",
      "gold_dif 0.0\n",
      "gold_rank_3 0.0\n",
      "gold_square_rank_3 -0.00681800666135\n",
      "gold_square_rank_4 -0.0215412928528\n",
      "gold_log_rank_4 0.0\n",
      "gold_score_rank_rel_3 -0.0167130052879\n",
      "sum_creeps_dif -0.013110812398\n",
      "barracks_dif -0.0\n",
      "make_fb -0.00457533424625\n",
      "kill_roshan -0.0334749887699\n",
      "pushing -0.0267675322705\n"
     ]
    }
   ],
   "source": [
    "clf = Lasso(alpha=0.00015, max_iter=12000)\n",
    "print 'Lasso2: ', np.mean(cross_val_score(clf, X_train, y_train, cv=5, scoring='roc_auc'))\n",
    "clf.fit(X_train, y_train)\n",
    "for i, col in enumerate(X_train.columns):\n",
    "    if clf.coef_[i] < 0.001 and 'hero' not in col and 'item' not in col:\n",
    "        print col, clf.coef_[i]"
   ]
  },
  {
   "cell_type": "code",
   "execution_count": 41,
   "metadata": {
    "collapsed": false
   },
   "outputs": [
    {
     "name": "stdout",
     "output_type": "stream",
     "text": [
      "logreg:  0.769357177313 0.00624942728067\n",
      "Ridge:  0.768649901017 0.005944592082\n"
     ]
    }
   ],
   "source": [
    "gold = pd.read_csv('processing_tables/all_stats_gold.csv')\n",
    "gold.drop(['gold_rank_0','gold_rank_1','gold_rank_2'], 1, inplace=True)\n",
    "gold.drop(['gold_square_rank_0','gold_square_rank_1','gold_square_rank_2'], 1, inplace=True)\n",
    "gold.drop(['gold_score_rank_rel_0','gold_score_rank_rel_1','gold_score_rank_rel_2'], 1, inplace=True)\n",
    "gold.drop(['gold_score_rank_dif_0','gold_score_rank_dif_1','gold_score_rank_dif_2'], 1, inplace=True)\n",
    "\n",
    "heroes = pd.read_csv('processing_tables/only_heroes.csv')\n",
    "items = pd.read_csv('processing_tables/items_dif.csv')\n",
    "xp = pd.read_csv('processing_tables/xpDif.csv')\n",
    "creeps = pd.read_csv('processing_tables/cropped_creeps_dif.csv')\n",
    "new_events = pd.read_csv('processing_tables/dummy_events_cropped.csv')\n",
    "new_events.barracks_dif = new_events.barracks_dif / new_events.barracks_dif.max()\n",
    "new_events.pushing = new_events.pushing / new_events.pushing.max()\n",
    "new_events.head()\n",
    "\n",
    "X_train, y_train, test = total_merge(gold, heroes, items, xp, creeps, new_events)\n",
    "X_train.index = X_train.mid\n",
    "X_train.drop('mid', 1, inplace=True)\n",
    "my_clf_cross_val(X_train, y_train, False)"
   ]
  },
  {
   "cell_type": "code",
   "execution_count": 46,
   "metadata": {
    "collapsed": false
   },
   "outputs": [
    {
     "name": "stdout",
     "output_type": "stream",
     "text": [
      "logreg:  0.769352728017 0.00610679415887\n",
      "Ridge:  0.768585843161 0.00591882604328\n"
     ]
    }
   ],
   "source": [
    "gold = pd.read_csv('processing_tables/all_stats_gold.csv')\n",
    "gold.drop(['gold_rank_0','gold_rank_1','gold_rank_2'], 1, inplace=True)\n",
    "gold.drop(['gold_square_rank_0','gold_square_rank_1','gold_square_rank_2'], 1, inplace=True)\n",
    "gold.drop(['gold_score_rank_rel_0','gold_score_rank_rel_1','gold_score_rank_rel_2'], 1, inplace=True)\n",
    "gold.drop(['gold_score_rank_dif_0','gold_score_rank_dif_1','gold_score_rank_dif_2'], 1, inplace=True)\n",
    "\n",
    "heroes = pd.read_csv('processing_tables/only_heroes.csv')\n",
    "items = pd.read_csv('processing_tables/items_dif.csv')\n",
    "xp = pd.read_csv('processing_tables/xpDif.csv')\n",
    "creeps = pd.read_csv('processing_tables/cropped_creeps_dif.csv')\n",
    "new_events = pd.read_csv('processing_tables/dummy_events_cropped.csv')\n",
    "new_events.barracks_dif = new_events.barracks_dif / new_events.barracks_dif.max()\n",
    "new_events.pushing = new_events.pushing / new_events.pushing.max()\n",
    "new_events.head()\n",
    "\n",
    "X_train, y_train, test = total_merge(gold, heroes, items, xp, creeps, new_events)\n",
    "X_train.index = X_train.mid\n",
    "X_train.drop('mid', 1, inplace=True)\n",
    "my_clf_cross_val(X_train, y_train, False)"
   ]
  },
  {
   "cell_type": "code",
   "execution_count": 47,
   "metadata": {
    "collapsed": false
   },
   "outputs": [
    {
     "name": "stdout",
     "output_type": "stream",
     "text": [
      "logreg:  0.769353498501 0.00610286968601\n",
      "Ridge:  0.768533236446 0.00595365481921\n"
     ]
    }
   ],
   "source": [
    "gold = pd.read_csv('processing_tables/all_stats_gold.csv')\n",
    "gold.drop(['gold_rank_0','gold_rank_1','gold_rank_2','gold_rank_3'], 1, inplace=True)\n",
    "gold.drop(['gold_square_rank_0','gold_square_rank_1','gold_square_rank_2'], 1, inplace=True)\n",
    "gold.drop(['gold_score_rank_rel_0','gold_score_rank_rel_1','gold_score_rank_rel_2'], 1, inplace=True)\n",
    "gold.drop(['gold_score_rank_dif_0','gold_score_rank_dif_1','gold_score_rank_dif_2'], 1, inplace=True)\n",
    "\n",
    "heroes = pd.read_csv('processing_tables/only_heroes.csv')\n",
    "items = pd.read_csv('processing_tables/items_dif.csv')\n",
    "xp = pd.read_csv('processing_tables/xpDif.csv')\n",
    "creeps = pd.read_csv('processing_tables/cropped_creeps_dif.csv')\n",
    "new_events = pd.read_csv('processing_tables/dummy_events_cropped.csv')\n",
    "new_events.barracks_dif = new_events.barracks_dif / new_events.barracks_dif.max()\n",
    "new_events.pushing = new_events.pushing / new_events.pushing.max()\n",
    "new_events.head()\n",
    "\n",
    "X_train, y_train, test = total_merge(gold, heroes, items, xp, creeps, new_events)\n",
    "X_train.index = X_train.mid\n",
    "X_train.drop('mid', 1, inplace=True)\n",
    "my_clf_cross_val(X_train, y_train, False)"
   ]
  },
  {
   "cell_type": "code",
   "execution_count": 52,
   "metadata": {
    "collapsed": false
   },
   "outputs": [
    {
     "name": "stdout",
     "output_type": "stream",
     "text": [
      "logreg:  0.769376911877 0.00609895358603\n",
      "Ridge:  0.768607284104 0.00606503551133\n"
     ]
    }
   ],
   "source": [
    "gold = pd.read_csv('processing_tables/all_stats_gold.csv')\n",
    "gold.drop(['gold_rank_0','gold_rank_1','gold_rank_2','gold_rank_3'], 1, inplace=True)\n",
    "gold.drop(['gold_square_rank_0','gold_square_rank_1','gold_square_rank_2',\n",
    "           'gold_square_rank_3', 'gold_square_rank_4'], 1, inplace=True)\n",
    "gold.drop(['gold_score_rank_rel_0','gold_score_rank_rel_1','gold_score_rank_rel_2'], 1, inplace=True)\n",
    "gold.drop(['gold_score_rank_dif_0','gold_score_rank_dif_1','gold_score_rank_dif_2'], 1, inplace=True)\n",
    "\n",
    "heroes = pd.read_csv('processing_tables/only_heroes.csv')\n",
    "items = pd.read_csv('processing_tables/items_dif.csv')\n",
    "xp = pd.read_csv('processing_tables/xpDif.csv')\n",
    "creeps = pd.read_csv('processing_tables/cropped_creeps_dif.csv')\n",
    "new_events = pd.read_csv('processing_tables/dummy_events_cropped.csv')\n",
    "new_events.barracks_dif = new_events.barracks_dif / new_events.barracks_dif.max()\n",
    "new_events.pushing = new_events.pushing / new_events.pushing.max()\n",
    "new_events.head()\n",
    "\n",
    "X_train, y_train, test = total_merge(gold, heroes, items, xp, creeps, new_events)\n",
    "X_train.index = X_train.mid\n",
    "X_train.drop('mid', 1, inplace=True)\n",
    "my_clf_cross_val(X_train, y_train, False)"
   ]
  },
  {
   "cell_type": "code",
   "execution_count": 53,
   "metadata": {
    "collapsed": false
   },
   "outputs": [
    {
     "name": "stdout",
     "output_type": "stream",
     "text": [
      "Lasso2:  0.769275354313\n",
      "gold_dif 0.0\n",
      "gold_score_rank_rel_3 -0.0161553289891\n",
      "sum_creeps_dif -0.0130834745732\n",
      "barracks_dif -0.0\n",
      "make_fb -0.00441764260803\n",
      "kill_roshan -0.033585636588\n",
      "pushing -0.123482142943\n"
     ]
    }
   ],
   "source": [
    "clf = Lasso(alpha=0.00015, max_iter=12000)\n",
    "print 'Lasso2: ', np.mean(cross_val_score(clf, X_train, y_train, cv=5, scoring='roc_auc'))\n",
    "clf.fit(X_train, y_train)\n",
    "for i, col in enumerate(X_train.columns):\n",
    "    if clf.coef_[i] < 0.001 and 'hero' not in col and 'item' not in col:\n",
    "        print col, clf.coef_[i]"
   ]
  },
  {
   "cell_type": "markdown",
   "metadata": {},
   "source": [
    "# 0.76217"
   ]
  },
  {
   "cell_type": "code",
   "execution_count": 55,
   "metadata": {
    "collapsed": false
   },
   "outputs": [
    {
     "name": "stdout",
     "output_type": "stream",
     "text": [
      "logreg:  0.769377682615 0.00610022185709\n",
      "Ridge:  0.768614716341 0.00606502174282\n"
     ]
    }
   ],
   "source": [
    "gold = pd.read_csv('processing_tables/all_stats_gold.csv')\n",
    "gold.drop(['gold_rank_0','gold_rank_1','gold_rank_2','gold_rank_3'], 1, inplace=True)\n",
    "gold.drop(['gold_square_rank_0','gold_square_rank_1','gold_square_rank_2',\n",
    "           'gold_square_rank_3', 'gold_square_rank_4'], 1, inplace=True)\n",
    "gold.drop(['gold_score_rank_rel_0','gold_score_rank_rel_1','gold_score_rank_rel_2'], 1, inplace=True)\n",
    "gold.drop(['gold_score_rank_dif_0','gold_score_rank_dif_1','gold_score_rank_dif_2'], 1, inplace=True)\n",
    "\n",
    "heroes = pd.read_csv('processing_tables/only_heroes.csv')\n",
    "items = pd.read_csv('processing_tables/items_dif.csv')\n",
    "xp = pd.read_csv('processing_tables/xpDif.csv')\n",
    "creeps = pd.read_csv('processing_tables/cropped_creeps_dif.csv')\n",
    "new_events = pd.read_csv('processing_tables/dummy_events_cropped.csv')\n",
    "# new_events.barracks_dif = new_events.barracks_dif / new_events.barracks_dif.max()\n",
    "new_events.drop('barracks_dif', 1, inplace=True)\n",
    "new_events.pushing = new_events.pushing / new_events.pushing.max()\n",
    "new_events.head()\n",
    "\n",
    "X_train, y_train, test = total_merge(gold, heroes, items, xp, creeps, new_events)\n",
    "X_train.index = X_train.mid\n",
    "X_train.drop('mid', 1, inplace=True)\n",
    "my_clf_cross_val(X_train, y_train, False)"
   ]
  },
  {
   "cell_type": "code",
   "execution_count": 56,
   "metadata": {
    "collapsed": false
   },
   "outputs": [
    {
     "name": "stdout",
     "output_type": "stream",
     "text": [
      "Lasso2:  0.769275354313\n",
      "gold_dif 0.0\n",
      "gold_score_rank_rel_3 -0.0161553289891\n",
      "sum_creeps_dif -0.0130834745732\n",
      "make_fb -0.00441764260803\n",
      "kill_roshan -0.033585636588\n",
      "pushing -0.123482142943\n"
     ]
    }
   ],
   "source": [
    "clf = Lasso(alpha=0.00015, max_iter=12000)\n",
    "print 'Lasso2: ', np.mean(cross_val_score(clf, X_train, y_train, cv=5, scoring='roc_auc'))\n",
    "clf.fit(X_train, y_train)\n",
    "for i, col in enumerate(X_train.columns):\n",
    "    if clf.coef_[i] < 0.001 and 'hero' not in col and 'item' not in col:\n",
    "        print col, clf.coef_[i]"
   ]
  },
  {
   "cell_type": "code",
   "execution_count": 58,
   "metadata": {
    "collapsed": false
   },
   "outputs": [
    {
     "data": {
      "text/html": [
       "<div>\n",
       "<table border=\"1\" class=\"dataframe\">\n",
       "  <thead>\n",
       "    <tr style=\"text-align: right;\">\n",
       "      <th></th>\n",
       "      <th>mid</th>\n",
       "      <th>radiant_make_fb</th>\n",
       "      <th>dire_make_fb</th>\n",
       "      <th>radiant_kill_roshan</th>\n",
       "      <th>dire_kill_roshan</th>\n",
       "      <th>radiant_denay_tower</th>\n",
       "      <th>dire_denay_tower</th>\n",
       "      <th>radiant_destroy_tower</th>\n",
       "      <th>dire_destroy_tower</th>\n",
       "    </tr>\n",
       "  </thead>\n",
       "  <tbody>\n",
       "    <tr>\n",
       "      <th>0</th>\n",
       "      <td>0</td>\n",
       "      <td>1</td>\n",
       "      <td>0</td>\n",
       "      <td>0</td>\n",
       "      <td>0</td>\n",
       "      <td>0</td>\n",
       "      <td>0</td>\n",
       "      <td>0</td>\n",
       "      <td>0</td>\n",
       "    </tr>\n",
       "    <tr>\n",
       "      <th>1</th>\n",
       "      <td>1</td>\n",
       "      <td>1</td>\n",
       "      <td>0</td>\n",
       "      <td>0</td>\n",
       "      <td>0</td>\n",
       "      <td>0</td>\n",
       "      <td>0</td>\n",
       "      <td>0</td>\n",
       "      <td>0</td>\n",
       "    </tr>\n",
       "    <tr>\n",
       "      <th>2</th>\n",
       "      <td>2</td>\n",
       "      <td>0</td>\n",
       "      <td>1</td>\n",
       "      <td>0</td>\n",
       "      <td>0</td>\n",
       "      <td>0</td>\n",
       "      <td>0</td>\n",
       "      <td>0</td>\n",
       "      <td>0</td>\n",
       "    </tr>\n",
       "    <tr>\n",
       "      <th>3</th>\n",
       "      <td>3</td>\n",
       "      <td>1</td>\n",
       "      <td>0</td>\n",
       "      <td>0</td>\n",
       "      <td>0</td>\n",
       "      <td>0</td>\n",
       "      <td>0</td>\n",
       "      <td>0</td>\n",
       "      <td>0</td>\n",
       "    </tr>\n",
       "    <tr>\n",
       "      <th>4</th>\n",
       "      <td>4</td>\n",
       "      <td>0</td>\n",
       "      <td>1</td>\n",
       "      <td>0</td>\n",
       "      <td>0</td>\n",
       "      <td>0</td>\n",
       "      <td>0</td>\n",
       "      <td>0</td>\n",
       "      <td>0</td>\n",
       "    </tr>\n",
       "  </tbody>\n",
       "</table>\n",
       "</div>"
      ],
      "text/plain": [
       "   mid  radiant_make_fb  dire_make_fb  radiant_kill_roshan  dire_kill_roshan  \\\n",
       "0    0                1             0                    0                 0   \n",
       "1    1                1             0                    0                 0   \n",
       "2    2                0             1                    0                 0   \n",
       "3    3                1             0                    0                 0   \n",
       "4    4                0             1                    0                 0   \n",
       "\n",
       "   radiant_denay_tower  dire_denay_tower  radiant_destroy_tower  \\\n",
       "0                    0                 0                      0   \n",
       "1                    0                 0                      0   \n",
       "2                    0                 0                      0   \n",
       "3                    0                 0                      0   \n",
       "4                    0                 0                      0   \n",
       "\n",
       "   dire_destroy_tower  \n",
       "0                   0  \n",
       "1                   0  \n",
       "2                   0  \n",
       "3                   0  \n",
       "4                   0  "
      ]
     },
     "execution_count": 58,
     "metadata": {},
     "output_type": "execute_result"
    }
   ],
   "source": [
    "events.head()"
   ]
  },
  {
   "cell_type": "code",
   "execution_count": 59,
   "metadata": {
    "collapsed": false
   },
   "outputs": [
    {
     "name": "stdout",
     "output_type": "stream",
     "text": [
      "[14337 34802 40699] [ 7341  9348  9512 29462 36614 47375]\n"
     ]
    }
   ],
   "source": [
    "events = pd.read_csv('processing_tables/dummy_events.csv')\n",
    "midRadWin = events.loc[events.radiant_destroy_barracks!=0].mid.values\n",
    "midDireWin = events.loc[events.dire_destroy_barracks!=0].mid.values\n",
    "print midRadWin, midDireWin\n"
   ]
  },
  {
   "cell_type": "code",
   "execution_count": 60,
   "metadata": {
    "collapsed": false
   },
   "outputs": [
    {
     "data": {
      "text/html": [
       "<div>\n",
       "<table border=\"1\" class=\"dataframe\">\n",
       "  <thead>\n",
       "    <tr style=\"text-align: right;\">\n",
       "      <th></th>\n",
       "      <th>mid</th>\n",
       "      <th>radiant_won</th>\n",
       "    </tr>\n",
       "  </thead>\n",
       "  <tbody>\n",
       "    <tr>\n",
       "      <th>0</th>\n",
       "      <td>3</td>\n",
       "      <td>0.696544</td>\n",
       "    </tr>\n",
       "    <tr>\n",
       "      <th>1</th>\n",
       "      <td>7</td>\n",
       "      <td>0.487055</td>\n",
       "    </tr>\n",
       "    <tr>\n",
       "      <th>2</th>\n",
       "      <td>9</td>\n",
       "      <td>0.165199</td>\n",
       "    </tr>\n",
       "    <tr>\n",
       "      <th>3</th>\n",
       "      <td>10</td>\n",
       "      <td>0.396882</td>\n",
       "    </tr>\n",
       "    <tr>\n",
       "      <th>4</th>\n",
       "      <td>12</td>\n",
       "      <td>0.568977</td>\n",
       "    </tr>\n",
       "  </tbody>\n",
       "</table>\n",
       "</div>"
      ],
      "text/plain": [
       "   mid  radiant_won\n",
       "0    3     0.696544\n",
       "1    7     0.487055\n",
       "2    9     0.165199\n",
       "3   10     0.396882\n",
       "4   12     0.568977"
      ]
     },
     "execution_count": 60,
     "metadata": {},
     "output_type": "execute_result"
    }
   ],
   "source": [
    "X_test = test.copy()\n",
    "X_test.index = test.mid\n",
    "X_test.drop('mid', 1, inplace=True)\n",
    "clf=LogisticRegression(random_state=241, C=0.1)\n",
    "clf.fit(X_train, y_train)\n",
    "\n",
    "test_matches = pd.read_csv('data/test.csv')\n",
    "test_matches['radiant_won'] = clf.predict_proba(X_test)[:, 1]\n",
    "for mid in midRadWin:\n",
    "    if mid in test_matches.mid.values:\n",
    "        test_matches.ix[test_matches[test_matches.mid == mid].index[0],1] = 1\n",
    "for mid in midDireWin:\n",
    "    if mid in test_matches.mid.values:\n",
    "        test_matches.ix[test_matches[test_matches.mid == mid].index[0],1] = 0\n",
    "test_matches.to_csv('submissions/logGold_normalTowers.csv', index=None)\n",
    "test_matches.head()"
   ]
  },
  {
   "cell_type": "markdown",
   "metadata": {},
   "source": [
    "# 0.76206"
   ]
  },
  {
   "cell_type": "code",
   "execution_count": 81,
   "metadata": {
    "collapsed": false
   },
   "outputs": [
    {
     "name": "stdout",
     "output_type": "stream",
     "text": [
      "logreg:  0.769377682615 0.00610022185709\n",
      "Ridge:  0.768614716341 0.00606502174282\n"
     ]
    }
   ],
   "source": [
    "gold = pd.read_csv('processing_tables/all_stats_gold.csv')\n",
    "gold.drop(['gold_rank_0','gold_rank_1','gold_rank_2','gold_rank_3'], 1, inplace=True)\n",
    "gold.drop(['gold_square_rank_0','gold_square_rank_1','gold_square_rank_2',\n",
    "           'gold_square_rank_3', 'gold_square_rank_4'], 1, inplace=True)\n",
    "gold.drop(['gold_score_rank_rel_0','gold_score_rank_rel_1','gold_score_rank_rel_2'], 1, inplace=True)\n",
    "gold.drop(['gold_score_rank_dif_0','gold_score_rank_dif_1','gold_score_rank_dif_2'], 1, inplace=True)\n",
    "\n",
    "heroes = pd.read_csv('processing_tables/only_heroes.csv')\n",
    "items = pd.read_csv('processing_tables/items_dif.csv')\n",
    "xp = pd.read_csv('processing_tables/xpDif.csv')\n",
    "creeps = pd.read_csv('processing_tables/cropped_creeps_dif.csv')\n",
    "new_events = pd.read_csv('processing_tables/dummy_events_cropped.csv')\n",
    "# new_events.barracks_dif = new_events.barracks_dif / new_events.barracks_dif.max()\n",
    "new_events.drop('barracks_dif', 1, inplace=True)\n",
    "new_events.pushing = new_events.pushing / new_events.pushing.max()\n",
    "new_events.head()\n",
    "\n",
    "X_train, y_train, test = total_merge(gold, heroes, items, xp, creeps, new_events)\n",
    "X_train.index = X_train.mid\n",
    "X_train.drop('mid', 1, inplace=True)\n",
    "my_clf_cross_val(X_train, y_train, False)"
   ]
  },
  {
   "cell_type": "code",
   "execution_count": 82,
   "metadata": {
    "collapsed": false
   },
   "outputs": [
    {
     "name": "stdout",
     "output_type": "stream",
     "text": [
      "Lasso2:  0.769275354313\n"
     ]
    }
   ],
   "source": [
    "X_test = test.copy()\n",
    "X_test.index = test.mid\n",
    "X_test.drop('mid', 1, inplace=True)\n",
    "clf = Lasso(alpha=0.00015, max_iter=12000)\n",
    "print 'Lasso2: ', np.mean(cross_val_score(clf, X_train, y_train, cv=5, scoring='roc_auc'))\n",
    "clf.fit(X_train, y_train)\n",
    "\n",
    "test_matches = pd.read_csv('data/test.csv')\n",
    "test_matches['radiant_won'] = clf.predict(X_test)"
   ]
  },
  {
   "cell_type": "code",
   "execution_count": 83,
   "metadata": {
    "collapsed": false
   },
   "outputs": [
    {
     "data": {
      "text/html": [
       "<div>\n",
       "<table border=\"1\" class=\"dataframe\">\n",
       "  <thead>\n",
       "    <tr style=\"text-align: right;\">\n",
       "      <th></th>\n",
       "      <th>mid</th>\n",
       "      <th>radiant_won</th>\n",
       "    </tr>\n",
       "  </thead>\n",
       "  <tbody>\n",
       "    <tr>\n",
       "      <th>0</th>\n",
       "      <td>3</td>\n",
       "      <td>0.657730</td>\n",
       "    </tr>\n",
       "    <tr>\n",
       "      <th>1</th>\n",
       "      <td>7</td>\n",
       "      <td>0.479715</td>\n",
       "    </tr>\n",
       "    <tr>\n",
       "      <th>2</th>\n",
       "      <td>9</td>\n",
       "      <td>0.199016</td>\n",
       "    </tr>\n",
       "    <tr>\n",
       "      <th>3</th>\n",
       "      <td>10</td>\n",
       "      <td>0.419774</td>\n",
       "    </tr>\n",
       "    <tr>\n",
       "      <th>4</th>\n",
       "      <td>12</td>\n",
       "      <td>0.555358</td>\n",
       "    </tr>\n",
       "  </tbody>\n",
       "</table>\n",
       "</div>"
      ],
      "text/plain": [
       "   mid  radiant_won\n",
       "0    3     0.657730\n",
       "1    7     0.479715\n",
       "2    9     0.199016\n",
       "3   10     0.419774\n",
       "4   12     0.555358"
      ]
     },
     "execution_count": 83,
     "metadata": {},
     "output_type": "execute_result"
    }
   ],
   "source": [
    "for mid in midRadWin:\n",
    "    if mid in test_matches.mid.values:\n",
    "        test_matches.ix[test_matches[test_matches.mid == mid].index[0],1] = 1\n",
    "for mid in midDireWin:\n",
    "    if mid in test_matches.mid.values:\n",
    "        test_matches.ix[test_matches[test_matches.mid == mid].index[0],1] = 0\n",
    "test_matches.to_csv('submissions/logGold_normalTowers_lasso.csv', index=None)\n",
    "test_matches.head()"
   ]
  },
  {
   "cell_type": "markdown",
   "metadata": {},
   "source": [
    "# 0.76195"
   ]
  },
  {
   "cell_type": "code",
   "execution_count": 61,
   "metadata": {
    "collapsed": false
   },
   "outputs": [
    {
     "name": "stdout",
     "output_type": "stream",
     "text": [
      "logreg:  0.769008672724 0.00595554510124\n",
      "Ridge:  0.768256688318 0.00570382573486\n"
     ]
    }
   ],
   "source": [
    "gold = pd.read_csv('processing_tables/all_stats_gold.csv')\n",
    "gold.drop(['gold_rank_0','gold_rank_1','gold_rank_2'], 1, inplace=True)\n",
    "gold.drop(['gold_square_rank_0','gold_square_rank_1','gold_square_rank_2'], 1, inplace=True)\n",
    "gold.drop(['gold_score_rank_rel_0','gold_score_rank_rel_1','gold_score_rank_rel_2'], 1, inplace=True)\n",
    "gold.drop(['gold_score_rank_dif_0','gold_score_rank_dif_1','gold_score_rank_dif_2',\n",
    "           'gold_score_rank_dif_3','gold_score_rank_dif_4'], 1, inplace=True)\n",
    "\n",
    "heroes = pd.read_csv('processing_tables/only_heroes.csv')\n",
    "items = pd.read_csv('processing_tables/items_dif.csv')\n",
    "xp = pd.read_csv('processing_tables/xpDif.csv')\n",
    "creeps = pd.read_csv('processing_tables/cropped_creeps_dif.csv')\n",
    "new_events = pd.read_csv('processing_tables/dummy_events_cropped.csv')\n",
    "# new_events.barracks_dif = new_events.barracks_dif / new_events.barracks_dif.max()\n",
    "new_events.drop('barracks_dif', 1, inplace=True)\n",
    "new_events.pushing = new_events.pushing / new_events.pushing.max()\n",
    "new_events.head()\n",
    "\n",
    "X_train, y_train, test = total_merge(gold, heroes, items, xp, creeps, new_events)\n",
    "X_train.index = X_train.mid\n",
    "X_train.drop('mid', 1, inplace=True)\n",
    "my_clf_cross_val(X_train, y_train, False)"
   ]
  },
  {
   "cell_type": "code",
   "execution_count": 62,
   "metadata": {
    "collapsed": false
   },
   "outputs": [
    {
     "data": {
      "text/html": [
       "<div>\n",
       "<table border=\"1\" class=\"dataframe\">\n",
       "  <thead>\n",
       "    <tr style=\"text-align: right;\">\n",
       "      <th></th>\n",
       "      <th>mid</th>\n",
       "      <th>radiant_won</th>\n",
       "    </tr>\n",
       "  </thead>\n",
       "  <tbody>\n",
       "    <tr>\n",
       "      <th>0</th>\n",
       "      <td>3</td>\n",
       "      <td>0.712639</td>\n",
       "    </tr>\n",
       "    <tr>\n",
       "      <th>1</th>\n",
       "      <td>7</td>\n",
       "      <td>0.515127</td>\n",
       "    </tr>\n",
       "    <tr>\n",
       "      <th>2</th>\n",
       "      <td>9</td>\n",
       "      <td>0.173322</td>\n",
       "    </tr>\n",
       "    <tr>\n",
       "      <th>3</th>\n",
       "      <td>10</td>\n",
       "      <td>0.389474</td>\n",
       "    </tr>\n",
       "    <tr>\n",
       "      <th>4</th>\n",
       "      <td>12</td>\n",
       "      <td>0.558358</td>\n",
       "    </tr>\n",
       "  </tbody>\n",
       "</table>\n",
       "</div>"
      ],
      "text/plain": [
       "   mid  radiant_won\n",
       "0    3     0.712639\n",
       "1    7     0.515127\n",
       "2    9     0.173322\n",
       "3   10     0.389474\n",
       "4   12     0.558358"
      ]
     },
     "execution_count": 62,
     "metadata": {},
     "output_type": "execute_result"
    }
   ],
   "source": [
    "X_test = test.copy()\n",
    "X_test.index = test.mid\n",
    "X_test.drop('mid', 1, inplace=True)\n",
    "clf=LogisticRegression(random_state=241, C=0.1)\n",
    "clf.fit(X_train, y_train)\n",
    "\n",
    "test_matches = pd.read_csv('data/test.csv')\n",
    "test_matches['radiant_won'] = clf.predict_proba(X_test)[:, 1]\n",
    "test_matches.to_csv('submissions/stupid_submition.csv', index=None)\n",
    "test_matches.head()"
   ]
  },
  {
   "cell_type": "code",
   "execution_count": 66,
   "metadata": {
    "collapsed": false
   },
   "outputs": [
    {
     "name": "stdout",
     "output_type": "stream",
     "text": [
      "logreg:  0.769048545963 0.00598025162835\n",
      "Ridge:  0.768218215178 0.00582315447505\n"
     ]
    }
   ],
   "source": [
    "gold = pd.read_csv('processing_tables/all_stats_gold.csv')\n",
    "gold.drop(['gold_rank_0','gold_rank_1','gold_rank_2','gold_rank_3'], 1, inplace=True)\n",
    "gold.drop(['gold_square_rank_0','gold_square_rank_1','gold_square_rank_2'], 1, inplace=True)\n",
    "gold.drop(['gold_score_rank_rel_0','gold_score_rank_rel_1','gold_score_rank_rel_2'], 1, inplace=True)\n",
    "gold.drop(['gold_score_rank_dif_0','gold_score_rank_dif_1','gold_score_rank_dif_2'], 1, inplace=True)\n",
    "gold.drop(['gold_log_rank_0','gold_log_rank_1','gold_log_rank_2'], 1, inplace=True)\n",
    "\n",
    "heroes = pd.read_csv('processing_tables/only_heroes.csv')\n",
    "items = pd.read_csv('processing_tables/items_dif.csv')\n",
    "xp = pd.read_csv('processing_tables/xpDif.csv')\n",
    "creeps = pd.read_csv('processing_tables/cropped_creeps_dif.csv')\n",
    "new_events = pd.read_csv('processing_tables/dummy_events_cropped.csv')\n",
    "# new_events.barracks_dif = new_events.barracks_dif / new_events.barracks_dif.max()\n",
    "new_events.drop('barracks_dif', 1, inplace=True)\n",
    "new_events.pushing = new_events.pushing / new_events.pushing.max()\n",
    "new_events.head()\n",
    "\n",
    "X_train, y_train, test = total_merge(gold, heroes, items, xp, creeps, new_events)\n",
    "X_train.index = X_train.mid\n",
    "X_train.drop('mid', 1, inplace=True)\n",
    "my_clf_cross_val(X_train, y_train, False)"
   ]
  },
  {
   "cell_type": "code",
   "execution_count": null,
   "metadata": {
    "collapsed": true
   },
   "outputs": [],
   "source": []
  },
  {
   "cell_type": "code",
   "execution_count": 64,
   "metadata": {
    "collapsed": false
   },
   "outputs": [
    {
     "name": "stdout",
     "output_type": "stream",
     "text": [
      "logreg:  0.769008672724 0.00595554510124\n",
      "Ridge:  0.768256688318 0.00570382573486\n"
     ]
    }
   ],
   "source": [
    "gold = pd.read_csv('processing_tables/all_stats_gold.csv')\n",
    "gold.drop(['gold_rank_0','gold_rank_1','gold_rank_2'], 1, inplace=True)\n",
    "gold.drop(['gold_square_rank_0','gold_square_rank_1','gold_square_rank_2'], 1, inplace=True)\n",
    "gold.drop(['gold_score_rank_rel_0','gold_score_rank_rel_1','gold_score_rank_rel_2'], 1, inplace=True)\n",
    "gold.drop(['gold_score_rank_dif_0','gold_score_rank_dif_1','gold_score_rank_dif_2',\n",
    "           'gold_score_rank_dif_3','gold_score_rank_dif_4'], 1, inplace=True)\n",
    "\n",
    "heroes = pd.read_csv('processing_tables/only_heroes.csv')\n",
    "items = pd.read_csv('processing_tables/items_dif.csv')\n",
    "xp = pd.read_csv('processing_tables/xpDif.csv')\n",
    "creeps = pd.read_csv('processing_tables/cropped_creeps_dif.csv')\n",
    "events = pd.read_csv('processing_tables/dummy_events.csv')\n",
    "events.drop(['radiant_take_aegis', 'dire_take_aegis', 'radiant_steal_aegis',\n",
    "             'dire_steal_aegis', 'radiant_destroy_barracks', 'dire_destroy_barracks'], 1, inplace=True)\n",
    "\n",
    "X_train, y_train, test = total_merge(gold, heroes, items, xp, creeps, new_events)\n",
    "X_train.index = X_train.mid\n",
    "X_train.drop('mid', 1, inplace=True)\n",
    "my_clf_cross_val(X_train, y_train, False)\n"
   ]
  },
  {
   "cell_type": "markdown",
   "metadata": {},
   "source": [
    "# 0.76242"
   ]
  },
  {
   "cell_type": "code",
   "execution_count": 67,
   "metadata": {
    "collapsed": false
   },
   "outputs": [
    {
     "name": "stdout",
     "output_type": "stream",
     "text": [
      "logreg:  0.769221207115 0.00606106106091\n",
      "Ridge:  0.768440743658 0.00588337309906\n",
      "Lasso:  0.769004031477 0.00627050185506\n"
     ]
    }
   ],
   "source": [
    "gold = pd.read_csv('data/gold.csv', index_col='mid')\n",
    "gold = gold[gold.times == 600]\n",
    "gold.drop('times', 1, inplace=True)\n",
    "gold_log_rank_dif = pd.DataFrame(data = np.sort(np.log(gold.values[:,0:5])) - np.sort(np.log(gold.values[:,5:10])),\n",
    "                             index=gold.index,\n",
    "                             columns = ['gold_log_rank_{}'.format(i) for i in range(5)]) \n",
    "gold_log_rank_dif = normalize_data(gold_log_rank_dif)\n",
    "gold_log_rank_dif.reset_index(inplace=True)\n",
    "\n",
    "gold = pd.read_csv('processing_tables/gold_stats_threshold_dif.csv')\n",
    "gold.drop('third_gold_dif', 1, inplace=True)\n",
    "gold.drop('second_gold_dif', 1, inplace=True)\n",
    "gold = pd.merge(gold, gold_log_rank_dif, on='mid', how='left')\n",
    "heroes = pd.read_csv('processing_tables/only_heroes.csv')\n",
    "items = pd.read_csv('processing_tables/items_dif.csv')\n",
    "xp = pd.read_csv('processing_tables/xpDif.csv')\n",
    "creeps = pd.read_csv('processing_tables/cropped_creeps_dif.csv')\n",
    "events = pd.read_csv('processing_tables/dummy_events.csv')\n",
    "events.drop(['radiant_take_aegis', 'dire_take_aegis', 'radiant_steal_aegis',\n",
    "             'dire_steal_aegis', 'radiant_destroy_barracks', 'dire_destroy_barracks'], 1, inplace=True)\n",
    "\n",
    "X_train, y_train, test= total_merge(gold, heroes, items, xp, creeps, events)\n",
    "X_train.index = X_train.mid\n",
    "X_train.drop('mid', 1,inplace=True)\n",
    "my_clf_cross_val(X_train, y_train)"
   ]
  },
  {
   "cell_type": "code",
   "execution_count": 68,
   "metadata": {
    "collapsed": false
   },
   "outputs": [
    {
     "name": "stdout",
     "output_type": "stream",
     "text": [
      "[14337 34802 40699] [ 7341  9348  9512 29462 36614 47375]\n"
     ]
    }
   ],
   "source": [
    "events = pd.read_csv('processing_tables/dummy_events.csv')\n",
    "midRadWin = events.loc[events.radiant_destroy_barracks!=0].mid.values\n",
    "midDireWin = events.loc[events.dire_destroy_barracks!=0].mid.values\n",
    "print midRadWin, midDireWin"
   ]
  },
  {
   "cell_type": "code",
   "execution_count": 69,
   "metadata": {
    "collapsed": false
   },
   "outputs": [
    {
     "data": {
      "text/html": [
       "<div>\n",
       "<table border=\"1\" class=\"dataframe\">\n",
       "  <thead>\n",
       "    <tr style=\"text-align: right;\">\n",
       "      <th></th>\n",
       "      <th>mid</th>\n",
       "      <th>radiant_won</th>\n",
       "    </tr>\n",
       "  </thead>\n",
       "  <tbody>\n",
       "    <tr>\n",
       "      <th>0</th>\n",
       "      <td>3</td>\n",
       "      <td>0.703574</td>\n",
       "    </tr>\n",
       "    <tr>\n",
       "      <th>1</th>\n",
       "      <td>7</td>\n",
       "      <td>0.496558</td>\n",
       "    </tr>\n",
       "    <tr>\n",
       "      <th>2</th>\n",
       "      <td>9</td>\n",
       "      <td>0.163576</td>\n",
       "    </tr>\n",
       "    <tr>\n",
       "      <th>3</th>\n",
       "      <td>10</td>\n",
       "      <td>0.393074</td>\n",
       "    </tr>\n",
       "    <tr>\n",
       "      <th>4</th>\n",
       "      <td>12</td>\n",
       "      <td>0.566141</td>\n",
       "    </tr>\n",
       "  </tbody>\n",
       "</table>\n",
       "</div>"
      ],
      "text/plain": [
       "   mid  radiant_won\n",
       "0    3     0.703574\n",
       "1    7     0.496558\n",
       "2    9     0.163576\n",
       "3   10     0.393074\n",
       "4   12     0.566141"
      ]
     },
     "execution_count": 69,
     "metadata": {},
     "output_type": "execute_result"
    }
   ],
   "source": [
    "X_test = test.copy()\n",
    "X_test.index = test.mid\n",
    "X_test.drop('mid', 1, inplace=True)\n",
    "clf=LogisticRegression(random_state=241, C=0.1)\n",
    "clf.fit(X_train, y_train)\n",
    "\n",
    "test_matches = pd.read_csv('data/test.csv')\n",
    "test_matches['radiant_won'] = clf.predict_proba(X_test)[:, 1]\n",
    "for mid in midRadWin:\n",
    "    if mid in test_matches.mid.values:\n",
    "        test_matches.ix[test_matches[test_matches.mid == mid].index[0],1] = 1\n",
    "for mid in midDireWin:\n",
    "    if mid in test_matches.mid.values:\n",
    "        test_matches.ix[test_matches[test_matches.mid == mid].index[0],1] = 0\n",
    "test_matches.to_csv('submissions/stupid_submition-2.csv', index=None)\n",
    "test_matches.head()"
   ]
  },
  {
   "cell_type": "code",
   "execution_count": null,
   "metadata": {
    "collapsed": true
   },
   "outputs": [],
   "source": []
  },
  {
   "cell_type": "code",
   "execution_count": 73,
   "metadata": {
    "collapsed": false
   },
   "outputs": [
    {
     "name": "stdout",
     "output_type": "stream",
     "text": [
      "logreg:  0.769087324325 0.00590591860863\n",
      "Ridge:  0.768206753974 0.00565137392905\n",
      "Lasso:  0.768757104435 0.00601452642012\n"
     ]
    }
   ],
   "source": [
    "gold = pd.read_csv('data/gold.csv', index_col='mid')\n",
    "gold = gold[gold.times == 600]\n",
    "gold.drop('times', 1, inplace=True)\n",
    "gold_log_rank_dif = pd.DataFrame(data = np.sort(np.log(gold.values[:,3:5])) - np.sort(np.log(gold.values[:,8:10])),\n",
    "                             index=gold.index,\n",
    "                             columns = ['gold_log_rank_{}'.format(i) for i in range(3,5)]) \n",
    "gold_log_rank_dif = normalize_data(gold_log_rank_dif)\n",
    "gold_log_rank_dif.reset_index(inplace=True)\n",
    "\n",
    "\n",
    "gold = pd.read_csv('processing_tables/gold_stats_threshold_dif.csv')\n",
    "gold.drop('third_gold_dif', 1, inplace=True)\n",
    "gold.drop('second_gold_dif', 1, inplace=True)\n",
    "gold = pd.merge(gold, gold_log_rank_dif, on='mid', how='left')\n",
    "heroes = pd.read_csv('processing_tables/only_heroes.csv')\n",
    "items = pd.read_csv('processing_tables/items_dif.csv')\n",
    "xp = pd.read_csv('processing_tables/xpDif.csv')\n",
    "creeps = pd.read_csv('processing_tables/cropped_creeps_dif.csv')\n",
    "events = pd.read_csv('processing_tables/dummy_events.csv')\n",
    "events.drop(['radiant_take_aegis', 'dire_take_aegis', 'radiant_steal_aegis',\n",
    "             'dire_steal_aegis', 'radiant_destroy_barracks', 'dire_destroy_barracks'], 1, inplace=True)\n",
    "\n",
    "X_train, y_train, test= total_merge(gold, heroes, items, xp, creeps, events)\n",
    "X_train.index = X_train.mid\n",
    "X_train.drop('mid', 1,inplace=True)\n",
    "my_clf_cross_val(X_train, y_train)"
   ]
  },
  {
   "cell_type": "markdown",
   "metadata": {},
   "source": [
    "# source with squares 0.76234"
   ]
  },
  {
   "cell_type": "code",
   "execution_count": 75,
   "metadata": {
    "collapsed": false
   },
   "outputs": [
    {
     "name": "stdout",
     "output_type": "stream",
     "text": [
      "logreg:  0.769159107302 0.00597193282402\n",
      "Ridge:  0.768401038199 0.00587127797461\n"
     ]
    }
   ],
   "source": [
    "gold = pd.read_csv('data/gold.csv', index_col='mid')\n",
    "gold = gold[gold.times == 600]\n",
    "gold.drop('times', 1, inplace=True)\n",
    "gold_log_rank_dif = pd.DataFrame(data = np.sort(np.square(gold.values[:,0:5])) - np.sort(np.square(gold.values[:,5:10])),\n",
    "                             index=gold.index,\n",
    "                             columns = ['gold_log_rank_{}'.format(i) for i in range(0,5)]) \n",
    "gold_log_rank_dif = normalize_data(gold_log_rank_dif)\n",
    "gold_log_rank_dif.reset_index(inplace=True)\n",
    "\n",
    "\n",
    "gold = pd.read_csv('processing_tables/gold_stats_threshold_dif.csv')\n",
    "gold.drop('third_gold_dif', 1, inplace=True)\n",
    "gold.drop('second_gold_dif', 1, inplace=True)\n",
    "gold = pd.merge(gold, gold_log_rank_dif, on='mid', how='left')\n",
    "heroes = pd.read_csv('processing_tables/only_heroes.csv')\n",
    "items = pd.read_csv('processing_tables/items_dif.csv')\n",
    "xp = pd.read_csv('processing_tables/xpDif.csv')\n",
    "creeps = pd.read_csv('processing_tables/cropped_creeps_dif.csv')\n",
    "events = pd.read_csv('processing_tables/dummy_events.csv')\n",
    "events.drop(['radiant_take_aegis', 'dire_take_aegis', 'radiant_steal_aegis',\n",
    "             'dire_steal_aegis', 'radiant_destroy_barracks', 'dire_destroy_barracks'], 1, inplace=True)\n",
    "\n",
    "X_train, y_train, test= total_merge(gold, heroes, items, xp, creeps, events)\n",
    "X_train.index = X_train.mid\n",
    "X_train.drop('mid', 1,inplace=True)\n",
    "my_clf_cross_val(X_train, y_train, False)"
   ]
  },
  {
   "cell_type": "code",
   "execution_count": 77,
   "metadata": {
    "collapsed": false
   },
   "outputs": [
    {
     "data": {
      "text/html": [
       "<div>\n",
       "<table border=\"1\" class=\"dataframe\">\n",
       "  <thead>\n",
       "    <tr style=\"text-align: right;\">\n",
       "      <th></th>\n",
       "      <th>mid</th>\n",
       "      <th>radiant_won</th>\n",
       "    </tr>\n",
       "  </thead>\n",
       "  <tbody>\n",
       "    <tr>\n",
       "      <th>0</th>\n",
       "      <td>3</td>\n",
       "      <td>0.701458</td>\n",
       "    </tr>\n",
       "    <tr>\n",
       "      <th>1</th>\n",
       "      <td>7</td>\n",
       "      <td>0.501445</td>\n",
       "    </tr>\n",
       "    <tr>\n",
       "      <th>2</th>\n",
       "      <td>9</td>\n",
       "      <td>0.164383</td>\n",
       "    </tr>\n",
       "    <tr>\n",
       "      <th>3</th>\n",
       "      <td>10</td>\n",
       "      <td>0.392198</td>\n",
       "    </tr>\n",
       "    <tr>\n",
       "      <th>4</th>\n",
       "      <td>12</td>\n",
       "      <td>0.560544</td>\n",
       "    </tr>\n",
       "  </tbody>\n",
       "</table>\n",
       "</div>"
      ],
      "text/plain": [
       "   mid  radiant_won\n",
       "0    3     0.701458\n",
       "1    7     0.501445\n",
       "2    9     0.164383\n",
       "3   10     0.392198\n",
       "4   12     0.560544"
      ]
     },
     "execution_count": 77,
     "metadata": {},
     "output_type": "execute_result"
    }
   ],
   "source": [
    "X_test = test.copy()\n",
    "X_test.index = test.mid\n",
    "X_test.drop('mid', 1, inplace=True)\n",
    "clf=LogisticRegression(random_state=241, C=0.1)\n",
    "clf.fit(X_train, y_train)\n",
    "\n",
    "test_matches = pd.read_csv('data/test.csv')\n",
    "test_matches['radiant_won'] = clf.predict_proba(X_test)[:, 1]\n",
    "for mid in midRadWin:\n",
    "    if mid in test_matches.mid.values:\n",
    "        test_matches.ix[test_matches[test_matches.mid == mid].index[0],1] = 1\n",
    "for mid in midDireWin:\n",
    "    if mid in test_matches.mid.values:\n",
    "        test_matches.ix[test_matches[test_matches.mid == mid].index[0],1] = 0\n",
    "test_matches.to_csv('submissions/stupid_submition-3.csv', index=None)\n",
    "test_matches.head()"
   ]
  },
  {
   "cell_type": "code",
   "execution_count": null,
   "metadata": {
    "collapsed": true
   },
   "outputs": [],
   "source": []
  },
  {
   "cell_type": "code",
   "execution_count": null,
   "metadata": {
    "collapsed": true
   },
   "outputs": [],
   "source": []
  },
  {
   "cell_type": "code",
   "execution_count": null,
   "metadata": {
    "collapsed": true
   },
   "outputs": [],
   "source": []
  },
  {
   "cell_type": "code",
   "execution_count": null,
   "metadata": {
    "collapsed": true
   },
   "outputs": [],
   "source": []
  },
  {
   "cell_type": "code",
   "execution_count": null,
   "metadata": {
    "collapsed": true
   },
   "outputs": [],
   "source": []
  },
  {
   "cell_type": "code",
   "execution_count": null,
   "metadata": {
    "collapsed": true
   },
   "outputs": [],
   "source": [
    "gold = pd.read_csv('processing_tables/all_stats_gold.csv')\n",
    "\n",
    "heroes = pd.read_csv('processing_tables/only_heroes.csv')\n",
    "items = pd.read_csv('processing_tables/items_dif.csv')\n",
    "xp = pd.read_csv('processing_tables/xpDif.csv')\n",
    "creeps = pd.read_csv('processing_tables/cropped_creeps_dif.csv')\n",
    "events = pd.read_csv('processing_tables/dummy_events.csv')\n",
    "# events.drop(['radiant_take_aegis', 'dire_take_aegis', 'radiant_steal_aegis', 'dire_steal_aegis'], 1, inplace=True)\n",
    "\n",
    "X_train, y_train, test = total_merge(gold, heroes, items, xp, creeps, events)\n",
    "X_train.index = X_train.mid\n",
    "X_train.drop('mid', 1,inplace=True)\n",
    "my_clf_cross_val(X_train, y_train)"
   ]
  },
  {
   "cell_type": "code",
   "execution_count": null,
   "metadata": {
    "collapsed": true
   },
   "outputs": [],
   "source": []
  },
  {
   "cell_type": "code",
   "execution_count": null,
   "metadata": {
    "collapsed": true
   },
   "outputs": [],
   "source": []
  },
  {
   "cell_type": "code",
   "execution_count": null,
   "metadata": {
    "collapsed": true
   },
   "outputs": [],
   "source": []
  },
  {
   "cell_type": "code",
   "execution_count": null,
   "metadata": {
    "collapsed": true
   },
   "outputs": [],
   "source": []
  },
  {
   "cell_type": "code",
   "execution_count": null,
   "metadata": {
    "collapsed": true
   },
   "outputs": [],
   "source": []
  },
  {
   "cell_type": "code",
   "execution_count": null,
   "metadata": {
    "collapsed": true
   },
   "outputs": [],
   "source": []
  },
  {
   "cell_type": "markdown",
   "metadata": {},
   "source": [
    "# 0.76259"
   ]
  },
  {
   "cell_type": "code",
   "execution_count": 61,
   "metadata": {
    "collapsed": false
   },
   "outputs": [
    {
     "name": "stdout",
     "output_type": "stream",
     "text": [
      "logreg:  0.769252392706 0.00607900331348\n",
      "Ridge:  0.768381612071 0.00579973681582\n",
      "Lasso:  0.768962313417 0.00617029273645\n"
     ]
    }
   ],
   "source": [
    "gold = pd.read_csv('processing_tables/gold_stats_threshold_dif.csv')\n",
    "# gold.drop('third_gold_dif', 1, inplace=True)\n",
    "gold.drop('second_gold_dif', 1, inplace=True)\n",
    "heroes = pd.read_csv('processing_tables/only_heroes.csv')\n",
    "items = pd.read_csv('processing_tables/items_dif.csv')\n",
    "xp = pd.read_csv('processing_tables/xpDif.csv')\n",
    "creeps = pd.read_csv('processing_tables/cropped_creeps_dif.csv')\n",
    "events = pd.read_csv('processing_tables/dummy_events.csv')\n",
    "events.drop(['radiant_take_aegis', 'dire_take_aegis', 'radiant_steal_aegis', 'dire_steal_aegis'], 1, inplace=True)\n",
    "\n",
    "X_train, y_train, test = total_merge(gold, heroes, items, xp, creeps, events)\n",
    "X_train.index = X_train.mid\n",
    "X_train.drop('mid', 1,inplace=True)\n",
    "my_clf_cross_val(X_train, y_train)"
   ]
  },
  {
   "cell_type": "code",
   "execution_count": 62,
   "metadata": {
    "collapsed": false
   },
   "outputs": [
    {
     "data": {
      "text/html": [
       "<div>\n",
       "<table border=\"1\" class=\"dataframe\">\n",
       "  <thead>\n",
       "    <tr style=\"text-align: right;\">\n",
       "      <th></th>\n",
       "      <th>mid</th>\n",
       "      <th>radiant_won</th>\n",
       "    </tr>\n",
       "  </thead>\n",
       "  <tbody>\n",
       "    <tr>\n",
       "      <th>0</th>\n",
       "      <td>3</td>\n",
       "      <td>0.702474</td>\n",
       "    </tr>\n",
       "    <tr>\n",
       "      <th>1</th>\n",
       "      <td>7</td>\n",
       "      <td>0.502219</td>\n",
       "    </tr>\n",
       "    <tr>\n",
       "      <th>2</th>\n",
       "      <td>9</td>\n",
       "      <td>0.159457</td>\n",
       "    </tr>\n",
       "    <tr>\n",
       "      <th>3</th>\n",
       "      <td>10</td>\n",
       "      <td>0.389295</td>\n",
       "    </tr>\n",
       "    <tr>\n",
       "      <th>4</th>\n",
       "      <td>12</td>\n",
       "      <td>0.564214</td>\n",
       "    </tr>\n",
       "  </tbody>\n",
       "</table>\n",
       "</div>"
      ],
      "text/plain": [
       "   mid  radiant_won\n",
       "0    3     0.702474\n",
       "1    7     0.502219\n",
       "2    9     0.159457\n",
       "3   10     0.389295\n",
       "4   12     0.564214"
      ]
     },
     "execution_count": 62,
     "metadata": {},
     "output_type": "execute_result"
    }
   ],
   "source": [
    "X_test = test.copy()\n",
    "X_test.index = test.mid\n",
    "X_test.drop('mid', 1, inplace=True)\n",
    "clf=LogisticRegression(random_state=241, C=0.1)\n",
    "clf.fit(X_train, y_train)\n",
    "\n",
    "test_matches = pd.read_csv('data/test.csv')\n",
    "test_matches['radiant_won'] = clf.predict_proba(X_test)[:, 1]\n",
    "test_matches.to_csv('submissions/thresholdGold_easyCroppedEvents.csv', index=None)\n",
    "test_matches.head()"
   ]
  },
  {
   "cell_type": "code",
   "execution_count": null,
   "metadata": {
    "collapsed": true
   },
   "outputs": [],
   "source": []
  },
  {
   "cell_type": "markdown",
   "metadata": {},
   "source": [
    "# 0.76237"
   ]
  },
  {
   "cell_type": "code",
   "execution_count": 55,
   "metadata": {
    "collapsed": false
   },
   "outputs": [
    {
     "name": "stdout",
     "output_type": "stream",
     "text": [
      "logreg:  0.769369409336 0.00615589383453\n",
      "Ridge:  0.76856257118 0.00582483116481\n",
      "Lasso:  0.769149537669 0.00613274630592\n"
     ]
    }
   ],
   "source": [
    "gold = pd.read_csv('processing_tables/gold_stats_threshold_dif.csv')\n",
    "# gold.drop('third_gold_dif', 1, inplace=True)\n",
    "gold.drop('second_gold_dif', 1, inplace=True)\n",
    "heroes = pd.read_csv('processing_tables/only_heroes.csv')\n",
    "items = pd.read_csv('processing_tables/items_dif.csv')\n",
    "xp = pd.read_csv('processing_tables/xpDif.csv')\n",
    "creeps = pd.read_csv('processing_tables/cropped_creeps_dif.csv')\n",
    "events = pd.read_csv('processing_tables/dummy_events_cropped.csv')\n",
    "\n",
    "X_train, y_train, test = total_merge(gold, heroes, items, xp, creeps, events)\n",
    "X_train.index = X_train.mid\n",
    "X_train.drop('mid', 1,inplace=True)\n",
    "my_clf_cross_val(X_train, y_train)"
   ]
  },
  {
   "cell_type": "code",
   "execution_count": 56,
   "metadata": {
    "collapsed": false
   },
   "outputs": [
    {
     "data": {
      "text/html": [
       "<div>\n",
       "<table border=\"1\" class=\"dataframe\">\n",
       "  <thead>\n",
       "    <tr style=\"text-align: right;\">\n",
       "      <th></th>\n",
       "      <th>mid</th>\n",
       "      <th>radiant_won</th>\n",
       "    </tr>\n",
       "  </thead>\n",
       "  <tbody>\n",
       "    <tr>\n",
       "      <th>0</th>\n",
       "      <td>3</td>\n",
       "      <td>0.702448</td>\n",
       "    </tr>\n",
       "    <tr>\n",
       "      <th>1</th>\n",
       "      <td>7</td>\n",
       "      <td>0.495897</td>\n",
       "    </tr>\n",
       "    <tr>\n",
       "      <th>2</th>\n",
       "      <td>9</td>\n",
       "      <td>0.160178</td>\n",
       "    </tr>\n",
       "    <tr>\n",
       "      <th>3</th>\n",
       "      <td>10</td>\n",
       "      <td>0.391034</td>\n",
       "    </tr>\n",
       "    <tr>\n",
       "      <th>4</th>\n",
       "      <td>12</td>\n",
       "      <td>0.566139</td>\n",
       "    </tr>\n",
       "  </tbody>\n",
       "</table>\n",
       "</div>"
      ],
      "text/plain": [
       "   mid  radiant_won\n",
       "0    3     0.702448\n",
       "1    7     0.495897\n",
       "2    9     0.160178\n",
       "3   10     0.391034\n",
       "4   12     0.566139"
      ]
     },
     "execution_count": 56,
     "metadata": {},
     "output_type": "execute_result"
    }
   ],
   "source": [
    "X_test = test.copy()\n",
    "X_test.index = test.mid\n",
    "X_test.drop('mid', 1, inplace=True)\n",
    "clf=LogisticRegression(random_state=241, C=0.1)\n",
    "clf.fit(X_train, y_train)\n",
    "\n",
    "test_matches = pd.read_csv('data/test.csv')\n",
    "test_matches['radiant_won'] = clf.predict_proba(X_test)[:, 1]\n",
    "test_matches.to_csv('submissions/thresholdGold_croppedEvents.csv', index=None)\n",
    "test_matches.head()"
   ]
  },
  {
   "cell_type": "code",
   "execution_count": null,
   "metadata": {
    "collapsed": true
   },
   "outputs": [],
   "source": []
  },
  {
   "cell_type": "code",
   "execution_count": null,
   "metadata": {
    "collapsed": true
   },
   "outputs": [],
   "source": []
  },
  {
   "cell_type": "code",
   "execution_count": null,
   "metadata": {
    "collapsed": true
   },
   "outputs": [],
   "source": []
  },
  {
   "cell_type": "code",
   "execution_count": 62,
   "metadata": {
    "collapsed": false
   },
   "outputs": [
    {
     "name": "stdout",
     "output_type": "stream",
     "text": [
      "Lasso2:  0.768789333124\n"
     ]
    },
    {
     "data": {
      "text/plain": [
       "Lasso(alpha=0.00015, copy_X=True, fit_intercept=True, max_iter=12000,\n",
       "   normalize=False, positive=False, precompute=False, random_state=None,\n",
       "   selection='cyclic', tol=0.0001, warm_start=False)"
      ]
     },
     "execution_count": 62,
     "metadata": {},
     "output_type": "execute_result"
    }
   ],
   "source": [
    "clf = Lasso(alpha=0.00015, max_iter=12000)\n",
    "print 'Lasso2: ', np.mean(cross_val_score(clf, X_train, y_train, cv=5, scoring='roc_auc'))\n",
    "clf.fit(X_train, y_train)"
   ]
  },
  {
   "cell_type": "code",
   "execution_count": 63,
   "metadata": {
    "collapsed": false
   },
   "outputs": [
    {
     "name": "stdout",
     "output_type": "stream",
     "text": [
      "threshold_score_sum_dif -0.0170285786099\n",
      "sum_creeps_dif -0.0090006484224\n",
      "radiant_take_aegis -0.0\n",
      "dire_take_aegis 0.0\n",
      "radiant_steal_aegis 0.0\n",
      "dire_steal_aegis -0.0\n",
      "radiant_destroy_barracks -0.0\n",
      "dire_destroy_barracks -0.0\n",
      "radiant_make_fb -0.0266312884868\n",
      "dire_make_fb -0.0175996470007\n",
      "radiant_kill_roshan -0.0178522156211\n",
      "radiant_denay_tower -0.0\n",
      "dire_denay_tower -0.0319353708381\n",
      "radiant_destroy_tower -0.0298492139832\n"
     ]
    }
   ],
   "source": [
    "for i, col in enumerate(X_train.columns):\n",
    "    if clf.coef_[i] < 0.001 and 'hero' not in col and 'item' not in col:\n",
    "        print col, clf.coef_[i]"
   ]
  },
  {
   "cell_type": "code",
   "execution_count": 64,
   "metadata": {
    "collapsed": false
   },
   "outputs": [
    {
     "data": {
      "text/html": [
       "<div>\n",
       "<table border=\"1\" class=\"dataframe\">\n",
       "  <thead>\n",
       "    <tr style=\"text-align: right;\">\n",
       "      <th></th>\n",
       "      <th>mid</th>\n",
       "      <th>radiant_won</th>\n",
       "    </tr>\n",
       "  </thead>\n",
       "  <tbody>\n",
       "    <tr>\n",
       "      <th>0</th>\n",
       "      <td>3</td>\n",
       "      <td>0.698131</td>\n",
       "    </tr>\n",
       "    <tr>\n",
       "      <th>1</th>\n",
       "      <td>7</td>\n",
       "      <td>0.513709</td>\n",
       "    </tr>\n",
       "    <tr>\n",
       "      <th>2</th>\n",
       "      <td>9</td>\n",
       "      <td>0.158672</td>\n",
       "    </tr>\n",
       "    <tr>\n",
       "      <th>3</th>\n",
       "      <td>10</td>\n",
       "      <td>0.387372</td>\n",
       "    </tr>\n",
       "    <tr>\n",
       "      <th>4</th>\n",
       "      <td>12</td>\n",
       "      <td>0.561858</td>\n",
       "    </tr>\n",
       "  </tbody>\n",
       "</table>\n",
       "</div>"
      ],
      "text/plain": [
       "   mid  radiant_won\n",
       "0    3     0.698131\n",
       "1    7     0.513709\n",
       "2    9     0.158672\n",
       "3   10     0.387372\n",
       "4   12     0.561858"
      ]
     },
     "execution_count": 64,
     "metadata": {},
     "output_type": "execute_result"
    }
   ],
   "source": [
    "X_test = test.copy()\n",
    "X_test.index = test.mid\n",
    "X_test.drop('mid', 1, inplace=True)\n",
    "clf=LogisticRegression(random_state=241, C=0.1)\n",
    "clf.fit(X_train, y_train)\n",
    "\n",
    "test_matches = pd.read_csv('data/test.csv')\n",
    "test_matches['radiant_won'] = clf.predict_proba(X_test)[:, 1]\n",
    "test_matches.to_csv('submissions/threshold_gold_score.csv', index=None)\n",
    "test_matches.head()"
   ]
  },
  {
   "cell_type": "markdown",
   "metadata": {},
   "source": [
    "# Some cropped"
   ]
  },
  {
   "cell_type": "code",
   "execution_count": 22,
   "metadata": {
    "collapsed": false
   },
   "outputs": [
    {
     "name": "stdout",
     "output_type": "stream",
     "text": [
      "logreg:  0.767279671556\n",
      "Ridge:  0.765272149983\n",
      "Lasso:  0.767001884579\n"
     ]
    }
   ],
   "source": [
    "gold = pd.read_csv('processing_tables/gold_stat_dif.csv')\n",
    "heroes = pd.read_csv('processing_tables/only_heroes.csv')\n",
    "items = pd.read_csv('processing_tables/only_items.csv')\n",
    "xp = pd.read_csv('processing_tables/xp_cropped_stats.csv')\n",
    "creeps = pd.read_csv('processing_tables/cropped_creeps.csv')\n",
    "events = pd.read_csv('processing_tables/dummy_events.csv')\n",
    "\n",
    "X_train, y_train, test = total_merge(gold, heroes, items, xp, creeps, events)\n",
    "X_train.index = X_train.mid\n",
    "X_train.drop('mid', 1,inplace=True)\n",
    "my_clf_cross_val(X_train, y_train)"
   ]
  },
  {
   "cell_type": "code",
   "execution_count": 23,
   "metadata": {
    "collapsed": false
   },
   "outputs": [
    {
     "name": "stdout",
     "output_type": "stream",
     "text": [
      "Lasso2:  0.767310326374\n"
     ]
    }
   ],
   "source": [
    "clf = Lasso(alpha=0.00015, max_iter=12000)\n",
    "print 'Lasso2: ', np.mean(cross_val_score(clf, X_train, y_train, cv=5, scoring='roc_auc'))"
   ]
  },
  {
   "cell_type": "code",
   "execution_count": 32,
   "metadata": {
    "collapsed": false
   },
   "outputs": [
    {
     "name": "stdout",
     "output_type": "stream",
     "text": [
      "Lasso:  0.767310326374\n"
     ]
    },
    {
     "data": {
      "text/html": [
       "<div>\n",
       "<table border=\"1\" class=\"dataframe\">\n",
       "  <thead>\n",
       "    <tr style=\"text-align: right;\">\n",
       "      <th></th>\n",
       "      <th>mid</th>\n",
       "      <th>radiant_won</th>\n",
       "    </tr>\n",
       "  </thead>\n",
       "  <tbody>\n",
       "    <tr>\n",
       "      <th>0</th>\n",
       "      <td>3</td>\n",
       "      <td>0.686447</td>\n",
       "    </tr>\n",
       "    <tr>\n",
       "      <th>1</th>\n",
       "      <td>7</td>\n",
       "      <td>0.570634</td>\n",
       "    </tr>\n",
       "    <tr>\n",
       "      <th>2</th>\n",
       "      <td>9</td>\n",
       "      <td>0.204366</td>\n",
       "    </tr>\n",
       "    <tr>\n",
       "      <th>3</th>\n",
       "      <td>10</td>\n",
       "      <td>0.392924</td>\n",
       "    </tr>\n",
       "    <tr>\n",
       "      <th>4</th>\n",
       "      <td>12</td>\n",
       "      <td>0.504773</td>\n",
       "    </tr>\n",
       "  </tbody>\n",
       "</table>\n",
       "</div>"
      ],
      "text/plain": [
       "   mid  radiant_won\n",
       "0    3     0.686447\n",
       "1    7     0.570634\n",
       "2    9     0.204366\n",
       "3   10     0.392924\n",
       "4   12     0.504773"
      ]
     },
     "execution_count": 32,
     "metadata": {},
     "output_type": "execute_result"
    }
   ],
   "source": [
    "X_test = test.copy()\n",
    "X_test.index = test.mid\n",
    "X_test.drop('mid', 1, inplace=True)\n",
    "\n",
    "clf = Lasso(alpha=0.00015, max_iter=12000)\n",
    "clf.fit(X_train, y_train)\n",
    "print 'Lasso: ', np.mean(cross_val_score(clf, X_train, y_train, cv=5, scoring='roc_auc'))\n",
    "\n",
    "test_matches = pd.read_csv('data/test.csv')\n",
    "test_matches['radiant_won'] = clf.predict(X_test)\n",
    "test_matches.head()"
   ]
  },
  {
   "cell_type": "code",
   "execution_count": 30,
   "metadata": {
    "collapsed": true
   },
   "outputs": [],
   "source": [
    "test_matches.to_csv('submissions/some_cropped.csv', index=None)"
   ]
  },
  {
   "cell_type": "code",
   "execution_count": null,
   "metadata": {
    "collapsed": true
   },
   "outputs": [],
   "source": []
  },
  {
   "cell_type": "code",
   "execution_count": 23,
   "metadata": {
    "collapsed": true
   },
   "outputs": [],
   "source": [
    "gold = pd.read_csv('processing_tables/goldRankDif.csv')\n",
    "heroes = pd.read_csv('processing_tables/only_heroes.csv')\n",
    "items = pd.read_csv('processing_tables/items_dif.csv')\n",
    "xp = pd.read_csv('processing_tables/xpDif.csv')\n",
    "creeps = pd.read_csv('processing_tables/cropped_creeps.csv')\n",
    "events = pd.read_csv('processing_tables/dummy_events.csv')"
   ]
  },
  {
   "cell_type": "code",
   "execution_count": 26,
   "metadata": {
    "collapsed": false
   },
   "outputs": [
    {
     "data": {
      "text/html": [
       "<div>\n",
       "<table border=\"1\" class=\"dataframe\">\n",
       "  <thead>\n",
       "    <tr style=\"text-align: right;\">\n",
       "      <th></th>\n",
       "      <th>mid</th>\n",
       "      <th>gold_score_player_0</th>\n",
       "      <th>gold_score_player_1</th>\n",
       "      <th>gold_score_player_2</th>\n",
       "      <th>gold_score_player_3</th>\n",
       "      <th>gold_score_player_4</th>\n",
       "      <th>gold_score_player_5</th>\n",
       "      <th>gold_score_player_6</th>\n",
       "      <th>gold_score_player_7</th>\n",
       "      <th>gold_score_player_8</th>\n",
       "      <th>gold_score_player_9</th>\n",
       "      <th>radiant_norm_gold</th>\n",
       "      <th>dire_norm_gold</th>\n",
       "      <th>radiant_carry_norm_gold</th>\n",
       "      <th>dire_carry_norm_gold</th>\n",
       "      <th>radiant_best_gold_score</th>\n",
       "      <th>dire_best_gold_score</th>\n",
       "      <th>radiant_sum_gold_score</th>\n",
       "      <th>dire_sum_gold_score</th>\n",
       "    </tr>\n",
       "  </thead>\n",
       "  <tbody>\n",
       "    <tr>\n",
       "      <th>0</th>\n",
       "      <td>0</td>\n",
       "      <td>1.217054</td>\n",
       "      <td>1.415443</td>\n",
       "      <td>0.948802</td>\n",
       "      <td>0.788948</td>\n",
       "      <td>1.318744</td>\n",
       "      <td>0.846922</td>\n",
       "      <td>1.231741</td>\n",
       "      <td>1.162932</td>\n",
       "      <td>0.595855</td>\n",
       "      <td>0.990382</td>\n",
       "      <td>0.524044</td>\n",
       "      <td>0.801772</td>\n",
       "      <td>0.007513</td>\n",
       "      <td>0.665735</td>\n",
       "      <td>1.415443</td>\n",
       "      <td>1.231741</td>\n",
       "      <td>0.499268</td>\n",
       "      <td>0.448760</td>\n",
       "    </tr>\n",
       "    <tr>\n",
       "      <th>1</th>\n",
       "      <td>1</td>\n",
       "      <td>0.855613</td>\n",
       "      <td>1.220598</td>\n",
       "      <td>1.094664</td>\n",
       "      <td>0.881353</td>\n",
       "      <td>1.262385</td>\n",
       "      <td>1.188179</td>\n",
       "      <td>1.217203</td>\n",
       "      <td>0.968288</td>\n",
       "      <td>1.017415</td>\n",
       "      <td>0.961522</td>\n",
       "      <td>0.796655</td>\n",
       "      <td>1.744066</td>\n",
       "      <td>0.012183</td>\n",
       "      <td>1.882619</td>\n",
       "      <td>1.262385</td>\n",
       "      <td>1.217203</td>\n",
       "      <td>1.015610</td>\n",
       "      <td>0.846631</td>\n",
       "    </tr>\n",
       "    <tr>\n",
       "      <th>2</th>\n",
       "      <td>2</td>\n",
       "      <td>0.868434</td>\n",
       "      <td>0.697458</td>\n",
       "      <td>1.929615</td>\n",
       "      <td>0.944899</td>\n",
       "      <td>0.851335</td>\n",
       "      <td>0.851719</td>\n",
       "      <td>0.713710</td>\n",
       "      <td>1.054471</td>\n",
       "      <td>0.564103</td>\n",
       "      <td>0.867038</td>\n",
       "      <td>0.500272</td>\n",
       "      <td>-1.725554</td>\n",
       "      <td>2.646680</td>\n",
       "      <td>-0.531107</td>\n",
       "      <td>1.929615</td>\n",
       "      <td>1.054471</td>\n",
       "      <td>0.430333</td>\n",
       "      <td>-0.253739</td>\n",
       "    </tr>\n",
       "    <tr>\n",
       "      <th>3</th>\n",
       "      <td>3</td>\n",
       "      <td>1.165936</td>\n",
       "      <td>1.435251</td>\n",
       "      <td>0.988624</td>\n",
       "      <td>0.849398</td>\n",
       "      <td>1.095480</td>\n",
       "      <td>1.155440</td>\n",
       "      <td>1.041295</td>\n",
       "      <td>0.644137</td>\n",
       "      <td>1.078761</td>\n",
       "      <td>0.791755</td>\n",
       "      <td>0.207340</td>\n",
       "      <td>-0.926862</td>\n",
       "      <td>-0.264248</td>\n",
       "      <td>-0.342132</td>\n",
       "      <td>1.435251</td>\n",
       "      <td>1.078761</td>\n",
       "      <td>0.822192</td>\n",
       "      <td>-0.198180</td>\n",
       "    </tr>\n",
       "    <tr>\n",
       "      <th>4</th>\n",
       "      <td>4</td>\n",
       "      <td>0.838467</td>\n",
       "      <td>0.731373</td>\n",
       "      <td>1.123121</td>\n",
       "      <td>0.657980</td>\n",
       "      <td>0.540907</td>\n",
       "      <td>1.073678</td>\n",
       "      <td>0.961210</td>\n",
       "      <td>0.760368</td>\n",
       "      <td>0.977203</td>\n",
       "      <td>0.828358</td>\n",
       "      <td>-0.785714</td>\n",
       "      <td>-0.978204</td>\n",
       "      <td>-0.553753</td>\n",
       "      <td>-1.172477</td>\n",
       "      <td>1.123121</td>\n",
       "      <td>0.977203</td>\n",
       "      <td>-1.375060</td>\n",
       "      <td>-1.089529</td>\n",
       "    </tr>\n",
       "  </tbody>\n",
       "</table>\n",
       "</div>"
      ],
      "text/plain": [
       "   mid  gold_score_player_0  gold_score_player_1  gold_score_player_2  \\\n",
       "0    0             1.217054             1.415443             0.948802   \n",
       "1    1             0.855613             1.220598             1.094664   \n",
       "2    2             0.868434             0.697458             1.929615   \n",
       "3    3             1.165936             1.435251             0.988624   \n",
       "4    4             0.838467             0.731373             1.123121   \n",
       "\n",
       "   gold_score_player_3  gold_score_player_4  gold_score_player_5  \\\n",
       "0             0.788948             1.318744             0.846922   \n",
       "1             0.881353             1.262385             1.188179   \n",
       "2             0.944899             0.851335             0.851719   \n",
       "3             0.849398             1.095480             1.155440   \n",
       "4             0.657980             0.540907             1.073678   \n",
       "\n",
       "   gold_score_player_6  gold_score_player_7  gold_score_player_8  \\\n",
       "0             1.231741             1.162932             0.595855   \n",
       "1             1.217203             0.968288             1.017415   \n",
       "2             0.713710             1.054471             0.564103   \n",
       "3             1.041295             0.644137             1.078761   \n",
       "4             0.961210             0.760368             0.977203   \n",
       "\n",
       "   gold_score_player_9  radiant_norm_gold  dire_norm_gold  \\\n",
       "0             0.990382           0.524044        0.801772   \n",
       "1             0.961522           0.796655        1.744066   \n",
       "2             0.867038           0.500272       -1.725554   \n",
       "3             0.791755           0.207340       -0.926862   \n",
       "4             0.828358          -0.785714       -0.978204   \n",
       "\n",
       "   radiant_carry_norm_gold  dire_carry_norm_gold  radiant_best_gold_score  \\\n",
       "0                 0.007513              0.665735                 1.415443   \n",
       "1                 0.012183              1.882619                 1.262385   \n",
       "2                 2.646680             -0.531107                 1.929615   \n",
       "3                -0.264248             -0.342132                 1.435251   \n",
       "4                -0.553753             -1.172477                 1.123121   \n",
       "\n",
       "   dire_best_gold_score  radiant_sum_gold_score  dire_sum_gold_score  \n",
       "0              1.231741                0.499268             0.448760  \n",
       "1              1.217203                1.015610             0.846631  \n",
       "2              1.054471                0.430333            -0.253739  \n",
       "3              1.078761                0.822192            -0.198180  \n",
       "4              0.977203               -1.375060            -1.089529  "
      ]
     },
     "execution_count": 26,
     "metadata": {},
     "output_type": "execute_result"
    }
   ],
   "source": [
    "gold = pd.read_csv('processing_tables/goldScoreWithoutCarry.csv')\n",
    "gold.head()"
   ]
  },
  {
   "cell_type": "code",
   "execution_count": 28,
   "metadata": {
    "collapsed": false
   },
   "outputs": [
    {
     "data": {
      "text/html": [
       "<div>\n",
       "<table border=\"1\" class=\"dataframe\">\n",
       "  <thead>\n",
       "    <tr style=\"text-align: right;\">\n",
       "      <th></th>\n",
       "      <th>mid</th>\n",
       "      <th>sum_gold_dif</th>\n",
       "      <th>gold_top_dif</th>\n",
       "      <th>gold_second_dif</th>\n",
       "      <th>radiant_top_gold_score</th>\n",
       "      <th>radiant_second_gold_score</th>\n",
       "      <th>dire_top_gold_score</th>\n",
       "      <th>dire_second_gold_score</th>\n",
       "    </tr>\n",
       "  </thead>\n",
       "  <tbody>\n",
       "    <tr>\n",
       "      <th>0</th>\n",
       "      <td>0</td>\n",
       "      <td>-0.191463</td>\n",
       "      <td>-0.463171</td>\n",
       "      <td>-0.665978</td>\n",
       "      <td>-1.337223</td>\n",
       "      <td>-0.958130</td>\n",
       "      <td>0.249037</td>\n",
       "      <td>0.689982</td>\n",
       "    </tr>\n",
       "    <tr>\n",
       "      <th>1</th>\n",
       "      <td>1</td>\n",
       "      <td>-0.657847</td>\n",
       "      <td>-1.316314</td>\n",
       "      <td>0.611509</td>\n",
       "      <td>0.628305</td>\n",
       "      <td>1.584879</td>\n",
       "      <td>0.354146</td>\n",
       "      <td>0.575621</td>\n",
       "    </tr>\n",
       "    <tr>\n",
       "      <th>2</th>\n",
       "      <td>2</td>\n",
       "      <td>1.556804</td>\n",
       "      <td>2.277633</td>\n",
       "      <td>1.158354</td>\n",
       "      <td>3.398393</td>\n",
       "      <td>0.498060</td>\n",
       "      <td>-0.202526</td>\n",
       "      <td>-0.999247</td>\n",
       "    </tr>\n",
       "    <tr>\n",
       "      <th>3</th>\n",
       "      <td>3</td>\n",
       "      <td>0.793066</td>\n",
       "      <td>0.050730</td>\n",
       "      <td>-0.345696</td>\n",
       "      <td>-0.508247</td>\n",
       "      <td>-1.072844</td>\n",
       "      <td>-0.101398</td>\n",
       "      <td>0.891740</td>\n",
       "    </tr>\n",
       "    <tr>\n",
       "      <th>4</th>\n",
       "      <td>4</td>\n",
       "      <td>0.130693</td>\n",
       "      <td>0.426918</td>\n",
       "      <td>0.147465</td>\n",
       "      <td>0.050132</td>\n",
       "      <td>-0.343672</td>\n",
       "      <td>-0.524219</td>\n",
       "      <td>-0.221502</td>\n",
       "    </tr>\n",
       "  </tbody>\n",
       "</table>\n",
       "</div>"
      ],
      "text/plain": [
       "   mid  sum_gold_dif  gold_top_dif  gold_second_dif  radiant_top_gold_score  \\\n",
       "0    0     -0.191463     -0.463171        -0.665978               -1.337223   \n",
       "1    1     -0.657847     -1.316314         0.611509                0.628305   \n",
       "2    2      1.556804      2.277633         1.158354                3.398393   \n",
       "3    3      0.793066      0.050730        -0.345696               -0.508247   \n",
       "4    4      0.130693      0.426918         0.147465                0.050132   \n",
       "\n",
       "   radiant_second_gold_score  dire_top_gold_score  dire_second_gold_score  \n",
       "0                  -0.958130             0.249037                0.689982  \n",
       "1                   1.584879             0.354146                0.575621  \n",
       "2                   0.498060            -0.202526               -0.999247  \n",
       "3                  -1.072844            -0.101398                0.891740  \n",
       "4                  -0.343672            -0.524219               -0.221502  "
      ]
     },
     "execution_count": 28,
     "metadata": {},
     "output_type": "execute_result"
    }
   ],
   "source": [
    "gold = pd.read_csv('processing_tables/gold_stat_dif.csv')\n",
    "gold.head()"
   ]
  },
  {
   "cell_type": "code",
   "execution_count": null,
   "metadata": {
    "collapsed": true
   },
   "outputs": [],
   "source": []
  },
  {
   "cell_type": "code",
   "execution_count": null,
   "metadata": {
    "collapsed": true
   },
   "outputs": [],
   "source": []
  },
  {
   "cell_type": "markdown",
   "metadata": {},
   "source": [
    "# Submit"
   ]
  },
  {
   "cell_type": "code",
   "execution_count": 58,
   "metadata": {
    "collapsed": true
   },
   "outputs": [],
   "source": [
    "gold = pd.read_csv('processing_tables/goldScoreWithCarry.csv')\n",
    "heroes = pd.read_csv('processing_tables/only_heroes.csv')\n",
    "items = pd.read_csv('processing_tables/only_items.csv')\n",
    "xp = pd.read_csv('processing_tables/only_exp.csv')\n",
    "xp_score = pd.read_csv('processing_tables/xp_score.csv')\n",
    "xp = pd.merge(xp, xp_score, on='mid', how='left')\n",
    "creeps = pd.read_csv('processing_tables/creeps.csv')\n",
    "events = pd.read_csv('processing_tables/dummy_events.csv')\n",
    "\n",
    "X_train, y_train, test = total_merge(gold, heroes, items, xp, creeps, events)"
   ]
  },
  {
   "cell_type": "code",
   "execution_count": 59,
   "metadata": {
    "collapsed": false
   },
   "outputs": [
    {
     "name": "stdout",
     "output_type": "stream",
     "text": [
      "Lasso:  0.766235028716\n"
     ]
    },
    {
     "data": {
      "text/html": [
       "<div>\n",
       "<table border=\"1\" class=\"dataframe\">\n",
       "  <thead>\n",
       "    <tr style=\"text-align: right;\">\n",
       "      <th></th>\n",
       "      <th>mid</th>\n",
       "      <th>radiant_won</th>\n",
       "    </tr>\n",
       "  </thead>\n",
       "  <tbody>\n",
       "    <tr>\n",
       "      <th>0</th>\n",
       "      <td>3</td>\n",
       "      <td>0.738834</td>\n",
       "    </tr>\n",
       "    <tr>\n",
       "      <th>1</th>\n",
       "      <td>7</td>\n",
       "      <td>0.565830</td>\n",
       "    </tr>\n",
       "    <tr>\n",
       "      <th>2</th>\n",
       "      <td>9</td>\n",
       "      <td>0.203988</td>\n",
       "    </tr>\n",
       "    <tr>\n",
       "      <th>3</th>\n",
       "      <td>10</td>\n",
       "      <td>0.409177</td>\n",
       "    </tr>\n",
       "    <tr>\n",
       "      <th>4</th>\n",
       "      <td>12</td>\n",
       "      <td>0.496458</td>\n",
       "    </tr>\n",
       "  </tbody>\n",
       "</table>\n",
       "</div>"
      ],
      "text/plain": [
       "   mid  radiant_won\n",
       "0    3     0.738834\n",
       "1    7     0.565830\n",
       "2    9     0.203988\n",
       "3   10     0.409177\n",
       "4   12     0.496458"
      ]
     },
     "execution_count": 59,
     "metadata": {},
     "output_type": "execute_result"
    }
   ],
   "source": [
    "X_train.index = X_train.mid\n",
    "X_train.drop('mid', 1,inplace=True)\n",
    "\n",
    "X_test = test.copy()\n",
    "X_test.index = test.mid\n",
    "X_test.drop('mid', 1, inplace=True)\n",
    "\n",
    "clf = Lasso(alpha=0.00015, max_iter=12000, selection='random')\n",
    "print 'Lasso: ', np.mean(cross_val_score(clf, X_train, y_train, cv=5, scoring='roc_auc'))\n",
    "clf.fit(X_train, y_train)\n",
    "\n",
    "test_matches = pd.read_csv('data/test.csv')\n",
    "test_matches['radiant_won'] = clf.predict(X_test)\n",
    "test_matches.head()"
   ]
  },
  {
   "cell_type": "code",
   "execution_count": 56,
   "metadata": {
    "collapsed": true
   },
   "outputs": [],
   "source": [
    "test_matches.to_csv('submissions/all_data-5_with_norm_mid.csv', index=None)"
   ]
  },
  {
   "cell_type": "code",
   "execution_count": null,
   "metadata": {
    "collapsed": true
   },
   "outputs": [],
   "source": []
  },
  {
   "cell_type": "code",
   "execution_count": null,
   "metadata": {
    "collapsed": true
   },
   "outputs": [],
   "source": []
  },
  {
   "cell_type": "code",
   "execution_count": null,
   "metadata": {
    "collapsed": true
   },
   "outputs": [],
   "source": []
  }
 ],
 "metadata": {
  "anaconda-cloud": {},
  "kernelspec": {
   "display_name": "Python 2.7",
   "language": "python",
   "name": "python2.7"
  },
  "language_info": {
   "codemirror_mode": {
    "name": "ipython",
    "version": 2
   },
   "file_extension": ".py",
   "mimetype": "text/x-python",
   "name": "python",
   "nbconvert_exporter": "python",
   "pygments_lexer": "ipython2",
   "version": "2.7.12"
  }
 },
 "nbformat": 4,
 "nbformat_minor": 1
}
