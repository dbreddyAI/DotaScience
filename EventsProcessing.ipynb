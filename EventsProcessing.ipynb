{
 "cells": [
  {
   "cell_type": "code",
   "execution_count": 1,
   "metadata": {
    "collapsed": false
   },
   "outputs": [
    {
     "name": "stdout",
     "output_type": "stream",
     "text": [
      "Populating the interactive namespace from numpy and matplotlib\n"
     ]
    }
   ],
   "source": [
    "import pandas as pd\n",
    "import numpy as np\n",
    "\n",
    "from sklearn.preprocessing import StandardScaler\n",
    "from sklearn.grid_search import GridSearchCV\n",
    "from sklearn.cross_validation import KFold\n",
    "from sklearn.linear_model import LogisticRegression\n",
    "from sklearn.cross_validation import cross_val_score\n",
    "from sklearn.ensemble import RandomForestClassifier\n",
    "\n",
    "%pylab inline"
   ]
  },
  {
   "cell_type": "code",
   "execution_count": 2,
   "metadata": {
    "collapsed": false
   },
   "outputs": [
    {
     "data": {
      "text/html": [
       "<div>\n",
       "<table border=\"1\" class=\"dataframe\">\n",
       "  <thead>\n",
       "    <tr style=\"text-align: right;\">\n",
       "      <th></th>\n",
       "      <th>mid</th>\n",
       "      <th>event_type</th>\n",
       "      <th>from_team</th>\n",
       "      <th>time</th>\n",
       "    </tr>\n",
       "  </thead>\n",
       "  <tbody>\n",
       "    <tr>\n",
       "      <th>0</th>\n",
       "      <td>0</td>\n",
       "      <td>3</td>\n",
       "      <td>radiant</td>\n",
       "      <td>1</td>\n",
       "    </tr>\n",
       "    <tr>\n",
       "      <th>1</th>\n",
       "      <td>1</td>\n",
       "      <td>3</td>\n",
       "      <td>radiant</td>\n",
       "      <td>222</td>\n",
       "    </tr>\n",
       "    <tr>\n",
       "      <th>2</th>\n",
       "      <td>2</td>\n",
       "      <td>3</td>\n",
       "      <td>dire</td>\n",
       "      <td>143</td>\n",
       "    </tr>\n",
       "    <tr>\n",
       "      <th>3</th>\n",
       "      <td>3</td>\n",
       "      <td>3</td>\n",
       "      <td>radiant</td>\n",
       "      <td>143</td>\n",
       "    </tr>\n",
       "    <tr>\n",
       "      <th>4</th>\n",
       "      <td>4</td>\n",
       "      <td>3</td>\n",
       "      <td>dire</td>\n",
       "      <td>53</td>\n",
       "    </tr>\n",
       "  </tbody>\n",
       "</table>\n",
       "</div>"
      ],
      "text/plain": [
       "   mid  event_type from_team  time\n",
       "0    0           3   radiant     1\n",
       "1    1           3   radiant   222\n",
       "2    2           3      dire   143\n",
       "3    3           3   radiant   143\n",
       "4    4           3      dire    53"
      ]
     },
     "execution_count": 2,
     "metadata": {},
     "output_type": "execute_result"
    }
   ],
   "source": [
    "events = pd.read_csv('events.csv')\n",
    "events.head()"
   ]
  },
  {
   "cell_type": "code",
   "execution_count": 3,
   "metadata": {
    "collapsed": false
   },
   "outputs": [
    {
     "name": "stdout",
     "output_type": "stream",
     "text": [
      "(24974, 1)\n"
     ]
    }
   ],
   "source": [
    "train_matches = pd.read_csv('train.csv')\n",
    "test_matches = pd.read_csv('test.csv')\n",
    "print test_matches.shape"
   ]
  },
  {
   "cell_type": "markdown",
   "metadata": {},
   "source": [
    "event_type — тип события\n",
    "\n",
    "0 — Командой был забран Aegis\n",
    "\n",
    "1 — Командой был украден Aegis\n",
    "\n",
    "2 — Командой были разрушены бараки соперника\n",
    "\n",
    "3 — Командой был сделано первое убийство героя соперника\n",
    "\n",
    "4 — Командой был убит Roshan.\n",
    "\n",
    "5 — Командой была разрушена своя башня\n",
    "\n",
    "6 — Командой была разрушена башня соперника"
   ]
  },
  {
   "cell_type": "markdown",
   "metadata": {},
   "source": [
    "### 3 FB"
   ]
  },
  {
   "cell_type": "code",
   "execution_count": 5,
   "metadata": {
    "collapsed": false
   },
   "outputs": [
    {
     "data": {
      "text/html": [
       "<div>\n",
       "<table border=\"1\" class=\"dataframe\">\n",
       "  <thead>\n",
       "    <tr style=\"text-align: right;\">\n",
       "      <th></th>\n",
       "      <th>mid</th>\n",
       "      <th>made_fb</th>\n",
       "    </tr>\n",
       "  </thead>\n",
       "  <tbody>\n",
       "    <tr>\n",
       "      <th>0</th>\n",
       "      <td>0</td>\n",
       "      <td>1</td>\n",
       "    </tr>\n",
       "    <tr>\n",
       "      <th>1</th>\n",
       "      <td>1</td>\n",
       "      <td>1</td>\n",
       "    </tr>\n",
       "    <tr>\n",
       "      <th>2</th>\n",
       "      <td>2</td>\n",
       "      <td>0</td>\n",
       "    </tr>\n",
       "    <tr>\n",
       "      <th>3</th>\n",
       "      <td>3</td>\n",
       "      <td>1</td>\n",
       "    </tr>\n",
       "    <tr>\n",
       "      <th>4</th>\n",
       "      <td>4</td>\n",
       "      <td>0</td>\n",
       "    </tr>\n",
       "  </tbody>\n",
       "</table>\n",
       "</div>"
      ],
      "text/plain": [
       "   mid  made_fb\n",
       "0    0        1\n",
       "1    1        1\n",
       "2    2        0\n",
       "3    3        1\n",
       "4    4        0"
      ]
     },
     "execution_count": 5,
     "metadata": {},
     "output_type": "execute_result"
    }
   ],
   "source": [
    "temp = events.loc[(events['event_type'] == 3)]\n",
    "temp.loc[:, 'made_fb'] = temp.from_team.apply(lambda x: 1 if x=='radiant' else 0)\n",
    "temp = temp[['mid', 'made_fb']]\n",
    "temp.head()"
   ]
  },
  {
   "cell_type": "code",
   "execution_count": 6,
   "metadata": {
    "collapsed": false
   },
   "outputs": [
    {
     "name": "stdout",
     "output_type": "stream",
     "text": [
      "(24974, 2)\n",
      "(24974, 3)\n"
     ]
    }
   ],
   "source": [
    "train = pd.merge(train_matches, temp, on='mid', how='left')\n",
    "test = pd.merge(test_matches, temp, on='mid', how='left')\n",
    "print test.shape\n",
    "print train.shape"
   ]
  },
  {
   "cell_type": "code",
   "execution_count": 7,
   "metadata": {
    "collapsed": false
   },
   "outputs": [
    {
     "data": {
      "text/html": [
       "<div>\n",
       "<table border=\"1\" class=\"dataframe\">\n",
       "  <thead>\n",
       "    <tr style=\"text-align: right;\">\n",
       "      <th></th>\n",
       "      <th>mid</th>\n",
       "      <th>radiant_won</th>\n",
       "      <th>made_fb</th>\n",
       "    </tr>\n",
       "  </thead>\n",
       "  <tbody>\n",
       "    <tr>\n",
       "      <th>0</th>\n",
       "      <td>0</td>\n",
       "      <td>1</td>\n",
       "      <td>1.0</td>\n",
       "    </tr>\n",
       "    <tr>\n",
       "      <th>1</th>\n",
       "      <td>1</td>\n",
       "      <td>0</td>\n",
       "      <td>1.0</td>\n",
       "    </tr>\n",
       "    <tr>\n",
       "      <th>2</th>\n",
       "      <td>2</td>\n",
       "      <td>1</td>\n",
       "      <td>0.0</td>\n",
       "    </tr>\n",
       "    <tr>\n",
       "      <th>3</th>\n",
       "      <td>4</td>\n",
       "      <td>1</td>\n",
       "      <td>0.0</td>\n",
       "    </tr>\n",
       "    <tr>\n",
       "      <th>4</th>\n",
       "      <td>5</td>\n",
       "      <td>1</td>\n",
       "      <td>NaN</td>\n",
       "    </tr>\n",
       "  </tbody>\n",
       "</table>\n",
       "</div>"
      ],
      "text/plain": [
       "   mid  radiant_won  made_fb\n",
       "0    0            1      1.0\n",
       "1    1            0      1.0\n",
       "2    2            1      0.0\n",
       "3    4            1      0.0\n",
       "4    5            1      NaN"
      ]
     },
     "execution_count": 7,
     "metadata": {},
     "output_type": "execute_result"
    }
   ],
   "source": [
    "train.head()"
   ]
  },
  {
   "cell_type": "code",
   "execution_count": 8,
   "metadata": {
    "collapsed": false
   },
   "outputs": [
    {
     "data": {
      "text/html": [
       "<div>\n",
       "<table border=\"1\" class=\"dataframe\">\n",
       "  <thead>\n",
       "    <tr style=\"text-align: right;\">\n",
       "      <th></th>\n",
       "      <th>radiant_won</th>\n",
       "      <th>made_fb</th>\n",
       "    </tr>\n",
       "  </thead>\n",
       "  <tbody>\n",
       "    <tr>\n",
       "      <th>radiant_won</th>\n",
       "      <td>1.000000</td>\n",
       "      <td>0.114045</td>\n",
       "    </tr>\n",
       "    <tr>\n",
       "      <th>made_fb</th>\n",
       "      <td>0.114045</td>\n",
       "      <td>1.000000</td>\n",
       "    </tr>\n",
       "  </tbody>\n",
       "</table>\n",
       "</div>"
      ],
      "text/plain": [
       "             radiant_won   made_fb\n",
       "radiant_won     1.000000  0.114045\n",
       "made_fb         0.114045  1.000000"
      ]
     },
     "execution_count": 8,
     "metadata": {},
     "output_type": "execute_result"
    }
   ],
   "source": [
    "train.loc[train.made_fb != 0.5][['radiant_won', 'made_fb']].corr()"
   ]
  },
  {
   "cell_type": "markdown",
   "metadata": {},
   "source": [
    "### Roshan killed"
   ]
  },
  {
   "cell_type": "code",
   "execution_count": 8,
   "metadata": {
    "collapsed": false
   },
   "outputs": [
    {
     "data": {
      "text/html": [
       "<div>\n",
       "<table border=\"1\" class=\"dataframe\">\n",
       "  <thead>\n",
       "    <tr style=\"text-align: right;\">\n",
       "      <th></th>\n",
       "      <th>mid</th>\n",
       "      <th>roshan_killed</th>\n",
       "    </tr>\n",
       "  </thead>\n",
       "  <tbody>\n",
       "    <tr>\n",
       "      <th>170</th>\n",
       "      <td>128</td>\n",
       "      <td>0</td>\n",
       "    </tr>\n",
       "    <tr>\n",
       "      <th>224</th>\n",
       "      <td>166</td>\n",
       "      <td>1</td>\n",
       "    </tr>\n",
       "    <tr>\n",
       "      <th>423</th>\n",
       "      <td>309</td>\n",
       "      <td>0</td>\n",
       "    </tr>\n",
       "    <tr>\n",
       "      <th>428</th>\n",
       "      <td>311</td>\n",
       "      <td>0</td>\n",
       "    </tr>\n",
       "    <tr>\n",
       "      <th>508</th>\n",
       "      <td>370</td>\n",
       "      <td>0</td>\n",
       "    </tr>\n",
       "  </tbody>\n",
       "</table>\n",
       "</div>"
      ],
      "text/plain": [
       "     mid  roshan_killed\n",
       "170  128              0\n",
       "224  166              1\n",
       "423  309              0\n",
       "428  311              0\n",
       "508  370              0"
      ]
     },
     "execution_count": 8,
     "metadata": {},
     "output_type": "execute_result"
    }
   ],
   "source": [
    "temp = events.loc[(events['event_type'] == 4)]\n",
    "temp.loc[:, 'roshan_killed'] = temp.from_team.apply(lambda x: 1 if x=='radiant' else 0)\n",
    "temp = temp[['mid', 'roshan_killed']]\n",
    "temp.head()"
   ]
  },
  {
   "cell_type": "code",
   "execution_count": 9,
   "metadata": {
    "collapsed": false
   },
   "outputs": [
    {
     "name": "stdout",
     "output_type": "stream",
     "text": [
      "(24975, 3)\n",
      "(24974, 2)\n"
     ]
    }
   ],
   "source": [
    "train = pd.merge(train, temp, on='mid', how='left')\n",
    "test2 = pd.merge(test, temp, on='mid', how='left')\n",
    "print test2.shape\n",
    "print test.shape"
   ]
  },
  {
   "cell_type": "code",
   "execution_count": 16,
   "metadata": {
    "collapsed": false
   },
   "outputs": [
    {
     "data": {
      "text/plain": [
       "roshan_killed    2\n",
       "dtype: int64"
      ]
     },
     "execution_count": 16,
     "metadata": {},
     "output_type": "execute_result"
    }
   ],
   "source": [
    "temp.groupby('mid').count().max()"
   ]
  },
  {
   "cell_type": "code",
   "execution_count": 12,
   "metadata": {
    "collapsed": false
   },
   "outputs": [],
   "source": [
    "for elem in test2.mid.values:\n",
    "    if elem not in test.mid.values:\n",
    "        print elem"
   ]
  },
  {
   "cell_type": "code",
   "execution_count": 11,
   "metadata": {
    "collapsed": false
   },
   "outputs": [
    {
     "data": {
      "text/plain": [
       "209.0"
      ]
     },
     "execution_count": 11,
     "metadata": {},
     "output_type": "execute_result"
    }
   ],
   "source": [
    "train.roshan_killed.sum()"
   ]
  },
  {
   "cell_type": "code",
   "execution_count": 12,
   "metadata": {
    "collapsed": false
   },
   "outputs": [
    {
     "data": {
      "text/html": [
       "<div>\n",
       "<table border=\"1\" class=\"dataframe\">\n",
       "  <thead>\n",
       "    <tr style=\"text-align: right;\">\n",
       "      <th></th>\n",
       "      <th>radiant_won</th>\n",
       "      <th>roshan_killed</th>\n",
       "    </tr>\n",
       "  </thead>\n",
       "  <tbody>\n",
       "    <tr>\n",
       "      <th>radiant_won</th>\n",
       "      <td>1.000000</td>\n",
       "      <td>0.278342</td>\n",
       "    </tr>\n",
       "    <tr>\n",
       "      <th>roshan_killed</th>\n",
       "      <td>0.278342</td>\n",
       "      <td>1.000000</td>\n",
       "    </tr>\n",
       "  </tbody>\n",
       "</table>\n",
       "</div>"
      ],
      "text/plain": [
       "               radiant_won  roshan_killed\n",
       "radiant_won       1.000000       0.278342\n",
       "roshan_killed     0.278342       1.000000"
      ]
     },
     "execution_count": 12,
     "metadata": {},
     "output_type": "execute_result"
    }
   ],
   "source": [
    "train.loc[train.roshan_killed != 0.5][['radiant_won', 'roshan_killed']].corr()"
   ]
  },
  {
   "cell_type": "markdown",
   "metadata": {},
   "source": [
    "### Destroy Barracks"
   ]
  },
  {
   "cell_type": "code",
   "execution_count": 9,
   "metadata": {
    "collapsed": true
   },
   "outputs": [],
   "source": [
    "temp = events.loc[(events['event_type'] == 2)]\n",
    "temp.loc[:, 'destroy_barracks'] = temp.from_team.apply(lambda x: 1 if x=='radiant' else 0)\n",
    "temp = temp[['mid', 'destroy_barracks']]\n",
    "temp.head()\n",
    "# train = pd.merge(train, temp, on='mid', how='left')\n",
    "# test = pd.merge(test, temp, on='mid', how='left')"
   ]
  },
  {
   "cell_type": "code",
   "execution_count": 10,
   "metadata": {
    "collapsed": false
   },
   "outputs": [
    {
     "data": {
      "text/html": [
       "<div>\n",
       "<table border=\"1\" class=\"dataframe\">\n",
       "  <thead>\n",
       "    <tr style=\"text-align: right;\">\n",
       "      <th></th>\n",
       "      <th>mid</th>\n",
       "      <th>radiant_won</th>\n",
       "      <th>made_fb</th>\n",
       "      <th>destroy_barracks</th>\n",
       "    </tr>\n",
       "  </thead>\n",
       "  <tbody>\n",
       "    <tr>\n",
       "      <th>0</th>\n",
       "      <td>0</td>\n",
       "      <td>1</td>\n",
       "      <td>1.0</td>\n",
       "      <td>0.5</td>\n",
       "    </tr>\n",
       "    <tr>\n",
       "      <th>1</th>\n",
       "      <td>1</td>\n",
       "      <td>0</td>\n",
       "      <td>1.0</td>\n",
       "      <td>0.5</td>\n",
       "    </tr>\n",
       "    <tr>\n",
       "      <th>2</th>\n",
       "      <td>2</td>\n",
       "      <td>1</td>\n",
       "      <td>0.0</td>\n",
       "      <td>0.5</td>\n",
       "    </tr>\n",
       "    <tr>\n",
       "      <th>3</th>\n",
       "      <td>4</td>\n",
       "      <td>1</td>\n",
       "      <td>0.0</td>\n",
       "      <td>0.5</td>\n",
       "    </tr>\n",
       "    <tr>\n",
       "      <th>4</th>\n",
       "      <td>5</td>\n",
       "      <td>1</td>\n",
       "      <td>0.5</td>\n",
       "      <td>0.5</td>\n",
       "    </tr>\n",
       "    <tr>\n",
       "      <th>5</th>\n",
       "      <td>6</td>\n",
       "      <td>1</td>\n",
       "      <td>1.0</td>\n",
       "      <td>0.5</td>\n",
       "    </tr>\n",
       "    <tr>\n",
       "      <th>6</th>\n",
       "      <td>8</td>\n",
       "      <td>0</td>\n",
       "      <td>0.0</td>\n",
       "      <td>0.5</td>\n",
       "    </tr>\n",
       "    <tr>\n",
       "      <th>7</th>\n",
       "      <td>11</td>\n",
       "      <td>0</td>\n",
       "      <td>1.0</td>\n",
       "      <td>0.5</td>\n",
       "    </tr>\n",
       "    <tr>\n",
       "      <th>8</th>\n",
       "      <td>20</td>\n",
       "      <td>1</td>\n",
       "      <td>1.0</td>\n",
       "      <td>0.5</td>\n",
       "    </tr>\n",
       "    <tr>\n",
       "      <th>9</th>\n",
       "      <td>26</td>\n",
       "      <td>1</td>\n",
       "      <td>1.0</td>\n",
       "      <td>0.5</td>\n",
       "    </tr>\n",
       "  </tbody>\n",
       "</table>\n",
       "</div>"
      ],
      "text/plain": [
       "   mid  radiant_won  made_fb  destroy_barracks\n",
       "0    0            1      1.0               0.5\n",
       "1    1            0      1.0               0.5\n",
       "2    2            1      0.0               0.5\n",
       "3    4            1      0.0               0.5\n",
       "4    5            1      0.5               0.5\n",
       "5    6            1      1.0               0.5\n",
       "6    8            0      0.0               0.5\n",
       "7   11            0      1.0               0.5\n",
       "8   20            1      1.0               0.5\n",
       "9   26            1      1.0               0.5"
      ]
     },
     "execution_count": 10,
     "metadata": {},
     "output_type": "execute_result"
    }
   ],
   "source": [
    "train.fillna(0.5, inplace=True)\n",
    "test.fillna(0.5, inplace = True)\n",
    "train.head(10)"
   ]
  },
  {
   "cell_type": "code",
   "execution_count": 15,
   "metadata": {
    "collapsed": false
   },
   "outputs": [
    {
     "data": {
      "text/html": [
       "<div>\n",
       "<table border=\"1\" class=\"dataframe\">\n",
       "  <thead>\n",
       "    <tr style=\"text-align: right;\">\n",
       "      <th></th>\n",
       "      <th>radiant_won</th>\n",
       "      <th>destroy_barracks</th>\n",
       "    </tr>\n",
       "  </thead>\n",
       "  <tbody>\n",
       "    <tr>\n",
       "      <th>4587</th>\n",
       "      <td>0</td>\n",
       "      <td>0.0</td>\n",
       "    </tr>\n",
       "    <tr>\n",
       "      <th>4588</th>\n",
       "      <td>0</td>\n",
       "      <td>0.0</td>\n",
       "    </tr>\n",
       "    <tr>\n",
       "      <th>7118</th>\n",
       "      <td>1</td>\n",
       "      <td>1.0</td>\n",
       "    </tr>\n",
       "    <tr>\n",
       "      <th>7119</th>\n",
       "      <td>1</td>\n",
       "      <td>1.0</td>\n",
       "    </tr>\n",
       "    <tr>\n",
       "      <th>7120</th>\n",
       "      <td>1</td>\n",
       "      <td>1.0</td>\n",
       "    </tr>\n",
       "    <tr>\n",
       "      <th>18365</th>\n",
       "      <td>0</td>\n",
       "      <td>0.0</td>\n",
       "    </tr>\n",
       "    <tr>\n",
       "      <th>18366</th>\n",
       "      <td>0</td>\n",
       "      <td>0.0</td>\n",
       "    </tr>\n",
       "    <tr>\n",
       "      <th>20361</th>\n",
       "      <td>1</td>\n",
       "      <td>1.0</td>\n",
       "    </tr>\n",
       "    <tr>\n",
       "      <th>20362</th>\n",
       "      <td>1</td>\n",
       "      <td>1.0</td>\n",
       "    </tr>\n",
       "    <tr>\n",
       "      <th>23699</th>\n",
       "      <td>0</td>\n",
       "      <td>0.0</td>\n",
       "    </tr>\n",
       "    <tr>\n",
       "      <th>23700</th>\n",
       "      <td>0</td>\n",
       "      <td>0.0</td>\n",
       "    </tr>\n",
       "  </tbody>\n",
       "</table>\n",
       "</div>"
      ],
      "text/plain": [
       "       radiant_won  destroy_barracks\n",
       "4587             0               0.0\n",
       "4588             0               0.0\n",
       "7118             1               1.0\n",
       "7119             1               1.0\n",
       "7120             1               1.0\n",
       "18365            0               0.0\n",
       "18366            0               0.0\n",
       "20361            1               1.0\n",
       "20362            1               1.0\n",
       "23699            0               0.0\n",
       "23700            0               0.0"
      ]
     },
     "execution_count": 15,
     "metadata": {},
     "output_type": "execute_result"
    }
   ],
   "source": [
    "train.loc[train.destroy_barracks != 0.5][['radiant_won', 'destroy_barracks']]"
   ]
  },
  {
   "cell_type": "code",
   "execution_count": 16,
   "metadata": {
    "collapsed": false
   },
   "outputs": [
    {
     "data": {
      "text/html": [
       "<div>\n",
       "<table border=\"1\" class=\"dataframe\">\n",
       "  <thead>\n",
       "    <tr style=\"text-align: right;\">\n",
       "      <th></th>\n",
       "      <th>radiant_won</th>\n",
       "      <th>destroy_barracks</th>\n",
       "    </tr>\n",
       "  </thead>\n",
       "  <tbody>\n",
       "    <tr>\n",
       "      <th>radiant_won</th>\n",
       "      <td>1.0</td>\n",
       "      <td>1.0</td>\n",
       "    </tr>\n",
       "    <tr>\n",
       "      <th>destroy_barracks</th>\n",
       "      <td>1.0</td>\n",
       "      <td>1.0</td>\n",
       "    </tr>\n",
       "  </tbody>\n",
       "</table>\n",
       "</div>"
      ],
      "text/plain": [
       "                  radiant_won  destroy_barracks\n",
       "radiant_won               1.0               1.0\n",
       "destroy_barracks          1.0               1.0"
      ]
     },
     "execution_count": 16,
     "metadata": {},
     "output_type": "execute_result"
    }
   ],
   "source": [
    "train.loc[train.destroy_barracks != 0.5][['radiant_won', 'destroy_barracks']].corr()"
   ]
  },
  {
   "cell_type": "markdown",
   "metadata": {},
   "source": [
    "### Towers"
   ]
  },
  {
   "cell_type": "code",
   "execution_count": 8,
   "metadata": {
    "collapsed": false
   },
   "outputs": [
    {
     "data": {
      "text/html": [
       "<div>\n",
       "<table border=\"1\" class=\"dataframe\">\n",
       "  <thead>\n",
       "    <tr style=\"text-align: right;\">\n",
       "      <th></th>\n",
       "      <th>mid</th>\n",
       "      <th>event_type</th>\n",
       "      <th>from_team</th>\n",
       "      <th>time</th>\n",
       "    </tr>\n",
       "  </thead>\n",
       "  <tbody>\n",
       "    <tr>\n",
       "      <th>6</th>\n",
       "      <td>6</td>\n",
       "      <td>6</td>\n",
       "      <td>radiant</td>\n",
       "      <td>523</td>\n",
       "    </tr>\n",
       "    <tr>\n",
       "      <th>8</th>\n",
       "      <td>7</td>\n",
       "      <td>6</td>\n",
       "      <td>radiant</td>\n",
       "      <td>283</td>\n",
       "    </tr>\n",
       "    <tr>\n",
       "      <th>9</th>\n",
       "      <td>7</td>\n",
       "      <td>6</td>\n",
       "      <td>radiant</td>\n",
       "      <td>595</td>\n",
       "    </tr>\n",
       "    <tr>\n",
       "      <th>11</th>\n",
       "      <td>8</td>\n",
       "      <td>6</td>\n",
       "      <td>dire</td>\n",
       "      <td>523</td>\n",
       "    </tr>\n",
       "    <tr>\n",
       "      <th>20</th>\n",
       "      <td>15</td>\n",
       "      <td>6</td>\n",
       "      <td>radiant</td>\n",
       "      <td>495</td>\n",
       "    </tr>\n",
       "  </tbody>\n",
       "</table>\n",
       "</div>"
      ],
      "text/plain": [
       "    mid  event_type from_team  time\n",
       "6     6           6   radiant   523\n",
       "8     7           6   radiant   283\n",
       "9     7           6   radiant   595\n",
       "11    8           6      dire   523\n",
       "20   15           6   radiant   495"
      ]
     },
     "execution_count": 8,
     "metadata": {},
     "output_type": "execute_result"
    }
   ],
   "source": [
    "temp = events.loc[(events['event_type'] == 6)]\n",
    "temp.head()"
   ]
  },
  {
   "cell_type": "code",
   "execution_count": 9,
   "metadata": {
    "collapsed": false
   },
   "outputs": [],
   "source": [
    "radiant_push = events.loc[(events['event_type'] == 6) & (events.from_team == 'radiant')]\n",
    "radiant_push = radiant_push.groupby('mid').count().from_team\n",
    "radiant_push = radiant_push.reset_index(level=0)\n",
    "radiant_push.columns = ['mid', 'radiant_destroy_tower']\n",
    "train = pd.merge(train, radiant_push, on='mid', how='left')\n",
    "test = pd.merge(test, radiant_push, on='mid', how='left')"
   ]
  },
  {
   "cell_type": "code",
   "execution_count": 10,
   "metadata": {
    "collapsed": false
   },
   "outputs": [],
   "source": [
    "dire_push = events.loc[(events['event_type'] == 6) & (events.from_team == 'dire')]\n",
    "dire_push = dire_push.groupby('mid').count().from_team\n",
    "dire_push = dire_push.reset_index(level=0)\n",
    "dire_push.columns = ['mid', 'dire_destroy_tower']\n",
    "train = pd.merge(train, dire_push, on='mid', how='left')\n",
    "test = pd.merge(test, dire_push, on='mid', how='left')"
   ]
  },
  {
   "cell_type": "code",
   "execution_count": 11,
   "metadata": {
    "collapsed": true
   },
   "outputs": [],
   "source": [
    "radiant_dinay = events.loc[(events['event_type'] == 5) & (events.from_team == 'radiant')]\n",
    "radiant_dinay = radiant_dinay.groupby('mid').count().from_team\n",
    "radiant_dinay = radiant_dinay.reset_index(level=0)\n",
    "radiant_dinay.columns = ['mid', 'radiant_dinay_tower']\n",
    "train = pd.merge(train, radiant_dinay, on='mid', how='left')\n",
    "test = pd.merge(test, radiant_dinay, on='mid', how='left')"
   ]
  },
  {
   "cell_type": "code",
   "execution_count": 12,
   "metadata": {
    "collapsed": true
   },
   "outputs": [],
   "source": [
    "dire_dinay = events.loc[(events['event_type'] == 5) & (events.from_team == 'dire')]\n",
    "dire_dinay = dire_dinay.groupby('mid').count().from_team\n",
    "dire_dinay = dire_dinay.reset_index(level=0)\n",
    "dire_dinay.columns = ['mid', 'dire_dinay_tower']\n",
    "train = pd.merge(train, dire_dinay, on='mid', how='left')\n",
    "test = pd.merge(test, dire_dinay, on='mid', how='left')"
   ]
  },
  {
   "cell_type": "code",
   "execution_count": 13,
   "metadata": {
    "collapsed": false
   },
   "outputs": [
    {
     "data": {
      "text/html": [
       "<div>\n",
       "<table border=\"1\" class=\"dataframe\">\n",
       "  <thead>\n",
       "    <tr style=\"text-align: right;\">\n",
       "      <th></th>\n",
       "      <th>mid</th>\n",
       "      <th>radiant_won</th>\n",
       "      <th>made_fb</th>\n",
       "      <th>radiant_destroy_tower</th>\n",
       "      <th>dire_destroy_tower</th>\n",
       "      <th>radiant_dinay_tower</th>\n",
       "      <th>dire_dinay_tower</th>\n",
       "    </tr>\n",
       "  </thead>\n",
       "  <tbody>\n",
       "    <tr>\n",
       "      <th>0</th>\n",
       "      <td>0</td>\n",
       "      <td>1</td>\n",
       "      <td>1.0</td>\n",
       "      <td>0.0</td>\n",
       "      <td>0.0</td>\n",
       "      <td>0.0</td>\n",
       "      <td>0.0</td>\n",
       "    </tr>\n",
       "    <tr>\n",
       "      <th>1</th>\n",
       "      <td>1</td>\n",
       "      <td>0</td>\n",
       "      <td>1.0</td>\n",
       "      <td>0.0</td>\n",
       "      <td>0.0</td>\n",
       "      <td>0.0</td>\n",
       "      <td>0.0</td>\n",
       "    </tr>\n",
       "    <tr>\n",
       "      <th>2</th>\n",
       "      <td>2</td>\n",
       "      <td>1</td>\n",
       "      <td>0.0</td>\n",
       "      <td>0.0</td>\n",
       "      <td>0.0</td>\n",
       "      <td>0.0</td>\n",
       "      <td>0.0</td>\n",
       "    </tr>\n",
       "    <tr>\n",
       "      <th>3</th>\n",
       "      <td>4</td>\n",
       "      <td>1</td>\n",
       "      <td>0.0</td>\n",
       "      <td>0.0</td>\n",
       "      <td>0.0</td>\n",
       "      <td>0.0</td>\n",
       "      <td>0.0</td>\n",
       "    </tr>\n",
       "    <tr>\n",
       "      <th>4</th>\n",
       "      <td>5</td>\n",
       "      <td>1</td>\n",
       "      <td>0.0</td>\n",
       "      <td>0.0</td>\n",
       "      <td>0.0</td>\n",
       "      <td>0.0</td>\n",
       "      <td>0.0</td>\n",
       "    </tr>\n",
       "    <tr>\n",
       "      <th>5</th>\n",
       "      <td>6</td>\n",
       "      <td>1</td>\n",
       "      <td>1.0</td>\n",
       "      <td>1.0</td>\n",
       "      <td>0.0</td>\n",
       "      <td>0.0</td>\n",
       "      <td>0.0</td>\n",
       "    </tr>\n",
       "    <tr>\n",
       "      <th>6</th>\n",
       "      <td>8</td>\n",
       "      <td>0</td>\n",
       "      <td>0.0</td>\n",
       "      <td>0.0</td>\n",
       "      <td>1.0</td>\n",
       "      <td>0.0</td>\n",
       "      <td>0.0</td>\n",
       "    </tr>\n",
       "    <tr>\n",
       "      <th>7</th>\n",
       "      <td>11</td>\n",
       "      <td>0</td>\n",
       "      <td>1.0</td>\n",
       "      <td>0.0</td>\n",
       "      <td>0.0</td>\n",
       "      <td>0.0</td>\n",
       "      <td>0.0</td>\n",
       "    </tr>\n",
       "    <tr>\n",
       "      <th>8</th>\n",
       "      <td>20</td>\n",
       "      <td>1</td>\n",
       "      <td>1.0</td>\n",
       "      <td>0.0</td>\n",
       "      <td>0.0</td>\n",
       "      <td>0.0</td>\n",
       "      <td>0.0</td>\n",
       "    </tr>\n",
       "    <tr>\n",
       "      <th>9</th>\n",
       "      <td>26</td>\n",
       "      <td>1</td>\n",
       "      <td>1.0</td>\n",
       "      <td>0.0</td>\n",
       "      <td>0.0</td>\n",
       "      <td>0.0</td>\n",
       "      <td>0.0</td>\n",
       "    </tr>\n",
       "    <tr>\n",
       "      <th>10</th>\n",
       "      <td>27</td>\n",
       "      <td>1</td>\n",
       "      <td>0.0</td>\n",
       "      <td>0.0</td>\n",
       "      <td>1.0</td>\n",
       "      <td>0.0</td>\n",
       "      <td>0.0</td>\n",
       "    </tr>\n",
       "    <tr>\n",
       "      <th>11</th>\n",
       "      <td>28</td>\n",
       "      <td>0</td>\n",
       "      <td>1.0</td>\n",
       "      <td>0.0</td>\n",
       "      <td>0.0</td>\n",
       "      <td>0.0</td>\n",
       "      <td>0.0</td>\n",
       "    </tr>\n",
       "    <tr>\n",
       "      <th>12</th>\n",
       "      <td>30</td>\n",
       "      <td>1</td>\n",
       "      <td>1.0</td>\n",
       "      <td>0.0</td>\n",
       "      <td>1.0</td>\n",
       "      <td>0.0</td>\n",
       "      <td>0.0</td>\n",
       "    </tr>\n",
       "    <tr>\n",
       "      <th>13</th>\n",
       "      <td>31</td>\n",
       "      <td>0</td>\n",
       "      <td>1.0</td>\n",
       "      <td>1.0</td>\n",
       "      <td>0.0</td>\n",
       "      <td>0.0</td>\n",
       "      <td>0.0</td>\n",
       "    </tr>\n",
       "    <tr>\n",
       "      <th>14</th>\n",
       "      <td>35</td>\n",
       "      <td>0</td>\n",
       "      <td>1.0</td>\n",
       "      <td>0.0</td>\n",
       "      <td>0.0</td>\n",
       "      <td>0.0</td>\n",
       "      <td>0.0</td>\n",
       "    </tr>\n",
       "    <tr>\n",
       "      <th>15</th>\n",
       "      <td>37</td>\n",
       "      <td>0</td>\n",
       "      <td>1.0</td>\n",
       "      <td>0.0</td>\n",
       "      <td>0.0</td>\n",
       "      <td>0.0</td>\n",
       "      <td>0.0</td>\n",
       "    </tr>\n",
       "    <tr>\n",
       "      <th>16</th>\n",
       "      <td>43</td>\n",
       "      <td>0</td>\n",
       "      <td>0.0</td>\n",
       "      <td>0.0</td>\n",
       "      <td>0.0</td>\n",
       "      <td>0.0</td>\n",
       "      <td>0.0</td>\n",
       "    </tr>\n",
       "    <tr>\n",
       "      <th>17</th>\n",
       "      <td>48</td>\n",
       "      <td>1</td>\n",
       "      <td>1.0</td>\n",
       "      <td>0.0</td>\n",
       "      <td>1.0</td>\n",
       "      <td>0.0</td>\n",
       "      <td>0.0</td>\n",
       "    </tr>\n",
       "    <tr>\n",
       "      <th>18</th>\n",
       "      <td>49</td>\n",
       "      <td>1</td>\n",
       "      <td>1.0</td>\n",
       "      <td>1.0</td>\n",
       "      <td>0.0</td>\n",
       "      <td>0.0</td>\n",
       "      <td>0.0</td>\n",
       "    </tr>\n",
       "    <tr>\n",
       "      <th>19</th>\n",
       "      <td>52</td>\n",
       "      <td>1</td>\n",
       "      <td>1.0</td>\n",
       "      <td>1.0</td>\n",
       "      <td>0.0</td>\n",
       "      <td>0.0</td>\n",
       "      <td>0.0</td>\n",
       "    </tr>\n",
       "  </tbody>\n",
       "</table>\n",
       "</div>"
      ],
      "text/plain": [
       "    mid  radiant_won  made_fb  radiant_destroy_tower  dire_destroy_tower  \\\n",
       "0     0            1      1.0                    0.0                 0.0   \n",
       "1     1            0      1.0                    0.0                 0.0   \n",
       "2     2            1      0.0                    0.0                 0.0   \n",
       "3     4            1      0.0                    0.0                 0.0   \n",
       "4     5            1      0.0                    0.0                 0.0   \n",
       "5     6            1      1.0                    1.0                 0.0   \n",
       "6     8            0      0.0                    0.0                 1.0   \n",
       "7    11            0      1.0                    0.0                 0.0   \n",
       "8    20            1      1.0                    0.0                 0.0   \n",
       "9    26            1      1.0                    0.0                 0.0   \n",
       "10   27            1      0.0                    0.0                 1.0   \n",
       "11   28            0      1.0                    0.0                 0.0   \n",
       "12   30            1      1.0                    0.0                 1.0   \n",
       "13   31            0      1.0                    1.0                 0.0   \n",
       "14   35            0      1.0                    0.0                 0.0   \n",
       "15   37            0      1.0                    0.0                 0.0   \n",
       "16   43            0      0.0                    0.0                 0.0   \n",
       "17   48            1      1.0                    0.0                 1.0   \n",
       "18   49            1      1.0                    1.0                 0.0   \n",
       "19   52            1      1.0                    1.0                 0.0   \n",
       "\n",
       "    radiant_dinay_tower  dire_dinay_tower  \n",
       "0                   0.0               0.0  \n",
       "1                   0.0               0.0  \n",
       "2                   0.0               0.0  \n",
       "3                   0.0               0.0  \n",
       "4                   0.0               0.0  \n",
       "5                   0.0               0.0  \n",
       "6                   0.0               0.0  \n",
       "7                   0.0               0.0  \n",
       "8                   0.0               0.0  \n",
       "9                   0.0               0.0  \n",
       "10                  0.0               0.0  \n",
       "11                  0.0               0.0  \n",
       "12                  0.0               0.0  \n",
       "13                  0.0               0.0  \n",
       "14                  0.0               0.0  \n",
       "15                  0.0               0.0  \n",
       "16                  0.0               0.0  \n",
       "17                  0.0               0.0  \n",
       "18                  0.0               0.0  \n",
       "19                  0.0               0.0  "
      ]
     },
     "execution_count": 13,
     "metadata": {},
     "output_type": "execute_result"
    }
   ],
   "source": [
    "train.fillna(0, inplace=True)\n",
    "test.fillna(0, inplace=True)\n",
    "train.head(20)"
   ]
  },
  {
   "cell_type": "code",
   "execution_count": 14,
   "metadata": {
    "collapsed": false
   },
   "outputs": [
    {
     "data": {
      "text/plain": [
       "(24974, 6)"
      ]
     },
     "execution_count": 14,
     "metadata": {},
     "output_type": "execute_result"
    }
   ],
   "source": [
    "test.shape"
   ]
  },
  {
   "cell_type": "code",
   "execution_count": 15,
   "metadata": {
    "collapsed": false
   },
   "outputs": [
    {
     "data": {
      "text/html": [
       "<div>\n",
       "<table border=\"1\" class=\"dataframe\">\n",
       "  <thead>\n",
       "    <tr style=\"text-align: right;\">\n",
       "      <th></th>\n",
       "      <th>mid</th>\n",
       "      <th>radiant_won</th>\n",
       "      <th>made_fb</th>\n",
       "      <th>radiant_destroy_tower</th>\n",
       "      <th>dire_destroy_tower</th>\n",
       "      <th>radiant_dinay_tower</th>\n",
       "      <th>dire_dinay_tower</th>\n",
       "    </tr>\n",
       "  </thead>\n",
       "  <tbody>\n",
       "    <tr>\n",
       "      <th>0</th>\n",
       "      <td>0</td>\n",
       "      <td>1</td>\n",
       "      <td>1.0</td>\n",
       "      <td>0</td>\n",
       "      <td>0</td>\n",
       "      <td>0</td>\n",
       "      <td>0</td>\n",
       "    </tr>\n",
       "    <tr>\n",
       "      <th>1</th>\n",
       "      <td>1</td>\n",
       "      <td>0</td>\n",
       "      <td>1.0</td>\n",
       "      <td>0</td>\n",
       "      <td>0</td>\n",
       "      <td>0</td>\n",
       "      <td>0</td>\n",
       "    </tr>\n",
       "    <tr>\n",
       "      <th>2</th>\n",
       "      <td>2</td>\n",
       "      <td>1</td>\n",
       "      <td>0.0</td>\n",
       "      <td>0</td>\n",
       "      <td>0</td>\n",
       "      <td>0</td>\n",
       "      <td>0</td>\n",
       "    </tr>\n",
       "    <tr>\n",
       "      <th>3</th>\n",
       "      <td>4</td>\n",
       "      <td>1</td>\n",
       "      <td>0.0</td>\n",
       "      <td>0</td>\n",
       "      <td>0</td>\n",
       "      <td>0</td>\n",
       "      <td>0</td>\n",
       "    </tr>\n",
       "    <tr>\n",
       "      <th>4</th>\n",
       "      <td>5</td>\n",
       "      <td>1</td>\n",
       "      <td>0.0</td>\n",
       "      <td>0</td>\n",
       "      <td>0</td>\n",
       "      <td>0</td>\n",
       "      <td>0</td>\n",
       "    </tr>\n",
       "  </tbody>\n",
       "</table>\n",
       "</div>"
      ],
      "text/plain": [
       "   mid  radiant_won  made_fb  radiant_destroy_tower  dire_destroy_tower  \\\n",
       "0    0            1      1.0                      0                   0   \n",
       "1    1            0      1.0                      0                   0   \n",
       "2    2            1      0.0                      0                   0   \n",
       "3    4            1      0.0                      0                   0   \n",
       "4    5            1      0.0                      0                   0   \n",
       "\n",
       "   radiant_dinay_tower  dire_dinay_tower  \n",
       "0                    0                 0  \n",
       "1                    0                 0  \n",
       "2                    0                 0  \n",
       "3                    0                 0  \n",
       "4                    0                 0  "
      ]
     },
     "execution_count": 15,
     "metadata": {},
     "output_type": "execute_result"
    }
   ],
   "source": [
    "train.radiant_destroy_tower = train.radiant_destroy_tower.astype(int32)\n",
    "train.dire_destroy_tower = train.dire_destroy_tower.astype(int32)\n",
    "train.radiant_dinay_tower = train.radiant_dinay_tower.astype(int32)\n",
    "train.dire_dinay_tower = train.dire_dinay_tower.astype(int32)\n",
    "train.head()"
   ]
  },
  {
   "cell_type": "code",
   "execution_count": 16,
   "metadata": {
    "collapsed": true
   },
   "outputs": [],
   "source": [
    "train.to_csv('train_events.csv', index=None)\n",
    "test.to_csv('test_events.csv', index=None)"
   ]
  },
  {
   "cell_type": "code",
   "execution_count": null,
   "metadata": {
    "collapsed": true
   },
   "outputs": [],
   "source": []
  },
  {
   "cell_type": "code",
   "execution_count": null,
   "metadata": {
    "collapsed": true
   },
   "outputs": [],
   "source": []
  },
  {
   "cell_type": "code",
   "execution_count": null,
   "metadata": {
    "collapsed": true
   },
   "outputs": [],
   "source": []
  },
  {
   "cell_type": "code",
   "execution_count": null,
   "metadata": {
    "collapsed": true
   },
   "outputs": [],
   "source": []
  },
  {
   "cell_type": "code",
   "execution_count": 25,
   "metadata": {
    "collapsed": false
   },
   "outputs": [
    {
     "name": "stdout",
     "output_type": "stream",
     "text": [
      "(24974, 6)\n"
     ]
    }
   ],
   "source": [
    "train = pd.read_csv('train_events.csv')\n",
    "test = pd.read_csv('test_events.csv')\n",
    "print test.shape\n",
    "y_train = train.radiant_won\n",
    "x_train = train.drop('radiant_won', 1)"
   ]
  },
  {
   "cell_type": "code",
   "execution_count": 26,
   "metadata": {
    "collapsed": false
   },
   "outputs": [
    {
     "data": {
      "text/plain": [
       "0.4925798599938398"
      ]
     },
     "execution_count": 26,
     "metadata": {},
     "output_type": "execute_result"
    }
   ],
   "source": [
    "from sklearn.cross_validation import cross_val_score\n",
    "from sklearn.ensemble import RandomForestClassifier\n",
    "\n",
    "clf = RandomForestClassifier(n_estimators=100, n_jobs=-1, random_state=1234)\n",
    "np.mean(cross_val_score(clf, x_train, y_train, cv=5, scoring='roc_auc'))"
   ]
  },
  {
   "cell_type": "code",
   "execution_count": 20,
   "metadata": {
    "collapsed": false
   },
   "outputs": [
    {
     "data": {
      "text/plain": [
       "0.5872906442241842"
      ]
     },
     "execution_count": 20,
     "metadata": {},
     "output_type": "execute_result"
    }
   ],
   "source": [
    "from sklearn.linear_model import LogisticRegression\n",
    "clf=LogisticRegression(random_state=241, C=0.01)\n",
    "np.mean(cross_val_score(clf, x_train, y_train, cv=5, scoring='roc_auc'))"
   ]
  },
  {
   "cell_type": "code",
   "execution_count": null,
   "metadata": {
    "collapsed": true
   },
   "outputs": [],
   "source": []
  },
  {
   "cell_type": "markdown",
   "metadata": {},
   "source": [
    "## GOLD"
   ]
  },
  {
   "cell_type": "code",
   "execution_count": 27,
   "metadata": {
    "collapsed": false
   },
   "outputs": [
    {
     "data": {
      "text/html": [
       "<div>\n",
       "<table border=\"1\" class=\"dataframe\">\n",
       "  <thead>\n",
       "    <tr style=\"text-align: right;\">\n",
       "      <th></th>\n",
       "      <th>mid</th>\n",
       "      <th>player_0</th>\n",
       "      <th>player_1</th>\n",
       "      <th>player_2</th>\n",
       "      <th>player_3</th>\n",
       "      <th>player_4</th>\n",
       "      <th>player_5</th>\n",
       "      <th>player_6</th>\n",
       "      <th>player_7</th>\n",
       "      <th>player_8</th>\n",
       "      <th>player_9</th>\n",
       "    </tr>\n",
       "  </thead>\n",
       "  <tbody>\n",
       "    <tr>\n",
       "      <th>9</th>\n",
       "      <td>0</td>\n",
       "      <td>3454</td>\n",
       "      <td>5206</td>\n",
       "      <td>2613</td>\n",
       "      <td>4426</td>\n",
       "      <td>5755</td>\n",
       "      <td>4072</td>\n",
       "      <td>3997</td>\n",
       "      <td>5917</td>\n",
       "      <td>1725</td>\n",
       "      <td>6384</td>\n",
       "    </tr>\n",
       "    <tr>\n",
       "      <th>19</th>\n",
       "      <td>1</td>\n",
       "      <td>2477</td>\n",
       "      <td>5760</td>\n",
       "      <td>3816</td>\n",
       "      <td>4353</td>\n",
       "      <td>5759</td>\n",
       "      <td>7659</td>\n",
       "      <td>5066</td>\n",
       "      <td>2748</td>\n",
       "      <td>4440</td>\n",
       "      <td>4623</td>\n",
       "    </tr>\n",
       "    <tr>\n",
       "      <th>29</th>\n",
       "      <td>2</td>\n",
       "      <td>3604</td>\n",
       "      <td>1948</td>\n",
       "      <td>8581</td>\n",
       "      <td>4390</td>\n",
       "      <td>2869</td>\n",
       "      <td>3096</td>\n",
       "      <td>2301</td>\n",
       "      <td>5130</td>\n",
       "      <td>2530</td>\n",
       "      <td>2491</td>\n",
       "    </tr>\n",
       "    <tr>\n",
       "      <th>39</th>\n",
       "      <td>3</td>\n",
       "      <td>3457</td>\n",
       "      <td>5464</td>\n",
       "      <td>4432</td>\n",
       "      <td>2961</td>\n",
       "      <td>4314</td>\n",
       "      <td>3345</td>\n",
       "      <td>4791</td>\n",
       "      <td>1906</td>\n",
       "      <td>5328</td>\n",
       "      <td>2247</td>\n",
       "    </tr>\n",
       "    <tr>\n",
       "      <th>49</th>\n",
       "      <td>4</td>\n",
       "      <td>3675</td>\n",
       "      <td>4103</td>\n",
       "      <td>5154</td>\n",
       "      <td>3030</td>\n",
       "      <td>2076</td>\n",
       "      <td>3920</td>\n",
       "      <td>3494</td>\n",
       "      <td>3392</td>\n",
       "      <td>4458</td>\n",
       "      <td>2220</td>\n",
       "    </tr>\n",
       "  </tbody>\n",
       "</table>\n",
       "</div>"
      ],
      "text/plain": [
       "    mid  player_0  player_1  player_2  player_3  player_4  player_5  player_6  \\\n",
       "9     0      3454      5206      2613      4426      5755      4072      3997   \n",
       "19    1      2477      5760      3816      4353      5759      7659      5066   \n",
       "29    2      3604      1948      8581      4390      2869      3096      2301   \n",
       "39    3      3457      5464      4432      2961      4314      3345      4791   \n",
       "49    4      3675      4103      5154      3030      2076      3920      3494   \n",
       "\n",
       "    player_7  player_8  player_9  \n",
       "9       5917      1725      6384  \n",
       "19      2748      4440      4623  \n",
       "29      5130      2530      2491  \n",
       "39      1906      5328      2247  \n",
       "49      3392      4458      2220  "
      ]
     },
     "execution_count": 27,
     "metadata": {},
     "output_type": "execute_result"
    }
   ],
   "source": [
    "gold = pd.read_csv('gold.csv')\n",
    "gold = gold[gold.times == 600]\n",
    "gold.drop('times', 1, inplace=True)\n",
    "gold.head()"
   ]
  },
  {
   "cell_type": "code",
   "execution_count": null,
   "metadata": {
    "collapsed": true
   },
   "outputs": [],
   "source": []
  },
  {
   "cell_type": "code",
   "execution_count": 28,
   "metadata": {
    "collapsed": false
   },
   "outputs": [
    {
     "data": {
      "text/html": [
       "<div>\n",
       "<table border=\"1\" class=\"dataframe\">\n",
       "  <thead>\n",
       "    <tr style=\"text-align: right;\">\n",
       "      <th></th>\n",
       "      <th>mid</th>\n",
       "      <th>player_0</th>\n",
       "      <th>player_1</th>\n",
       "      <th>player_2</th>\n",
       "      <th>player_3</th>\n",
       "      <th>player_4</th>\n",
       "      <th>player_5</th>\n",
       "      <th>player_6</th>\n",
       "      <th>player_7</th>\n",
       "      <th>player_8</th>\n",
       "      <th>player_9</th>\n",
       "      <th>radiant_gold</th>\n",
       "      <th>dire_gold</th>\n",
       "    </tr>\n",
       "  </thead>\n",
       "  <tbody>\n",
       "    <tr>\n",
       "      <th>9</th>\n",
       "      <td>0</td>\n",
       "      <td>3454</td>\n",
       "      <td>5206</td>\n",
       "      <td>2613</td>\n",
       "      <td>4426</td>\n",
       "      <td>5755</td>\n",
       "      <td>4072</td>\n",
       "      <td>3997</td>\n",
       "      <td>5917</td>\n",
       "      <td>1725</td>\n",
       "      <td>6384</td>\n",
       "      <td>21454</td>\n",
       "      <td>22095</td>\n",
       "    </tr>\n",
       "    <tr>\n",
       "      <th>19</th>\n",
       "      <td>1</td>\n",
       "      <td>2477</td>\n",
       "      <td>5760</td>\n",
       "      <td>3816</td>\n",
       "      <td>4353</td>\n",
       "      <td>5759</td>\n",
       "      <td>7659</td>\n",
       "      <td>5066</td>\n",
       "      <td>2748</td>\n",
       "      <td>4440</td>\n",
       "      <td>4623</td>\n",
       "      <td>22165</td>\n",
       "      <td>24536</td>\n",
       "    </tr>\n",
       "    <tr>\n",
       "      <th>29</th>\n",
       "      <td>2</td>\n",
       "      <td>3604</td>\n",
       "      <td>1948</td>\n",
       "      <td>8581</td>\n",
       "      <td>4390</td>\n",
       "      <td>2869</td>\n",
       "      <td>3096</td>\n",
       "      <td>2301</td>\n",
       "      <td>5130</td>\n",
       "      <td>2530</td>\n",
       "      <td>2491</td>\n",
       "      <td>21392</td>\n",
       "      <td>15548</td>\n",
       "    </tr>\n",
       "    <tr>\n",
       "      <th>39</th>\n",
       "      <td>3</td>\n",
       "      <td>3457</td>\n",
       "      <td>5464</td>\n",
       "      <td>4432</td>\n",
       "      <td>2961</td>\n",
       "      <td>4314</td>\n",
       "      <td>3345</td>\n",
       "      <td>4791</td>\n",
       "      <td>1906</td>\n",
       "      <td>5328</td>\n",
       "      <td>2247</td>\n",
       "      <td>20628</td>\n",
       "      <td>17617</td>\n",
       "    </tr>\n",
       "    <tr>\n",
       "      <th>49</th>\n",
       "      <td>4</td>\n",
       "      <td>3675</td>\n",
       "      <td>4103</td>\n",
       "      <td>5154</td>\n",
       "      <td>3030</td>\n",
       "      <td>2076</td>\n",
       "      <td>3920</td>\n",
       "      <td>3494</td>\n",
       "      <td>3392</td>\n",
       "      <td>4458</td>\n",
       "      <td>2220</td>\n",
       "      <td>18038</td>\n",
       "      <td>17484</td>\n",
       "    </tr>\n",
       "  </tbody>\n",
       "</table>\n",
       "</div>"
      ],
      "text/plain": [
       "    mid  player_0  player_1  player_2  player_3  player_4  player_5  player_6  \\\n",
       "9     0      3454      5206      2613      4426      5755      4072      3997   \n",
       "19    1      2477      5760      3816      4353      5759      7659      5066   \n",
       "29    2      3604      1948      8581      4390      2869      3096      2301   \n",
       "39    3      3457      5464      4432      2961      4314      3345      4791   \n",
       "49    4      3675      4103      5154      3030      2076      3920      3494   \n",
       "\n",
       "    player_7  player_8  player_9  radiant_gold  dire_gold  \n",
       "9       5917      1725      6384         21454      22095  \n",
       "19      2748      4440      4623         22165      24536  \n",
       "29      5130      2530      2491         21392      15548  \n",
       "39      1906      5328      2247         20628      17617  \n",
       "49      3392      4458      2220         18038      17484  "
      ]
     },
     "execution_count": 28,
     "metadata": {},
     "output_type": "execute_result"
    }
   ],
   "source": [
    "radiant_gold = gold[['player_0', 'player_1', 'player_2', 'player_3', 'player_4']].sum(axis=1)\n",
    "dire_gold = gold[['player_5', 'player_6', 'player_7', 'player_8', 'player_9']].sum(axis=1)\n",
    "\n",
    "gold['radiant_gold'] = radiant_gold\n",
    "gold['dire_gold'] = dire_gold\n",
    "gold.head()"
   ]
  },
  {
   "cell_type": "code",
   "execution_count": 29,
   "metadata": {
    "collapsed": false
   },
   "outputs": [
    {
     "data": {
      "text/html": [
       "<div>\n",
       "<table border=\"1\" class=\"dataframe\">\n",
       "  <thead>\n",
       "    <tr style=\"text-align: right;\">\n",
       "      <th></th>\n",
       "      <th>mid</th>\n",
       "      <th>player_0</th>\n",
       "      <th>player_1</th>\n",
       "      <th>player_2</th>\n",
       "      <th>player_3</th>\n",
       "      <th>player_4</th>\n",
       "      <th>player_5</th>\n",
       "      <th>player_6</th>\n",
       "      <th>player_7</th>\n",
       "      <th>player_8</th>\n",
       "      <th>player_9</th>\n",
       "      <th>radiant_gold</th>\n",
       "      <th>dire_gold</th>\n",
       "      <th>diff_gold</th>\n",
       "      <th>ratio_gold</th>\n",
       "    </tr>\n",
       "  </thead>\n",
       "  <tbody>\n",
       "    <tr>\n",
       "      <th>9</th>\n",
       "      <td>0</td>\n",
       "      <td>3454</td>\n",
       "      <td>5206</td>\n",
       "      <td>2613</td>\n",
       "      <td>4426</td>\n",
       "      <td>5755</td>\n",
       "      <td>4072</td>\n",
       "      <td>3997</td>\n",
       "      <td>5917</td>\n",
       "      <td>1725</td>\n",
       "      <td>6384</td>\n",
       "      <td>21454</td>\n",
       "      <td>22095</td>\n",
       "      <td>-641</td>\n",
       "      <td>0.970989</td>\n",
       "    </tr>\n",
       "    <tr>\n",
       "      <th>19</th>\n",
       "      <td>1</td>\n",
       "      <td>2477</td>\n",
       "      <td>5760</td>\n",
       "      <td>3816</td>\n",
       "      <td>4353</td>\n",
       "      <td>5759</td>\n",
       "      <td>7659</td>\n",
       "      <td>5066</td>\n",
       "      <td>2748</td>\n",
       "      <td>4440</td>\n",
       "      <td>4623</td>\n",
       "      <td>22165</td>\n",
       "      <td>24536</td>\n",
       "      <td>-2371</td>\n",
       "      <td>0.903366</td>\n",
       "    </tr>\n",
       "    <tr>\n",
       "      <th>29</th>\n",
       "      <td>2</td>\n",
       "      <td>3604</td>\n",
       "      <td>1948</td>\n",
       "      <td>8581</td>\n",
       "      <td>4390</td>\n",
       "      <td>2869</td>\n",
       "      <td>3096</td>\n",
       "      <td>2301</td>\n",
       "      <td>5130</td>\n",
       "      <td>2530</td>\n",
       "      <td>2491</td>\n",
       "      <td>21392</td>\n",
       "      <td>15548</td>\n",
       "      <td>5844</td>\n",
       "      <td>1.375868</td>\n",
       "    </tr>\n",
       "    <tr>\n",
       "      <th>39</th>\n",
       "      <td>3</td>\n",
       "      <td>3457</td>\n",
       "      <td>5464</td>\n",
       "      <td>4432</td>\n",
       "      <td>2961</td>\n",
       "      <td>4314</td>\n",
       "      <td>3345</td>\n",
       "      <td>4791</td>\n",
       "      <td>1906</td>\n",
       "      <td>5328</td>\n",
       "      <td>2247</td>\n",
       "      <td>20628</td>\n",
       "      <td>17617</td>\n",
       "      <td>3011</td>\n",
       "      <td>1.170914</td>\n",
       "    </tr>\n",
       "    <tr>\n",
       "      <th>49</th>\n",
       "      <td>4</td>\n",
       "      <td>3675</td>\n",
       "      <td>4103</td>\n",
       "      <td>5154</td>\n",
       "      <td>3030</td>\n",
       "      <td>2076</td>\n",
       "      <td>3920</td>\n",
       "      <td>3494</td>\n",
       "      <td>3392</td>\n",
       "      <td>4458</td>\n",
       "      <td>2220</td>\n",
       "      <td>18038</td>\n",
       "      <td>17484</td>\n",
       "      <td>554</td>\n",
       "      <td>1.031686</td>\n",
       "    </tr>\n",
       "  </tbody>\n",
       "</table>\n",
       "</div>"
      ],
      "text/plain": [
       "    mid  player_0  player_1  player_2  player_3  player_4  player_5  player_6  \\\n",
       "9     0      3454      5206      2613      4426      5755      4072      3997   \n",
       "19    1      2477      5760      3816      4353      5759      7659      5066   \n",
       "29    2      3604      1948      8581      4390      2869      3096      2301   \n",
       "39    3      3457      5464      4432      2961      4314      3345      4791   \n",
       "49    4      3675      4103      5154      3030      2076      3920      3494   \n",
       "\n",
       "    player_7  player_8  player_9  radiant_gold  dire_gold  diff_gold  \\\n",
       "9       5917      1725      6384         21454      22095       -641   \n",
       "19      2748      4440      4623         22165      24536      -2371   \n",
       "29      5130      2530      2491         21392      15548       5844   \n",
       "39      1906      5328      2247         20628      17617       3011   \n",
       "49      3392      4458      2220         18038      17484        554   \n",
       "\n",
       "    ratio_gold  \n",
       "9     0.970989  \n",
       "19    0.903366  \n",
       "29    1.375868  \n",
       "39    1.170914  \n",
       "49    1.031686  "
      ]
     },
     "execution_count": 29,
     "metadata": {},
     "output_type": "execute_result"
    }
   ],
   "source": [
    "gold['diff_gold'] = gold['radiant_gold'] - gold['dire_gold']\n",
    "gold['ratio_gold'] = gold['radiant_gold'] / gold['dire_gold']\n",
    "\n",
    "gold.head()"
   ]
  },
  {
   "cell_type": "code",
   "execution_count": 30,
   "metadata": {
    "collapsed": false
   },
   "outputs": [],
   "source": [
    "train = pd.merge(train, gold, on='mid', how='left')\n",
    "test = pd.merge(test, gold, on='mid', how='left')"
   ]
  },
  {
   "cell_type": "code",
   "execution_count": 31,
   "metadata": {
    "collapsed": false
   },
   "outputs": [
    {
     "data": {
      "text/html": [
       "<div>\n",
       "<table border=\"1\" class=\"dataframe\">\n",
       "  <thead>\n",
       "    <tr style=\"text-align: right;\">\n",
       "      <th></th>\n",
       "      <th>mid</th>\n",
       "      <th>radiant_won</th>\n",
       "      <th>made_fb</th>\n",
       "      <th>radiant_destroy_tower</th>\n",
       "      <th>dire_destroy_tower</th>\n",
       "      <th>radiant_dinay_tower</th>\n",
       "      <th>dire_dinay_tower</th>\n",
       "      <th>player_0</th>\n",
       "      <th>player_1</th>\n",
       "      <th>player_2</th>\n",
       "      <th>...</th>\n",
       "      <th>player_4</th>\n",
       "      <th>player_5</th>\n",
       "      <th>player_6</th>\n",
       "      <th>player_7</th>\n",
       "      <th>player_8</th>\n",
       "      <th>player_9</th>\n",
       "      <th>radiant_gold</th>\n",
       "      <th>dire_gold</th>\n",
       "      <th>diff_gold</th>\n",
       "      <th>ratio_gold</th>\n",
       "    </tr>\n",
       "  </thead>\n",
       "  <tbody>\n",
       "    <tr>\n",
       "      <th>0</th>\n",
       "      <td>0</td>\n",
       "      <td>1</td>\n",
       "      <td>1.0</td>\n",
       "      <td>0</td>\n",
       "      <td>0</td>\n",
       "      <td>0</td>\n",
       "      <td>0</td>\n",
       "      <td>3454</td>\n",
       "      <td>5206</td>\n",
       "      <td>2613</td>\n",
       "      <td>...</td>\n",
       "      <td>5755</td>\n",
       "      <td>4072</td>\n",
       "      <td>3997</td>\n",
       "      <td>5917</td>\n",
       "      <td>1725</td>\n",
       "      <td>6384</td>\n",
       "      <td>21454</td>\n",
       "      <td>22095</td>\n",
       "      <td>-641</td>\n",
       "      <td>0.970989</td>\n",
       "    </tr>\n",
       "    <tr>\n",
       "      <th>1</th>\n",
       "      <td>1</td>\n",
       "      <td>0</td>\n",
       "      <td>1.0</td>\n",
       "      <td>0</td>\n",
       "      <td>0</td>\n",
       "      <td>0</td>\n",
       "      <td>0</td>\n",
       "      <td>2477</td>\n",
       "      <td>5760</td>\n",
       "      <td>3816</td>\n",
       "      <td>...</td>\n",
       "      <td>5759</td>\n",
       "      <td>7659</td>\n",
       "      <td>5066</td>\n",
       "      <td>2748</td>\n",
       "      <td>4440</td>\n",
       "      <td>4623</td>\n",
       "      <td>22165</td>\n",
       "      <td>24536</td>\n",
       "      <td>-2371</td>\n",
       "      <td>0.903366</td>\n",
       "    </tr>\n",
       "    <tr>\n",
       "      <th>2</th>\n",
       "      <td>2</td>\n",
       "      <td>1</td>\n",
       "      <td>0.0</td>\n",
       "      <td>0</td>\n",
       "      <td>0</td>\n",
       "      <td>0</td>\n",
       "      <td>0</td>\n",
       "      <td>3604</td>\n",
       "      <td>1948</td>\n",
       "      <td>8581</td>\n",
       "      <td>...</td>\n",
       "      <td>2869</td>\n",
       "      <td>3096</td>\n",
       "      <td>2301</td>\n",
       "      <td>5130</td>\n",
       "      <td>2530</td>\n",
       "      <td>2491</td>\n",
       "      <td>21392</td>\n",
       "      <td>15548</td>\n",
       "      <td>5844</td>\n",
       "      <td>1.375868</td>\n",
       "    </tr>\n",
       "    <tr>\n",
       "      <th>3</th>\n",
       "      <td>4</td>\n",
       "      <td>1</td>\n",
       "      <td>0.0</td>\n",
       "      <td>0</td>\n",
       "      <td>0</td>\n",
       "      <td>0</td>\n",
       "      <td>0</td>\n",
       "      <td>3675</td>\n",
       "      <td>4103</td>\n",
       "      <td>5154</td>\n",
       "      <td>...</td>\n",
       "      <td>2076</td>\n",
       "      <td>3920</td>\n",
       "      <td>3494</td>\n",
       "      <td>3392</td>\n",
       "      <td>4458</td>\n",
       "      <td>2220</td>\n",
       "      <td>18038</td>\n",
       "      <td>17484</td>\n",
       "      <td>554</td>\n",
       "      <td>1.031686</td>\n",
       "    </tr>\n",
       "    <tr>\n",
       "      <th>4</th>\n",
       "      <td>5</td>\n",
       "      <td>1</td>\n",
       "      <td>0.0</td>\n",
       "      <td>0</td>\n",
       "      <td>0</td>\n",
       "      <td>0</td>\n",
       "      <td>0</td>\n",
       "      <td>4252</td>\n",
       "      <td>2412</td>\n",
       "      <td>2545</td>\n",
       "      <td>...</td>\n",
       "      <td>2544</td>\n",
       "      <td>4752</td>\n",
       "      <td>5389</td>\n",
       "      <td>4954</td>\n",
       "      <td>3954</td>\n",
       "      <td>2992</td>\n",
       "      <td>16017</td>\n",
       "      <td>22041</td>\n",
       "      <td>-6024</td>\n",
       "      <td>0.726691</td>\n",
       "    </tr>\n",
       "  </tbody>\n",
       "</table>\n",
       "<p>5 rows × 21 columns</p>\n",
       "</div>"
      ],
      "text/plain": [
       "   mid  radiant_won  made_fb  radiant_destroy_tower  dire_destroy_tower  \\\n",
       "0    0            1      1.0                      0                   0   \n",
       "1    1            0      1.0                      0                   0   \n",
       "2    2            1      0.0                      0                   0   \n",
       "3    4            1      0.0                      0                   0   \n",
       "4    5            1      0.0                      0                   0   \n",
       "\n",
       "   radiant_dinay_tower  dire_dinay_tower  player_0  player_1  player_2  \\\n",
       "0                    0                 0      3454      5206      2613   \n",
       "1                    0                 0      2477      5760      3816   \n",
       "2                    0                 0      3604      1948      8581   \n",
       "3                    0                 0      3675      4103      5154   \n",
       "4                    0                 0      4252      2412      2545   \n",
       "\n",
       "      ...      player_4  player_5  player_6  player_7  player_8  player_9  \\\n",
       "0     ...          5755      4072      3997      5917      1725      6384   \n",
       "1     ...          5759      7659      5066      2748      4440      4623   \n",
       "2     ...          2869      3096      2301      5130      2530      2491   \n",
       "3     ...          2076      3920      3494      3392      4458      2220   \n",
       "4     ...          2544      4752      5389      4954      3954      2992   \n",
       "\n",
       "   radiant_gold  dire_gold  diff_gold  ratio_gold  \n",
       "0         21454      22095       -641    0.970989  \n",
       "1         22165      24536      -2371    0.903366  \n",
       "2         21392      15548       5844    1.375868  \n",
       "3         18038      17484        554    1.031686  \n",
       "4         16017      22041      -6024    0.726691  \n",
       "\n",
       "[5 rows x 21 columns]"
      ]
     },
     "execution_count": 31,
     "metadata": {},
     "output_type": "execute_result"
    }
   ],
   "source": [
    "train.head()"
   ]
  },
  {
   "cell_type": "code",
   "execution_count": 32,
   "metadata": {
    "collapsed": false
   },
   "outputs": [
    {
     "data": {
      "text/plain": [
       "0.67855996631968751"
      ]
     },
     "execution_count": 32,
     "metadata": {},
     "output_type": "execute_result"
    }
   ],
   "source": [
    "x_train = train.drop('radiant_won', 1)\n",
    "y_train = train.radiant_won\n",
    "clf = RandomForestClassifier(n_estimators=100, n_jobs=-1, random_state=1234)\n",
    "np.mean(cross_val_score(clf, x_train, y_train, cv=5, scoring='roc_auc'))"
   ]
  },
  {
   "cell_type": "code",
   "execution_count": 33,
   "metadata": {
    "collapsed": true
   },
   "outputs": [],
   "source": [
    "def normalizedata(X):\n",
    "    return pd.DataFrame(StandardScaler().fit_transform(X), index = X.index, columns=X.columns)\n",
    "def logEstimation(X, y):\n",
    "    grid = {'C': np.power(10.0, np.arange(-5, 1))}\n",
    "    kf=KFold(y.size, n_folds=5, shuffle=True, random_state=241)\n",
    "    clf=LogisticRegression(random_state=241)\n",
    "    gs = GridSearchCV(clf, grid, scoring='roc_auc', cv=kf)\n",
    "    gs.fit(X, y)\n",
    "    return gs"
   ]
  },
  {
   "cell_type": "code",
   "execution_count": 34,
   "metadata": {
    "collapsed": false
   },
   "outputs": [
    {
     "name": "stdout",
     "output_type": "stream",
     "text": [
      "[mean: 0.70224, std: 0.00509, params: {'C': 1.0000000000000001e-05}, mean: 0.70413, std: 0.00512, params: {'C': 0.0001}, mean: 0.70680, std: 0.00514, params: {'C': 0.001}, mean: 0.70704, std: 0.00517, params: {'C': 0.01}, mean: 0.70704, std: 0.00519, params: {'C': 0.10000000000000001}, mean: 0.70703, std: 0.00521, params: {'C': 1.0}]\n",
      "{'C': 0.10000000000000001}\n",
      "best score: 0.707041678752\n"
     ]
    }
   ],
   "source": [
    "X = x_train\n",
    "X_norm = normalizedata(X)\n",
    "gs = logEstimation(X_norm, y_train)\n",
    "print gs.grid_scores_\n",
    "print gs.best_params_\n",
    "print('best score: {}'.format(gs.best_score_))"
   ]
  },
  {
   "cell_type": "code",
   "execution_count": 39,
   "metadata": {
    "collapsed": false
   },
   "outputs": [
    {
     "data": {
      "text/plain": [
       "0.70530212931477165"
      ]
     },
     "execution_count": 39,
     "metadata": {},
     "output_type": "execute_result"
    }
   ],
   "source": [
    "clf=LogisticRegression(random_state=241, C=0.1)\n",
    "np.mean(cross_val_score(clf, x_train, y_train, cv=5, scoring='roc_auc'))"
   ]
  },
  {
   "cell_type": "code",
   "execution_count": 40,
   "metadata": {
    "collapsed": false
   },
   "outputs": [
    {
     "data": {
      "text/html": [
       "<div>\n",
       "<table border=\"1\" class=\"dataframe\">\n",
       "  <thead>\n",
       "    <tr style=\"text-align: right;\">\n",
       "      <th></th>\n",
       "      <th>mid</th>\n",
       "      <th>made_fb</th>\n",
       "      <th>radiant_destroy_tower</th>\n",
       "      <th>dire_destroy_tower</th>\n",
       "      <th>radiant_dinay_tower</th>\n",
       "      <th>dire_dinay_tower</th>\n",
       "      <th>player_0</th>\n",
       "      <th>player_1</th>\n",
       "      <th>player_2</th>\n",
       "      <th>player_3</th>\n",
       "      <th>player_4</th>\n",
       "      <th>player_5</th>\n",
       "      <th>player_6</th>\n",
       "      <th>player_7</th>\n",
       "      <th>player_8</th>\n",
       "      <th>player_9</th>\n",
       "      <th>radiant_gold</th>\n",
       "      <th>dire_gold</th>\n",
       "      <th>diff_gold</th>\n",
       "      <th>ratio_gold</th>\n",
       "    </tr>\n",
       "  </thead>\n",
       "  <tbody>\n",
       "    <tr>\n",
       "      <th>0</th>\n",
       "      <td>3</td>\n",
       "      <td>1.0</td>\n",
       "      <td>0.0</td>\n",
       "      <td>0.0</td>\n",
       "      <td>0.0</td>\n",
       "      <td>0.0</td>\n",
       "      <td>3457</td>\n",
       "      <td>5464</td>\n",
       "      <td>4432</td>\n",
       "      <td>2961</td>\n",
       "      <td>4314</td>\n",
       "      <td>3345</td>\n",
       "      <td>4791</td>\n",
       "      <td>1906</td>\n",
       "      <td>5328</td>\n",
       "      <td>2247</td>\n",
       "      <td>20628</td>\n",
       "      <td>17617</td>\n",
       "      <td>3011</td>\n",
       "      <td>1.170914</td>\n",
       "    </tr>\n",
       "    <tr>\n",
       "      <th>1</th>\n",
       "      <td>7</td>\n",
       "      <td>0.0</td>\n",
       "      <td>2.0</td>\n",
       "      <td>0.0</td>\n",
       "      <td>0.0</td>\n",
       "      <td>0.0</td>\n",
       "      <td>5491</td>\n",
       "      <td>5337</td>\n",
       "      <td>3958</td>\n",
       "      <td>5490</td>\n",
       "      <td>5563</td>\n",
       "      <td>5131</td>\n",
       "      <td>5061</td>\n",
       "      <td>5643</td>\n",
       "      <td>3541</td>\n",
       "      <td>3243</td>\n",
       "      <td>25839</td>\n",
       "      <td>22619</td>\n",
       "      <td>3220</td>\n",
       "      <td>1.142358</td>\n",
       "    </tr>\n",
       "    <tr>\n",
       "      <th>2</th>\n",
       "      <td>9</td>\n",
       "      <td>0.0</td>\n",
       "      <td>0.0</td>\n",
       "      <td>0.0</td>\n",
       "      <td>0.0</td>\n",
       "      <td>0.0</td>\n",
       "      <td>2136</td>\n",
       "      <td>3799</td>\n",
       "      <td>3400</td>\n",
       "      <td>4551</td>\n",
       "      <td>3199</td>\n",
       "      <td>4113</td>\n",
       "      <td>3853</td>\n",
       "      <td>3370</td>\n",
       "      <td>3837</td>\n",
       "      <td>6154</td>\n",
       "      <td>17085</td>\n",
       "      <td>21327</td>\n",
       "      <td>-4242</td>\n",
       "      <td>0.801097</td>\n",
       "    </tr>\n",
       "    <tr>\n",
       "      <th>3</th>\n",
       "      <td>10</td>\n",
       "      <td>1.0</td>\n",
       "      <td>0.0</td>\n",
       "      <td>0.0</td>\n",
       "      <td>0.0</td>\n",
       "      <td>0.0</td>\n",
       "      <td>4985</td>\n",
       "      <td>2829</td>\n",
       "      <td>3651</td>\n",
       "      <td>4485</td>\n",
       "      <td>5154</td>\n",
       "      <td>2903</td>\n",
       "      <td>2582</td>\n",
       "      <td>4347</td>\n",
       "      <td>6788</td>\n",
       "      <td>3518</td>\n",
       "      <td>21104</td>\n",
       "      <td>20138</td>\n",
       "      <td>966</td>\n",
       "      <td>1.047969</td>\n",
       "    </tr>\n",
       "    <tr>\n",
       "      <th>4</th>\n",
       "      <td>12</td>\n",
       "      <td>0.0</td>\n",
       "      <td>0.0</td>\n",
       "      <td>0.0</td>\n",
       "      <td>0.0</td>\n",
       "      <td>0.0</td>\n",
       "      <td>2421</td>\n",
       "      <td>5541</td>\n",
       "      <td>4862</td>\n",
       "      <td>4040</td>\n",
       "      <td>2952</td>\n",
       "      <td>4524</td>\n",
       "      <td>4983</td>\n",
       "      <td>3276</td>\n",
       "      <td>4448</td>\n",
       "      <td>4973</td>\n",
       "      <td>19816</td>\n",
       "      <td>22204</td>\n",
       "      <td>-2388</td>\n",
       "      <td>0.892452</td>\n",
       "    </tr>\n",
       "  </tbody>\n",
       "</table>\n",
       "</div>"
      ],
      "text/plain": [
       "   mid  made_fb  radiant_destroy_tower  dire_destroy_tower  \\\n",
       "0    3      1.0                    0.0                 0.0   \n",
       "1    7      0.0                    2.0                 0.0   \n",
       "2    9      0.0                    0.0                 0.0   \n",
       "3   10      1.0                    0.0                 0.0   \n",
       "4   12      0.0                    0.0                 0.0   \n",
       "\n",
       "   radiant_dinay_tower  dire_dinay_tower  player_0  player_1  player_2  \\\n",
       "0                  0.0               0.0      3457      5464      4432   \n",
       "1                  0.0               0.0      5491      5337      3958   \n",
       "2                  0.0               0.0      2136      3799      3400   \n",
       "3                  0.0               0.0      4985      2829      3651   \n",
       "4                  0.0               0.0      2421      5541      4862   \n",
       "\n",
       "   player_3  player_4  player_5  player_6  player_7  player_8  player_9  \\\n",
       "0      2961      4314      3345      4791      1906      5328      2247   \n",
       "1      5490      5563      5131      5061      5643      3541      3243   \n",
       "2      4551      3199      4113      3853      3370      3837      6154   \n",
       "3      4485      5154      2903      2582      4347      6788      3518   \n",
       "4      4040      2952      4524      4983      3276      4448      4973   \n",
       "\n",
       "   radiant_gold  dire_gold  diff_gold  ratio_gold  \n",
       "0         20628      17617       3011    1.170914  \n",
       "1         25839      22619       3220    1.142358  \n",
       "2         17085      21327      -4242    0.801097  \n",
       "3         21104      20138        966    1.047969  \n",
       "4         19816      22204      -2388    0.892452  "
      ]
     },
     "execution_count": 40,
     "metadata": {},
     "output_type": "execute_result"
    }
   ],
   "source": [
    "test.head()"
   ]
  },
  {
   "cell_type": "code",
   "execution_count": 41,
   "metadata": {
    "collapsed": true
   },
   "outputs": [],
   "source": [
    "test_matches = pd.read_csv('test.csv')"
   ]
  },
  {
   "cell_type": "code",
   "execution_count": 42,
   "metadata": {
    "collapsed": false
   },
   "outputs": [],
   "source": [
    "clf=LogisticRegression(random_state=241, C=1)\n",
    "clf.fit(x_train, y_train)\n",
    "test_matches['radiant_won'] = clf.predict_proba(test)[:, 1]"
   ]
  },
  {
   "cell_type": "code",
   "execution_count": 43,
   "metadata": {
    "collapsed": false
   },
   "outputs": [
    {
     "data": {
      "text/html": [
       "<div>\n",
       "<table border=\"1\" class=\"dataframe\">\n",
       "  <thead>\n",
       "    <tr style=\"text-align: right;\">\n",
       "      <th></th>\n",
       "      <th>mid</th>\n",
       "      <th>radiant_won</th>\n",
       "    </tr>\n",
       "  </thead>\n",
       "  <tbody>\n",
       "    <tr>\n",
       "      <th>0</th>\n",
       "      <td>3</td>\n",
       "      <td>0.678157</td>\n",
       "    </tr>\n",
       "    <tr>\n",
       "      <th>1</th>\n",
       "      <td>7</td>\n",
       "      <td>0.691814</td>\n",
       "    </tr>\n",
       "    <tr>\n",
       "      <th>2</th>\n",
       "      <td>9</td>\n",
       "      <td>0.275644</td>\n",
       "    </tr>\n",
       "    <tr>\n",
       "      <th>3</th>\n",
       "      <td>10</td>\n",
       "      <td>0.571543</td>\n",
       "    </tr>\n",
       "    <tr>\n",
       "      <th>4</th>\n",
       "      <td>12</td>\n",
       "      <td>0.371858</td>\n",
       "    </tr>\n",
       "  </tbody>\n",
       "</table>\n",
       "</div>"
      ],
      "text/plain": [
       "   mid  radiant_won\n",
       "0    3     0.678157\n",
       "1    7     0.691814\n",
       "2    9     0.275644\n",
       "3   10     0.571543\n",
       "4   12     0.371858"
      ]
     },
     "execution_count": 43,
     "metadata": {},
     "output_type": "execute_result"
    }
   ],
   "source": [
    "test_matches.head()"
   ]
  },
  {
   "cell_type": "code",
   "execution_count": 45,
   "metadata": {
    "collapsed": false
   },
   "outputs": [
    {
     "data": {
      "text/html": [
       "<div>\n",
       "<table border=\"1\" class=\"dataframe\">\n",
       "  <thead>\n",
       "    <tr style=\"text-align: right;\">\n",
       "      <th></th>\n",
       "      <th>mid</th>\n",
       "      <th>made_fb</th>\n",
       "      <th>radiant_destroy_tower</th>\n",
       "      <th>dire_destroy_tower</th>\n",
       "      <th>radiant_dinay_tower</th>\n",
       "      <th>dire_dinay_tower</th>\n",
       "      <th>player_0</th>\n",
       "      <th>player_1</th>\n",
       "      <th>player_2</th>\n",
       "      <th>player_3</th>\n",
       "      <th>player_4</th>\n",
       "      <th>player_5</th>\n",
       "      <th>player_6</th>\n",
       "      <th>player_7</th>\n",
       "      <th>player_8</th>\n",
       "      <th>player_9</th>\n",
       "      <th>radiant_gold</th>\n",
       "      <th>dire_gold</th>\n",
       "      <th>diff_gold</th>\n",
       "      <th>ratio_gold</th>\n",
       "    </tr>\n",
       "  </thead>\n",
       "  <tbody>\n",
       "    <tr>\n",
       "      <th>0</th>\n",
       "      <td>3</td>\n",
       "      <td>1.0</td>\n",
       "      <td>0.0</td>\n",
       "      <td>0.0</td>\n",
       "      <td>0.0</td>\n",
       "      <td>0.0</td>\n",
       "      <td>3457</td>\n",
       "      <td>5464</td>\n",
       "      <td>4432</td>\n",
       "      <td>2961</td>\n",
       "      <td>4314</td>\n",
       "      <td>3345</td>\n",
       "      <td>4791</td>\n",
       "      <td>1906</td>\n",
       "      <td>5328</td>\n",
       "      <td>2247</td>\n",
       "      <td>20628</td>\n",
       "      <td>17617</td>\n",
       "      <td>3011</td>\n",
       "      <td>1.170914</td>\n",
       "    </tr>\n",
       "    <tr>\n",
       "      <th>1</th>\n",
       "      <td>7</td>\n",
       "      <td>0.0</td>\n",
       "      <td>2.0</td>\n",
       "      <td>0.0</td>\n",
       "      <td>0.0</td>\n",
       "      <td>0.0</td>\n",
       "      <td>5491</td>\n",
       "      <td>5337</td>\n",
       "      <td>3958</td>\n",
       "      <td>5490</td>\n",
       "      <td>5563</td>\n",
       "      <td>5131</td>\n",
       "      <td>5061</td>\n",
       "      <td>5643</td>\n",
       "      <td>3541</td>\n",
       "      <td>3243</td>\n",
       "      <td>25839</td>\n",
       "      <td>22619</td>\n",
       "      <td>3220</td>\n",
       "      <td>1.142358</td>\n",
       "    </tr>\n",
       "    <tr>\n",
       "      <th>2</th>\n",
       "      <td>9</td>\n",
       "      <td>0.0</td>\n",
       "      <td>0.0</td>\n",
       "      <td>0.0</td>\n",
       "      <td>0.0</td>\n",
       "      <td>0.0</td>\n",
       "      <td>2136</td>\n",
       "      <td>3799</td>\n",
       "      <td>3400</td>\n",
       "      <td>4551</td>\n",
       "      <td>3199</td>\n",
       "      <td>4113</td>\n",
       "      <td>3853</td>\n",
       "      <td>3370</td>\n",
       "      <td>3837</td>\n",
       "      <td>6154</td>\n",
       "      <td>17085</td>\n",
       "      <td>21327</td>\n",
       "      <td>-4242</td>\n",
       "      <td>0.801097</td>\n",
       "    </tr>\n",
       "    <tr>\n",
       "      <th>3</th>\n",
       "      <td>10</td>\n",
       "      <td>1.0</td>\n",
       "      <td>0.0</td>\n",
       "      <td>0.0</td>\n",
       "      <td>0.0</td>\n",
       "      <td>0.0</td>\n",
       "      <td>4985</td>\n",
       "      <td>2829</td>\n",
       "      <td>3651</td>\n",
       "      <td>4485</td>\n",
       "      <td>5154</td>\n",
       "      <td>2903</td>\n",
       "      <td>2582</td>\n",
       "      <td>4347</td>\n",
       "      <td>6788</td>\n",
       "      <td>3518</td>\n",
       "      <td>21104</td>\n",
       "      <td>20138</td>\n",
       "      <td>966</td>\n",
       "      <td>1.047969</td>\n",
       "    </tr>\n",
       "    <tr>\n",
       "      <th>4</th>\n",
       "      <td>12</td>\n",
       "      <td>0.0</td>\n",
       "      <td>0.0</td>\n",
       "      <td>0.0</td>\n",
       "      <td>0.0</td>\n",
       "      <td>0.0</td>\n",
       "      <td>2421</td>\n",
       "      <td>5541</td>\n",
       "      <td>4862</td>\n",
       "      <td>4040</td>\n",
       "      <td>2952</td>\n",
       "      <td>4524</td>\n",
       "      <td>4983</td>\n",
       "      <td>3276</td>\n",
       "      <td>4448</td>\n",
       "      <td>4973</td>\n",
       "      <td>19816</td>\n",
       "      <td>22204</td>\n",
       "      <td>-2388</td>\n",
       "      <td>0.892452</td>\n",
       "    </tr>\n",
       "  </tbody>\n",
       "</table>\n",
       "</div>"
      ],
      "text/plain": [
       "   mid  made_fb  radiant_destroy_tower  dire_destroy_tower  \\\n",
       "0    3      1.0                    0.0                 0.0   \n",
       "1    7      0.0                    2.0                 0.0   \n",
       "2    9      0.0                    0.0                 0.0   \n",
       "3   10      1.0                    0.0                 0.0   \n",
       "4   12      0.0                    0.0                 0.0   \n",
       "\n",
       "   radiant_dinay_tower  dire_dinay_tower  player_0  player_1  player_2  \\\n",
       "0                  0.0               0.0      3457      5464      4432   \n",
       "1                  0.0               0.0      5491      5337      3958   \n",
       "2                  0.0               0.0      2136      3799      3400   \n",
       "3                  0.0               0.0      4985      2829      3651   \n",
       "4                  0.0               0.0      2421      5541      4862   \n",
       "\n",
       "   player_3  player_4  player_5  player_6  player_7  player_8  player_9  \\\n",
       "0      2961      4314      3345      4791      1906      5328      2247   \n",
       "1      5490      5563      5131      5061      5643      3541      3243   \n",
       "2      4551      3199      4113      3853      3370      3837      6154   \n",
       "3      4485      5154      2903      2582      4347      6788      3518   \n",
       "4      4040      2952      4524      4983      3276      4448      4973   \n",
       "\n",
       "   radiant_gold  dire_gold  diff_gold  ratio_gold  \n",
       "0         20628      17617       3011    1.170914  \n",
       "1         25839      22619       3220    1.142358  \n",
       "2         17085      21327      -4242    0.801097  \n",
       "3         21104      20138        966    1.047969  \n",
       "4         19816      22204      -2388    0.892452  "
      ]
     },
     "execution_count": 45,
     "metadata": {},
     "output_type": "execute_result"
    }
   ],
   "source": [
    "test.head()"
   ]
  },
  {
   "cell_type": "code",
   "execution_count": 54,
   "metadata": {
    "collapsed": false
   },
   "outputs": [
    {
     "data": {
      "text/html": [
       "<div>\n",
       "<table border=\"1\" class=\"dataframe\">\n",
       "  <thead>\n",
       "    <tr style=\"text-align: right;\">\n",
       "      <th></th>\n",
       "      <th>mid</th>\n",
       "      <th>event_type</th>\n",
       "      <th>from_team</th>\n",
       "      <th>time</th>\n",
       "    </tr>\n",
       "  </thead>\n",
       "  <tbody>\n",
       "    <tr>\n",
       "      <th>10232</th>\n",
       "      <td>7341</td>\n",
       "      <td>2</td>\n",
       "      <td>dire</td>\n",
       "      <td>536</td>\n",
       "    </tr>\n",
       "    <tr>\n",
       "      <th>10233</th>\n",
       "      <td>7341</td>\n",
       "      <td>2</td>\n",
       "      <td>dire</td>\n",
       "      <td>548</td>\n",
       "    </tr>\n",
       "    <tr>\n",
       "      <th>12977</th>\n",
       "      <td>9348</td>\n",
       "      <td>2</td>\n",
       "      <td>dire</td>\n",
       "      <td>568</td>\n",
       "    </tr>\n",
       "    <tr>\n",
       "      <th>12978</th>\n",
       "      <td>9348</td>\n",
       "      <td>2</td>\n",
       "      <td>dire</td>\n",
       "      <td>576</td>\n",
       "    </tr>\n",
       "    <tr>\n",
       "      <th>13209</th>\n",
       "      <td>9512</td>\n",
       "      <td>2</td>\n",
       "      <td>dire</td>\n",
       "      <td>497</td>\n",
       "    </tr>\n",
       "    <tr>\n",
       "      <th>13210</th>\n",
       "      <td>9512</td>\n",
       "      <td>2</td>\n",
       "      <td>dire</td>\n",
       "      <td>502</td>\n",
       "    </tr>\n",
       "    <tr>\n",
       "      <th>19879</th>\n",
       "      <td>14337</td>\n",
       "      <td>2</td>\n",
       "      <td>radiant</td>\n",
       "      <td>430</td>\n",
       "    </tr>\n",
       "    <tr>\n",
       "      <th>19880</th>\n",
       "      <td>14337</td>\n",
       "      <td>2</td>\n",
       "      <td>radiant</td>\n",
       "      <td>459</td>\n",
       "    </tr>\n",
       "    <tr>\n",
       "      <th>19885</th>\n",
       "      <td>14337</td>\n",
       "      <td>2</td>\n",
       "      <td>radiant</td>\n",
       "      <td>595</td>\n",
       "    </tr>\n",
       "    <tr>\n",
       "      <th>40779</th>\n",
       "      <td>29462</td>\n",
       "      <td>2</td>\n",
       "      <td>dire</td>\n",
       "      <td>595</td>\n",
       "    </tr>\n",
       "    <tr>\n",
       "      <th>48206</th>\n",
       "      <td>34802</td>\n",
       "      <td>2</td>\n",
       "      <td>radiant</td>\n",
       "      <td>596</td>\n",
       "    </tr>\n",
       "    <tr>\n",
       "      <th>50729</th>\n",
       "      <td>36614</td>\n",
       "      <td>2</td>\n",
       "      <td>dire</td>\n",
       "      <td>551</td>\n",
       "    </tr>\n",
       "    <tr>\n",
       "      <th>50730</th>\n",
       "      <td>36614</td>\n",
       "      <td>2</td>\n",
       "      <td>dire</td>\n",
       "      <td>566</td>\n",
       "    </tr>\n",
       "    <tr>\n",
       "      <th>56410</th>\n",
       "      <td>40699</td>\n",
       "      <td>2</td>\n",
       "      <td>radiant</td>\n",
       "      <td>482</td>\n",
       "    </tr>\n",
       "    <tr>\n",
       "      <th>56411</th>\n",
       "      <td>40699</td>\n",
       "      <td>2</td>\n",
       "      <td>radiant</td>\n",
       "      <td>514</td>\n",
       "    </tr>\n",
       "    <tr>\n",
       "      <th>65584</th>\n",
       "      <td>47375</td>\n",
       "      <td>2</td>\n",
       "      <td>dire</td>\n",
       "      <td>557</td>\n",
       "    </tr>\n",
       "    <tr>\n",
       "      <th>65585</th>\n",
       "      <td>47375</td>\n",
       "      <td>2</td>\n",
       "      <td>dire</td>\n",
       "      <td>565</td>\n",
       "    </tr>\n",
       "  </tbody>\n",
       "</table>\n",
       "</div>"
      ],
      "text/plain": [
       "         mid  event_type from_team  time\n",
       "10232   7341           2      dire   536\n",
       "10233   7341           2      dire   548\n",
       "12977   9348           2      dire   568\n",
       "12978   9348           2      dire   576\n",
       "13209   9512           2      dire   497\n",
       "13210   9512           2      dire   502\n",
       "19879  14337           2   radiant   430\n",
       "19880  14337           2   radiant   459\n",
       "19885  14337           2   radiant   595\n",
       "40779  29462           2      dire   595\n",
       "48206  34802           2   radiant   596\n",
       "50729  36614           2      dire   551\n",
       "50730  36614           2      dire   566\n",
       "56410  40699           2   radiant   482\n",
       "56411  40699           2   radiant   514\n",
       "65584  47375           2      dire   557\n",
       "65585  47375           2      dire   565"
      ]
     },
     "execution_count": 54,
     "metadata": {},
     "output_type": "execute_result"
    }
   ],
   "source": [
    "ids = events.loc[(events['event_type'] == 2)].mid.values\n",
    "events.loc[(events['event_type'] == 2)]"
   ]
  },
  {
   "cell_type": "code",
   "execution_count": 55,
   "metadata": {
    "collapsed": false
   },
   "outputs": [
    {
     "name": "stdout",
     "output_type": "stream",
     "text": [
      "7341\n",
      "9512\n",
      "29462\n",
      "34802\n"
     ]
    }
   ],
   "source": [
    "l = []\n",
    "for mid in test_matches.mid.values:\n",
    "    if mid in ids:\n",
    "        l.append(mid)\n",
    "        print mid"
   ]
  },
  {
   "cell_type": "code",
   "execution_count": 44,
   "metadata": {
    "collapsed": true
   },
   "outputs": [],
   "source": [
    "test_matches.to_csv('log_solve+gold+towers.csv', index=None)"
   ]
  },
  {
   "cell_type": "code",
   "execution_count": 56,
   "metadata": {
    "collapsed": false
   },
   "outputs": [
    {
     "name": "stdout",
     "output_type": "stream",
     "text": [
      "       mid  radiant_won\n",
      "3729  7341     0.055096\n",
      "       mid  radiant_won\n",
      "4848  9512     0.000084\n",
      "         mid  radiant_won\n",
      "14669  29462     0.000343\n",
      "         mid  radiant_won\n",
      "17331  34802     0.408486\n"
     ]
    }
   ],
   "source": [
    "for mid in l:\n",
    "    print test_matches.loc[test_matches.mid == mid]"
   ]
  }
 ],
 "metadata": {
  "anaconda-cloud": {},
  "kernelspec": {
   "display_name": "Python 2.7",
   "language": "python",
   "name": "python2.7"
  },
  "language_info": {
   "codemirror_mode": {
    "name": "ipython",
    "version": 2
   },
   "file_extension": ".py",
   "mimetype": "text/x-python",
   "name": "python",
   "nbconvert_exporter": "python",
   "pygments_lexer": "ipython2",
   "version": "2.7.12"
  }
 },
 "nbformat": 4,
 "nbformat_minor": 1
}
